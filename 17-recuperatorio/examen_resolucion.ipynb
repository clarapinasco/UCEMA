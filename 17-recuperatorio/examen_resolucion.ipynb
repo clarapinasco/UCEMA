{
 "cells": [
  {
   "cell_type": "markdown",
   "source": [
    "# Examen\n",
    "\n",
    "Dataset:\n",
    "https://drive.google.com/file/d/1v6GNyAO4FDwTXct_4jqEFSnGYeqV2hKZ/view?usp=share_link\n",
    "\n",
    "\n",
    "En un taller mecánico llamado \"LOCOSmotores 2000\", se lleva un registro de todas las reparaciones de autos que se realizan. La base de datos incluye información sobre el tipo de motor, la marca del auto, la cantidad de ruedas a reemplazar, la edad del auto, el signo del zoodiaco  del auto, la cantidad de kilómetros recorridos, y la fecha de elaboración del auto.\n",
    "\n",
    "El taller esta compuesto por una variedad de personajes extraños, que tienen sus ideas sobre cómo reparar los autos, a cuales darles mayor importancia.\n",
    "\n",
    "**A) Chequee cada una de estas hipotesis con gráficos y analisis de las distribuciones de las variables. (32pts)**\n",
    "\n",
    "1. Pepe cree que cómo el auto más reparado en el taller fueron los Toyota, el taller se volvio más eficiente. (4pts/32pts)\n",
    "2. \"El Tuerca\" tallerista antiguo, sostiene que los autos nuevos tiene muchas \"mañas\" y por lo tanto tardan muchisimo en repararse. -crea la variable \"edad_del_auto\" para verificar esta hipotesis. Tené en cuenta el año en que estas haciendo el examen.(4pts/32pts)\n",
    "3. \"Pistón\", sostiene que depende del signo del zoodiaco, los autos de \"sagitario\", dice, son más divertidos, extrovertidos, tienen buena fortuna y son faciles conversadores, por lo tanto tardan menos en repararse.(4pts/32pts)\n",
    "4. \"El Oso\", fanático de Elon Musk, sostiene que los autos eléctricos son los más eficientes y por lo tanto tardan menos en repararse.(4pts/32pts)\n",
    "5. \"Bujía\", sostiene que los autos diesel son los más eficientes y por lo tanto tardan menos en repararse.(4pts/32pts)\n",
    "6. \"Inflador\", sostiene que los autos con más de 50.000 km recorridos tardan más en repararse.(4pts/32pts)\n",
    "7. \"Gomón\" está seguro que los autos que sólo le cambiaron 4 ruedas y son \"electricos\" tardan menos en repararse(4pts/32pts)\n",
    "8. \"Lovorne\" Cree que los Ford con más Kms tardan menos en repararse.(4pts/32pts)\n",
    "\n",
    "**B) Crear una hipotesis personal e intente verificarla con los datos.(8pts)**\n",
    "\n",
    "Del estilo \"Los autos Toyota de sagitario tardan menos en repararse\"\n",
    "\n",
    "**C) Cree un modelo de machine learning para predecir la variable que usted considera más importante, en función de las variables que usted considere. (30pts)** \n",
    "* Modelo (10 pts / 30pts)\n",
    "* Verificar con el modelo lo siguiente:\n",
    "    - \"Valvula\" Sostiene que la cantidad de ruedas a reemplazar no influye en nada.  (10pts / 30pts)\n",
    "    - \"Pistón\" está tan peleado con \"Inflador\" y dice que necesita una prueba científica para que le demuestren que la variable cantidad_de_kilometros es representativa.(10pts / 30pts)\n",
    "\n",
    "\n",
    "**D) Evalue el modelo mean_absolute_percentage_error. ¿Que significa? (5pts)**\n",
    "\n",
    "**E) Interprete los coeficientes?. Cual es la intuición del modelo? Explique la formula que representa al modelo con tus palabras? Se verifica que la marca del auto impacta o que el tipo de motor y la edad impacta?(5pts)**\n",
    "\n",
    "**F) Tengo fotos de accidentes de autos de una empresa de seguros. En las cuales actualmente cada perito de seguro evalua foto a foto: el valor de los daños que tiene el auto. Por ultimo luego de una evaluación minuciosa de muchas variables más que las fotos, el perito dictamina el probable costo a pagar por el total de las reparaciones.   (20pts)**\n",
    "1. Explicar por qué resolverías esta tarea con Machine Learning.  (5pts / 20pts)\n",
    "2. ¿Cuales crearías que son las variables que afectarían al modelo y por qué? (5pts / 20pts)\n",
    "3. ¿Como la predicción impactaría al beneficio en el negocio de los seguros? (5pts / 20pts)\n",
    "4. ¿Como se evaluaría la eficacia del modelo? (5pts / 20pts)\n"
   ],
   "metadata": {
    "collapsed": false
   }
  },
  {
   "cell_type": "code",
   "execution_count": 1,
   "metadata": {
    "collapsed": true
   },
   "outputs": [
    {
     "data": {
      "text/plain": "   tiempo_de_reparacion tipo_de_motor marca_del_auto  \\\n0                2406.0      gasolina         toyota   \n1                2776.5     electrico          honda   \n2                1122.0        diesel          honda   \n3                 639.0      gasolina          honda   \n4                1494.0     electrico          honda   \n\n   cantidad_de_ruedas_a_reemplazar signo_del_auto  cantidad_de_kilometros  \\\n0                                4         Piscis                   81760   \n1                                3          Virgo                   91959   \n2                                3        Acuario                   82800   \n3                                4          Virgo                   19724   \n4                                1        Acuario                   36123   \n\n   fecha_de_elaboracion_del_auto  \n0                         2002.0  \n1                         1989.0  \n2                         1998.0  \n3                         2013.0  \n4                         2006.0  ",
      "text/html": "<div>\n<style scoped>\n    .dataframe tbody tr th:only-of-type {\n        vertical-align: middle;\n    }\n\n    .dataframe tbody tr th {\n        vertical-align: top;\n    }\n\n    .dataframe thead th {\n        text-align: right;\n    }\n</style>\n<table border=\"1\" class=\"dataframe\">\n  <thead>\n    <tr style=\"text-align: right;\">\n      <th></th>\n      <th>tiempo_de_reparacion</th>\n      <th>tipo_de_motor</th>\n      <th>marca_del_auto</th>\n      <th>cantidad_de_ruedas_a_reemplazar</th>\n      <th>signo_del_auto</th>\n      <th>cantidad_de_kilometros</th>\n      <th>fecha_de_elaboracion_del_auto</th>\n    </tr>\n  </thead>\n  <tbody>\n    <tr>\n      <th>0</th>\n      <td>2406.0</td>\n      <td>gasolina</td>\n      <td>toyota</td>\n      <td>4</td>\n      <td>Piscis</td>\n      <td>81760</td>\n      <td>2002.0</td>\n    </tr>\n    <tr>\n      <th>1</th>\n      <td>2776.5</td>\n      <td>electrico</td>\n      <td>honda</td>\n      <td>3</td>\n      <td>Virgo</td>\n      <td>91959</td>\n      <td>1989.0</td>\n    </tr>\n    <tr>\n      <th>2</th>\n      <td>1122.0</td>\n      <td>diesel</td>\n      <td>honda</td>\n      <td>3</td>\n      <td>Acuario</td>\n      <td>82800</td>\n      <td>1998.0</td>\n    </tr>\n    <tr>\n      <th>3</th>\n      <td>639.0</td>\n      <td>gasolina</td>\n      <td>honda</td>\n      <td>4</td>\n      <td>Virgo</td>\n      <td>19724</td>\n      <td>2013.0</td>\n    </tr>\n    <tr>\n      <th>4</th>\n      <td>1494.0</td>\n      <td>electrico</td>\n      <td>honda</td>\n      <td>1</td>\n      <td>Acuario</td>\n      <td>36123</td>\n      <td>2006.0</td>\n    </tr>\n  </tbody>\n</table>\n</div>"
     },
     "execution_count": 1,
     "metadata": {},
     "output_type": "execute_result"
    }
   ],
   "source": [
    "import numpy as np\n",
    "import pandas as pd\n",
    "import random\n",
    "\n",
    "df = pd.read_csv(\"taller_mecanico.csv\")\n",
    "\n",
    "df.head()"
   ]
  },
  {
   "cell_type": "markdown",
   "source": [
    "# Solucion"
   ],
   "metadata": {
    "collapsed": false
   }
  },
  {
   "cell_type": "markdown",
   "source": [
    "Como mi target es tiempo_de_reparacion analizo primero esta variable para chequear que no tenga nulos ni outliers."
   ],
   "metadata": {
    "collapsed": false
   }
  },
  {
   "cell_type": "code",
   "execution_count": 2,
   "outputs": [
    {
     "data": {
      "text/plain": "0"
     },
     "execution_count": 2,
     "metadata": {},
     "output_type": "execute_result"
    }
   ],
   "source": [
    "df['tiempo_de_reparacion'].isna().sum()"
   ],
   "metadata": {
    "collapsed": false
   }
  },
  {
   "cell_type": "code",
   "execution_count": 3,
   "outputs": [
    {
     "data": {
      "text/plain": "count    3000.000000\nmean     1678.956570\nstd      1035.642514\nmin        36.000000\n25%       894.375000\n50%      1491.000000\n75%      2289.375000\nmax      5611.500000\nName: tiempo_de_reparacion, dtype: float64"
     },
     "execution_count": 3,
     "metadata": {},
     "output_type": "execute_result"
    }
   ],
   "source": [
    "df['tiempo_de_reparacion'].describe()"
   ],
   "metadata": {
    "collapsed": false
   }
  },
  {
   "cell_type": "code",
   "execution_count": 4,
   "outputs": [
    {
     "name": "stderr",
     "output_type": "stream",
     "text": [
      "/Users/federicomoreno/PycharmProjects/UCEMA/venv/lib/python3.8/site-packages/seaborn/distributions.py:2619: FutureWarning: `distplot` is a deprecated function and will be removed in a future version. Please adapt your code to use either `displot` (a figure-level function with similar flexibility) or `histplot` (an axes-level function for histograms).\n",
      "  warnings.warn(msg, FutureWarning)\n"
     ]
    },
    {
     "data": {
      "text/plain": "<Figure size 1000x400 with 2 Axes>",
      "image/png": "[encoded data removed]"
     },
     "metadata": {},
     "output_type": "display_data"
    }
   ],
   "source": [
    "import seaborn as sns\n",
    "import matplotlib.pyplot as plt\n",
    "fig, ax = plt.subplots(1, 2, figsize=(10, 4))\n",
    "sns.boxplot(x=df['tiempo_de_reparacion'], ax=ax[0])\n",
    "sns.distplot(df['tiempo_de_reparacion'], ax=ax[1])\n",
    "plt.show()"
   ],
   "metadata": {
    "collapsed": false
   }
  },
  {
   "cell_type": "code",
   "execution_count": 5,
   "outputs": [
    {
     "data": {
      "text/plain": "233.8125"
     },
     "execution_count": 5,
     "metadata": {},
     "output_type": "execute_result"
    }
   ],
   "source": [
    "(df['tiempo_de_reparacion'].max()/24)"
   ],
   "metadata": {
    "collapsed": false
   }
  },
  {
   "cell_type": "code",
   "execution_count": 6,
   "outputs": [
    {
     "data": {
      "text/plain": "7.79375"
     },
     "execution_count": 6,
     "metadata": {},
     "output_type": "execute_result"
    }
   ],
   "source": [
    "(df['tiempo_de_reparacion'].max()/24)/30"
   ],
   "metadata": {
    "collapsed": false
   }
  },
  {
   "cell_type": "code",
   "execution_count": 7,
   "outputs": [
    {
     "data": {
      "text/plain": "36.0"
     },
     "execution_count": 7,
     "metadata": {},
     "output_type": "execute_result"
    }
   ],
   "source": [
    "df['tiempo_de_reparacion'].min()"
   ],
   "metadata": {
    "collapsed": false
   }
  },
  {
   "cell_type": "markdown",
   "source": [
    "La forma de la distribución tiene mucho sentido. No hay autos que se tarde 0 horas, el valor minimo es 36horas, es decir un día y medio. Si hay valores atipicos. Un auto que tardó 233 días, esto es más de 7 meses. Ahora bien no necesariamente es un outlier. La distribución tiene una leve asimetria a derecha pero se asemeja a una normal."
   ],
   "metadata": {
    "collapsed": false
   }
  },
  {
   "cell_type": "code",
   "execution_count": 8,
   "outputs": [
    {
     "data": {
      "text/plain": "3053.475"
     },
     "execution_count": 8,
     "metadata": {},
     "output_type": "execute_result"
    }
   ],
   "source": [
    "df['tiempo_de_reparacion'].quantile(0.9)"
   ],
   "metadata": {
    "collapsed": false
   }
  },
  {
   "cell_type": "markdown",
   "source": [
    "Cómo al décil 90 los datos se encuentran menores a 3053, una opción para el modelo será aplicarle .clip y hacer que todos los valores mayores a ese número sean iguales a este mismo."
   ],
   "metadata": {
    "collapsed": false
   }
  },
  {
   "cell_type": "markdown",
   "source": [
    "\n",
    "\n",
    "**A) Chequee cada una de estas hipotesis con gráficos y analisis de las distribuciones de las variables. (32pts)**\n",
    "\n",
    "1. Pepe cree que cómo el auto más reparado en el taller fueron los Toyota, el taller se volvio más eficiente. (4pts/32pts)"
   ],
   "metadata": {
    "collapsed": false
   }
  },
  {
   "cell_type": "code",
   "execution_count": 9,
   "outputs": [
    {
     "data": {
      "text/plain": "ford      1017\nhonda     1014\ntoyota     969\nName: marca_del_auto, dtype: int64"
     },
     "execution_count": 9,
     "metadata": {},
     "output_type": "execute_result"
    }
   ],
   "source": [
    "#cual es la marca de auto más usada.\n",
    "df['marca_del_auto'].value_counts()"
   ],
   "metadata": {
    "collapsed": false
   }
  },
  {
   "cell_type": "code",
   "execution_count": 10,
   "outputs": [
    {
     "data": {
      "text/plain": "marca_del_auto\nford      1568.632575\nhonda     1713.712426\ntoyota    1758.375624\nName: tiempo_de_reparacion, dtype: float64"
     },
     "execution_count": 10,
     "metadata": {},
     "output_type": "execute_result"
    }
   ],
   "source": [
    "#groupby por marca de auto y hacer el valor promedio de tiempo de reparacion\n",
    "df.groupby('marca_del_auto')['tiempo_de_reparacion'].mean()\n"
   ],
   "metadata": {
    "collapsed": false
   }
  },
  {
   "cell_type": "markdown",
   "source": [
    "Pepe está equivocado en el taller los autos más reparados fueron de marca Ford y no toyota. Pero sí es cierto que el tiempo promedio de reparación fue menor en el auto más reparado. Aunque si vemos en porcentajes las propociones son bastante similares, lo suficiente cómo para afirmar que no hay un \"auto más reparado\""
   ],
   "metadata": {
    "collapsed": false
   }
  },
  {
   "cell_type": "code",
   "execution_count": 11,
   "outputs": [
    {
     "data": {
      "text/plain": "ford      0.339\nhonda     0.338\ntoyota    0.323\nName: marca_del_auto, dtype: float64"
     },
     "execution_count": 11,
     "metadata": {},
     "output_type": "execute_result"
    }
   ],
   "source": [
    "df['marca_del_auto'].value_counts(normalize=True)"
   ],
   "metadata": {
    "collapsed": false
   }
  },
  {
   "cell_type": "markdown",
   "source": [
    "2. \"El Tuerca\" tallerista antiguo, sostiene que los autos nuevos tiene muchas \"mañas\" y por lo tanto tardan muchisimo en repararse. -crea la variable \"edad_del_auto\" para verificar esta hipotesis.(4pts/32pts)"
   ],
   "metadata": {
    "collapsed": false
   }
  },
  {
   "cell_type": "code",
   "execution_count": 12,
   "outputs": [
    {
     "data": {
      "text/plain": "count    2989.000000\nmean       22.530278\nstd        11.887729\nmin       -34.000000\n25%        13.000000\n50%        23.000000\n75%        32.000000\nmax        42.000000\nName: edad_del_auto, dtype: float64"
     },
     "execution_count": 12,
     "metadata": {},
     "output_type": "execute_result"
    }
   ],
   "source": [
    "#crear edad de l auto a partir de fecha de elaboracion del auto\n",
    "df['edad_del_auto'] = 2022 - df['fecha_de_elaboracion_del_auto']\n",
    "df['edad_del_auto'].describe()"
   ],
   "metadata": {
    "collapsed": false
   }
  },
  {
   "cell_type": "markdown",
   "source": [
    "La edad del auto no puede ser negativa por lo tanto filtro el dataset"
   ],
   "metadata": {
    "collapsed": false
   }
  },
  {
   "cell_type": "code",
   "execution_count": 13,
   "outputs": [],
   "source": [
    "df = df[df['edad_del_auto']>0]"
   ],
   "metadata": {
    "collapsed": false
   }
  },
  {
   "cell_type": "code",
   "execution_count": 14,
   "outputs": [
    {
     "data": {
      "text/plain": "(18.6, 26.4]    632\n(26.4, 34.2]    606\n(34.2, 42.0]    592\n(10.8, 18.6]    588\n(2.96, 10.8]    560\nName: edad_del_auto, dtype: int64"
     },
     "execution_count": 14,
     "metadata": {},
     "output_type": "execute_result"
    }
   ],
   "source": [
    "df['edad_del_auto'].value_counts(bins=5)"
   ],
   "metadata": {
    "collapsed": false
   }
  },
  {
   "cell_type": "markdown",
   "source": [
    "Creo una copia del dataset para luego usar en el modelo"
   ],
   "metadata": {
    "collapsed": false
   }
  },
  {
   "cell_type": "code",
   "execution_count": 15,
   "outputs": [],
   "source": [
    "df1 = df.copy()"
   ],
   "metadata": {
    "collapsed": false
   }
  },
  {
   "cell_type": "code",
   "execution_count": 16,
   "outputs": [
    {
     "name": "stderr",
     "output_type": "stream",
     "text": [
      "/Users/federicomoreno/PycharmProjects/UCEMA/venv/lib/python3.8/site-packages/seaborn/distributions.py:2619: FutureWarning: `distplot` is a deprecated function and will be removed in a future version. Please adapt your code to use either `displot` (a figure-level function with similar flexibility) or `histplot` (an axes-level function for histograms).\n",
      "  warnings.warn(msg, FutureWarning)\n"
     ]
    },
    {
     "data": {
      "text/plain": "<Figure size 1000x400 with 2 Axes>",
      "image/png": "[encoded data removed]"
     },
     "metadata": {},
     "output_type": "display_data"
    }
   ],
   "source": [
    "fig, ax = plt.subplots(1, 2, figsize=(10, 4))\n",
    "sns.boxplot(x=df['edad_del_auto'], ax=ax[0])\n",
    "sns.distplot(df['edad_del_auto'], ax=ax[1])\n",
    "plt.show()"
   ],
   "metadata": {
    "collapsed": false
   }
  },
  {
   "cell_type": "markdown",
   "source": [
    "Dado que no hay que hacer más transformaciones verifico la hipotesis hay dos maneras de hacerlo. Correlación o discretizar y ver la media de cada bin"
   ],
   "metadata": {
    "collapsed": false
   }
  },
  {
   "cell_type": "markdown",
   "source": [
    "**Opcion 1**"
   ],
   "metadata": {
    "collapsed": false
   }
  },
  {
   "cell_type": "code",
   "execution_count": 17,
   "outputs": [
    {
     "data": {
      "text/plain": "0.10673525206261229"
     },
     "execution_count": 17,
     "metadata": {},
     "output_type": "execute_result"
    }
   ],
   "source": [
    "#opcion1\n",
    "df['edad_del_auto'].corr(df['tiempo_de_reparacion'])"
   ],
   "metadata": {
    "collapsed": false
   }
  },
  {
   "cell_type": "markdown",
   "source": [
    "**Opcion 2**"
   ],
   "metadata": {
    "collapsed": false
   }
  },
  {
   "cell_type": "code",
   "execution_count": 18,
   "outputs": [
    {
     "data": {
      "text/plain": "edad_del_auto_discretizada\n(2.961, 10.8]    1506.981075\n(10.8, 18.6]     1600.289410\n(18.6, 26.4]     1689.863884\n(26.4, 34.2]     1789.321231\n(34.2, 42.0]     1795.762758\nName: tiempo_de_reparacion, dtype: float64"
     },
     "execution_count": 18,
     "metadata": {},
     "output_type": "execute_result"
    }
   ],
   "source": [
    "#discretizar la variable edad del auto y crear una nueva columna\n",
    "df['edad_del_auto_discretizada'] = pd.cut(df['edad_del_auto'], bins=5)\n",
    "#opcion2\n",
    "df.groupby('edad_del_auto_discretizada')['tiempo_de_reparacion'].mean()"
   ],
   "metadata": {
    "collapsed": false
   }
  },
  {
   "cell_type": "markdown",
   "source": [
    "En cada bin de edad del auto se observa que a menor es el intervalo menor es el tiempo de reparación. Esto mismo puede ser observado con la correlación poistiva y del 10% entre edad_de_auto y tiempo, significa que cuando aumenta la edad del auto en 1 año, el tiempo de reparacion aumenta en 10%.\n",
    "\n",
    "Por lo tanto la hipotesis de Tuerca es exactamente la opuesta a lo que el intuye"
   ],
   "metadata": {
    "collapsed": false
   }
  },
  {
   "cell_type": "markdown",
   "source": [
    "3. \"Pistón\", sostiene que depende del signo del zoodiaco, los autos de \"sagitario\", dice, son más divertidos, extrovertidos, tienen buena fortuna y son faciles conversadores, por lo tanto tardan menos en repararse"
   ],
   "metadata": {
    "collapsed": false
   }
  },
  {
   "cell_type": "markdown",
   "source": [],
   "metadata": {
    "collapsed": false
   }
  },
  {
   "cell_type": "code",
   "execution_count": 19,
   "outputs": [
    {
     "data": {
      "text/plain": "                       mean     median     min       max          std  count\nsigno_del_auto                                                              \nAcuario         1767.614583  1552.4400   78.00  5382.000  1105.461659    252\nAries           1787.352427  1660.8000  132.00  5202.000  1101.759026    239\nCancer          1680.052441  1592.5000   72.00  4631.175   907.193817    256\nCapricornio     1643.417906  1470.2400  147.00  5251.500  1028.588057    265\nEscorpio        1727.389247  1572.0000  145.44  5258.250  1068.798697    239\nGéminis         1679.675603  1426.8375   52.80  5483.250  1139.830161    232\nLeo             1712.296940  1526.4000   49.50  5303.250  1094.817646    250\nLibra           1711.150000  1537.5000  128.40  5445.000   983.788483    217\nPiscis          1683.971055  1461.6000   83.70  5440.500  1056.206555    275\nSagitario       1516.796830  1307.1600  160.80  4307.400   873.409868    270\nTauro           1647.603577  1505.5200   42.40  5015.250   994.846663    239\nVirgo           1613.727459  1318.5000   36.00  5611.500  1052.799183    244",
      "text/html": "<div>\n<style scoped>\n    .dataframe tbody tr th:only-of-type {\n        vertical-align: middle;\n    }\n\n    .dataframe tbody tr th {\n        vertical-align: top;\n    }\n\n    .dataframe thead th {\n        text-align: right;\n    }\n</style>\n<table border=\"1\" class=\"dataframe\">\n  <thead>\n    <tr style=\"text-align: right;\">\n      <th></th>\n      <th>mean</th>\n      <th>median</th>\n      <th>min</th>\n      <th>max</th>\n      <th>std</th>\n      <th>count</th>\n    </tr>\n    <tr>\n      <th>signo_del_auto</th>\n      <th></th>\n      <th></th>\n      <th></th>\n      <th></th>\n      <th></th>\n      <th></th>\n    </tr>\n  </thead>\n  <tbody>\n    <tr>\n      <th>Acuario</th>\n      <td>1767.614583</td>\n      <td>1552.4400</td>\n      <td>78.00</td>\n      <td>5382.000</td>\n      <td>1105.461659</td>\n      <td>252</td>\n    </tr>\n    <tr>\n      <th>Aries</th>\n      <td>1787.352427</td>\n      <td>1660.8000</td>\n      <td>132.00</td>\n      <td>5202.000</td>\n      <td>1101.759026</td>\n      <td>239</td>\n    </tr>\n    <tr>\n      <th>Cancer</th>\n      <td>1680.052441</td>\n      <td>1592.5000</td>\n      <td>72.00</td>\n      <td>4631.175</td>\n      <td>907.193817</td>\n      <td>256</td>\n    </tr>\n    <tr>\n      <th>Capricornio</th>\n      <td>1643.417906</td>\n      <td>1470.2400</td>\n      <td>147.00</td>\n      <td>5251.500</td>\n      <td>1028.588057</td>\n      <td>265</td>\n    </tr>\n    <tr>\n      <th>Escorpio</th>\n      <td>1727.389247</td>\n      <td>1572.0000</td>\n      <td>145.44</td>\n      <td>5258.250</td>\n      <td>1068.798697</td>\n      <td>239</td>\n    </tr>\n    <tr>\n      <th>Géminis</th>\n      <td>1679.675603</td>\n      <td>1426.8375</td>\n      <td>52.80</td>\n      <td>5483.250</td>\n      <td>1139.830161</td>\n      <td>232</td>\n    </tr>\n    <tr>\n      <th>Leo</th>\n      <td>1712.296940</td>\n      <td>1526.4000</td>\n      <td>49.50</td>\n      <td>5303.250</td>\n      <td>1094.817646</td>\n      <td>250</td>\n    </tr>\n    <tr>\n      <th>Libra</th>\n      <td>1711.150000</td>\n      <td>1537.5000</td>\n      <td>128.40</td>\n      <td>5445.000</td>\n      <td>983.788483</td>\n      <td>217</td>\n    </tr>\n    <tr>\n      <th>Piscis</th>\n      <td>1683.971055</td>\n      <td>1461.6000</td>\n      <td>83.70</td>\n      <td>5440.500</td>\n      <td>1056.206555</td>\n      <td>275</td>\n    </tr>\n    <tr>\n      <th>Sagitario</th>\n      <td>1516.796830</td>\n      <td>1307.1600</td>\n      <td>160.80</td>\n      <td>4307.400</td>\n      <td>873.409868</td>\n      <td>270</td>\n    </tr>\n    <tr>\n      <th>Tauro</th>\n      <td>1647.603577</td>\n      <td>1505.5200</td>\n      <td>42.40</td>\n      <td>5015.250</td>\n      <td>994.846663</td>\n      <td>239</td>\n    </tr>\n    <tr>\n      <th>Virgo</th>\n      <td>1613.727459</td>\n      <td>1318.5000</td>\n      <td>36.00</td>\n      <td>5611.500</td>\n      <td>1052.799183</td>\n      <td>244</td>\n    </tr>\n  </tbody>\n</table>\n</div>"
     },
     "execution_count": 19,
     "metadata": {},
     "output_type": "execute_result"
    }
   ],
   "source": [
    "df.groupby('signo_del_auto')['tiempo_de_reparacion'].agg(['mean', 'median','min','max','std', 'count'])"
   ],
   "metadata": {
    "collapsed": false
   }
  },
  {
   "cell_type": "markdown",
   "source": [
    "Es cierto que la distribución de sagitario es la que tiene menor media, menor mediana y menor valor máximo y menor desvio, sumado al hecho que todos los valores están igualmente representados. Podía querer afirmar que Pistón tiene razón. Pero estoy encontrando una relación absurda, el signo del auto no tiene ninguna relación con nada, de casualidad en estos datos da de esta manera. Por lo tanto si bien chequeo su hipotesis en los datos, no puedo darla cómo afirmativa."
   ],
   "metadata": {
    "collapsed": false
   }
  },
  {
   "cell_type": "markdown",
   "source": [
    "4. \"El Oso\", fanático de Elon Musk, sostiene que los autos eléctricos son los más eficientes y por lo tanto tardan menos en repararse.(4pts/32pts)"
   ],
   "metadata": {
    "collapsed": false
   }
  },
  {
   "cell_type": "code",
   "execution_count": 20,
   "outputs": [
    {
     "data": {
      "text/plain": "                      mean    median   min     max          std  count\ntipo_de_motor                                                         \ndiesel         1243.672789  1189.656  42.4  3030.0   672.915472    984\nelectrico      2250.129844  2134.500  58.5  5611.5  1220.734617    992\ngasolina       1541.308323  1420.350  36.0  3774.0   861.945067   1002",
      "text/html": "<div>\n<style scoped>\n    .dataframe tbody tr th:only-of-type {\n        vertical-align: middle;\n    }\n\n    .dataframe tbody tr th {\n        vertical-align: top;\n    }\n\n    .dataframe thead th {\n        text-align: right;\n    }\n</style>\n<table border=\"1\" class=\"dataframe\">\n  <thead>\n    <tr style=\"text-align: right;\">\n      <th></th>\n      <th>mean</th>\n      <th>median</th>\n      <th>min</th>\n      <th>max</th>\n      <th>std</th>\n      <th>count</th>\n    </tr>\n    <tr>\n      <th>tipo_de_motor</th>\n      <th></th>\n      <th></th>\n      <th></th>\n      <th></th>\n      <th></th>\n      <th></th>\n    </tr>\n  </thead>\n  <tbody>\n    <tr>\n      <th>diesel</th>\n      <td>1243.672789</td>\n      <td>1189.656</td>\n      <td>42.4</td>\n      <td>3030.0</td>\n      <td>672.915472</td>\n      <td>984</td>\n    </tr>\n    <tr>\n      <th>electrico</th>\n      <td>2250.129844</td>\n      <td>2134.500</td>\n      <td>58.5</td>\n      <td>5611.5</td>\n      <td>1220.734617</td>\n      <td>992</td>\n    </tr>\n    <tr>\n      <th>gasolina</th>\n      <td>1541.308323</td>\n      <td>1420.350</td>\n      <td>36.0</td>\n      <td>3774.0</td>\n      <td>861.945067</td>\n      <td>1002</td>\n    </tr>\n  </tbody>\n</table>\n</div>"
     },
     "execution_count": 20,
     "metadata": {},
     "output_type": "execute_result"
    }
   ],
   "source": [
    "df.groupby('tipo_de_motor')['tiempo_de_reparacion'].agg(['mean', 'median','min','max','std', 'count'])"
   ],
   "metadata": {
    "collapsed": false
   }
  },
  {
   "cell_type": "code",
   "execution_count": 21,
   "outputs": [
    {
     "data": {
      "text/plain": "<AxesSubplot:xlabel='tipo_de_motor', ylabel='tiempo_de_reparacion'>"
     },
     "execution_count": 21,
     "metadata": {},
     "output_type": "execute_result"
    },
    {
     "data": {
      "text/plain": "<Figure size 640x480 with 1 Axes>",
      "image/png": "[encoded data removed]"
     },
     "metadata": {},
     "output_type": "display_data"
    }
   ],
   "source": [
    "sns.boxplot(x='tipo_de_motor', y='tiempo_de_reparacion', data=df)"
   ],
   "metadata": {
    "collapsed": false
   }
  },
  {
   "cell_type": "markdown",
   "source": [
    "En el boxplot se verifica la hipotesis contraria. Los autos electircos tienen una distribución que tiende a un mayor tiempo de reparacion"
   ],
   "metadata": {
    "collapsed": false
   }
  },
  {
   "cell_type": "markdown",
   "source": [
    "5. \"Bujía\", sostiene que los autos diesel son los más eficientes y por lo tanto tardan menos en repararse.(4pts/32pts)\n"
   ],
   "metadata": {
    "collapsed": false
   }
  },
  {
   "cell_type": "markdown",
   "source": [
    "La hipoteiss de Bujía se visualiza en el anterior boxplot. La distribución diesel tiene una menor media, una menor mediana y un desvio más pequeño, por lo que hay evidencia que sostiene la hipotesis de Bujía."
   ],
   "metadata": {
    "collapsed": false
   }
  },
  {
   "cell_type": "markdown",
   "source": [
    "6. \"Inflador\", sostiene que los autos con más de 50.000 km recorridos tardan más en repararse.(4pts/32pts)\n"
   ],
   "metadata": {
    "collapsed": false
   }
  },
  {
   "cell_type": "code",
   "execution_count": 22,
   "outputs": [
    {
     "data": {
      "text/plain": "0.023334257558320186"
     },
     "execution_count": 22,
     "metadata": {},
     "output_type": "execute_result"
    }
   ],
   "source": [
    "#opcion1\n",
    "df['cantidad_de_kilometros'].corr(df['tiempo_de_reparacion'])"
   ],
   "metadata": {
    "collapsed": false
   }
  },
  {
   "cell_type": "code",
   "execution_count": 23,
   "outputs": [
    {
     "data": {
      "text/plain": "                                mean  median    min     max          std  \\\nmas_de_50000_kilometros                                                    \nFalse                    1344.468233  1248.8   36.0  3781.5   770.870988   \nTrue                     2019.581628  1890.0  128.4  5611.5  1153.737304   \n\n                         count  \nmas_de_50000_kilometros         \nFalse                     1502  \nTrue                      1476  ",
      "text/html": "<div>\n<style scoped>\n    .dataframe tbody tr th:only-of-type {\n        vertical-align: middle;\n    }\n\n    .dataframe tbody tr th {\n        vertical-align: top;\n    }\n\n    .dataframe thead th {\n        text-align: right;\n    }\n</style>\n<table border=\"1\" class=\"dataframe\">\n  <thead>\n    <tr style=\"text-align: right;\">\n      <th></th>\n      <th>mean</th>\n      <th>median</th>\n      <th>min</th>\n      <th>max</th>\n      <th>std</th>\n      <th>count</th>\n    </tr>\n    <tr>\n      <th>mas_de_50000_kilometros</th>\n      <th></th>\n      <th></th>\n      <th></th>\n      <th></th>\n      <th></th>\n      <th></th>\n    </tr>\n  </thead>\n  <tbody>\n    <tr>\n      <th>False</th>\n      <td>1344.468233</td>\n      <td>1248.8</td>\n      <td>36.0</td>\n      <td>3781.5</td>\n      <td>770.870988</td>\n      <td>1502</td>\n    </tr>\n    <tr>\n      <th>True</th>\n      <td>2019.581628</td>\n      <td>1890.0</td>\n      <td>128.4</td>\n      <td>5611.5</td>\n      <td>1153.737304</td>\n      <td>1476</td>\n    </tr>\n  </tbody>\n</table>\n</div>"
     },
     "execution_count": 23,
     "metadata": {},
     "output_type": "execute_result"
    }
   ],
   "source": [
    "df[\"mas_de_50000_kilometros\"] = df['cantidad_de_kilometros'].apply(lambda x: True if x > 50000 else False)\n",
    "\n",
    "df.groupby('mas_de_50000_kilometros')['tiempo_de_reparacion'].agg(['mean', 'median','min','max','std', 'count'])"
   ],
   "metadata": {
    "collapsed": false
   }
  },
  {
   "cell_type": "markdown",
   "source": [
    "La hipotesis tiene sentido con lo que cualquier persona pensaría. Los autos que tienen más uso tienen por lo general más fallas. Si analizamos las correlación es muy pequeña, sin embargo es positiva. Es decir tienen la misma dirección creciente, y analizando los autos con mas kms que 50mil vemos que el tiempo promedio es de 2019 horas cuando en menos de 50k km es de menos, approx 1344."
   ],
   "metadata": {
    "collapsed": false
   }
  },
  {
   "cell_type": "markdown",
   "source": [
    "7. \"Gomón\" está seguro que los autos que sólo le cambiaron cuatros ruedas y son \"electricos\" tardan menos en repararse(4pts/32pts)\n"
   ],
   "metadata": {
    "collapsed": false
   }
  },
  {
   "cell_type": "code",
   "execution_count": 24,
   "outputs": [
    {
     "data": {
      "text/plain": "                                     mean   median   min     max          std  \\\nuna_sola_rueda tipo_de_motor                                                    \nFalse          diesel         1235.278338  1178.96  42.4  2961.6   671.950629   \n               electrico      2240.491943  2133.00  58.5  5611.5  1198.675869   \n               gasolina       1520.458630  1381.50  36.0  3774.0   863.593498   \nTrue           diesel         1266.805588  1251.68  93.6  3030.0   676.315435   \n               electrico      2279.836790  2180.25  83.7  5251.5  1288.462813   \n               gasolina       1599.294075  1558.50  72.0  3589.5   856.297218   \n\n                              count  \nuna_sola_rueda tipo_de_motor         \nFalse          diesel           722  \n               electrico        749  \n               gasolina         737  \nTrue           diesel           262  \n               electrico        243  \n               gasolina         265  ",
      "text/html": "<div>\n<style scoped>\n    .dataframe tbody tr th:only-of-type {\n        vertical-align: middle;\n    }\n\n    .dataframe tbody tr th {\n        vertical-align: top;\n    }\n\n    .dataframe thead th {\n        text-align: right;\n    }\n</style>\n<table border=\"1\" class=\"dataframe\">\n  <thead>\n    <tr style=\"text-align: right;\">\n      <th></th>\n      <th></th>\n      <th>mean</th>\n      <th>median</th>\n      <th>min</th>\n      <th>max</th>\n      <th>std</th>\n      <th>count</th>\n    </tr>\n    <tr>\n      <th>una_sola_rueda</th>\n      <th>tipo_de_motor</th>\n      <th></th>\n      <th></th>\n      <th></th>\n      <th></th>\n      <th></th>\n      <th></th>\n    </tr>\n  </thead>\n  <tbody>\n    <tr>\n      <th rowspan=\"3\" valign=\"top\">False</th>\n      <th>diesel</th>\n      <td>1235.278338</td>\n      <td>1178.96</td>\n      <td>42.4</td>\n      <td>2961.6</td>\n      <td>671.950629</td>\n      <td>722</td>\n    </tr>\n    <tr>\n      <th>electrico</th>\n      <td>2240.491943</td>\n      <td>2133.00</td>\n      <td>58.5</td>\n      <td>5611.5</td>\n      <td>1198.675869</td>\n      <td>749</td>\n    </tr>\n    <tr>\n      <th>gasolina</th>\n      <td>1520.458630</td>\n      <td>1381.50</td>\n      <td>36.0</td>\n      <td>3774.0</td>\n      <td>863.593498</td>\n      <td>737</td>\n    </tr>\n    <tr>\n      <th rowspan=\"3\" valign=\"top\">True</th>\n      <th>diesel</th>\n      <td>1266.805588</td>\n      <td>1251.68</td>\n      <td>93.6</td>\n      <td>3030.0</td>\n      <td>676.315435</td>\n      <td>262</td>\n    </tr>\n    <tr>\n      <th>electrico</th>\n      <td>2279.836790</td>\n      <td>2180.25</td>\n      <td>83.7</td>\n      <td>5251.5</td>\n      <td>1288.462813</td>\n      <td>243</td>\n    </tr>\n    <tr>\n      <th>gasolina</th>\n      <td>1599.294075</td>\n      <td>1558.50</td>\n      <td>72.0</td>\n      <td>3589.5</td>\n      <td>856.297218</td>\n      <td>265</td>\n    </tr>\n  </tbody>\n</table>\n</div>"
     },
     "execution_count": 24,
     "metadata": {},
     "output_type": "execute_result"
    }
   ],
   "source": [
    "df['una_sola_rueda'] = df['cantidad_de_ruedas_a_reemplazar'].apply(lambda x: True if x == 4 else False)\n",
    "df.groupby(['una_sola_rueda', 'tipo_de_motor'])['tiempo_de_reparacion'].agg(['mean', 'median','min','max','std', 'count'])"
   ],
   "metadata": {
    "collapsed": false
   }
  },
  {
   "cell_type": "markdown",
   "source": [
    "Habiamos verificado que los autos electricos tardaban más, esto puede verse también con distintas cantidades de ruedas, que con más ruedas a cambiar. Ahora bien además, aunque la correlación es baja, es positiva entre cantidad_de_ruedas_a_reemplazar. Por lo tanto además sería aún mayor el tiempo que tarda"
   ],
   "metadata": {
    "collapsed": false
   }
  },
  {
   "cell_type": "code",
   "execution_count": 25,
   "outputs": [
    {
     "data": {
      "text/plain": "0.018872216844082596"
     },
     "execution_count": 25,
     "metadata": {},
     "output_type": "execute_result"
    }
   ],
   "source": [
    "df['cantidad_de_ruedas_a_reemplazar'].corr(df['tiempo_de_reparacion'])"
   ],
   "metadata": {
    "collapsed": false
   }
  },
  {
   "cell_type": "markdown",
   "source": [
    "8. \"Lovorne\" Cree que los Ford con más Kms tardan menos en repararse.(4pts/32pts)"
   ],
   "metadata": {
    "collapsed": false
   }
  },
  {
   "cell_type": "code",
   "execution_count": 26,
   "outputs": [
    {
     "data": {
      "text/plain": "                       mean   median  count\nmarca_del_auto                             \nford            1567.762971  1401.30   1006\nhonda           1715.749196  1508.55   1008\ntoyota          1756.897334  1576.30    964",
      "text/html": "<div>\n<style scoped>\n    .dataframe tbody tr th:only-of-type {\n        vertical-align: middle;\n    }\n\n    .dataframe tbody tr th {\n        vertical-align: top;\n    }\n\n    .dataframe thead th {\n        text-align: right;\n    }\n</style>\n<table border=\"1\" class=\"dataframe\">\n  <thead>\n    <tr style=\"text-align: right;\">\n      <th></th>\n      <th>mean</th>\n      <th>median</th>\n      <th>count</th>\n    </tr>\n    <tr>\n      <th>marca_del_auto</th>\n      <th></th>\n      <th></th>\n      <th></th>\n    </tr>\n  </thead>\n  <tbody>\n    <tr>\n      <th>ford</th>\n      <td>1567.762971</td>\n      <td>1401.30</td>\n      <td>1006</td>\n    </tr>\n    <tr>\n      <th>honda</th>\n      <td>1715.749196</td>\n      <td>1508.55</td>\n      <td>1008</td>\n    </tr>\n    <tr>\n      <th>toyota</th>\n      <td>1756.897334</td>\n      <td>1576.30</td>\n      <td>964</td>\n    </tr>\n  </tbody>\n</table>\n</div>"
     },
     "execution_count": 26,
     "metadata": {},
     "output_type": "execute_result"
    }
   ],
   "source": [
    "#otra manera de hacerlo\n",
    "df.groupby('marca_del_auto')['tiempo_de_reparacion'].agg(['mean', 'median', 'count'])"
   ],
   "metadata": {
    "collapsed": false
   }
  },
  {
   "cell_type": "markdown",
   "source": [
    "Los fords tardan menos en repararse ahora bien que pasa con los kms y los fords"
   ],
   "metadata": {
    "collapsed": false
   }
  },
  {
   "cell_type": "code",
   "execution_count": 27,
   "outputs": [
    {
     "data": {
      "text/plain": "0.04631933757812927"
     },
     "execution_count": 27,
     "metadata": {},
     "output_type": "execute_result"
    }
   ],
   "source": [
    "df_ford = df[df[\"marca_del_auto\"]==\"ford\"]\n",
    "df_ford['cantidad_de_kilometros'].corr(df['tiempo_de_reparacion'])"
   ],
   "metadata": {
    "collapsed": false
   }
  },
  {
   "cell_type": "markdown",
   "source": [
    "La relación sigue siendo la misma, a mayor cant de kms mayor es el tiempo de recuperación. Por lo tanto la hipotesis es falsa."
   ],
   "metadata": {
    "collapsed": false
   }
  },
  {
   "cell_type": "markdown",
   "source": [
    "**B) Crear una hipotesis personal e intente verificarla con los datos.(8pts)**\n",
    "\n",
    "Del estilo \"Los autos Toyota de sagitario tardan menos en repararse\"\n",
    "\n",
    "Los toyota que tienen una sola rueda a cambiar tardan menos tiempo en repararse"
   ],
   "metadata": {
    "collapsed": false
   }
  },
  {
   "cell_type": "code",
   "execution_count": 28,
   "outputs": [
    {
     "data": {
      "text/plain": "1720.2692"
     },
     "execution_count": 28,
     "metadata": {},
     "output_type": "execute_result"
    }
   ],
   "source": [
    "#crear una variable para ver si tiene una sola rueda a cambiar o no\n",
    "df['una_sola_rueda'] = df['cantidad_de_ruedas'].apply(lambda x: True if x == 1 else False)\n",
    "#verificar si los autos que tienen para cambiar una rueda y son toyota tardan menos en repararse\n",
    "df.loc[(df['una_sola_rueda'] == True) & (df['marca_del_auto'] == 'toyota'), 'tiempo_de_reparacion'].mean()"
   ],
   "metadata": {
    "collapsed": false
   }
  },
  {
   "cell_type": "code",
   "execution_count": 29,
   "outputs": [
    {
     "data": {
      "text/plain": "1679.0778270651444"
     },
     "execution_count": 29,
     "metadata": {},
     "output_type": "execute_result"
    }
   ],
   "source": [
    "df['tiempo_de_reparacion'].mean()"
   ],
   "metadata": {
    "collapsed": false
   }
  },
  {
   "cell_type": "markdown",
   "source": [
    "La media es más alta que la población por lo tanto la hipotesis no tiene fundamentos"
   ],
   "metadata": {
    "collapsed": false
   }
  },
  {
   "cell_type": "markdown",
   "source": [
    "\n",
    "**C) Cree un modelo de machine learning para predecir la variable que usted considera más importante, en función de las variables que usted considere. (30pts)**\n",
    "* Modelo (10 pts / 30pts)\n",
    "* Verificar con el modelo lo siguiente:\n",
    "    - \"Valvula\" Sostiene que la cantidad de ruedas a reemplazar no influye en nada.  (10pts / 30pts)\n",
    "    - \"Pistón\" está tan peleado con \"Inflador\" y dice que necesita una prueba científica para que le demuestren que la variable cantidad_de_kilometros es representativa.(10pts / 30pts)\n"
   ],
   "metadata": {
    "collapsed": false
   }
  },
  {
   "cell_type": "code",
   "execution_count": 30,
   "outputs": [
    {
     "data": {
      "text/plain": "<class 'statsmodels.iolib.summary.Summary'>\n\"\"\"\n                             OLS Regression Results                             \n================================================================================\nDep. Variable:     tiempo_de_reparacion   R-squared:                       0.185\nModel:                              OLS   Adj. R-squared:                  0.183\nMethod:                   Least Squares   F-statistic:                     96.24\nDate:                  Thu, 15 Dec 2022   Prob (F-statistic):          5.51e-127\nTime:                          11:42:49   Log-Likelihood:                -24597.\nNo. Observations:                  2978   AIC:                         4.921e+04\nDf Residuals:                      2970   BIC:                         4.926e+04\nDf Model:                             7                                         \nCovariance Type:              nonrobust                                         \n===================================================================================================\n                                      coef    std err          t      P>|t|      [0.025      0.975]\n---------------------------------------------------------------------------------------------------\nIntercept                         847.3407     64.414     13.155      0.000     721.041     973.641\nC(tipo_de_motor)[T.electrico]    1011.7842     42.147     24.006      0.000     929.144    1094.425\nC(tipo_de_motor)[T.gasolina]      307.0567     42.040      7.304      0.000     224.626     389.488\nC(marca_del_auto)[T.honda]        145.7859     41.786      3.489      0.000      63.853     227.719\nC(marca_del_auto)[T.toyota]       191.7816     42.230      4.541      0.000     108.978     274.585\ncantidad_de_ruedas_a_reemplazar    20.5008     15.220      1.347      0.178      -9.342      50.344\ncantidad_de_kilometros           2.915e-07   3.35e-07      0.871      0.384   -3.65e-07    9.48e-07\nedad_del_auto                      10.0365      1.507      6.661      0.000       7.082      12.991\n==============================================================================\nOmnibus:                      110.944   Durbin-Watson:                   2.036\nProb(Omnibus):                  0.000   Jarque-Bera (JB):              122.922\nSkew:                           0.497   Prob(JB):                     2.03e-27\nKurtosis:                       3.064   Cond. No.                     2.21e+08\n==============================================================================\n\nNotes:\n[1] Standard Errors assume that the covariance matrix of the errors is correctly specified.\n[2] The condition number is large, 2.21e+08. This might indicate that there are\nstrong multicollinearity or other numerical problems.\n\"\"\"",
      "text/html": "<table class=\"simpletable\">\n<caption>OLS Regression Results</caption>\n<tr>\n  <th>Dep. Variable:</th>    <td>tiempo_de_reparacion</td> <th>  R-squared:         </th> <td>   0.185</td> \n</tr>\n<tr>\n  <th>Model:</th>                     <td>OLS</td>         <th>  Adj. R-squared:    </th> <td>   0.183</td> \n</tr>\n<tr>\n  <th>Method:</th>               <td>Least Squares</td>    <th>  F-statistic:       </th> <td>   96.24</td> \n</tr>\n<tr>\n  <th>Date:</th>               <td>Thu, 15 Dec 2022</td>   <th>  Prob (F-statistic):</th> <td>5.51e-127</td>\n</tr>\n<tr>\n  <th>Time:</th>                   <td>11:42:49</td>       <th>  Log-Likelihood:    </th> <td> -24597.</td> \n</tr>\n<tr>\n  <th>No. Observations:</th>        <td>  2978</td>        <th>  AIC:               </th> <td>4.921e+04</td>\n</tr>\n<tr>\n  <th>Df Residuals:</th>            <td>  2970</td>        <th>  BIC:               </th> <td>4.926e+04</td>\n</tr>\n<tr>\n  <th>Df Model:</th>                <td>     7</td>        <th>                     </th>     <td> </td>    \n</tr>\n<tr>\n  <th>Covariance Type:</th>        <td>nonrobust</td>      <th>                     </th>     <td> </td>    \n</tr>\n</table>\n<table class=\"simpletable\">\n<tr>\n                 <td></td>                    <th>coef</th>     <th>std err</th>      <th>t</th>      <th>P>|t|</th>  <th>[0.025</th>    <th>0.975]</th>  \n</tr>\n<tr>\n  <th>Intercept</th>                       <td>  847.3407</td> <td>   64.414</td> <td>   13.155</td> <td> 0.000</td> <td>  721.041</td> <td>  973.641</td>\n</tr>\n<tr>\n  <th>C(tipo_de_motor)[T.electrico]</th>   <td> 1011.7842</td> <td>   42.147</td> <td>   24.006</td> <td> 0.000</td> <td>  929.144</td> <td> 1094.425</td>\n</tr>\n<tr>\n  <th>C(tipo_de_motor)[T.gasolina]</th>    <td>  307.0567</td> <td>   42.040</td> <td>    7.304</td> <td> 0.000</td> <td>  224.626</td> <td>  389.488</td>\n</tr>\n<tr>\n  <th>C(marca_del_auto)[T.honda]</th>      <td>  145.7859</td> <td>   41.786</td> <td>    3.489</td> <td> 0.000</td> <td>   63.853</td> <td>  227.719</td>\n</tr>\n<tr>\n  <th>C(marca_del_auto)[T.toyota]</th>     <td>  191.7816</td> <td>   42.230</td> <td>    4.541</td> <td> 0.000</td> <td>  108.978</td> <td>  274.585</td>\n</tr>\n<tr>\n  <th>cantidad_de_ruedas_a_reemplazar</th> <td>   20.5008</td> <td>   15.220</td> <td>    1.347</td> <td> 0.178</td> <td>   -9.342</td> <td>   50.344</td>\n</tr>\n<tr>\n  <th>cantidad_de_kilometros</th>          <td> 2.915e-07</td> <td> 3.35e-07</td> <td>    0.871</td> <td> 0.384</td> <td>-3.65e-07</td> <td> 9.48e-07</td>\n</tr>\n<tr>\n  <th>edad_del_auto</th>                   <td>   10.0365</td> <td>    1.507</td> <td>    6.661</td> <td> 0.000</td> <td>    7.082</td> <td>   12.991</td>\n</tr>\n</table>\n<table class=\"simpletable\">\n<tr>\n  <th>Omnibus:</th>       <td>110.944</td> <th>  Durbin-Watson:     </th> <td>   2.036</td>\n</tr>\n<tr>\n  <th>Prob(Omnibus):</th> <td> 0.000</td>  <th>  Jarque-Bera (JB):  </th> <td> 122.922</td>\n</tr>\n<tr>\n  <th>Skew:</th>          <td> 0.497</td>  <th>  Prob(JB):          </th> <td>2.03e-27</td>\n</tr>\n<tr>\n  <th>Kurtosis:</th>      <td> 3.064</td>  <th>  Cond. No.          </th> <td>2.21e+08</td>\n</tr>\n</table><br/><br/>Notes:<br/>[1] Standard Errors assume that the covariance matrix of the errors is correctly specified.<br/>[2] The condition number is large, 2.21e+08. This might indicate that there are<br/>strong multicollinearity or other numerical problems."
     },
     "execution_count": 30,
     "metadata": {},
     "output_type": "execute_result"
    }
   ],
   "source": [
    "columnas_seleccionadas = [\n",
    " 'tipo_de_motor',\n",
    " 'marca_del_auto',\n",
    " 'cantidad_de_ruedas_a_reemplazar',\n",
    " 'cantidad_de_kilometros',\n",
    " 'edad_del_auto','tiempo_de_reparacion']\n",
    "\n",
    "\n",
    "\n",
    "import statsmodels.api as sm\n",
    "#instanciar el modelo\n",
    "modelo = sm.OLS.from_formula('tiempo_de_reparacion ~ C(tipo_de_motor) + C(marca_del_auto) + cantidad_de_ruedas_a_reemplazar + cantidad_de_kilometros + edad_del_auto', data=df)\n",
    "#entrenar el modelo\n",
    "modelo_entrenado = modelo.fit()\n",
    "#ver los resultados\n",
    "modelo_entrenado.summary()"
   ],
   "metadata": {
    "collapsed": false
   }
  },
  {
   "cell_type": "markdown",
   "source": [
    "Dado que el p-valor es mayor a 0.05 no existen hipotesis para afirmar que las variables cantidad_de_ruedas y cantdad_de_kilometros impacten la variable. Tanto Válvula cómo Pistón tienen razón, no hay pruebas para afirmarlo"
   ],
   "metadata": {
    "collapsed": false
   }
  },
  {
   "cell_type": "code",
   "execution_count": 31,
   "outputs": [
    {
     "data": {
      "text/plain": "<class 'statsmodels.iolib.summary.Summary'>\n\"\"\"\n                             OLS Regression Results                             \n================================================================================\nDep. Variable:     tiempo_de_reparacion   R-squared:                       0.184\nModel:                              OLS   Adj. R-squared:                  0.183\nMethod:                   Least Squares   F-statistic:                     134.2\nDate:                  Thu, 15 Dec 2022   Prob (F-statistic):          1.48e-128\nTime:                          11:42:49   Log-Likelihood:                -24598.\nNo. Observations:                  2978   AIC:                         4.921e+04\nDf Residuals:                      2972   BIC:                         4.924e+04\nDf Model:                             5                                         \nCovariance Type:              nonrobust                                         \n=================================================================================================\n                                    coef    std err          t      P>|t|      [0.025      0.975]\n-------------------------------------------------------------------------------------------------\nIntercept                       899.6998     51.582     17.442      0.000     798.560    1000.840\nC(tipo_de_motor)[T.electrico]  1012.2309     42.140     24.021      0.000     929.605    1094.857\nC(tipo_de_motor)[T.gasolina]    306.9524     42.044      7.301      0.000     224.513     389.391\nC(marca_del_auto)[T.honda]      143.1283     41.758      3.428      0.001      61.251     225.006\nC(marca_del_auto)[T.toyota]     189.6985     42.214      4.494      0.000     106.928     272.470\nedad_del_auto                    10.0735      1.507      6.685      0.000       7.119      13.028\n==============================================================================\nOmnibus:                      110.928   Durbin-Watson:                   2.035\nProb(Omnibus):                  0.000   Jarque-Bera (JB):              122.921\nSkew:                           0.497   Prob(JB):                     2.03e-27\nKurtosis:                       3.059   Cond. No.                         99.1\n==============================================================================\n\nNotes:\n[1] Standard Errors assume that the covariance matrix of the errors is correctly specified.\n\"\"\"",
      "text/html": "<table class=\"simpletable\">\n<caption>OLS Regression Results</caption>\n<tr>\n  <th>Dep. Variable:</th>    <td>tiempo_de_reparacion</td> <th>  R-squared:         </th> <td>   0.184</td> \n</tr>\n<tr>\n  <th>Model:</th>                     <td>OLS</td>         <th>  Adj. R-squared:    </th> <td>   0.183</td> \n</tr>\n<tr>\n  <th>Method:</th>               <td>Least Squares</td>    <th>  F-statistic:       </th> <td>   134.2</td> \n</tr>\n<tr>\n  <th>Date:</th>               <td>Thu, 15 Dec 2022</td>   <th>  Prob (F-statistic):</th> <td>1.48e-128</td>\n</tr>\n<tr>\n  <th>Time:</th>                   <td>11:42:49</td>       <th>  Log-Likelihood:    </th> <td> -24598.</td> \n</tr>\n<tr>\n  <th>No. Observations:</th>        <td>  2978</td>        <th>  AIC:               </th> <td>4.921e+04</td>\n</tr>\n<tr>\n  <th>Df Residuals:</th>            <td>  2972</td>        <th>  BIC:               </th> <td>4.924e+04</td>\n</tr>\n<tr>\n  <th>Df Model:</th>                <td>     5</td>        <th>                     </th>     <td> </td>    \n</tr>\n<tr>\n  <th>Covariance Type:</th>        <td>nonrobust</td>      <th>                     </th>     <td> </td>    \n</tr>\n</table>\n<table class=\"simpletable\">\n<tr>\n                <td></td>                   <th>coef</th>     <th>std err</th>      <th>t</th>      <th>P>|t|</th>  <th>[0.025</th>    <th>0.975]</th>  \n</tr>\n<tr>\n  <th>Intercept</th>                     <td>  899.6998</td> <td>   51.582</td> <td>   17.442</td> <td> 0.000</td> <td>  798.560</td> <td> 1000.840</td>\n</tr>\n<tr>\n  <th>C(tipo_de_motor)[T.electrico]</th> <td> 1012.2309</td> <td>   42.140</td> <td>   24.021</td> <td> 0.000</td> <td>  929.605</td> <td> 1094.857</td>\n</tr>\n<tr>\n  <th>C(tipo_de_motor)[T.gasolina]</th>  <td>  306.9524</td> <td>   42.044</td> <td>    7.301</td> <td> 0.000</td> <td>  224.513</td> <td>  389.391</td>\n</tr>\n<tr>\n  <th>C(marca_del_auto)[T.honda]</th>    <td>  143.1283</td> <td>   41.758</td> <td>    3.428</td> <td> 0.001</td> <td>   61.251</td> <td>  225.006</td>\n</tr>\n<tr>\n  <th>C(marca_del_auto)[T.toyota]</th>   <td>  189.6985</td> <td>   42.214</td> <td>    4.494</td> <td> 0.000</td> <td>  106.928</td> <td>  272.470</td>\n</tr>\n<tr>\n  <th>edad_del_auto</th>                 <td>   10.0735</td> <td>    1.507</td> <td>    6.685</td> <td> 0.000</td> <td>    7.119</td> <td>   13.028</td>\n</tr>\n</table>\n<table class=\"simpletable\">\n<tr>\n  <th>Omnibus:</th>       <td>110.928</td> <th>  Durbin-Watson:     </th> <td>   2.035</td>\n</tr>\n<tr>\n  <th>Prob(Omnibus):</th> <td> 0.000</td>  <th>  Jarque-Bera (JB):  </th> <td> 122.921</td>\n</tr>\n<tr>\n  <th>Skew:</th>          <td> 0.497</td>  <th>  Prob(JB):          </th> <td>2.03e-27</td>\n</tr>\n<tr>\n  <th>Kurtosis:</th>      <td> 3.059</td>  <th>  Cond. No.          </th> <td>    99.1</td>\n</tr>\n</table><br/><br/>Notes:<br/>[1] Standard Errors assume that the covariance matrix of the errors is correctly specified."
     },
     "execution_count": 31,
     "metadata": {},
     "output_type": "execute_result"
    }
   ],
   "source": [
    "modelo = sm.OLS.from_formula('tiempo_de_reparacion ~ C(tipo_de_motor) + C(marca_del_auto)  + edad_del_auto', data=df)\n",
    "#entrenar el modelo\n",
    "modelo_entrenado = modelo.fit()\n",
    "#ver los resultados\n",
    "modelo_entrenado.summary()"
   ],
   "metadata": {
    "collapsed": false
   }
  },
  {
   "cell_type": "markdown",
   "source": [
    "**D) Evalue el modelo (5pts)**"
   ],
   "metadata": {
    "collapsed": false
   }
  },
  {
   "cell_type": "code",
   "execution_count": 32,
   "outputs": [
    {
     "data": {
      "text/plain": "0.8978824386470691"
     },
     "execution_count": 32,
     "metadata": {},
     "output_type": "execute_result"
    }
   ],
   "source": [
    "from sklearn.metrics import mean_absolute_percentage_error\n",
    "mean_absolute_percentage_error(df['tiempo_de_reparacion'], modelo_entrenado.predict(df[columnas_seleccionadas]))"
   ],
   "metadata": {
    "collapsed": false
   }
  },
  {
   "cell_type": "markdown",
   "source": [
    "El mean_absolute_percentage_error (MAPE), también conocido como error porcentual medio absoluto, es una métrica de evaluación utilizada en modelos de regresión. Se calcula como la media del porcentaje absoluto de error entre las predicciones del modelo y los valores reales para cada uno de los ejemplos en el conjunto de datos. Matemáticamente, se define como:\n",
    "\n",
    "MAPE = (1/n) * Σ |(y - y')| / y\n",
    "\n",
    "donde n es el número de ejemplos en el conjunto de datos, y y y' son el valor real y la predicción del modelo para el ejemplo i-ésimo respectivamente. El MAPE se utiliza para evaluar la precisión del modelo y se expresa en términos porcentuales. Un modelo con un MAPE bajo se considera más preciso que un modelo con un MAPE alto"
   ],
   "metadata": {
    "collapsed": false
   }
  },
  {
   "cell_type": "markdown",
   "source": [
    "**E) Interprete los resultados. Cual es la intuición del modelo? Explique la formula que representa al modelo con tus palabras? Se verifican las hipotesis?(5pts)**\n",
    "\n"
   ],
   "metadata": {
    "collapsed": false
   }
  },
  {
   "cell_type": "markdown",
   "source": [
    "La regresión lineal mostrada tiene como objetivo predecir el valor de los daños en un auto después de un accidente en base a distintas variables. La variable \"Intercept\" representa el valor del daño esperado en el caso de que todas las otras variables estén en su valor mínimo o nulo. La variable \"C(tipo_de_motor)[T.electrico]\" representa el efecto del tipo de motor eléctrico en el valor del daño, y \"C(tipo_de_motor)[T.gasolina]\" representa el efecto del tipo de motor de gasolina en el valor del daño. Las variables \"C(marca_del_auto)[T.honda]\" y \"C(marca_del_auto)[T.toyota]\" representan el efecto de la marca del auto en el valor del daño, en este caso Honda y Toyota respectivamente. Finalmente, la variable \"edad_del_auto\" representa el efecto de la edad del auto en el valor del daño. Los valores asociados a cada una de estas variables indican el aumento o disminución esperado en el valor del daño en base a cada una de ellas. Por ejemplo, se espera que un auto con motor eléctrico tenga un valor de daño 1012.230904 mayor que un auto con cualquier otro tipo de motor.\n",
    "\n",
    "\n"
   ],
   "metadata": {
    "collapsed": false
   }
  },
  {
   "cell_type": "markdown",
   "source": [
    "**F) Tengo fotos de accidentes de autos de una empresa de seguros. En las cuales actualmente cada perito de seguro evalua foto a foto: el valor de los daños que tiene el auto. Por ultimo luego de una evaluación minuciosa de muchas variables más que las fotos, el perito dictamina el probable costo a pagar por el total de las reparaciones.   (20pts)**\n",
    "1. Explicar por qué resolverías esta tarea con Machine Learning.  (5pts / 20pts)\n",
    "2. ¿Cuales crearías que son las variables que afectarían al modelo y por qué? (5pts / 20pts)\n",
    "3. ¿Como la predicción impactaría al beneficio en el negocio de los seguros? (5pts / 20pts)\n",
    "4. ¿Como se evaluaría la eficacia del modelo? (5pts / 20pts)"
   ],
   "metadata": {
    "collapsed": false
   }
  },
  {
   "cell_type": "markdown",
   "source": [
    "1. Una posible razón para resolver esta tarea con Machine Learning es que el uso de un modelo de aprendizaje automático podría permitir hacer predicciones precisas y rápidas del valor de los daños en un auto después de un accidente. Esto podría mejorar la eficiencia y la precisión de la evaluación en comparación con la evaluación manual realizada por los peritos de seguros. Además, el modelo podría aprender a partir de datos históricos y mejorar su precisión con el tiempo.\n",
    "\n",
    "2. Algunas variables que podrían afectar al modelo podrían ser el tipo de auto, la edad del auto, la gravedad del accidente, la calidad de las fotos, entre otros. Estas variables podrían influir en la precisión de la predicción del valor de los daños en el auto, ya que cada una de ellas puede tener un impacto en el costo total de reparación.\n",
    "\n",
    "3. La predicción del valor de los daños en un auto después de un accidente podría tener un impacto positivo en el beneficio del negocio de los seguros ya que podría ayudar a determinar de manera más precisa el costo de las reparaciones. Esto podría permitir a la empresa de seguros fijar primas más justas y ajustadas, lo que podría aumentar su beneficio en el largo plazo.\n",
    "\n",
    "4. La eficacia del modelo se podría evaluar utilizando métricas de evaluación de modelos de regresión, como el error cuadrático medio (RMSE) o el porcentaje absoluto de error medio (MAPE). Estas métricas se podrían calcular comparando los resultados del modelo con el valor real de los daños en el auto después del accidente. Además, también se podría comparar la precisión del modelo con la evaluación realizada por los peritos de seguros para medir su eficacia en comparación con la evaluación manual.\n"
   ],
   "metadata": {
    "collapsed": false
   }
  },
  {
   "cell_type": "code",
   "execution_count": 32,
   "outputs": [],
   "source": [],
   "metadata": {
    "collapsed": false
   }
  }
 ],
 "metadata": {
  "kernelspec": {
   "display_name": "Python 3",
   "language": "python",
   "name": "python3"
  },
  "language_info": {
   "codemirror_mode": {
    "name": "ipython",
    "version": 2
   },
   "file_extension": ".py",
   "mimetype": "text/x-python",
   "name": "python",
   "nbconvert_exporter": "python",
   "pygments_lexer": "ipython2",
   "version": "2.7.6"
  }
 },
 "nbformat": 4,
 "nbformat_minor": 0
}
