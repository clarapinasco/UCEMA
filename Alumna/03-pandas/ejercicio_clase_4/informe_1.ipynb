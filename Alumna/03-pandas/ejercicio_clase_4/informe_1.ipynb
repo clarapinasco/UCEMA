{
 "cells": [
  {
   "cell_type": "code",
   "execution_count": 44,
   "metadata": {
    "collapsed": true
   },
   "outputs": [],
   "source": [
    "import pandas as pd"
   ]
  },
  {
   "cell_type": "code",
   "execution_count": 45,
   "outputs": [],
   "source": [
    "path_file = \"empresas_eeuu.csv\"\n",
    "\n",
    "df= pd.read_csv(path_file)\n"
   ],
   "metadata": {
    "collapsed": false,
    "pycharm": {
     "name": "#%%\n"
    }
   }
  },
  {
   "cell_type": "code",
   "execution_count": 46,
   "outputs": [
    {
     "data": {
      "text/plain": "Index(['Rank', 'Title', 'Website', 'Employees', 'Sector', 'Industry',\n       'Hqlocation', 'Hqaddr', 'Hqcity', 'Hqstate', 'Hqzip', 'Hqtel', 'Ceo',\n       'Ceo-title', 'Address', 'Ticker', 'Fullname', 'Revenues', 'Revchange',\n       'Profits', 'Prftchange', 'Assets', 'Totshequity'],\n      dtype='object')"
     },
     "execution_count": 46,
     "metadata": {},
     "output_type": "execute_result"
    }
   ],
   "source": [
    "df.columns"
   ],
   "metadata": {
    "collapsed": false,
    "pycharm": {
     "name": "#%%\n"
    }
   }
  },
  {
   "cell_type": "code",
   "execution_count": 47,
   "outputs": [
    {
     "data": {
      "text/plain": "             Rank     Employees         Hqzip       Revenues  Revchange  \\\ncount  500.000000  5.000000e+02    500.000000     500.000000  500.00000   \nmean   250.492000  5.635013e+04  46791.714000   24111.748000    3.75800   \nstd    144.477366  1.234520e+05  30160.384765   38337.353337   19.96748   \nmin      1.000000  8.300000e+01   1104.000000    5145.000000  -57.50000   \n25%    125.750000  1.190000e+04  19099.000000    7245.000000   -3.82500   \n50%    250.500000  2.500000e+04  46244.500000   11384.000000    1.90000   \n75%    375.250000  5.682525e+04  75045.000000   22605.250000    7.32500   \nmax    500.000000  2.300000e+06  98188.000000  485873.000000  197.30000   \n\n            Profits        Assets  Totshequity  \ncount    500.000000  5.000000e+02     500.0000  \nmean    1779.479800  8.038934e+04   13640.1470  \nstd     3937.558721  2.704257e+05   30523.1538  \nmin    -6177.000000  4.370000e+02  -12688.0000  \n25%      235.725000  8.436500e+03    1997.5000  \n50%      683.600000  1.932450e+04    4981.0000  \n75%     1770.775000  4.812600e+04   12467.7500  \nmax    45687.000000  3.287968e+06  283001.0000  ",
      "text/html": "<div>\n<style scoped>\n    .dataframe tbody tr th:only-of-type {\n        vertical-align: middle;\n    }\n\n    .dataframe tbody tr th {\n        vertical-align: top;\n    }\n\n    .dataframe thead th {\n        text-align: right;\n    }\n</style>\n<table border=\"1\" class=\"dataframe\">\n  <thead>\n    <tr style=\"text-align: right;\">\n      <th></th>\n      <th>Rank</th>\n      <th>Employees</th>\n      <th>Hqzip</th>\n      <th>Revenues</th>\n      <th>Revchange</th>\n      <th>Profits</th>\n      <th>Assets</th>\n      <th>Totshequity</th>\n    </tr>\n  </thead>\n  <tbody>\n    <tr>\n      <th>count</th>\n      <td>500.000000</td>\n      <td>5.000000e+02</td>\n      <td>500.000000</td>\n      <td>500.000000</td>\n      <td>500.00000</td>\n      <td>500.000000</td>\n      <td>5.000000e+02</td>\n      <td>500.0000</td>\n    </tr>\n    <tr>\n      <th>mean</th>\n      <td>250.492000</td>\n      <td>5.635013e+04</td>\n      <td>46791.714000</td>\n      <td>24111.748000</td>\n      <td>3.75800</td>\n      <td>1779.479800</td>\n      <td>8.038934e+04</td>\n      <td>13640.1470</td>\n    </tr>\n    <tr>\n      <th>std</th>\n      <td>144.477366</td>\n      <td>1.234520e+05</td>\n      <td>30160.384765</td>\n      <td>38337.353337</td>\n      <td>19.96748</td>\n      <td>3937.558721</td>\n      <td>2.704257e+05</td>\n      <td>30523.1538</td>\n    </tr>\n    <tr>\n      <th>min</th>\n      <td>1.000000</td>\n      <td>8.300000e+01</td>\n      <td>1104.000000</td>\n      <td>5145.000000</td>\n      <td>-57.50000</td>\n      <td>-6177.000000</td>\n      <td>4.370000e+02</td>\n      <td>-12688.0000</td>\n    </tr>\n    <tr>\n      <th>25%</th>\n      <td>125.750000</td>\n      <td>1.190000e+04</td>\n      <td>19099.000000</td>\n      <td>7245.000000</td>\n      <td>-3.82500</td>\n      <td>235.725000</td>\n      <td>8.436500e+03</td>\n      <td>1997.5000</td>\n    </tr>\n    <tr>\n      <th>50%</th>\n      <td>250.500000</td>\n      <td>2.500000e+04</td>\n      <td>46244.500000</td>\n      <td>11384.000000</td>\n      <td>1.90000</td>\n      <td>683.600000</td>\n      <td>1.932450e+04</td>\n      <td>4981.0000</td>\n    </tr>\n    <tr>\n      <th>75%</th>\n      <td>375.250000</td>\n      <td>5.682525e+04</td>\n      <td>75045.000000</td>\n      <td>22605.250000</td>\n      <td>7.32500</td>\n      <td>1770.775000</td>\n      <td>4.812600e+04</td>\n      <td>12467.7500</td>\n    </tr>\n    <tr>\n      <th>max</th>\n      <td>500.000000</td>\n      <td>2.300000e+06</td>\n      <td>98188.000000</td>\n      <td>485873.000000</td>\n      <td>197.30000</td>\n      <td>45687.000000</td>\n      <td>3.287968e+06</td>\n      <td>283001.0000</td>\n    </tr>\n  </tbody>\n</table>\n</div>"
     },
     "execution_count": 47,
     "metadata": {},
     "output_type": "execute_result"
    }
   ],
   "source": [
    "df.describe()"
   ],
   "metadata": {
    "collapsed": false,
    "pycharm": {
     "name": "#%%\n"
    }
   }
  },
  {
   "cell_type": "code",
   "execution_count": 48,
   "outputs": [
    {
     "data": {
      "text/plain": "2300000"
     },
     "execution_count": 48,
     "metadata": {},
     "output_type": "execute_result"
    }
   ],
   "source": [
    "df.Employees.max()\n"
   ],
   "metadata": {
    "collapsed": false,
    "pycharm": {
     "name": "#%%\n"
    }
   }
  },
  {
   "cell_type": "code",
   "execution_count": 49,
   "outputs": [
    {
     "data": {
      "text/plain": "   Rank    Title                 Website  Employees     Sector  \\\n0     1  Walmart  http://www.walmart.com    2300000  Retailing   \n\n                Industry       Hqlocation               Hqaddr       Hqcity  \\\n0  General Merchandisers  Bentonville, AR  702 S.W. Eighth St.  Bentonville   \n\n  Hqstate  ...                                      Ceo-title  \\\n0      AR  ...  President, Chief Executive Officer & Director   \n\n                                      Address Ticker               Fullname  \\\n0  702 S.W. Eighth St., Bentonville, AR 72716    WMT  Wal-Mart Stores, Inc.   \n\n  Revenues Revchange  Profits  Prftchange  Assets  Totshequity  \n0   485873       0.8  13643.0        -7.2  198825      77798.0  \n\n[1 rows x 23 columns]",
      "text/html": "<div>\n<style scoped>\n    .dataframe tbody tr th:only-of-type {\n        vertical-align: middle;\n    }\n\n    .dataframe tbody tr th {\n        vertical-align: top;\n    }\n\n    .dataframe thead th {\n        text-align: right;\n    }\n</style>\n<table border=\"1\" class=\"dataframe\">\n  <thead>\n    <tr style=\"text-align: right;\">\n      <th></th>\n      <th>Rank</th>\n      <th>Title</th>\n      <th>Website</th>\n      <th>Employees</th>\n      <th>Sector</th>\n      <th>Industry</th>\n      <th>Hqlocation</th>\n      <th>Hqaddr</th>\n      <th>Hqcity</th>\n      <th>Hqstate</th>\n      <th>...</th>\n      <th>Ceo-title</th>\n      <th>Address</th>\n      <th>Ticker</th>\n      <th>Fullname</th>\n      <th>Revenues</th>\n      <th>Revchange</th>\n      <th>Profits</th>\n      <th>Prftchange</th>\n      <th>Assets</th>\n      <th>Totshequity</th>\n    </tr>\n  </thead>\n  <tbody>\n    <tr>\n      <th>0</th>\n      <td>1</td>\n      <td>Walmart</td>\n      <td>http://www.walmart.com</td>\n      <td>2300000</td>\n      <td>Retailing</td>\n      <td>General Merchandisers</td>\n      <td>Bentonville, AR</td>\n      <td>702 S.W. Eighth St.</td>\n      <td>Bentonville</td>\n      <td>AR</td>\n      <td>...</td>\n      <td>President, Chief Executive Officer &amp; Director</td>\n      <td>702 S.W. Eighth St., Bentonville, AR 72716</td>\n      <td>WMT</td>\n      <td>Wal-Mart Stores, Inc.</td>\n      <td>485873</td>\n      <td>0.8</td>\n      <td>13643.0</td>\n      <td>-7.2</td>\n      <td>198825</td>\n      <td>77798.0</td>\n    </tr>\n  </tbody>\n</table>\n<p>1 rows × 23 columns</p>\n</div>"
     },
     "execution_count": 49,
     "metadata": {},
     "output_type": "execute_result"
    }
   ],
   "source": [
    "max_empleados=df['Employees']==2300000\n",
    "df[max_empleados]"
   ],
   "metadata": {
    "collapsed": false,
    "pycharm": {
     "name": "#%%\n"
    }
   }
  },
  {
   "cell_type": "code",
   "execution_count": 50,
   "outputs": [
    {
     "data": {
      "text/plain": "83"
     },
     "execution_count": 50,
     "metadata": {},
     "output_type": "execute_result"
    }
   ],
   "source": [
    "df.Employees.min()"
   ],
   "metadata": {
    "collapsed": false,
    "pycharm": {
     "name": "#%%\n"
    }
   }
  },
  {
   "cell_type": "code",
   "execution_count": 51,
   "outputs": [
    {
     "data": {
      "text/plain": "394    A-Mark Precious Metals\nName: Title, dtype: object"
     },
     "execution_count": 51,
     "metadata": {},
     "output_type": "execute_result"
    }
   ],
   "source": [
    "min_empleados=df.Employees==83\n",
    "df[min_empleados]['Title']"
   ],
   "metadata": {
    "collapsed": false,
    "pycharm": {
     "name": "#%%\n"
    }
   }
  },
  {
   "cell_type": "code",
   "execution_count": 52,
   "outputs": [
    {
     "data": {
      "text/plain": "['Retailing',\n 'Financials',\n 'Technology',\n 'Energy',\n 'Wholesalers',\n 'Health Care',\n 'Motor Vehicles & Parts',\n 'Telecommunications',\n 'Industrials',\n 'Food & Drug Stores',\n 'Aerospace & Defense',\n 'Household Products',\n 'Food, Beverages & Tobacco',\n 'Transportation',\n 'Media',\n 'Chemicals',\n 'Apparel',\n 'Hotels, Restaurants & Leisure',\n 'Materials',\n 'Business Services',\n 'Engineering & Construction']"
     },
     "execution_count": 52,
     "metadata": {},
     "output_type": "execute_result"
    }
   ],
   "source": [
    "df.Sector.unique().tolist()"
   ],
   "metadata": {
    "collapsed": false,
    "pycharm": {
     "name": "#%%\n"
    }
   }
  },
  {
   "cell_type": "code",
   "execution_count": 53,
   "outputs": [
    {
     "data": {
      "text/plain": "(500, 23)"
     },
     "execution_count": 53,
     "metadata": {},
     "output_type": "execute_result"
    }
   ],
   "source": [
    "df.shape"
   ],
   "metadata": {
    "collapsed": false,
    "pycharm": {
     "name": "#%%\n"
    }
   }
  },
  {
   "cell_type": "code",
   "execution_count": 54,
   "outputs": [
    {
     "name": "stdout",
     "output_type": "stream",
     "text": [
      "<class 'pandas.core.frame.DataFrame'>\n",
      "RangeIndex: 500 entries, 0 to 499\n",
      "Data columns (total 23 columns):\n",
      " #   Column       Non-Null Count  Dtype  \n",
      "---  ------       --------------  -----  \n",
      " 0   Rank         500 non-null    int64  \n",
      " 1   Title        500 non-null    object \n",
      " 2   Website      500 non-null    object \n",
      " 3   Employees    500 non-null    int64  \n",
      " 4   Sector       500 non-null    object \n",
      " 5   Industry     500 non-null    object \n",
      " 6   Hqlocation   500 non-null    object \n",
      " 7   Hqaddr       500 non-null    object \n",
      " 8   Hqcity       500 non-null    object \n",
      " 9   Hqstate      500 non-null    object \n",
      " 10  Hqzip        500 non-null    int64  \n",
      " 11  Hqtel        500 non-null    object \n",
      " 12  Ceo          500 non-null    object \n",
      " 13  Ceo-title    500 non-null    object \n",
      " 14  Address      500 non-null    object \n",
      " 15  Ticker       500 non-null    object \n",
      " 16  Fullname     500 non-null    object \n",
      " 17  Revenues     500 non-null    int64  \n",
      " 18  Revchange    500 non-null    float64\n",
      " 19  Profits      500 non-null    float64\n",
      " 20  Prftchange   500 non-null    object \n",
      " 21  Assets       500 non-null    int64  \n",
      " 22  Totshequity  500 non-null    float64\n",
      "dtypes: float64(3), int64(5), object(15)\n",
      "memory usage: 90.0+ KB\n"
     ]
    }
   ],
   "source": [
    "df.info()"
   ],
   "metadata": {
    "collapsed": false,
    "pycharm": {
     "name": "#%%\n"
    }
   }
  },
  {
   "cell_type": "code",
   "execution_count": 55,
   "outputs": [
    {
     "data": {
      "text/plain": "Rank           0\nTitle          0\nWebsite        0\nEmployees      0\nSector         0\nIndustry       0\nHqlocation     0\nHqaddr         0\nHqcity         0\nHqstate        0\nHqzip          0\nHqtel          0\nCeo            0\nCeo-title      0\nAddress        0\nTicker         0\nFullname       0\nRevenues       0\nRevchange      0\nProfits        0\nPrftchange     0\nAssets         0\nTotshequity    0\ndtype: int64"
     },
     "execution_count": 55,
     "metadata": {},
     "output_type": "execute_result"
    }
   ],
   "source": [
    "df.isnull().sum()"
   ],
   "metadata": {
    "collapsed": false,
    "pycharm": {
     "name": "#%%\n"
    }
   }
  },
  {
   "cell_type": "code",
   "execution_count": 56,
   "outputs": [
    {
     "data": {
      "text/plain": "NY    54\nCA    53\nTX    50\nIL    36\nOH    25\nVA    23\nPA    21\nNJ    21\nMN    18\nCT    18\nMI    17\nGA    17\nFL    17\nMA    13\nNC    12\nTN    11\nWA    10\nCO    10\nMO    10\nWI     9\nIN     7\nAR     6\nOK     5\nMD     4\nNE     4\nAZ     4\nRI     4\nKY     3\nIA     3\nID     2\nOR     2\nDC     2\nDE     2\nLA     2\nNV     2\nKS     2\nAL     1\nName: Hqstate, dtype: int64"
     },
     "execution_count": 56,
     "metadata": {},
     "output_type": "execute_result"
    }
   ],
   "source": [
    "df.Hqstate.value_counts()"
   ],
   "metadata": {
    "collapsed": false,
    "pycharm": {
     "name": "#%%\n"
    }
   }
  },
  {
   "cell_type": "code",
   "execution_count": 57,
   "outputs": [
    {
     "name": "stdout",
     "output_type": "stream",
     "text": [
      "10.8\n"
     ]
    }
   ],
   "source": [
    "print(54/len(df)*100)\n",
    "00"
   ],
   "metadata": {
    "collapsed": false,
    "pycharm": {
     "name": "#%%\n"
    }
   }
  },
  {
   "cell_type": "code",
   "execution_count": 58,
   "outputs": [
    {
     "data": {
      "text/plain": "   Rank    Title                 Website  Employees     Sector  \\\n0     1  Walmart  http://www.walmart.com    2300000  Retailing   \n\n                Industry       Hqlocation               Hqaddr       Hqcity  \\\n0  General Merchandisers  Bentonville, AR  702 S.W. Eighth St.  Bentonville   \n\n  Hqstate  ...                                      Ceo-title  \\\n0      AR  ...  President, Chief Executive Officer & Director   \n\n                                      Address Ticker               Fullname  \\\n0  702 S.W. Eighth St., Bentonville, AR 72716    WMT  Wal-Mart Stores, Inc.   \n\n  Revenues Revchange  Profits  Prftchange  Assets  Totshequity  \n0   485873       0.8  13643.0        -7.2  198825      77798.0  \n\n[1 rows x 23 columns]",
      "text/html": "<div>\n<style scoped>\n    .dataframe tbody tr th:only-of-type {\n        vertical-align: middle;\n    }\n\n    .dataframe tbody tr th {\n        vertical-align: top;\n    }\n\n    .dataframe thead th {\n        text-align: right;\n    }\n</style>\n<table border=\"1\" class=\"dataframe\">\n  <thead>\n    <tr style=\"text-align: right;\">\n      <th></th>\n      <th>Rank</th>\n      <th>Title</th>\n      <th>Website</th>\n      <th>Employees</th>\n      <th>Sector</th>\n      <th>Industry</th>\n      <th>Hqlocation</th>\n      <th>Hqaddr</th>\n      <th>Hqcity</th>\n      <th>Hqstate</th>\n      <th>...</th>\n      <th>Ceo-title</th>\n      <th>Address</th>\n      <th>Ticker</th>\n      <th>Fullname</th>\n      <th>Revenues</th>\n      <th>Revchange</th>\n      <th>Profits</th>\n      <th>Prftchange</th>\n      <th>Assets</th>\n      <th>Totshequity</th>\n    </tr>\n  </thead>\n  <tbody>\n    <tr>\n      <th>0</th>\n      <td>1</td>\n      <td>Walmart</td>\n      <td>http://www.walmart.com</td>\n      <td>2300000</td>\n      <td>Retailing</td>\n      <td>General Merchandisers</td>\n      <td>Bentonville, AR</td>\n      <td>702 S.W. Eighth St.</td>\n      <td>Bentonville</td>\n      <td>AR</td>\n      <td>...</td>\n      <td>President, Chief Executive Officer &amp; Director</td>\n      <td>702 S.W. Eighth St., Bentonville, AR 72716</td>\n      <td>WMT</td>\n      <td>Wal-Mart Stores, Inc.</td>\n      <td>485873</td>\n      <td>0.8</td>\n      <td>13643.0</td>\n      <td>-7.2</td>\n      <td>198825</td>\n      <td>77798.0</td>\n    </tr>\n  </tbody>\n</table>\n<p>1 rows × 23 columns</p>\n</div>"
     },
     "execution_count": 58,
     "metadata": {},
     "output_type": "execute_result"
    }
   ],
   "source": [
    "df.head(1)"
   ],
   "metadata": {
    "collapsed": false,
    "pycharm": {
     "name": "#%%\n"
    }
   }
  },
  {
   "cell_type": "code",
   "execution_count": 58,
   "outputs": [],
   "source": [],
   "metadata": {
    "collapsed": false,
    "pycharm": {
     "name": "#%%\n"
    }
   }
  },
  {
   "cell_type": "code",
   "execution_count": 58,
   "outputs": [],
   "source": [],
   "metadata": {
    "collapsed": false,
    "pycharm": {
     "name": "#%%\n"
    }
   }
  },
  {
   "cell_type": "code",
   "execution_count": 58,
   "outputs": [],
   "source": [],
   "metadata": {
    "collapsed": false,
    "pycharm": {
     "name": "#%%\n"
    }
   }
  },
  {
   "cell_type": "code",
   "execution_count": 58,
   "outputs": [],
   "source": [],
   "metadata": {
    "collapsed": false,
    "pycharm": {
     "name": "#%%\n"
    }
   }
  },
  {
   "cell_type": "code",
   "execution_count": 58,
   "outputs": [],
   "source": [],
   "metadata": {
    "collapsed": false,
    "pycharm": {
     "name": "#%%\n"
    }
   }
  },
  {
   "cell_type": "code",
   "execution_count": 58,
   "outputs": [],
   "source": [],
   "metadata": {
    "collapsed": false,
    "pycharm": {
     "name": "#%%\n"
    }
   }
  },
  {
   "cell_type": "code",
   "execution_count": 58,
   "outputs": [],
   "source": [],
   "metadata": {
    "collapsed": false,
    "pycharm": {
     "name": "#%%\n"
    }
   }
  },
  {
   "cell_type": "code",
   "execution_count": 58,
   "outputs": [],
   "source": [],
   "metadata": {
    "collapsed": false,
    "pycharm": {
     "name": "#%%\n"
    }
   }
  }
 ],
 "metadata": {
  "kernelspec": {
   "display_name": "Python 3",
   "language": "python",
   "name": "python3"
  },
  "language_info": {
   "codemirror_mode": {
    "name": "ipython",
    "version": 2
   },
   "file_extension": ".py",
   "mimetype": "text/x-python",
   "name": "python",
   "nbconvert_exporter": "python",
   "pygments_lexer": "ipython2",
   "version": "2.7.6"
  }
 },
 "nbformat": 4,
 "nbformat_minor": 0
}