{
 "cells": [
  {
   "cell_type": "code",
   "execution_count": 3,
   "metadata": {
    "collapsed": true
   },
   "outputs": [],
   "source": [
    "import pandas as pd"
   ]
  },
  {
   "cell_type": "code",
   "execution_count": 4,
   "outputs": [],
   "source": [
    "import os"
   ],
   "metadata": {
    "collapsed": false,
    "pycharm": {
     "name": "#%%\n"
    }
   }
  },
  {
   "cell_type": "code",
   "execution_count": 7,
   "outputs": [
    {
     "data": {
      "text/plain": "['A Comedy of Errors.csv',\n 'A Midsummer nights dream.csv',\n 'A Winters Tale.csv',\n 'Alls well that ends well.csv',\n 'Antony and Cleopatra.csv',\n 'As you like it.csv',\n 'combined_csv.csv',\n 'Coriolanus.csv',\n 'Cymbeline.csv',\n 'Hamlet.csv',\n 'Henry IV.csv',\n 'Henry V.csv',\n 'Henry VI Part 1.csv',\n 'Henry VI Part 2.csv',\n 'Henry VI Part 3.csv',\n 'Henry VIII.csv',\n 'Julius Caesar.csv',\n 'King John.csv',\n 'King Lear.csv',\n 'Loves Labours Lost.csv',\n 'macbeth.csv',\n 'Measure for measure.csv',\n 'Merchant of Venice.csv',\n 'Merry Wives of Windsor.csv',\n 'Much Ado about nothing.csv',\n 'Othello.csv',\n 'Pericles.csv',\n 'Richard II.csv',\n 'Richard III.csv',\n 'Romeo and Juliet.csv',\n 'Taming of the Shrew.csv',\n 'The Tempest.csv',\n 'Timon of Athens.csv',\n 'Titus Andronicus.csv',\n 'Troilus and Cressida.csv',\n 'Twelfth Night.csv',\n 'Two Gentlemen of Verona.csv']"
     },
     "execution_count": 7,
     "metadata": {},
     "output_type": "execute_result"
    }
   ],
   "source": [
    "os.listdir(\"obras\")"
   ],
   "metadata": {
    "collapsed": false,
    "pycharm": {
     "name": "#%%\n"
    }
   }
  },
  {
   "cell_type": "code",
   "execution_count": 9,
   "outputs": [],
   "source": [
    "path=\"obras\"\n",
    "files=[os.path.join(path,file)for file in os.listdir(path)]"
   ],
   "metadata": {
    "collapsed": false,
    "pycharm": {
     "name": "#%%\n"
    }
   }
  },
  {
   "cell_type": "code",
   "execution_count": 10,
   "outputs": [
    {
     "name": "stdout",
     "output_type": "stream",
     "text": [
      "['obras\\\\A Comedy of Errors.csv', 'obras\\\\A Midsummer nights dream.csv', 'obras\\\\A Winters Tale.csv', 'obras\\\\Alls well that ends well.csv', 'obras\\\\Antony and Cleopatra.csv', 'obras\\\\As you like it.csv', 'obras\\\\combined_csv.csv', 'obras\\\\Coriolanus.csv', 'obras\\\\Cymbeline.csv', 'obras\\\\Hamlet.csv', 'obras\\\\Henry IV.csv', 'obras\\\\Henry V.csv', 'obras\\\\Henry VI Part 1.csv', 'obras\\\\Henry VI Part 2.csv', 'obras\\\\Henry VI Part 3.csv', 'obras\\\\Henry VIII.csv', 'obras\\\\Julius Caesar.csv', 'obras\\\\King John.csv', 'obras\\\\King Lear.csv', 'obras\\\\Loves Labours Lost.csv', 'obras\\\\macbeth.csv', 'obras\\\\Measure for measure.csv', 'obras\\\\Merchant of Venice.csv', 'obras\\\\Merry Wives of Windsor.csv', 'obras\\\\Much Ado about nothing.csv', 'obras\\\\Othello.csv', 'obras\\\\Pericles.csv', 'obras\\\\Richard II.csv', 'obras\\\\Richard III.csv', 'obras\\\\Romeo and Juliet.csv', 'obras\\\\Taming of the Shrew.csv', 'obras\\\\The Tempest.csv', 'obras\\\\Timon of Athens.csv', 'obras\\\\Titus Andronicus.csv', 'obras\\\\Troilus and Cressida.csv', 'obras\\\\Twelfth Night.csv', 'obras\\\\Two Gentlemen of Verona.csv']\n"
     ]
    }
   ],
   "source": [
    "print(files)\n"
   ],
   "metadata": {
    "collapsed": false,
    "pycharm": {
     "name": "#%%\n"
    }
   }
  },
  {
   "cell_type": "code",
   "execution_count": 12,
   "outputs": [],
   "source": [
    "df=pd.concat(map(pd.read_csv,files),ignore_index=True)"
   ],
   "metadata": {
    "collapsed": false,
    "pycharm": {
     "name": "#%%\n"
    }
   }
  },
  {
   "cell_type": "code",
   "execution_count": 14,
   "outputs": [],
   "source": [],
   "metadata": {
    "collapsed": false,
    "pycharm": {
     "name": "#%%\n"
    }
   }
  },
  {
   "cell_type": "code",
   "execution_count": 14,
   "outputs": [
    {
     "data": {
      "text/plain": "         Unnamed: 0  Dataline                     Play  PlayerLinenumber  \\\n0             22427     22428       A Comedy of Errors             132.0   \n1             22428     22429       A Comedy of Errors             132.0   \n2             22429     22430       A Comedy of Errors             132.0   \n3             22430     22431       A Comedy of Errors               1.0   \n4             22431     22432       A Comedy of Errors               1.0   \n...             ...       ...                      ...               ...   \n1002559      107902    107903  Two Gentlemen of Verona              52.0   \n1002560      107903    107904  Two Gentlemen of Verona              52.0   \n1002561      107904    107905  Two Gentlemen of Verona              52.0   \n1002562      107905    107906  Two Gentlemen of Verona              52.0   \n1002563      107906    107907  Two Gentlemen of Verona              52.0   \n\n        ActSceneLine           Player  \\\n0                NaN  OCTAVIUS CAESAR   \n1                NaN  OCTAVIUS CAESAR   \n2                NaN  OCTAVIUS CAESAR   \n3              1.1.1           AEGEON   \n4              1.1.2           AEGEON   \n...              ...              ...   \n1002559      5.4.177        VALENTINE   \n1002560      5.4.178        VALENTINE   \n1002561      5.4.179        VALENTINE   \n1002562      5.4.180        VALENTINE   \n1002563          NaN        VALENTINE   \n\n                                                PlayerLine  \n0                                                    ACT I  \n1                SCENE I. A hall in DUKE SOLINUS'S palace.  \n2        Enter DUKE SOLINUS, AEGEON, Gaoler, Officers, ...  \n3                     Proceed, Solinus, to procure my fall  \n4               And by the doom of death end woes and all.  \n...                                                    ...  \n1002559       Come, Proteus, 'tis your penance but to hear  \n1002560                The story of your loves discovered:  \n1002561     That done, our day of marriage shall be yours,  \n1002562        One feast, one house, one mutual happiness.  \n1002563                                             Exeunt  \n\n[1002564 rows x 7 columns]",
      "text/html": "<div>\n<style scoped>\n    .dataframe tbody tr th:only-of-type {\n        vertical-align: middle;\n    }\n\n    .dataframe tbody tr th {\n        vertical-align: top;\n    }\n\n    .dataframe thead th {\n        text-align: right;\n    }\n</style>\n<table border=\"1\" class=\"dataframe\">\n  <thead>\n    <tr style=\"text-align: right;\">\n      <th></th>\n      <th>Unnamed: 0</th>\n      <th>Dataline</th>\n      <th>Play</th>\n      <th>PlayerLinenumber</th>\n      <th>ActSceneLine</th>\n      <th>Player</th>\n      <th>PlayerLine</th>\n    </tr>\n  </thead>\n  <tbody>\n    <tr>\n      <th>0</th>\n      <td>22427</td>\n      <td>22428</td>\n      <td>A Comedy of Errors</td>\n      <td>132.0</td>\n      <td>NaN</td>\n      <td>OCTAVIUS CAESAR</td>\n      <td>ACT I</td>\n    </tr>\n    <tr>\n      <th>1</th>\n      <td>22428</td>\n      <td>22429</td>\n      <td>A Comedy of Errors</td>\n      <td>132.0</td>\n      <td>NaN</td>\n      <td>OCTAVIUS CAESAR</td>\n      <td>SCENE I. A hall in DUKE SOLINUS'S palace.</td>\n    </tr>\n    <tr>\n      <th>2</th>\n      <td>22429</td>\n      <td>22430</td>\n      <td>A Comedy of Errors</td>\n      <td>132.0</td>\n      <td>NaN</td>\n      <td>OCTAVIUS CAESAR</td>\n      <td>Enter DUKE SOLINUS, AEGEON, Gaoler, Officers, ...</td>\n    </tr>\n    <tr>\n      <th>3</th>\n      <td>22430</td>\n      <td>22431</td>\n      <td>A Comedy of Errors</td>\n      <td>1.0</td>\n      <td>1.1.1</td>\n      <td>AEGEON</td>\n      <td>Proceed, Solinus, to procure my fall</td>\n    </tr>\n    <tr>\n      <th>4</th>\n      <td>22431</td>\n      <td>22432</td>\n      <td>A Comedy of Errors</td>\n      <td>1.0</td>\n      <td>1.1.2</td>\n      <td>AEGEON</td>\n      <td>And by the doom of death end woes and all.</td>\n    </tr>\n    <tr>\n      <th>...</th>\n      <td>...</td>\n      <td>...</td>\n      <td>...</td>\n      <td>...</td>\n      <td>...</td>\n      <td>...</td>\n      <td>...</td>\n    </tr>\n    <tr>\n      <th>1002559</th>\n      <td>107902</td>\n      <td>107903</td>\n      <td>Two Gentlemen of Verona</td>\n      <td>52.0</td>\n      <td>5.4.177</td>\n      <td>VALENTINE</td>\n      <td>Come, Proteus, 'tis your penance but to hear</td>\n    </tr>\n    <tr>\n      <th>1002560</th>\n      <td>107903</td>\n      <td>107904</td>\n      <td>Two Gentlemen of Verona</td>\n      <td>52.0</td>\n      <td>5.4.178</td>\n      <td>VALENTINE</td>\n      <td>The story of your loves discovered:</td>\n    </tr>\n    <tr>\n      <th>1002561</th>\n      <td>107904</td>\n      <td>107905</td>\n      <td>Two Gentlemen of Verona</td>\n      <td>52.0</td>\n      <td>5.4.179</td>\n      <td>VALENTINE</td>\n      <td>That done, our day of marriage shall be yours,</td>\n    </tr>\n    <tr>\n      <th>1002562</th>\n      <td>107905</td>\n      <td>107906</td>\n      <td>Two Gentlemen of Verona</td>\n      <td>52.0</td>\n      <td>5.4.180</td>\n      <td>VALENTINE</td>\n      <td>One feast, one house, one mutual happiness.</td>\n    </tr>\n    <tr>\n      <th>1002563</th>\n      <td>107906</td>\n      <td>107907</td>\n      <td>Two Gentlemen of Verona</td>\n      <td>52.0</td>\n      <td>NaN</td>\n      <td>VALENTINE</td>\n      <td>Exeunt</td>\n    </tr>\n  </tbody>\n</table>\n<p>1002564 rows × 7 columns</p>\n</div>"
     },
     "execution_count": 14,
     "metadata": {},
     "output_type": "execute_result"
    }
   ],
   "source": [
    "df"
   ],
   "metadata": {
    "collapsed": false,
    "pycharm": {
     "name": "#%%\n"
    }
   }
  },
  {
   "cell_type": "code",
   "execution_count": 18,
   "outputs": [],
   "source": [],
   "metadata": {
    "collapsed": false,
    "pycharm": {
     "name": "#%%\n"
    }
   }
  },
  {
   "cell_type": "code",
   "execution_count": null,
   "outputs": [],
   "source": [],
   "metadata": {
    "collapsed": false,
    "pycharm": {
     "name": "#%%\n"
    }
   }
  }
 ],
 "metadata": {
  "kernelspec": {
   "display_name": "Python 3",
   "language": "python",
   "name": "python3"
  },
  "language_info": {
   "codemirror_mode": {
    "name": "ipython",
    "version": 2
   },
   "file_extension": ".py",
   "mimetype": "text/x-python",
   "name": "python",
   "nbconvert_exporter": "python",
   "pygments_lexer": "ipython2",
   "version": "2.7.6"
  }
 },
 "nbformat": 4,
 "nbformat_minor": 0
}