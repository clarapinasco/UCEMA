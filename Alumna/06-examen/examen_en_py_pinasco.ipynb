{
 "cells": [
  {
   "cell_type": "code",
   "execution_count": 11,
   "id": "1ac29c78",
   "metadata": {},
   "outputs": [],
   "source": [
    "import pandas as pd\n",
    "import matplotlib.pyplot as plt\n",
    "import seaborn as sns\n",
    "import numpy as n"
   ]
  },
  {
   "cell_type": "code",
   "execution_count": 12,
   "id": "d3c6c2a1",
   "metadata": {},
   "outputs": [
    {
     "data": {
      "text/plain": "       Unnamed: 0     Nro Comprobante       Fecha        Total  ID_cliente\n0               0  FAC B0001-00000001  2015-12-10         1.00       675.0\n1               1  FAC B0001-00000002  2015-12-10         1.00       675.0\n2               2  FAC B0001-00000003  2015-12-28       999.99       123.0\n3               3  FAC B0001-00000004  2015-12-28        34.21       123.0\n4               4  FAC B0001-00000005  2015-12-28         0.71       123.0\n...           ...                 ...         ...          ...         ...\n41329       41329  REC X0099-00006794  2018-09-04      2446.00        12.0\n41330       41330  REC X0099-00006794  2014-09-04          NaN         NaN\n41331       41331  REC X0099-00006794  2014-09-04          NaN         NaN\n41332       41333  REC X0099-00006794  2022-09-04          NaN         NaN\n41333       41334  REC X0099-00006794  2022-03-01  10000000.00         NaN\n\n[41334 rows x 5 columns]",
      "text/html": "<div>\n<style scoped>\n    .dataframe tbody tr th:only-of-type {\n        vertical-align: middle;\n    }\n\n    .dataframe tbody tr th {\n        vertical-align: top;\n    }\n\n    .dataframe thead th {\n        text-align: right;\n    }\n</style>\n<table border=\"1\" class=\"dataframe\">\n  <thead>\n    <tr style=\"text-align: right;\">\n      <th></th>\n      <th>Unnamed: 0</th>\n      <th>Nro Comprobante</th>\n      <th>Fecha</th>\n      <th>Total</th>\n      <th>ID_cliente</th>\n    </tr>\n  </thead>\n  <tbody>\n    <tr>\n      <th>0</th>\n      <td>0</td>\n      <td>FAC B0001-00000001</td>\n      <td>2015-12-10</td>\n      <td>1.00</td>\n      <td>675.0</td>\n    </tr>\n    <tr>\n      <th>1</th>\n      <td>1</td>\n      <td>FAC B0001-00000002</td>\n      <td>2015-12-10</td>\n      <td>1.00</td>\n      <td>675.0</td>\n    </tr>\n    <tr>\n      <th>2</th>\n      <td>2</td>\n      <td>FAC B0001-00000003</td>\n      <td>2015-12-28</td>\n      <td>999.99</td>\n      <td>123.0</td>\n    </tr>\n    <tr>\n      <th>3</th>\n      <td>3</td>\n      <td>FAC B0001-00000004</td>\n      <td>2015-12-28</td>\n      <td>34.21</td>\n      <td>123.0</td>\n    </tr>\n    <tr>\n      <th>4</th>\n      <td>4</td>\n      <td>FAC B0001-00000005</td>\n      <td>2015-12-28</td>\n      <td>0.71</td>\n      <td>123.0</td>\n    </tr>\n    <tr>\n      <th>...</th>\n      <td>...</td>\n      <td>...</td>\n      <td>...</td>\n      <td>...</td>\n      <td>...</td>\n    </tr>\n    <tr>\n      <th>41329</th>\n      <td>41329</td>\n      <td>REC X0099-00006794</td>\n      <td>2018-09-04</td>\n      <td>2446.00</td>\n      <td>12.0</td>\n    </tr>\n    <tr>\n      <th>41330</th>\n      <td>41330</td>\n      <td>REC X0099-00006794</td>\n      <td>2014-09-04</td>\n      <td>NaN</td>\n      <td>NaN</td>\n    </tr>\n    <tr>\n      <th>41331</th>\n      <td>41331</td>\n      <td>REC X0099-00006794</td>\n      <td>2014-09-04</td>\n      <td>NaN</td>\n      <td>NaN</td>\n    </tr>\n    <tr>\n      <th>41332</th>\n      <td>41333</td>\n      <td>REC X0099-00006794</td>\n      <td>2022-09-04</td>\n      <td>NaN</td>\n      <td>NaN</td>\n    </tr>\n    <tr>\n      <th>41333</th>\n      <td>41334</td>\n      <td>REC X0099-00006794</td>\n      <td>2022-03-01</td>\n      <td>10000000.00</td>\n      <td>NaN</td>\n    </tr>\n  </tbody>\n</table>\n<p>41334 rows × 5 columns</p>\n</div>"
     },
     "execution_count": 12,
     "metadata": {},
     "output_type": "execute_result"
    }
   ],
   "source": [
    "recibos= pd.read_csv(\"recibos_facts_debitos.csv\")\n",
    "recibos"
   ]
  },
  {
   "cell_type": "code",
   "execution_count": 4,
   "id": "ac476839",
   "metadata": {},
   "outputs": [
    {
     "data": {
      "text/plain": "          Nro Comprobante       Fecha        Total  ID_cliente\n0      FAC B0001-00000001  2015-12-10         1.00       675.0\n1      FAC B0001-00000002  2015-12-10         1.00       675.0\n2      FAC B0001-00000003  2015-12-28       999.99       123.0\n3      FAC B0001-00000004  2015-12-28        34.21       123.0\n4      FAC B0001-00000005  2015-12-28         0.71       123.0\n...                   ...         ...          ...         ...\n41329  REC X0099-00006794  2018-09-04      2446.00        12.0\n41330  REC X0099-00006794  2014-09-04          NaN         NaN\n41331  REC X0099-00006794  2014-09-04          NaN         NaN\n41332  REC X0099-00006794  2022-09-04          NaN         NaN\n41333  REC X0099-00006794  2022-03-01  10000000.00         NaN\n\n[41334 rows x 4 columns]",
      "text/html": "<div>\n<style scoped>\n    .dataframe tbody tr th:only-of-type {\n        vertical-align: middle;\n    }\n\n    .dataframe tbody tr th {\n        vertical-align: top;\n    }\n\n    .dataframe thead th {\n        text-align: right;\n    }\n</style>\n<table border=\"1\" class=\"dataframe\">\n  <thead>\n    <tr style=\"text-align: right;\">\n      <th></th>\n      <th>Nro Comprobante</th>\n      <th>Fecha</th>\n      <th>Total</th>\n      <th>ID_cliente</th>\n    </tr>\n  </thead>\n  <tbody>\n    <tr>\n      <th>0</th>\n      <td>FAC B0001-00000001</td>\n      <td>2015-12-10</td>\n      <td>1.00</td>\n      <td>675.0</td>\n    </tr>\n    <tr>\n      <th>1</th>\n      <td>FAC B0001-00000002</td>\n      <td>2015-12-10</td>\n      <td>1.00</td>\n      <td>675.0</td>\n    </tr>\n    <tr>\n      <th>2</th>\n      <td>FAC B0001-00000003</td>\n      <td>2015-12-28</td>\n      <td>999.99</td>\n      <td>123.0</td>\n    </tr>\n    <tr>\n      <th>3</th>\n      <td>FAC B0001-00000004</td>\n      <td>2015-12-28</td>\n      <td>34.21</td>\n      <td>123.0</td>\n    </tr>\n    <tr>\n      <th>4</th>\n      <td>FAC B0001-00000005</td>\n      <td>2015-12-28</td>\n      <td>0.71</td>\n      <td>123.0</td>\n    </tr>\n    <tr>\n      <th>...</th>\n      <td>...</td>\n      <td>...</td>\n      <td>...</td>\n      <td>...</td>\n    </tr>\n    <tr>\n      <th>41329</th>\n      <td>REC X0099-00006794</td>\n      <td>2018-09-04</td>\n      <td>2446.00</td>\n      <td>12.0</td>\n    </tr>\n    <tr>\n      <th>41330</th>\n      <td>REC X0099-00006794</td>\n      <td>2014-09-04</td>\n      <td>NaN</td>\n      <td>NaN</td>\n    </tr>\n    <tr>\n      <th>41331</th>\n      <td>REC X0099-00006794</td>\n      <td>2014-09-04</td>\n      <td>NaN</td>\n      <td>NaN</td>\n    </tr>\n    <tr>\n      <th>41332</th>\n      <td>REC X0099-00006794</td>\n      <td>2022-09-04</td>\n      <td>NaN</td>\n      <td>NaN</td>\n    </tr>\n    <tr>\n      <th>41333</th>\n      <td>REC X0099-00006794</td>\n      <td>2022-03-01</td>\n      <td>10000000.00</td>\n      <td>NaN</td>\n    </tr>\n  </tbody>\n</table>\n<p>41334 rows × 4 columns</p>\n</div>"
     },
     "execution_count": 4,
     "metadata": {},
     "output_type": "execute_result"
    }
   ],
   "source": [
    "recibos=recibos.drop(recibos.columns[0], axis='columns')\n",
    "recibos"
   ]
  },
  {
   "cell_type": "code",
   "execution_count": 46,
   "id": "49bb6c82",
   "metadata": {},
   "outputs": [],
   "source": [
    "# Cantidad de rows y columnas."
   ]
  },
  {
   "cell_type": "code",
   "execution_count": 57,
   "id": "6886c0a8",
   "metadata": {
    "scrolled": true
   },
   "outputs": [
    {
     "data": {
      "text/plain": [
       "(41334, 5)"
      ]
     },
     "execution_count": 57,
     "metadata": {},
     "output_type": "execute_result"
    }
   ],
   "source": [
    "recibos.shape"
   ]
  },
  {
   "cell_type": "code",
   "execution_count": 48,
   "id": "d136156d",
   "metadata": {},
   "outputs": [],
   "source": [
    "# Clases de datos"
   ]
  },
  {
   "cell_type": "code",
   "execution_count": 58,
   "id": "432f33ce",
   "metadata": {},
   "outputs": [
    {
     "data": {
      "text/plain": [
       "Unnamed: 0           int64\n",
       "Nro Comprobante     object\n",
       "Fecha               object\n",
       "Total              float64\n",
       "ID_cliente         float64\n",
       "dtype: object"
      ]
     },
     "execution_count": 58,
     "metadata": {},
     "output_type": "execute_result"
    }
   ],
   "source": [
    "recibos.dtypes"
   ]
  },
  {
   "cell_type": "code",
   "execution_count": 50,
   "id": "22f58ca4",
   "metadata": {},
   "outputs": [],
   "source": [
    "#Muestre la cantidad de faltantes por columnas\n"
   ]
  },
  {
   "cell_type": "code",
   "execution_count": 59,
   "id": "9bfd29d8",
   "metadata": {},
   "outputs": [
    {
     "data": {
      "text/plain": [
       "Unnamed: 0         0\n",
       "Nro Comprobante    0\n",
       "Fecha              0\n",
       "Total              3\n",
       "ID_cliente         4\n",
       "dtype: int64"
      ]
     },
     "execution_count": 59,
     "metadata": {},
     "output_type": "execute_result"
    }
   ],
   "source": [
    "recibos.isna().sum()"
   ]
  },
  {
   "cell_type": "code",
   "execution_count": 52,
   "id": "e4ebacd2",
   "metadata": {},
   "outputs": [],
   "source": [
    "#Que porcentaje de faltantes hay\n",
    "#hay un porcentaje de 0,1%"
   ]
  },
  {
   "cell_type": "code",
   "execution_count": 53,
   "id": "20f5cf5e",
   "metadata": {},
   "outputs": [
    {
     "data": {
      "text/plain": [
       "0.016935210722407702"
      ]
     },
     "execution_count": 53,
     "metadata": {},
     "output_type": "execute_result"
    }
   ],
   "source": [
    "7/len(recibos)*100\n"
   ]
  },
  {
   "cell_type": "code",
   "execution_count": 54,
   "id": "3ec5ba61",
   "metadata": {},
   "outputs": [],
   "source": [
    "#Muestre las filas con datos faltantes\n"
   ]
  },
  {
   "cell_type": "code",
   "execution_count": 10,
   "id": "da92317e",
   "metadata": {},
   "outputs": [
    {
     "data": {
      "text/plain": "       Nro Comprobante  Fecha  Total  ID_cliente\n0                False  False  False       False\n1                False  False  False       False\n2                False  False  False       False\n3                False  False  False       False\n4                False  False  False       False\n...                ...    ...    ...         ...\n41329            False  False  False       False\n41330            False  False   True        True\n41331            False  False   True        True\n41332            False  False   True        True\n41333            False  False  False        True\n\n[41334 rows x 4 columns]",
      "text/html": "<div>\n<style scoped>\n    .dataframe tbody tr th:only-of-type {\n        vertical-align: middle;\n    }\n\n    .dataframe tbody tr th {\n        vertical-align: top;\n    }\n\n    .dataframe thead th {\n        text-align: right;\n    }\n</style>\n<table border=\"1\" class=\"dataframe\">\n  <thead>\n    <tr style=\"text-align: right;\">\n      <th></th>\n      <th>Nro Comprobante</th>\n      <th>Fecha</th>\n      <th>Total</th>\n      <th>ID_cliente</th>\n    </tr>\n  </thead>\n  <tbody>\n    <tr>\n      <th>0</th>\n      <td>False</td>\n      <td>False</td>\n      <td>False</td>\n      <td>False</td>\n    </tr>\n    <tr>\n      <th>1</th>\n      <td>False</td>\n      <td>False</td>\n      <td>False</td>\n      <td>False</td>\n    </tr>\n    <tr>\n      <th>2</th>\n      <td>False</td>\n      <td>False</td>\n      <td>False</td>\n      <td>False</td>\n    </tr>\n    <tr>\n      <th>3</th>\n      <td>False</td>\n      <td>False</td>\n      <td>False</td>\n      <td>False</td>\n    </tr>\n    <tr>\n      <th>4</th>\n      <td>False</td>\n      <td>False</td>\n      <td>False</td>\n      <td>False</td>\n    </tr>\n    <tr>\n      <th>...</th>\n      <td>...</td>\n      <td>...</td>\n      <td>...</td>\n      <td>...</td>\n    </tr>\n    <tr>\n      <th>41329</th>\n      <td>False</td>\n      <td>False</td>\n      <td>False</td>\n      <td>False</td>\n    </tr>\n    <tr>\n      <th>41330</th>\n      <td>False</td>\n      <td>False</td>\n      <td>True</td>\n      <td>True</td>\n    </tr>\n    <tr>\n      <th>41331</th>\n      <td>False</td>\n      <td>False</td>\n      <td>True</td>\n      <td>True</td>\n    </tr>\n    <tr>\n      <th>41332</th>\n      <td>False</td>\n      <td>False</td>\n      <td>True</td>\n      <td>True</td>\n    </tr>\n    <tr>\n      <th>41333</th>\n      <td>False</td>\n      <td>False</td>\n      <td>False</td>\n      <td>True</td>\n    </tr>\n  </tbody>\n</table>\n<p>41334 rows × 4 columns</p>\n</div>"
     },
     "execution_count": 10,
     "metadata": {},
     "output_type": "execute_result"
    }
   ],
   "source": [
    "filtro = recibos.isnull()\n",
    "filtro"
   ]
  },
  {
   "cell_type": "code",
   "execution_count": null,
   "id": "bfb8db15",
   "metadata": {},
   "outputs": [],
   "source": [
    "#Sí hay faltantes, ¿Cómo procederán a hacer el tratamiento de los mismos?\n",
    "#al faltar los ids, borro todos los registros con nans"
   ]
  },
  {
   "cell_type": "code",
   "execution_count": 62,
   "id": "d0d42ad2",
   "metadata": {},
   "outputs": [
    {
     "data": {
      "text/html": [
       "<div>\n",
       "<style scoped>\n",
       "    .dataframe tbody tr th:only-of-type {\n",
       "        vertical-align: middle;\n",
       "    }\n",
       "\n",
       "    .dataframe tbody tr th {\n",
       "        vertical-align: top;\n",
       "    }\n",
       "\n",
       "    .dataframe thead th {\n",
       "        text-align: right;\n",
       "    }\n",
       "</style>\n",
       "<table border=\"1\" class=\"dataframe\">\n",
       "  <thead>\n",
       "    <tr style=\"text-align: right;\">\n",
       "      <th></th>\n",
       "      <th>Unnamed: 0</th>\n",
       "      <th>Nro Comprobante</th>\n",
       "      <th>Fecha</th>\n",
       "      <th>Total</th>\n",
       "      <th>ID_cliente</th>\n",
       "    </tr>\n",
       "  </thead>\n",
       "  <tbody>\n",
       "    <tr>\n",
       "      <th>0</th>\n",
       "      <td>0</td>\n",
       "      <td>FAC B0001-00000001</td>\n",
       "      <td>2015-12-10</td>\n",
       "      <td>1.00</td>\n",
       "      <td>675.0</td>\n",
       "    </tr>\n",
       "    <tr>\n",
       "      <th>1</th>\n",
       "      <td>1</td>\n",
       "      <td>FAC B0001-00000002</td>\n",
       "      <td>2015-12-10</td>\n",
       "      <td>1.00</td>\n",
       "      <td>675.0</td>\n",
       "    </tr>\n",
       "    <tr>\n",
       "      <th>2</th>\n",
       "      <td>2</td>\n",
       "      <td>FAC B0001-00000003</td>\n",
       "      <td>2015-12-28</td>\n",
       "      <td>999.99</td>\n",
       "      <td>123.0</td>\n",
       "    </tr>\n",
       "    <tr>\n",
       "      <th>3</th>\n",
       "      <td>3</td>\n",
       "      <td>FAC B0001-00000004</td>\n",
       "      <td>2015-12-28</td>\n",
       "      <td>34.21</td>\n",
       "      <td>123.0</td>\n",
       "    </tr>\n",
       "    <tr>\n",
       "      <th>4</th>\n",
       "      <td>4</td>\n",
       "      <td>FAC B0001-00000005</td>\n",
       "      <td>2015-12-28</td>\n",
       "      <td>0.71</td>\n",
       "      <td>123.0</td>\n",
       "    </tr>\n",
       "    <tr>\n",
       "      <th>...</th>\n",
       "      <td>...</td>\n",
       "      <td>...</td>\n",
       "      <td>...</td>\n",
       "      <td>...</td>\n",
       "      <td>...</td>\n",
       "    </tr>\n",
       "    <tr>\n",
       "      <th>41325</th>\n",
       "      <td>41325</td>\n",
       "      <td>REC X0099-00006791</td>\n",
       "      <td>2018-09-04</td>\n",
       "      <td>1000.00</td>\n",
       "      <td>931.0</td>\n",
       "    </tr>\n",
       "    <tr>\n",
       "      <th>41326</th>\n",
       "      <td>41326</td>\n",
       "      <td>REC X0099-00006792</td>\n",
       "      <td>2018-09-04</td>\n",
       "      <td>2550.00</td>\n",
       "      <td>650.0</td>\n",
       "    </tr>\n",
       "    <tr>\n",
       "      <th>41327</th>\n",
       "      <td>41327</td>\n",
       "      <td>REC X0099-00006793</td>\n",
       "      <td>2018-09-04</td>\n",
       "      <td>2900.00</td>\n",
       "      <td>528.0</td>\n",
       "    </tr>\n",
       "    <tr>\n",
       "      <th>41328</th>\n",
       "      <td>41328</td>\n",
       "      <td>REC X0099-00006794</td>\n",
       "      <td>2018-09-04</td>\n",
       "      <td>2446.00</td>\n",
       "      <td>12.0</td>\n",
       "    </tr>\n",
       "    <tr>\n",
       "      <th>41329</th>\n",
       "      <td>41329</td>\n",
       "      <td>REC X0099-00006794</td>\n",
       "      <td>2018-09-04</td>\n",
       "      <td>2446.00</td>\n",
       "      <td>12.0</td>\n",
       "    </tr>\n",
       "  </tbody>\n",
       "</table>\n",
       "<p>41330 rows × 5 columns</p>\n",
       "</div>"
      ],
      "text/plain": [
       "       Unnamed: 0     Nro Comprobante       Fecha    Total  ID_cliente\n",
       "0               0  FAC B0001-00000001  2015-12-10     1.00       675.0\n",
       "1               1  FAC B0001-00000002  2015-12-10     1.00       675.0\n",
       "2               2  FAC B0001-00000003  2015-12-28   999.99       123.0\n",
       "3               3  FAC B0001-00000004  2015-12-28    34.21       123.0\n",
       "4               4  FAC B0001-00000005  2015-12-28     0.71       123.0\n",
       "...           ...                 ...         ...      ...         ...\n",
       "41325       41325  REC X0099-00006791  2018-09-04  1000.00       931.0\n",
       "41326       41326  REC X0099-00006792  2018-09-04  2550.00       650.0\n",
       "41327       41327  REC X0099-00006793  2018-09-04  2900.00       528.0\n",
       "41328       41328  REC X0099-00006794  2018-09-04  2446.00        12.0\n",
       "41329       41329  REC X0099-00006794  2018-09-04  2446.00        12.0\n",
       "\n",
       "[41330 rows x 5 columns]"
      ]
     },
     "execution_count": 62,
     "metadata": {},
     "output_type": "execute_result"
    }
   ],
   "source": [
    "recibos=recibos.dropna()\n",
    "recibos"
   ]
  },
  {
   "cell_type": "code",
   "execution_count": 66,
   "id": "eff9b7d9",
   "metadata": {},
   "outputs": [
    {
     "data": {
      "text/html": [
       "<div>\n",
       "<style scoped>\n",
       "    .dataframe tbody tr th:only-of-type {\n",
       "        vertical-align: middle;\n",
       "    }\n",
       "\n",
       "    .dataframe tbody tr th {\n",
       "        vertical-align: top;\n",
       "    }\n",
       "\n",
       "    .dataframe thead th {\n",
       "        text-align: right;\n",
       "    }\n",
       "</style>\n",
       "<table border=\"1\" class=\"dataframe\">\n",
       "  <thead>\n",
       "    <tr style=\"text-align: right;\">\n",
       "      <th></th>\n",
       "      <th>Unnamed: 0</th>\n",
       "      <th>Total</th>\n",
       "      <th>ID_cliente</th>\n",
       "    </tr>\n",
       "  </thead>\n",
       "  <tbody>\n",
       "    <tr>\n",
       "      <th>count</th>\n",
       "      <td>41330.000000</td>\n",
       "      <td>41330.000000</td>\n",
       "      <td>41330.000000</td>\n",
       "    </tr>\n",
       "    <tr>\n",
       "      <th>mean</th>\n",
       "      <td>20664.500000</td>\n",
       "      <td>1060.510129</td>\n",
       "      <td>483.246141</td>\n",
       "    </tr>\n",
       "    <tr>\n",
       "      <th>std</th>\n",
       "      <td>11931.087649</td>\n",
       "      <td>1300.033900</td>\n",
       "      <td>274.816781</td>\n",
       "    </tr>\n",
       "    <tr>\n",
       "      <th>min</th>\n",
       "      <td>0.000000</td>\n",
       "      <td>0.000000</td>\n",
       "      <td>0.000000</td>\n",
       "    </tr>\n",
       "    <tr>\n",
       "      <th>25%</th>\n",
       "      <td>10332.250000</td>\n",
       "      <td>331.430000</td>\n",
       "      <td>242.000000</td>\n",
       "    </tr>\n",
       "    <tr>\n",
       "      <th>50%</th>\n",
       "      <td>20664.500000</td>\n",
       "      <td>998.980000</td>\n",
       "      <td>476.000000</td>\n",
       "    </tr>\n",
       "    <tr>\n",
       "      <th>75%</th>\n",
       "      <td>30996.750000</td>\n",
       "      <td>1000.000000</td>\n",
       "      <td>733.000000</td>\n",
       "    </tr>\n",
       "    <tr>\n",
       "      <th>max</th>\n",
       "      <td>41329.000000</td>\n",
       "      <td>56000.000000</td>\n",
       "      <td>964.000000</td>\n",
       "    </tr>\n",
       "  </tbody>\n",
       "</table>\n",
       "</div>"
      ],
      "text/plain": [
       "         Unnamed: 0         Total    ID_cliente\n",
       "count  41330.000000  41330.000000  41330.000000\n",
       "mean   20664.500000   1060.510129    483.246141\n",
       "std    11931.087649   1300.033900    274.816781\n",
       "min        0.000000      0.000000      0.000000\n",
       "25%    10332.250000    331.430000    242.000000\n",
       "50%    20664.500000    998.980000    476.000000\n",
       "75%    30996.750000   1000.000000    733.000000\n",
       "max    41329.000000  56000.000000    964.000000"
      ]
     },
     "execution_count": 66,
     "metadata": {},
     "output_type": "execute_result"
    }
   ],
   "source": [
    "recibos.describe()"
   ]
  },
  {
   "cell_type": "code",
   "execution_count": 64,
   "id": "70a6a053",
   "metadata": {},
   "outputs": [
    {
     "name": "stderr",
     "output_type": "stream",
     "text": [
      "/usr/local/lib/python3.8/dist-packages/seaborn/_decorators.py:36: FutureWarning: Pass the following variable as a keyword arg: x. From version 0.12, the only valid positional argument will be `data`, and passing other arguments without an explicit keyword will result in an error or misinterpretation.\n",
      "  warnings.warn(\n"
     ]
    },
    {
     "data": {
      "text/plain": [
       "<AxesSubplot:xlabel='Total'>"
      ]
     },
     "execution_count": 64,
     "metadata": {},
     "output_type": "execute_result"
    },
    {
     "data": {
      "image/png": "[encoded data removed]",
      "text/plain": [
       "<Figure size 432x288 with 1 Axes>"
      ]
     },
     "metadata": {
      "needs_background": "light"
     },
     "output_type": "display_data"
    }
   ],
   "source": [
    "sns.boxplot(recibos.Total)\n",
    "#con este grafico podemos detectar un outlier"
   ]
  },
  {
   "cell_type": "code",
   "execution_count": 67,
   "id": "81aa097c",
   "metadata": {},
   "outputs": [
    {
     "data": {
      "text/plain": [
       "Index(['Unnamed: 0', 'Nro Comprobante', 'Fecha', 'Total', 'ID_cliente'], dtype='object')"
      ]
     },
     "execution_count": 67,
     "metadata": {},
     "output_type": "execute_result"
    }
   ],
   "source": [
    "#Cambie el nombre de las columnas a \"nro_comprobante\",\"fecha\",\"monto\",\"id_cliente\"\n",
    "recibos.columns"
   ]
  },
  {
   "cell_type": "code",
   "execution_count": 72,
   "id": "ea657b36",
   "metadata": {},
   "outputs": [],
   "source": [
    "recibos.rename(columns = {'Nro Comprobante':'nro_comprobante', 'Fecha':'fecha',\"ID_cliente\":\"id_cliente\",\"Total\":\"monto\"}, inplace = True)"
   ]
  },
  {
   "cell_type": "code",
   "execution_count": null,
   "id": "bd8f048c",
   "metadata": {},
   "outputs": [],
   "source": [
    "#cuanto clientes unicos hay"
   ]
  },
  {
   "cell_type": "code",
   "execution_count": 73,
   "id": "cb7d7671",
   "metadata": {},
   "outputs": [
    {
     "data": {
      "text/plain": [
       "965"
      ]
     },
     "execution_count": 73,
     "metadata": {},
     "output_type": "execute_result"
    }
   ],
   "source": [
    "recibos.id_cliente.nunique()"
   ]
  },
  {
   "cell_type": "code",
   "execution_count": null,
   "id": "8588a073",
   "metadata": {},
   "outputs": [],
   "source": [
    "#Cree una nueva columna que llamada “tipo” que consista en agarrar la columna\n",
    "“nro_comprobante” y separar el primer string dejando sólo si es recibo, factura, nota\n",
    "de débito o nota de crédito."
   ]
  },
  {
   "cell_type": "code",
   "execution_count": 78,
   "id": "fe918786",
   "metadata": {},
   "outputs": [],
   "source": [
    "nueva=recibos.nro_comprobante.apply(lambda x:x.split(\" \")[0])"
   ]
  },
  {
   "cell_type": "code",
   "execution_count": 80,
   "id": "55537a23",
   "metadata": {},
   "outputs": [
    {
     "data": {
      "text/html": [
       "<div>\n",
       "<style scoped>\n",
       "    .dataframe tbody tr th:only-of-type {\n",
       "        vertical-align: middle;\n",
       "    }\n",
       "\n",
       "    .dataframe tbody tr th {\n",
       "        vertical-align: top;\n",
       "    }\n",
       "\n",
       "    .dataframe thead th {\n",
       "        text-align: right;\n",
       "    }\n",
       "</style>\n",
       "<table border=\"1\" class=\"dataframe\">\n",
       "  <thead>\n",
       "    <tr style=\"text-align: right;\">\n",
       "      <th></th>\n",
       "      <th>Unnamed: 0</th>\n",
       "      <th>nro_comprobante</th>\n",
       "      <th>fecha</th>\n",
       "      <th>monto</th>\n",
       "      <th>id_cliente</th>\n",
       "      <th>tipo</th>\n",
       "    </tr>\n",
       "  </thead>\n",
       "  <tbody>\n",
       "    <tr>\n",
       "      <th>0</th>\n",
       "      <td>0</td>\n",
       "      <td>FAC B0001-00000001</td>\n",
       "      <td>2015-12-10</td>\n",
       "      <td>1.00</td>\n",
       "      <td>675.0</td>\n",
       "      <td>FAC</td>\n",
       "    </tr>\n",
       "    <tr>\n",
       "      <th>1</th>\n",
       "      <td>1</td>\n",
       "      <td>FAC B0001-00000002</td>\n",
       "      <td>2015-12-10</td>\n",
       "      <td>1.00</td>\n",
       "      <td>675.0</td>\n",
       "      <td>FAC</td>\n",
       "    </tr>\n",
       "    <tr>\n",
       "      <th>2</th>\n",
       "      <td>2</td>\n",
       "      <td>FAC B0001-00000003</td>\n",
       "      <td>2015-12-28</td>\n",
       "      <td>999.99</td>\n",
       "      <td>123.0</td>\n",
       "      <td>FAC</td>\n",
       "    </tr>\n",
       "    <tr>\n",
       "      <th>3</th>\n",
       "      <td>3</td>\n",
       "      <td>FAC B0001-00000004</td>\n",
       "      <td>2015-12-28</td>\n",
       "      <td>34.21</td>\n",
       "      <td>123.0</td>\n",
       "      <td>FAC</td>\n",
       "    </tr>\n",
       "    <tr>\n",
       "      <th>4</th>\n",
       "      <td>4</td>\n",
       "      <td>FAC B0001-00000005</td>\n",
       "      <td>2015-12-28</td>\n",
       "      <td>0.71</td>\n",
       "      <td>123.0</td>\n",
       "      <td>FAC</td>\n",
       "    </tr>\n",
       "    <tr>\n",
       "      <th>...</th>\n",
       "      <td>...</td>\n",
       "      <td>...</td>\n",
       "      <td>...</td>\n",
       "      <td>...</td>\n",
       "      <td>...</td>\n",
       "      <td>...</td>\n",
       "    </tr>\n",
       "    <tr>\n",
       "      <th>41325</th>\n",
       "      <td>41325</td>\n",
       "      <td>REC X0099-00006791</td>\n",
       "      <td>2018-09-04</td>\n",
       "      <td>1000.00</td>\n",
       "      <td>931.0</td>\n",
       "      <td>REC</td>\n",
       "    </tr>\n",
       "    <tr>\n",
       "      <th>41326</th>\n",
       "      <td>41326</td>\n",
       "      <td>REC X0099-00006792</td>\n",
       "      <td>2018-09-04</td>\n",
       "      <td>2550.00</td>\n",
       "      <td>650.0</td>\n",
       "      <td>REC</td>\n",
       "    </tr>\n",
       "    <tr>\n",
       "      <th>41327</th>\n",
       "      <td>41327</td>\n",
       "      <td>REC X0099-00006793</td>\n",
       "      <td>2018-09-04</td>\n",
       "      <td>2900.00</td>\n",
       "      <td>528.0</td>\n",
       "      <td>REC</td>\n",
       "    </tr>\n",
       "    <tr>\n",
       "      <th>41328</th>\n",
       "      <td>41328</td>\n",
       "      <td>REC X0099-00006794</td>\n",
       "      <td>2018-09-04</td>\n",
       "      <td>2446.00</td>\n",
       "      <td>12.0</td>\n",
       "      <td>REC</td>\n",
       "    </tr>\n",
       "    <tr>\n",
       "      <th>41329</th>\n",
       "      <td>41329</td>\n",
       "      <td>REC X0099-00006794</td>\n",
       "      <td>2018-09-04</td>\n",
       "      <td>2446.00</td>\n",
       "      <td>12.0</td>\n",
       "      <td>REC</td>\n",
       "    </tr>\n",
       "  </tbody>\n",
       "</table>\n",
       "<p>41330 rows × 6 columns</p>\n",
       "</div>"
      ],
      "text/plain": [
       "       Unnamed: 0     nro_comprobante       fecha    monto  id_cliente tipo\n",
       "0               0  FAC B0001-00000001  2015-12-10     1.00       675.0  FAC\n",
       "1               1  FAC B0001-00000002  2015-12-10     1.00       675.0  FAC\n",
       "2               2  FAC B0001-00000003  2015-12-28   999.99       123.0  FAC\n",
       "3               3  FAC B0001-00000004  2015-12-28    34.21       123.0  FAC\n",
       "4               4  FAC B0001-00000005  2015-12-28     0.71       123.0  FAC\n",
       "...           ...                 ...         ...      ...         ...  ...\n",
       "41325       41325  REC X0099-00006791  2018-09-04  1000.00       931.0  REC\n",
       "41326       41326  REC X0099-00006792  2018-09-04  2550.00       650.0  REC\n",
       "41327       41327  REC X0099-00006793  2018-09-04  2900.00       528.0  REC\n",
       "41328       41328  REC X0099-00006794  2018-09-04  2446.00        12.0  REC\n",
       "41329       41329  REC X0099-00006794  2018-09-04  2446.00        12.0  REC\n",
       "\n",
       "[41330 rows x 6 columns]"
      ]
     },
     "execution_count": 80,
     "metadata": {},
     "output_type": "execute_result"
    }
   ],
   "source": [
    "recibos[\"tipo\"]=nueva\n",
    "recibos"
   ]
  },
  {
   "cell_type": "code",
   "execution_count": null,
   "id": "c4b62375",
   "metadata": {},
   "outputs": [],
   "source": [
    "#Cuantos registros se tienen de cada uno?"
   ]
  },
  {
   "cell_type": "code",
   "execution_count": 87,
   "id": "16f72d10",
   "metadata": {},
   "outputs": [
    {
     "data": {
      "text/plain": [
       "N/D    15762\n",
       "REC    12207\n",
       "FAC    10974\n",
       "N/C     2387\n",
       "Name: nro_comprobante, dtype: int64"
      ]
     },
     "execution_count": 87,
     "metadata": {},
     "output_type": "execute_result"
    }
   ],
   "source": [
    "cantidad=recibos.tipo.value_counts()\n",
    "cantidad"
   ]
  },
  {
   "cell_type": "code",
   "execution_count": null,
   "id": "fa47136b",
   "metadata": {},
   "outputs": [],
   "source": [
    "#monto total de los recibo,monto total de las notas de débito,monto total de las notas de crédito ymonto total de lo facturado"
   ]
  },
  {
   "cell_type": "code",
   "execution_count": 88,
   "id": "ad5bccb6",
   "metadata": {},
   "outputs": [
    {
     "data": {
      "text/plain": [
       "nro_comprobante\n",
       "FAC     7598706.46\n",
       "N/C     1335102.12\n",
       "N/D     8204046.41\n",
       "REC    26693028.63\n",
       "Name: monto, dtype: float64"
      ]
     },
     "execution_count": 88,
     "metadata": {},
     "output_type": "execute_result"
    }
   ],
   "source": [
    "recibos.groupby(recibos.tipo)[\"monto\"].sum()"
   ]
  },
  {
   "cell_type": "code",
   "execution_count": 90,
   "id": "87cc1764",
   "metadata": {},
   "outputs": [],
   "source": [
    "recibos.fecha=pd.to_datetime(recibos.fecha)"
   ]
  },
  {
   "cell_type": "code",
   "execution_count": null,
   "id": "7b654469",
   "metadata": {},
   "outputs": [],
   "source": [
    "#Crear la columna año y mes"
   ]
  },
  {
   "cell_type": "code",
   "execution_count": 106,
   "id": "eae20c64",
   "metadata": {},
   "outputs": [
    {
     "data": {
      "text/html": [
       "<div>\n",
       "<style scoped>\n",
       "    .dataframe tbody tr th:only-of-type {\n",
       "        vertical-align: middle;\n",
       "    }\n",
       "\n",
       "    .dataframe tbody tr th {\n",
       "        vertical-align: top;\n",
       "    }\n",
       "\n",
       "    .dataframe thead th {\n",
       "        text-align: right;\n",
       "    }\n",
       "</style>\n",
       "<table border=\"1\" class=\"dataframe\">\n",
       "  <thead>\n",
       "    <tr style=\"text-align: right;\">\n",
       "      <th></th>\n",
       "      <th>Unnamed: 0</th>\n",
       "      <th>nro_comprobante</th>\n",
       "      <th>fecha</th>\n",
       "      <th>monto</th>\n",
       "      <th>id_cliente</th>\n",
       "      <th>tipo</th>\n",
       "      <th>year_month</th>\n",
       "    </tr>\n",
       "  </thead>\n",
       "  <tbody>\n",
       "    <tr>\n",
       "      <th>0</th>\n",
       "      <td>0</td>\n",
       "      <td>FAC B0001-00000001</td>\n",
       "      <td>2015-12-10</td>\n",
       "      <td>1.00</td>\n",
       "      <td>675.0</td>\n",
       "      <td>FAC</td>\n",
       "      <td>2015-12</td>\n",
       "    </tr>\n",
       "    <tr>\n",
       "      <th>1</th>\n",
       "      <td>1</td>\n",
       "      <td>FAC B0001-00000002</td>\n",
       "      <td>2015-12-10</td>\n",
       "      <td>1.00</td>\n",
       "      <td>675.0</td>\n",
       "      <td>FAC</td>\n",
       "      <td>2015-12</td>\n",
       "    </tr>\n",
       "    <tr>\n",
       "      <th>2</th>\n",
       "      <td>2</td>\n",
       "      <td>FAC B0001-00000003</td>\n",
       "      <td>2015-12-28</td>\n",
       "      <td>999.99</td>\n",
       "      <td>123.0</td>\n",
       "      <td>FAC</td>\n",
       "      <td>2015-12</td>\n",
       "    </tr>\n",
       "    <tr>\n",
       "      <th>3</th>\n",
       "      <td>3</td>\n",
       "      <td>FAC B0001-00000004</td>\n",
       "      <td>2015-12-28</td>\n",
       "      <td>34.21</td>\n",
       "      <td>123.0</td>\n",
       "      <td>FAC</td>\n",
       "      <td>2015-12</td>\n",
       "    </tr>\n",
       "    <tr>\n",
       "      <th>4</th>\n",
       "      <td>4</td>\n",
       "      <td>FAC B0001-00000005</td>\n",
       "      <td>2015-12-28</td>\n",
       "      <td>0.71</td>\n",
       "      <td>123.0</td>\n",
       "      <td>FAC</td>\n",
       "      <td>2015-12</td>\n",
       "    </tr>\n",
       "    <tr>\n",
       "      <th>...</th>\n",
       "      <td>...</td>\n",
       "      <td>...</td>\n",
       "      <td>...</td>\n",
       "      <td>...</td>\n",
       "      <td>...</td>\n",
       "      <td>...</td>\n",
       "      <td>...</td>\n",
       "    </tr>\n",
       "    <tr>\n",
       "      <th>41325</th>\n",
       "      <td>41325</td>\n",
       "      <td>REC X0099-00006791</td>\n",
       "      <td>2018-09-04</td>\n",
       "      <td>1000.00</td>\n",
       "      <td>931.0</td>\n",
       "      <td>REC</td>\n",
       "      <td>2018-09</td>\n",
       "    </tr>\n",
       "    <tr>\n",
       "      <th>41326</th>\n",
       "      <td>41326</td>\n",
       "      <td>REC X0099-00006792</td>\n",
       "      <td>2018-09-04</td>\n",
       "      <td>2550.00</td>\n",
       "      <td>650.0</td>\n",
       "      <td>REC</td>\n",
       "      <td>2018-09</td>\n",
       "    </tr>\n",
       "    <tr>\n",
       "      <th>41327</th>\n",
       "      <td>41327</td>\n",
       "      <td>REC X0099-00006793</td>\n",
       "      <td>2018-09-04</td>\n",
       "      <td>2900.00</td>\n",
       "      <td>528.0</td>\n",
       "      <td>REC</td>\n",
       "      <td>2018-09</td>\n",
       "    </tr>\n",
       "    <tr>\n",
       "      <th>41328</th>\n",
       "      <td>41328</td>\n",
       "      <td>REC X0099-00006794</td>\n",
       "      <td>2018-09-04</td>\n",
       "      <td>2446.00</td>\n",
       "      <td>12.0</td>\n",
       "      <td>REC</td>\n",
       "      <td>2018-09</td>\n",
       "    </tr>\n",
       "    <tr>\n",
       "      <th>41329</th>\n",
       "      <td>41329</td>\n",
       "      <td>REC X0099-00006794</td>\n",
       "      <td>2018-09-04</td>\n",
       "      <td>2446.00</td>\n",
       "      <td>12.0</td>\n",
       "      <td>REC</td>\n",
       "      <td>2018-09</td>\n",
       "    </tr>\n",
       "  </tbody>\n",
       "</table>\n",
       "<p>41330 rows × 7 columns</p>\n",
       "</div>"
      ],
      "text/plain": [
       "       Unnamed: 0     nro_comprobante      fecha    monto  id_cliente tipo  \\\n",
       "0               0  FAC B0001-00000001 2015-12-10     1.00       675.0  FAC   \n",
       "1               1  FAC B0001-00000002 2015-12-10     1.00       675.0  FAC   \n",
       "2               2  FAC B0001-00000003 2015-12-28   999.99       123.0  FAC   \n",
       "3               3  FAC B0001-00000004 2015-12-28    34.21       123.0  FAC   \n",
       "4               4  FAC B0001-00000005 2015-12-28     0.71       123.0  FAC   \n",
       "...           ...                 ...        ...      ...         ...  ...   \n",
       "41325       41325  REC X0099-00006791 2018-09-04  1000.00       931.0  REC   \n",
       "41326       41326  REC X0099-00006792 2018-09-04  2550.00       650.0  REC   \n",
       "41327       41327  REC X0099-00006793 2018-09-04  2900.00       528.0  REC   \n",
       "41328       41328  REC X0099-00006794 2018-09-04  2446.00        12.0  REC   \n",
       "41329       41329  REC X0099-00006794 2018-09-04  2446.00        12.0  REC   \n",
       "\n",
       "      year_month  \n",
       "0        2015-12  \n",
       "1        2015-12  \n",
       "2        2015-12  \n",
       "3        2015-12  \n",
       "4        2015-12  \n",
       "...          ...  \n",
       "41325    2018-09  \n",
       "41326    2018-09  \n",
       "41327    2018-09  \n",
       "41328    2018-09  \n",
       "41329    2018-09  \n",
       "\n",
       "[41330 rows x 7 columns]"
      ]
     },
     "execution_count": 106,
     "metadata": {},
     "output_type": "execute_result"
    }
   ],
   "source": [
    "recibos[\"year_month\"]=pd.DatetimeIndex(recibos.fecha).to_period(\"m\")\n",
    "recibos"
   ]
  },
  {
   "cell_type": "code",
   "execution_count": null,
   "id": "f16cb14b",
   "metadata": {},
   "outputs": [],
   "source": [
    "#sumar sólo lo cobrado (REC y N/D) y mostrar una tabla que tenga como indice fecha(año-mes) y columna monto_cobrado, cantidad_recibos. (group by)\n"
   ]
  },
  {
   "cell_type": "code",
   "execution_count": 128,
   "id": "b7f4b543",
   "metadata": {},
   "outputs": [],
   "source": [
    "df_filtrado = recibos[(recibos.tipo == \"REC\") | (recibos.tipo ==\"N/D\")]\n"
   ]
  },
  {
   "cell_type": "code",
   "execution_count": 129,
   "id": "debcf741",
   "metadata": {},
   "outputs": [
    {
     "data": {
      "text/plain": [
       "year_month\n",
       "2015-12      3339.00\n",
       "2016-01     23217.27\n",
       "2016-02     87138.09\n",
       "2016-03    193843.65\n",
       "2016-04    208850.76\n",
       "             ...    \n",
       "2022-02    177288.65\n",
       "2022-03    245495.68\n",
       "2022-04    145510.59\n",
       "2022-05     87518.58\n",
       "2022-06     81386.59\n",
       "Freq: M, Name: monto, Length: 79, dtype: float64"
      ]
     },
     "execution_count": 129,
     "metadata": {},
     "output_type": "execute_result"
    }
   ],
   "source": [
    "recibos_filtrado=df_filtrado.groupby('year_month')[\"monto\"].sum() \n",
    "recibos_filtrado"
   ]
  },
  {
   "cell_type": "code",
   "execution_count": 18,
   "id": "5e3693d1",
   "metadata": {},
   "outputs": [
    {
     "data": {
      "text/plain": "1"
     },
     "execution_count": 18,
     "metadata": {},
     "output_type": "execute_result"
    }
   ],
   "source": [
    "#¿Cuantos valores hay mayores a 60000?\n",
    "(recibos.Total>60000).sum()"
   ]
  },
  {
   "cell_type": "code",
   "execution_count": 143,
   "id": "ce25f810",
   "metadata": {},
   "outputs": [
    {
     "data": {
      "text/plain": [
       "0        False\n",
       "1        False\n",
       "2        False\n",
       "3        False\n",
       "4        False\n",
       "         ...  \n",
       "41325    False\n",
       "41326    False\n",
       "41327    False\n",
       "41328    False\n",
       "41329    False\n",
       "Name: monto, Length: 41330, dtype: bool"
      ]
     },
     "execution_count": 143,
     "metadata": {},
     "output_type": "execute_result"
    }
   ],
   "source": [
    "filtro= recibos.monto > 60000\n",
    "recibos[filtro]"
   ]
  },
  {
   "cell_type": "code",
   "execution_count": 145,
   "id": "55cf57c9",
   "metadata": {},
   "outputs": [
    {
     "data": {
      "text/plain": [
       "56000.0"
      ]
     },
     "execution_count": 145,
     "metadata": {},
     "output_type": "execute_result"
    }
   ],
   "source": [
    "#Cual es el valor máximo? ¿Debería eliminarlo? ¿Por qué?\n",
    "recibos.monto.max()"
   ]
  },
  {
   "cell_type": "code",
   "execution_count": null,
   "id": "844ae3bb",
   "metadata": {},
   "outputs": [],
   "source": [
    "#Hacer un lineplot del total cobrad"
   ]
  },
  {
   "cell_type": "code",
   "execution_count": 131,
   "id": "45af452a",
   "metadata": {},
   "outputs": [
    {
     "data": {
      "text/plain": [
       "<AxesSubplot:xlabel='year_month'>"
      ]
     },
     "execution_count": 131,
     "metadata": {},
     "output_type": "execute_result"
    },
    {
     "data": {
      "image/png": "[encoded data removed]",
      "text/plain": [
       "<Figure size 432x288 with 1 Axes>"
      ]
     },
     "metadata": {
      "needs_background": "light"
     },
     "output_type": "display_data"
    }
   ],
   "source": [
    "recibos_filtrado.plot()"
   ]
  },
  {
   "cell_type": "code",
   "execution_count": 136,
   "id": "135f5c2f",
   "metadata": {},
   "outputs": [
    {
     "data": {
      "text/plain": [
       "year_month  id_cliente\n",
       "2015-12     70.0          1654.00\n",
       "            123.0         2716.62\n",
       "            675.0            6.00\n",
       "2016-01     20.0          2854.23\n",
       "            62.0            14.90\n",
       "                           ...   \n",
       "2022-06     695.0         4999.89\n",
       "            769.0         6126.86\n",
       "            840.0         6499.87\n",
       "            853.0         1999.95\n",
       "            926.0         6299.87\n",
       "Name: monto, Length: 15606, dtype: float64"
      ]
     },
     "execution_count": 136,
     "metadata": {},
     "output_type": "execute_result"
    }
   ],
   "source": [
    "clientes_unicos= recibos.groupby(by=[\"year_month\",\"id_cliente\"])[\"monto\"].sum()\n",
    "clientes_unicos"
   ]
  },
  {
   "cell_type": "code",
   "execution_count": 140,
   "id": "c271975f",
   "metadata": {},
   "outputs": [
    {
     "data": {
      "text/plain": [
       "<AxesSubplot:xlabel='year_month,id_cliente'>"
      ]
     },
     "execution_count": 140,
     "metadata": {},
     "output_type": "execute_result"
    },
    {
     "data": {
      "image/png": "[encoded data removed]",
      "text/plain": [
       "<Figure size 432x288 with 1 Axes>"
      ]
     },
     "metadata": {
      "needs_background": "light"
     },
     "output_type": "display_data"
    }
   ],
   "source": [
    "clientes_unicos.plot.line()"
   ]
  }
 ],
 "metadata": {
  "kernelspec": {
   "display_name": "Python 3 (ipykernel)",
   "language": "python",
   "name": "python3"
  },
  "language_info": {
   "codemirror_mode": {
    "name": "ipython",
    "version": 3
   },
   "file_extension": ".py",
   "mimetype": "text/x-python",
   "name": "python",
   "nbconvert_exporter": "python",
   "pygments_lexer": "ipython3",
   "version": "3.8.10"
  }
 },
 "nbformat": 4,
 "nbformat_minor": 5
}