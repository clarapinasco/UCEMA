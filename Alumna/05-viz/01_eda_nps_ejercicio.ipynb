{
 "cells": [
  {
   "cell_type": "code",
   "execution_count": 33,
   "outputs": [],
   "source": [
    "#Importamos librerias\n",
    "import pandas as pd\n",
    "import matplotlib.pyplot as plt\n",
    "import seaborn as sns\n",
    "import numpy as np"
   ],
   "metadata": {
    "collapsed": false,
    "pycharm": {
     "name": "#%%\n"
    }
   }
  },
  {
   "cell_type": "code",
   "execution_count": 34,
   "outputs": [],
   "source": [
    "df=pd.read_csv(\"data_nps.csv\")"
   ],
   "metadata": {
    "collapsed": false,
    "pycharm": {
     "name": "#%%\n"
    }
   }
  },
  {
   "cell_type": "code",
   "execution_count": 35,
   "outputs": [],
   "source": [
    "#Cargamos el dataframe y nos interiorizamos de sus campos\n",
    "#Que no haya una columna que se llame 'Unnamed: 0'\n",
    "df=df.drop(df.columns[0], axis='columns')"
   ],
   "metadata": {
    "collapsed": false,
    "pycharm": {
     "name": "#%%\n"
    }
   }
  },
  {
   "cell_type": "code",
   "execution_count": 36,
   "outputs": [
    {
     "data": {
      "text/plain": "                 CREATION_DATE            RESPONSE_DATE  CURRENT_STATUS  \\\n15995  2021-05-10 10:30:03 UTC  2021-05-10 10:46:11 UTC               5   \n15996  2021-05-10 10:30:03 UTC  2021-05-10 12:12:26 UTC               0   \n15997  2021-05-10 10:30:03 UTC  2021-05-10 19:38:46 UTC               0   \n15998  2021-05-10 10:30:03 UTC  2021-05-10 10:45:03 UTC               2   \n15999  2021-05-10 10:39:05 UTC  2021-05-10 12:02:05 UTC               0   \n\n      GENDER             DAY_OF_BIRTH    CIF_ID   AGE  \\\n15995      M  1974-11-24 00:00:00 UTC  23609326  46.0   \n15996      M  1960-09-21 00:00:00 UTC  11254684  60.0   \n15997      M  1960-07-15 00:00:00 UTC  16971297  60.0   \n15998      M  1956-07-10 00:00:00 UTC   5768360  64.0   \n15999      F  1965-11-22 00:00:00 UTC   8703935  55.0   \n\n                           LOCATION        TOUCHPOINT_NUMBER  CASE_NUMBER  \\\n15995               ISIDRO CASANOVA    Documentation Request      5436373   \n15996  CIUDAD AUTONOMA BUENOS AIRES    Documentation Request      5434652   \n15997         SAN MIGUEL DE TUCUMAN    Documentation Request      5435120   \n15998                VILLA DOMINICO    Documentation Request      5434365   \n15999  CIUDAD AUTONOMA BUENOS AIRES  Query/Servicing request      5426739   \n\n                     CASE_DATE CASE_CHANNEL              PRODUCT_NAME  \\\n15995  2021-05-07 00:00:00 UTC          WEB  Automotores Individuales   \n15996  2021-05-07 00:00:00 UTC          WEB  Automotores Individuales   \n15997  2021-05-07 00:00:00 UTC          WEB  Automotores Individuales   \n15998  2021-05-07 00:00:00 UTC          WEB  Automotores Individuales   \n15999  2021-05-07 00:00:00 UTC     SUCURSAL  Automotores Individuales   \n\n       NPS_SCORE                                               TAGS  \n15995          9                mot Siniestro  mot Cobertura poliza  \n15996          7   mot Siniestro  mot FacturacionPagos  mot Prec...  \n15997          7                                                NaN  \n15998          2   mot Siniestro  atr Conformidad  mot Facturaci...  \n15999          8                                       mot Servicio  ",
      "text/html": "<div>\n<style scoped>\n    .dataframe tbody tr th:only-of-type {\n        vertical-align: middle;\n    }\n\n    .dataframe tbody tr th {\n        vertical-align: top;\n    }\n\n    .dataframe thead th {\n        text-align: right;\n    }\n</style>\n<table border=\"1\" class=\"dataframe\">\n  <thead>\n    <tr style=\"text-align: right;\">\n      <th></th>\n      <th>CREATION_DATE</th>\n      <th>RESPONSE_DATE</th>\n      <th>CURRENT_STATUS</th>\n      <th>GENDER</th>\n      <th>DAY_OF_BIRTH</th>\n      <th>CIF_ID</th>\n      <th>AGE</th>\n      <th>LOCATION</th>\n      <th>TOUCHPOINT_NUMBER</th>\n      <th>CASE_NUMBER</th>\n      <th>CASE_DATE</th>\n      <th>CASE_CHANNEL</th>\n      <th>PRODUCT_NAME</th>\n      <th>NPS_SCORE</th>\n      <th>TAGS</th>\n    </tr>\n  </thead>\n  <tbody>\n    <tr>\n      <th>15995</th>\n      <td>2021-05-10 10:30:03 UTC</td>\n      <td>2021-05-10 10:46:11 UTC</td>\n      <td>5</td>\n      <td>M</td>\n      <td>1974-11-24 00:00:00 UTC</td>\n      <td>23609326</td>\n      <td>46.0</td>\n      <td>ISIDRO CASANOVA</td>\n      <td>Documentation Request</td>\n      <td>5436373</td>\n      <td>2021-05-07 00:00:00 UTC</td>\n      <td>WEB</td>\n      <td>Automotores Individuales</td>\n      <td>9</td>\n      <td>mot Siniestro  mot Cobertura poliza</td>\n    </tr>\n    <tr>\n      <th>15996</th>\n      <td>2021-05-10 10:30:03 UTC</td>\n      <td>2021-05-10 12:12:26 UTC</td>\n      <td>0</td>\n      <td>M</td>\n      <td>1960-09-21 00:00:00 UTC</td>\n      <td>11254684</td>\n      <td>60.0</td>\n      <td>CIUDAD AUTONOMA BUENOS AIRES</td>\n      <td>Documentation Request</td>\n      <td>5434652</td>\n      <td>2021-05-07 00:00:00 UTC</td>\n      <td>WEB</td>\n      <td>Automotores Individuales</td>\n      <td>7</td>\n      <td>mot Siniestro  mot FacturacionPagos  mot Prec...</td>\n    </tr>\n    <tr>\n      <th>15997</th>\n      <td>2021-05-10 10:30:03 UTC</td>\n      <td>2021-05-10 19:38:46 UTC</td>\n      <td>0</td>\n      <td>M</td>\n      <td>1960-07-15 00:00:00 UTC</td>\n      <td>16971297</td>\n      <td>60.0</td>\n      <td>SAN MIGUEL DE TUCUMAN</td>\n      <td>Documentation Request</td>\n      <td>5435120</td>\n      <td>2021-05-07 00:00:00 UTC</td>\n      <td>WEB</td>\n      <td>Automotores Individuales</td>\n      <td>7</td>\n      <td>NaN</td>\n    </tr>\n    <tr>\n      <th>15998</th>\n      <td>2021-05-10 10:30:03 UTC</td>\n      <td>2021-05-10 10:45:03 UTC</td>\n      <td>2</td>\n      <td>M</td>\n      <td>1956-07-10 00:00:00 UTC</td>\n      <td>5768360</td>\n      <td>64.0</td>\n      <td>VILLA DOMINICO</td>\n      <td>Documentation Request</td>\n      <td>5434365</td>\n      <td>2021-05-07 00:00:00 UTC</td>\n      <td>WEB</td>\n      <td>Automotores Individuales</td>\n      <td>2</td>\n      <td>mot Siniestro  atr Conformidad  mot Facturaci...</td>\n    </tr>\n    <tr>\n      <th>15999</th>\n      <td>2021-05-10 10:39:05 UTC</td>\n      <td>2021-05-10 12:02:05 UTC</td>\n      <td>0</td>\n      <td>F</td>\n      <td>1965-11-22 00:00:00 UTC</td>\n      <td>8703935</td>\n      <td>55.0</td>\n      <td>CIUDAD AUTONOMA BUENOS AIRES</td>\n      <td>Query/Servicing request</td>\n      <td>5426739</td>\n      <td>2021-05-07 00:00:00 UTC</td>\n      <td>SUCURSAL</td>\n      <td>Automotores Individuales</td>\n      <td>8</td>\n      <td>mot Servicio</td>\n    </tr>\n  </tbody>\n</table>\n</div>"
     },
     "execution_count": 36,
     "metadata": {},
     "output_type": "execute_result"
    }
   ],
   "source": [
    "df.tail()"
   ],
   "metadata": {
    "collapsed": false,
    "pycharm": {
     "name": "#%%\n"
    }
   }
  },
  {
   "cell_type": "code",
   "execution_count": 37,
   "outputs": [
    {
     "data": {
      "text/plain": "['CREATION_DATE',\n 'RESPONSE_DATE',\n 'CURRENT_STATUS',\n 'GENDER',\n 'DAY_OF_BIRTH',\n 'CIF_ID',\n 'AGE',\n 'LOCATION',\n 'TOUCHPOINT_NUMBER',\n 'CASE_NUMBER',\n 'CASE_DATE',\n 'CASE_CHANNEL',\n 'PRODUCT_NAME',\n 'NPS_SCORE',\n 'TAGS']"
     },
     "execution_count": 37,
     "metadata": {},
     "output_type": "execute_result"
    }
   ],
   "source": [
    "#mostrar nombres de columna\n",
    "df.columns.to_list()"
   ],
   "metadata": {
    "collapsed": false,
    "pycharm": {
     "name": "#%%\n"
    }
   }
  },
  {
   "cell_type": "markdown",
   "source": [
    "Hacer una función que determine si es promotor, detractor y neutro e implementarla a una columna del dataset que se llama nps_segment\n",
    "* Promotor: NPS_SCORE = 8,9,10\n",
    "* Neutro: NPS_SCORE = 6,7\n",
    "* Detractor: NPS_SCORE = 1,2,3,4,5"
   ],
   "metadata": {
    "collapsed": false,
    "pycharm": {
     "name": "#%% md\n"
    }
   }
  },
  {
   "cell_type": "code",
   "execution_count": 38,
   "outputs": [],
   "source": [
    "def nps_segment(x):\n",
    "   if x <= 5:\n",
    "       return 'DETRACTOR'\n",
    "   elif 6<= x <= 7:\n",
    "       return 'Neutro'\n",
    "   else:\n",
    "       return 'Detractor'\n",
    "#df[\"nombre_de_la_columna_nueva\"] = df[\"Columna_a_transformar\"].apply(función_creada_por_nosotros)\n"
   ],
   "metadata": {
    "collapsed": false,
    "pycharm": {
     "name": "#%%\n"
    }
   }
  },
  {
   "cell_type": "code",
   "execution_count": 39,
   "outputs": [
    {
     "data": {
      "text/plain": "0        Detractor\n1         Promotor\n2         Promotor\n3         Promotor\n4        Detractor\n           ...    \n15995     Promotor\n15996       Neutro\n15997       Neutro\n15998    Detractor\n15999     Promotor\nName: nps_segment, Length: 16000, dtype: object"
     },
     "execution_count": 39,
     "metadata": {},
     "output_type": "execute_result"
    }
   ],
   "source": [
    "conditions= {8:\"Promotor\",9:\"Promotor\",10:\"Promotor\",6:\"Neutro\",7:\"Neutro\",1:\"Detractor\",2:\"Detractor\",\n",
    "             3:\"Detractor\",4:\"Detractor\",5:\"Detractor\",0:\"Detractor\"}\n",
    "df[\"nps_segment\"]=df['NPS_SCORE'].map(conditions)\n",
    "df.nps_segment"
   ],
   "metadata": {
    "collapsed": false,
    "pycharm": {
     "name": "#%%\n"
    }
   }
  },
  {
   "cell_type": "code",
   "execution_count": 40,
   "outputs": [
    {
     "data": {
      "text/plain": "0        Detractor\n1         Promotor\n2         Promotor\n3         Promotor\n4        Detractor\n           ...    \n15995     Promotor\n15996       Neutro\n15997       Neutro\n15998    Detractor\n15999     Promotor\nName: nps_segment, Length: 16000, dtype: object"
     },
     "execution_count": 40,
     "metadata": {},
     "output_type": "execute_result"
    }
   ],
   "source": [
    "df[\"nps_segment\"]"
   ],
   "metadata": {
    "collapsed": false,
    "pycharm": {
     "name": "#%%\n"
    }
   }
  },
  {
   "cell_type": "code",
   "execution_count": 41,
   "outputs": [
    {
     "data": {
      "text/plain": "2184"
     },
     "execution_count": 41,
     "metadata": {},
     "output_type": "execute_result"
    }
   ],
   "source": [
    "#imprimir nans en la columna TAGS\n",
    "df.TAGS.isnull().sum()"
   ],
   "metadata": {
    "collapsed": false,
    "pycharm": {
     "name": "#%%\n"
    }
   }
  },
  {
   "cell_type": "markdown",
   "source": [
    "Con numpy.where crear una columna llamada detected, que determina si la columna TAGS tiene algun contenido. Poner True si lo tiene y si no tiene contenido poner False."
   ],
   "metadata": {
    "collapsed": false,
    "pycharm": {
     "name": "#%% md\n"
    }
   }
  },
  {
   "cell_type": "code",
   "execution_count": 42,
   "outputs": [
    {
     "data": {
      "text/plain": "0         True\n1         True\n2        False\n3         True\n4         True\n         ...  \n15995     True\n15996     True\n15997    False\n15998     True\n15999     True\nName: detected, Length: 16000, dtype: bool"
     },
     "execution_count": 42,
     "metadata": {},
     "output_type": "execute_result"
    }
   ],
   "source": [
    "#Escribi tu código acá (HINT: Buscar numpy where documentacion)\n",
    "#df['Status'] = np.where(df['Salary']>=400, 'Senior', 'Junior')\n",
    "df[\"detected\"]=np.where(df['TAGS'].isnull(),False,True)\n",
    "df[\"detected\"]"
   ],
   "metadata": {
    "collapsed": false,
    "pycharm": {
     "name": "#%%\n"
    }
   }
  },
  {
   "cell_type": "markdown",
   "source": [
    "## Dates\n",
    "Devolver la fecha máxima y minima de la columna CREATION_DATE"
   ],
   "metadata": {
    "collapsed": false,
    "pycharm": {
     "name": "#%% md\n"
    }
   }
  },
  {
   "cell_type": "code",
   "execution_count": 43,
   "outputs": [],
   "source": [
    "df.CREATION_DATE=pd.to_datetime(df.CREATION_DATE)"
   ],
   "metadata": {
    "collapsed": false,
    "pycharm": {
     "name": "#%%\n"
    }
   }
  },
  {
   "cell_type": "code",
   "execution_count": 44,
   "outputs": [
    {
     "data": {
      "text/plain": "Timestamp('2020-12-10 10:30:03+0000', tz='UTC')"
     },
     "execution_count": 44,
     "metadata": {},
     "output_type": "execute_result"
    }
   ],
   "source": [
    "df.CREATION_DATE.max()\n",
    "df.CREATION_DATE.min()"
   ],
   "metadata": {
    "collapsed": false,
    "pycharm": {
     "name": "#%%\n"
    }
   }
  },
  {
   "cell_type": "markdown",
   "source": [
    "Chequear los data types de todas las columnas"
   ],
   "metadata": {
    "collapsed": false,
    "pycharm": {
     "name": "#%% md\n"
    }
   }
  },
  {
   "cell_type": "code",
   "execution_count": 45,
   "outputs": [
    {
     "data": {
      "text/plain": "CREATION_DATE        datetime64[ns, UTC]\nRESPONSE_DATE                     object\nCURRENT_STATUS                     int64\nGENDER                            object\nDAY_OF_BIRTH                      object\nCIF_ID                             int64\nAGE                              float64\nLOCATION                          object\nTOUCHPOINT_NUMBER                 object\nCASE_NUMBER                        int64\nCASE_DATE                         object\nCASE_CHANNEL                      object\nPRODUCT_NAME                      object\nNPS_SCORE                          int64\nTAGS                              object\nnps_segment                       object\ndetected                            bool\ndtype: object"
     },
     "execution_count": 45,
     "metadata": {},
     "output_type": "execute_result"
    }
   ],
   "source": [
    "df.dtypes"
   ],
   "metadata": {
    "collapsed": false,
    "pycharm": {
     "name": "#%%\n"
    }
   }
  },
  {
   "cell_type": "markdown",
   "source": [
    "¿Cual es el data type de CREATION_DATE ¿Te parece correct?\n",
    "esta en formato fecha lo cual es correcto"
   ],
   "metadata": {
    "collapsed": false,
    "pycharm": {
     "name": "#%% md\n"
    }
   }
  },
  {
   "cell_type": "markdown",
   "source": [
    "Crear una columna que solo tenga año y mes. Llameémosle year_month. Utilizar pd.to_datetime() primero y luego to period"
   ],
   "metadata": {
    "collapsed": false,
    "pycharm": {
     "name": "#%% md\n"
    }
   }
  },
  {
   "cell_type": "code",
   "execution_count": 46,
   "outputs": [
    {
     "name": "stderr",
     "output_type": "stream",
     "text": [
      "C:\\Users\\Nicolas\\AppData\\Local\\Programs\\Python\\Python310\\lib\\site-packages\\pandas\\core\\arrays\\datetimes.py:1143: UserWarning: Converting to PeriodArray/Index representation will drop timezone information.\n",
      "  warnings.warn(\n"
     ]
    },
    {
     "data": {
      "text/plain": "0        2021-06\n1        2021-06\n2        2021-06\n3        2021-06\n4        2021-05\n          ...   \n15995    2021-05\n15996    2021-05\n15997    2021-05\n15998    2021-05\n15999    2021-05\nName: year_month, Length: 16000, dtype: period[M]"
     },
     "execution_count": 32,
     "metadata": {},
     "output_type": "execute_result"
    },
    {
     "name": "stderr",
     "output_type": "stream",
     "text": [
      "C:\\Users\\Nicolas\\AppData\\Local\\Programs\\Python\\Python310\\lib\\site-packages\\pandas\\core\\arrays\\datetimes.py:1143: UserWarning: Converting to PeriodArray/Index representation will drop timezone information.\n",
      "  warnings.warn(\n"
     ]
    },
    {
     "data": {
      "text/plain": "0        2021-06\n1        2021-06\n2        2021-06\n3        2021-06\n4        2021-05\n          ...   \n15995    2021-05\n15996    2021-05\n15997    2021-05\n15998    2021-05\n15999    2021-05\nName: year_month, Length: 16000, dtype: period[M]"
     },
     "execution_count": 46,
     "metadata": {},
     "output_type": "execute_result"
    }
   ],
   "source": [
    "#tarjetas['dia']= pd.DatetimeIndex(tarjetas['fecha_de_pago']).day\n",
    "df[\"year_month\"]=pd.DatetimeIndex(df.CREATION_DATE).to_period('m')\n",
    "df['year_month']"
   ],
   "metadata": {
    "collapsed": false,
    "pycharm": {
     "name": "#%%\n"
    }
   }
  },
  {
   "cell_type": "code",
   "execution_count": 47,
   "outputs": [
    {
     "data": {
      "text/plain": "0        2021-06\n1        2021-06\n2        2021-06\n3        2021-06\n4        2021-05\n          ...   \n15995    2021-05\n15996    2021-05\n15997    2021-05\n15998    2021-05\n15999    2021-05\nName: year_month, Length: 16000, dtype: period[M]"
     },
     "execution_count": 47,
     "metadata": {},
     "output_type": "execute_result"
    }
   ],
   "source": [
    "#armar el código para crear la columna año mes\n",
    "df[\"year_month\"]"
   ],
   "metadata": {
    "collapsed": false,
    "pycharm": {
     "name": "#%%\n"
    }
   }
  },
  {
   "cell_type": "markdown",
   "source": [
    "## Conteo.\n",
    "Crear un nuevo dataframe agrupado por year_month donde tenga la cantidad de encuestas únicas mes a mes\n",
    "** Hint**:\n",
    "```python\n",
    "df.groupby(grouping_column).agg(\"count\")\n",
    "```"
   ],
   "metadata": {
    "collapsed": false,
    "pycharm": {
     "name": "#%% md\n"
    }
   }
  },
  {
   "cell_type": "code",
   "execution_count": 64,
   "outputs": [
    {
     "data": {
      "text/plain": "year_month\n2020-12     124\n2021-01    2617\n2021-02    2433\n2021-03    3308\n2021-04    2883\n2021-05    3066\n2021-06    1569\nFreq: M, Name: year_month, dtype: int64"
     },
     "execution_count": 64,
     "metadata": {},
     "output_type": "execute_result"
    }
   ],
   "source": [
    "encuestas_por_mes=df.groupby(df.year_month).year_month.count()\n",
    "encuestas_por_mes"
   ],
   "metadata": {
    "collapsed": false,
    "pycharm": {
     "name": "#%%\n"
    }
   }
  },
  {
   "cell_type": "code",
   "execution_count": 71,
   "outputs": [
    {
     "data": {
      "text/plain": "year_month\n2020-12                     124\n2021-01                    2617\n2021-02                    2433\n2021-03                    3308\n2021-04                    2883\n2021-05                    3066\n2021-06                    1569\nyear_month    encuestas por mes\nName: year_month, dtype: object"
     },
     "execution_count": 70,
     "metadata": {},
     "output_type": "execute_result"
    },
    {
     "data": {
      "text/plain": "year_month\n2020-12                     124\n2021-01                    2617\n2021-02                    2433\n2021-03                    3308\n2021-04                    2883\n2021-05                    3066\n2021-06                    1569\nyear_month    encuestas por mes\nName: year_month, dtype: object"
     },
     "execution_count": 71,
     "metadata": {},
     "output_type": "execute_result"
    }
   ],
   "source": [
    "encuestas_por_mes[\"year_month\"]='encuestas por mes'\n",
    "encuestas_por_mes"
   ],
   "metadata": {
    "collapsed": false,
    "pycharm": {
     "name": "#%%\n"
    }
   }
  },
  {
   "cell_type": "code",
   "execution_count": 49,
   "outputs": [
    {
     "data": {
      "text/plain": "                  CREATION_DATE            RESPONSE_DATE  CURRENT_STATUS  \\\n0     2021-06-11 10:30:03+00:00  2021-06-12 10:43:18 UTC               2   \n1     2021-06-10 10:30:03+00:00  2021-06-12 17:38:35 UTC               5   \n2     2021-06-07 10:30:03+00:00  2021-06-12 16:52:27 UTC               5   \n3     2021-06-10 10:30:03+00:00  2021-06-13 19:29:41 UTC               5   \n4     2021-05-31 10:30:03+00:00  2021-06-06 22:26:27 UTC               1   \n...                         ...                      ...             ...   \n15995 2021-05-10 10:30:03+00:00  2021-05-10 10:46:11 UTC               5   \n15996 2021-05-10 10:30:03+00:00  2021-05-10 12:12:26 UTC               0   \n15997 2021-05-10 10:30:03+00:00  2021-05-10 19:38:46 UTC               0   \n15998 2021-05-10 10:30:03+00:00  2021-05-10 10:45:03 UTC               2   \n15999 2021-05-10 10:39:05+00:00  2021-05-10 12:02:05 UTC               0   \n\n      GENDER             DAY_OF_BIRTH    CIF_ID   AGE  \\\n0          M  1954-09-18 00:00:00 UTC   1402267  66.0   \n1          F  1994-10-06 00:00:00 UTC  23733377  26.0   \n2          M  1980-08-07 00:00:00 UTC  21113765  40.0   \n3          M  1959-09-12 00:00:00 UTC  19579674  61.0   \n4          M  1952-04-19 00:00:00 UTC  13972088  69.0   \n...      ...                      ...       ...   ...   \n15995      M  1974-11-24 00:00:00 UTC  23609326  46.0   \n15996      M  1960-09-21 00:00:00 UTC  11254684  60.0   \n15997      M  1960-07-15 00:00:00 UTC  16971297  60.0   \n15998      M  1956-07-10 00:00:00 UTC   5768360  64.0   \n15999      F  1965-11-22 00:00:00 UTC   8703935  55.0   \n\n                           LOCATION        TOUCHPOINT_NUMBER  CASE_NUMBER  \\\n0        DOMINGO FAUSTINO SARMIENTO                  Service      5671770   \n1                           CORDOBA                  Service      5662123   \n2                          DIAMANTE                  Service      5625253   \n3      CIUDAD AUTONOMA BUENOS AIRES  Query/Servicing request      5663499   \n4                           TRANCAS                   Claims      5582911   \n...                             ...                      ...          ...   \n15995               ISIDRO CASANOVA    Documentation Request      5436373   \n15996  CIUDAD AUTONOMA BUENOS AIRES    Documentation Request      5434652   \n15997         SAN MIGUEL DE TUCUMAN    Documentation Request      5435120   \n15998                VILLA DOMINICO    Documentation Request      5434365   \n15999  CIUDAD AUTONOMA BUENOS AIRES  Query/Servicing request      5426739   \n\n                     CASE_DATE CASE_CHANNEL              PRODUCT_NAME  \\\n0      2021-06-09 00:00:00 UTC        EUROP  Automotores Individuales   \n1      2021-06-08 00:00:00 UTC     AUXICAJA  Automotores Individuales   \n2      2021-06-03 00:00:00 UTC     AUXICAJA  Automotores Individuales   \n3      2021-06-09 00:00:00 UTC     SUCURSAL  Automotores Individuales   \n4      2021-05-21 00:00:00 UTC  CALL CENTER  Automotores Individuales   \n...                        ...          ...                       ...   \n15995  2021-05-07 00:00:00 UTC          WEB  Automotores Individuales   \n15996  2021-05-07 00:00:00 UTC          WEB  Automotores Individuales   \n15997  2021-05-07 00:00:00 UTC          WEB  Automotores Individuales   \n15998  2021-05-07 00:00:00 UTC          WEB  Automotores Individuales   \n15999  2021-05-07 00:00:00 UTC     SUCURSAL  Automotores Individuales   \n\n       NPS_SCORE                                               TAGS  \\\n0              0   mot Grua  mot Servicio  mot Accesibilidad  mo...   \n1              9   mot Servicio  mot Precio  atr Eficacia  mot A...   \n2             10                                                NaN   \n3             10                             mot Grua  atr Eficacia   \n4              0                        mot Siniestro  atr Eficacia   \n...          ...                                                ...   \n15995          9                mot Siniestro  mot Cobertura poliza   \n15996          7   mot Siniestro  mot FacturacionPagos  mot Prec...   \n15997          7                                                NaN   \n15998          2   mot Siniestro  atr Conformidad  mot Facturaci...   \n15999          8                                       mot Servicio   \n\n      nps_segment  detected year_month  \n0       Detractor      True    2021-06  \n1        Promotor      True    2021-06  \n2        Promotor     False    2021-06  \n3        Promotor      True    2021-06  \n4       Detractor      True    2021-05  \n...           ...       ...        ...  \n15995    Promotor      True    2021-05  \n15996      Neutro      True    2021-05  \n15997      Neutro     False    2021-05  \n15998   Detractor      True    2021-05  \n15999    Promotor      True    2021-05  \n\n[16000 rows x 18 columns]",
      "text/html": "<div>\n<style scoped>\n    .dataframe tbody tr th:only-of-type {\n        vertical-align: middle;\n    }\n\n    .dataframe tbody tr th {\n        vertical-align: top;\n    }\n\n    .dataframe thead th {\n        text-align: right;\n    }\n</style>\n<table border=\"1\" class=\"dataframe\">\n  <thead>\n    <tr style=\"text-align: right;\">\n      <th></th>\n      <th>CREATION_DATE</th>\n      <th>RESPONSE_DATE</th>\n      <th>CURRENT_STATUS</th>\n      <th>GENDER</th>\n      <th>DAY_OF_BIRTH</th>\n      <th>CIF_ID</th>\n      <th>AGE</th>\n      <th>LOCATION</th>\n      <th>TOUCHPOINT_NUMBER</th>\n      <th>CASE_NUMBER</th>\n      <th>CASE_DATE</th>\n      <th>CASE_CHANNEL</th>\n      <th>PRODUCT_NAME</th>\n      <th>NPS_SCORE</th>\n      <th>TAGS</th>\n      <th>nps_segment</th>\n      <th>detected</th>\n      <th>year_month</th>\n    </tr>\n  </thead>\n  <tbody>\n    <tr>\n      <th>0</th>\n      <td>2021-06-11 10:30:03+00:00</td>\n      <td>2021-06-12 10:43:18 UTC</td>\n      <td>2</td>\n      <td>M</td>\n      <td>1954-09-18 00:00:00 UTC</td>\n      <td>1402267</td>\n      <td>66.0</td>\n      <td>DOMINGO FAUSTINO SARMIENTO</td>\n      <td>Service</td>\n      <td>5671770</td>\n      <td>2021-06-09 00:00:00 UTC</td>\n      <td>EUROP</td>\n      <td>Automotores Individuales</td>\n      <td>0</td>\n      <td>mot Grua  mot Servicio  mot Accesibilidad  mo...</td>\n      <td>Detractor</td>\n      <td>True</td>\n      <td>2021-06</td>\n    </tr>\n    <tr>\n      <th>1</th>\n      <td>2021-06-10 10:30:03+00:00</td>\n      <td>2021-06-12 17:38:35 UTC</td>\n      <td>5</td>\n      <td>F</td>\n      <td>1994-10-06 00:00:00 UTC</td>\n      <td>23733377</td>\n      <td>26.0</td>\n      <td>CORDOBA</td>\n      <td>Service</td>\n      <td>5662123</td>\n      <td>2021-06-08 00:00:00 UTC</td>\n      <td>AUXICAJA</td>\n      <td>Automotores Individuales</td>\n      <td>9</td>\n      <td>mot Servicio  mot Precio  atr Eficacia  mot A...</td>\n      <td>Promotor</td>\n      <td>True</td>\n      <td>2021-06</td>\n    </tr>\n    <tr>\n      <th>2</th>\n      <td>2021-06-07 10:30:03+00:00</td>\n      <td>2021-06-12 16:52:27 UTC</td>\n      <td>5</td>\n      <td>M</td>\n      <td>1980-08-07 00:00:00 UTC</td>\n      <td>21113765</td>\n      <td>40.0</td>\n      <td>DIAMANTE</td>\n      <td>Service</td>\n      <td>5625253</td>\n      <td>2021-06-03 00:00:00 UTC</td>\n      <td>AUXICAJA</td>\n      <td>Automotores Individuales</td>\n      <td>10</td>\n      <td>NaN</td>\n      <td>Promotor</td>\n      <td>False</td>\n      <td>2021-06</td>\n    </tr>\n    <tr>\n      <th>3</th>\n      <td>2021-06-10 10:30:03+00:00</td>\n      <td>2021-06-13 19:29:41 UTC</td>\n      <td>5</td>\n      <td>M</td>\n      <td>1959-09-12 00:00:00 UTC</td>\n      <td>19579674</td>\n      <td>61.0</td>\n      <td>CIUDAD AUTONOMA BUENOS AIRES</td>\n      <td>Query/Servicing request</td>\n      <td>5663499</td>\n      <td>2021-06-09 00:00:00 UTC</td>\n      <td>SUCURSAL</td>\n      <td>Automotores Individuales</td>\n      <td>10</td>\n      <td>mot Grua  atr Eficacia</td>\n      <td>Promotor</td>\n      <td>True</td>\n      <td>2021-06</td>\n    </tr>\n    <tr>\n      <th>4</th>\n      <td>2021-05-31 10:30:03+00:00</td>\n      <td>2021-06-06 22:26:27 UTC</td>\n      <td>1</td>\n      <td>M</td>\n      <td>1952-04-19 00:00:00 UTC</td>\n      <td>13972088</td>\n      <td>69.0</td>\n      <td>TRANCAS</td>\n      <td>Claims</td>\n      <td>5582911</td>\n      <td>2021-05-21 00:00:00 UTC</td>\n      <td>CALL CENTER</td>\n      <td>Automotores Individuales</td>\n      <td>0</td>\n      <td>mot Siniestro  atr Eficacia</td>\n      <td>Detractor</td>\n      <td>True</td>\n      <td>2021-05</td>\n    </tr>\n    <tr>\n      <th>...</th>\n      <td>...</td>\n      <td>...</td>\n      <td>...</td>\n      <td>...</td>\n      <td>...</td>\n      <td>...</td>\n      <td>...</td>\n      <td>...</td>\n      <td>...</td>\n      <td>...</td>\n      <td>...</td>\n      <td>...</td>\n      <td>...</td>\n      <td>...</td>\n      <td>...</td>\n      <td>...</td>\n      <td>...</td>\n      <td>...</td>\n    </tr>\n    <tr>\n      <th>15995</th>\n      <td>2021-05-10 10:30:03+00:00</td>\n      <td>2021-05-10 10:46:11 UTC</td>\n      <td>5</td>\n      <td>M</td>\n      <td>1974-11-24 00:00:00 UTC</td>\n      <td>23609326</td>\n      <td>46.0</td>\n      <td>ISIDRO CASANOVA</td>\n      <td>Documentation Request</td>\n      <td>5436373</td>\n      <td>2021-05-07 00:00:00 UTC</td>\n      <td>WEB</td>\n      <td>Automotores Individuales</td>\n      <td>9</td>\n      <td>mot Siniestro  mot Cobertura poliza</td>\n      <td>Promotor</td>\n      <td>True</td>\n      <td>2021-05</td>\n    </tr>\n    <tr>\n      <th>15996</th>\n      <td>2021-05-10 10:30:03+00:00</td>\n      <td>2021-05-10 12:12:26 UTC</td>\n      <td>0</td>\n      <td>M</td>\n      <td>1960-09-21 00:00:00 UTC</td>\n      <td>11254684</td>\n      <td>60.0</td>\n      <td>CIUDAD AUTONOMA BUENOS AIRES</td>\n      <td>Documentation Request</td>\n      <td>5434652</td>\n      <td>2021-05-07 00:00:00 UTC</td>\n      <td>WEB</td>\n      <td>Automotores Individuales</td>\n      <td>7</td>\n      <td>mot Siniestro  mot FacturacionPagos  mot Prec...</td>\n      <td>Neutro</td>\n      <td>True</td>\n      <td>2021-05</td>\n    </tr>\n    <tr>\n      <th>15997</th>\n      <td>2021-05-10 10:30:03+00:00</td>\n      <td>2021-05-10 19:38:46 UTC</td>\n      <td>0</td>\n      <td>M</td>\n      <td>1960-07-15 00:00:00 UTC</td>\n      <td>16971297</td>\n      <td>60.0</td>\n      <td>SAN MIGUEL DE TUCUMAN</td>\n      <td>Documentation Request</td>\n      <td>5435120</td>\n      <td>2021-05-07 00:00:00 UTC</td>\n      <td>WEB</td>\n      <td>Automotores Individuales</td>\n      <td>7</td>\n      <td>NaN</td>\n      <td>Neutro</td>\n      <td>False</td>\n      <td>2021-05</td>\n    </tr>\n    <tr>\n      <th>15998</th>\n      <td>2021-05-10 10:30:03+00:00</td>\n      <td>2021-05-10 10:45:03 UTC</td>\n      <td>2</td>\n      <td>M</td>\n      <td>1956-07-10 00:00:00 UTC</td>\n      <td>5768360</td>\n      <td>64.0</td>\n      <td>VILLA DOMINICO</td>\n      <td>Documentation Request</td>\n      <td>5434365</td>\n      <td>2021-05-07 00:00:00 UTC</td>\n      <td>WEB</td>\n      <td>Automotores Individuales</td>\n      <td>2</td>\n      <td>mot Siniestro  atr Conformidad  mot Facturaci...</td>\n      <td>Detractor</td>\n      <td>True</td>\n      <td>2021-05</td>\n    </tr>\n    <tr>\n      <th>15999</th>\n      <td>2021-05-10 10:39:05+00:00</td>\n      <td>2021-05-10 12:02:05 UTC</td>\n      <td>0</td>\n      <td>F</td>\n      <td>1965-11-22 00:00:00 UTC</td>\n      <td>8703935</td>\n      <td>55.0</td>\n      <td>CIUDAD AUTONOMA BUENOS AIRES</td>\n      <td>Query/Servicing request</td>\n      <td>5426739</td>\n      <td>2021-05-07 00:00:00 UTC</td>\n      <td>SUCURSAL</td>\n      <td>Automotores Individuales</td>\n      <td>8</td>\n      <td>mot Servicio</td>\n      <td>Promotor</td>\n      <td>True</td>\n      <td>2021-05</td>\n    </tr>\n  </tbody>\n</table>\n<p>16000 rows × 18 columns</p>\n</div>"
     },
     "execution_count": 49,
     "metadata": {},
     "output_type": "execute_result"
    }
   ],
   "source": [
    "df"
   ],
   "metadata": {
    "collapsed": false,
    "pycharm": {
     "name": "#%%\n"
    }
   }
  },
  {
   "cell_type": "code",
   "execution_count": 49,
   "outputs": [],
   "source": [],
   "metadata": {
    "collapsed": false,
    "pycharm": {
     "name": "#%%\n"
    }
   }
  },
  {
   "cell_type": "markdown",
   "source": [
    "Crear un dataste donde sume la cantidad de encuestas con TAG detectados, mes a mes"
   ],
   "metadata": {
    "collapsed": false,
    "pycharm": {
     "name": "#%% md\n"
    }
   }
  },
  {
   "cell_type": "markdown",
   "source": [
    "**Hint** :\n",
    "```python\n",
    "df.groupby(grouping_column).agg(\n",
    "    new_col_name =  ('old_col_name', 'sum'),\n",
    "    new_col_name_2 = ('old_col_name', 'mean')\n",
    ")\n",
    "```"
   ],
   "metadata": {
    "collapsed": false,
    "pycharm": {
     "name": "#%% md\n"
    }
   }
  },
  {
   "cell_type": "code",
   "execution_count": 88,
   "outputs": [
    {
     "data": {
      "text/plain": "year_month\n2020-12     111\n2021-01    2246\n2021-02    2139\n2021-03    2866\n2021-04    2466\n2021-05    2632\n2021-06    1356\nFreq: M, Name: detected, dtype: int64"
     },
     "execution_count": 88,
     "metadata": {},
     "output_type": "execute_result"
    }
   ],
   "source": [
    "encuestas_con_tag= df.groupby(\"year_month\")[\"detected\"].sum()\n",
    "encuestas_con_tag"
   ],
   "metadata": {
    "collapsed": false,
    "pycharm": {
     "name": "#%%\n"
    }
   }
  },
  {
   "cell_type": "markdown",
   "source": [
    "Crear otro dataset donde tenga la cantidad de encuestas por nps_segment unicas por mes. promotoras, neutras y detractoras."
   ],
   "metadata": {
    "collapsed": false,
    "pycharm": {
     "name": "#%% md\n"
    }
   }
  },
  {
   "cell_type": "markdown",
   "source": [],
   "metadata": {
    "collapsed": false,
    "pycharm": {
     "name": "#%% md\n"
    }
   }
  },
  {
   "cell_type": "code",
   "execution_count": 90,
   "outputs": [
    {
     "data": {
      "text/plain": "year_month  nps_segment\n2020-12     Detractor        14\n            Neutro            7\n            Promotor         90\n2021-01     Detractor       375\n            Neutro          143\n            Promotor       1728\n2021-02     Detractor       437\n            Neutro          128\n            Promotor       1574\n2021-03     Detractor       511\n            Neutro          202\n            Promotor       2153\n2021-04     Detractor       372\n            Neutro          166\n            Promotor       1928\n2021-05     Detractor       383\n            Neutro          173\n            Promotor       2076\n2021-06     Detractor       197\n            Neutro           81\n            Promotor       1078\nName: detected, dtype: int64"
     },
     "execution_count": 90,
     "metadata": {},
     "output_type": "execute_result"
    }
   ],
   "source": [
    "encuestas_con_tag_por_categoriaa= df.groupby(by=[\"year_month\",\"nps_segment\"])[\"detected\"].count()\n",
    "encuestas_con_tag_por_categoriaa"
   ],
   "metadata": {
    "collapsed": false,
    "pycharm": {
     "name": "#%%\n"
    }
   }
  },
  {
   "cell_type": "markdown",
   "source": [
    "### Seg,emtps\n",
    "Crear un dataset que agrupe por segmento los CIF_ID únicos"
   ],
   "metadata": {
    "collapsed": false,
    "pycharm": {
     "name": "#%% md\n"
    }
   }
  },
  {
   "cell_type": "code",
   "execution_count": 89,
   "outputs": [
    {
     "data": {
      "text/plain": "nps_segment\nDetractor     2515\nNeutro        1129\nPromotor     12356\nName: CIF_ID, dtype: int64"
     },
     "execution_count": 89,
     "metadata": {},
     "output_type": "execute_result"
    }
   ],
   "source": [
    "\n",
    "dataset_por_segmento= df.groupby('nps_segment')['CIF_ID'].nunique()\n",
    "dataset_por_segmento"
   ],
   "metadata": {
    "collapsed": false,
    "pycharm": {
     "name": "#%%\n"
    }
   }
  },
  {
   "cell_type": "code",
   "execution_count": null,
   "outputs": [],
   "source": [
    "#reset_index() implementalo al dataset y asignaselo\n",
    "dataset_por_segmento"
   ],
   "metadata": {
    "collapsed": false,
    "pycharm": {
     "name": "#%%\n"
    }
   }
  },
  {
   "cell_type": "markdown",
   "source": [
    "Cantidad que hay por detractor, promotor y neutro"
   ],
   "metadata": {
    "collapsed": false,
    "pycharm": {
     "name": "#%% md\n"
    }
   }
  },
  {
   "cell_type": "code",
   "execution_count": null,
   "outputs": [],
   "source": [],
   "metadata": {
    "collapsed": false,
    "pycharm": {
     "name": "#%%\n"
    }
   }
  },
  {
   "cell_type": "markdown",
   "source": [
    "# Countplot\n",
    "Hacer un countplot por la cantidad de NPS segment"
   ],
   "metadata": {
    "collapsed": false,
    "pycharm": {
     "name": "#%% md\n"
    }
   }
  },
  {
   "cell_type": "code",
   "execution_count": 92,
   "outputs": [],
   "source": [
    "from matplotlib import rcParams\n",
    "import seaborn as sns\n",
    "rcParams['figure.figsize'] = 6,6\n",
    "paleta = [\"#66bd63\",\"#a50026\", \"#fee08b\"]"
   ],
   "metadata": {
    "collapsed": false,
    "pycharm": {
     "name": "#%%\n"
    }
   }
  },
  {
   "cell_type": "code",
   "execution_count": 103,
   "outputs": [
    {
     "data": {
      "text/plain": "<AxesSubplot:xlabel='nps_segment', ylabel='count'>"
     },
     "execution_count": 103,
     "metadata": {},
     "output_type": "execute_result"
    },
    {
     "data": {
      "text/plain": "<Figure size 432x432 with 1 Axes>",
      "image/png": "[encoded data removed]"
     },
     "metadata": {
      "needs_background": "light"
     },
     "output_type": "display_data"
    }
   ],
   "source": [
    "sns.countplot(x=\"nps_segment\",data=df,palette=paleta,order=df['nps_segment'].value_counts().index)"
   ],
   "metadata": {
    "collapsed": false,
    "pycharm": {
     "name": "#%%\n"
    }
   }
  },
  {
   "cell_type": "code",
   "execution_count": null,
   "outputs": [],
   "source": [],
   "metadata": {
    "collapsed": false,
    "pycharm": {
     "name": "#%%\n"
    }
   }
  },
  {
   "cell_type": "code",
   "execution_count": null,
   "outputs": [],
   "source": [
    "#imprimir las cantidades\n"
   ],
   "metadata": {
    "collapsed": false,
    "pycharm": {
     "name": "#%%\n"
    }
   }
  },
  {
   "cell_type": "markdown",
   "source": [
    "# Crosstab\n",
    "\n",
    "Armar un crostab por year_month en el index y NPS segment cómo columna"
   ],
   "metadata": {
    "collapsed": false,
    "pycharm": {
     "name": "#%% md\n"
    }
   }
  },
  {
   "cell_type": "code",
   "execution_count": 107,
   "outputs": [
    {
     "ename": "KeyError",
     "evalue": "'segmentos'",
     "output_type": "error",
     "traceback": [
      "\u001B[1;31m---------------------------------------------------------------------------\u001B[0m",
      "\u001B[1;31mKeyError\u001B[0m                                  Traceback (most recent call last)",
      "\u001B[1;32m~\\AppData\\Local\\Temp/ipykernel_1512/2340525883.py\u001B[0m in \u001B[0;36m<module>\u001B[1;34m\u001B[0m\n\u001B[1;32m----> 1\u001B[1;33m \u001B[0mcross_table\u001B[0m\u001B[1;33m=\u001B[0m\u001B[0mdf\u001B[0m\u001B[1;33m.\u001B[0m\u001B[0mpivot_table\u001B[0m\u001B[1;33m(\u001B[0m\u001B[0mindex\u001B[0m\u001B[1;33m=\u001B[0m\u001B[1;34m'year_month'\u001B[0m\u001B[1;33m,\u001B[0m\u001B[0mcolumns\u001B[0m\u001B[1;33m=\u001B[0m\u001B[1;34m\"segmentos\"\u001B[0m\u001B[1;33m,\u001B[0m\u001B[0mvalues\u001B[0m \u001B[1;33m=\u001B[0m \u001B[1;34m'nps_segment'\u001B[0m\u001B[1;33m)\u001B[0m\u001B[1;33m\u001B[0m\u001B[1;33m\u001B[0m\u001B[0m\n\u001B[0m\u001B[0;32m      2\u001B[0m \u001B[0mcross_table\u001B[0m\u001B[1;33m\u001B[0m\u001B[1;33m\u001B[0m\u001B[0m\n",
      "\u001B[1;32m~\\AppData\\Local\\Programs\\Python\\Python310\\lib\\site-packages\\pandas\\core\\frame.py\u001B[0m in \u001B[0;36mpivot_table\u001B[1;34m(self, values, index, columns, aggfunc, fill_value, margins, dropna, margins_name, observed, sort)\u001B[0m\n\u001B[0;32m   7949\u001B[0m         \u001B[1;32mfrom\u001B[0m \u001B[0mpandas\u001B[0m\u001B[1;33m.\u001B[0m\u001B[0mcore\u001B[0m\u001B[1;33m.\u001B[0m\u001B[0mreshape\u001B[0m\u001B[1;33m.\u001B[0m\u001B[0mpivot\u001B[0m \u001B[1;32mimport\u001B[0m \u001B[0mpivot_table\u001B[0m\u001B[1;33m\u001B[0m\u001B[1;33m\u001B[0m\u001B[0m\n\u001B[0;32m   7950\u001B[0m \u001B[1;33m\u001B[0m\u001B[0m\n\u001B[1;32m-> 7951\u001B[1;33m         return pivot_table(\n\u001B[0m\u001B[0;32m   7952\u001B[0m             \u001B[0mself\u001B[0m\u001B[1;33m,\u001B[0m\u001B[1;33m\u001B[0m\u001B[1;33m\u001B[0m\u001B[0m\n\u001B[0;32m   7953\u001B[0m             \u001B[0mvalues\u001B[0m\u001B[1;33m=\u001B[0m\u001B[0mvalues\u001B[0m\u001B[1;33m,\u001B[0m\u001B[1;33m\u001B[0m\u001B[1;33m\u001B[0m\u001B[0m\n",
      "\u001B[1;32m~\\AppData\\Local\\Programs\\Python\\Python310\\lib\\site-packages\\pandas\\core\\reshape\\pivot.py\u001B[0m in \u001B[0;36mpivot_table\u001B[1;34m(data, values, index, columns, aggfunc, fill_value, margins, dropna, margins_name, observed, sort)\u001B[0m\n\u001B[0;32m     93\u001B[0m         \u001B[1;32mreturn\u001B[0m \u001B[0mtable\u001B[0m\u001B[1;33m.\u001B[0m\u001B[0m__finalize__\u001B[0m\u001B[1;33m(\u001B[0m\u001B[0mdata\u001B[0m\u001B[1;33m,\u001B[0m \u001B[0mmethod\u001B[0m\u001B[1;33m=\u001B[0m\u001B[1;34m\"pivot_table\"\u001B[0m\u001B[1;33m)\u001B[0m\u001B[1;33m\u001B[0m\u001B[1;33m\u001B[0m\u001B[0m\n\u001B[0;32m     94\u001B[0m \u001B[1;33m\u001B[0m\u001B[0m\n\u001B[1;32m---> 95\u001B[1;33m     table = __internal_pivot_table(\n\u001B[0m\u001B[0;32m     96\u001B[0m         \u001B[0mdata\u001B[0m\u001B[1;33m,\u001B[0m\u001B[1;33m\u001B[0m\u001B[1;33m\u001B[0m\u001B[0m\n\u001B[0;32m     97\u001B[0m         \u001B[0mvalues\u001B[0m\u001B[1;33m,\u001B[0m\u001B[1;33m\u001B[0m\u001B[1;33m\u001B[0m\u001B[0m\n",
      "\u001B[1;32m~\\AppData\\Local\\Programs\\Python\\Python310\\lib\\site-packages\\pandas\\core\\reshape\\pivot.py\u001B[0m in \u001B[0;36m__internal_pivot_table\u001B[1;34m(data, values, index, columns, aggfunc, fill_value, margins, dropna, margins_name, observed, sort)\u001B[0m\n\u001B[0;32m    162\u001B[0m         \u001B[0mvalues\u001B[0m \u001B[1;33m=\u001B[0m \u001B[0mlist\u001B[0m\u001B[1;33m(\u001B[0m\u001B[0mvalues\u001B[0m\u001B[1;33m)\u001B[0m\u001B[1;33m\u001B[0m\u001B[1;33m\u001B[0m\u001B[0m\n\u001B[0;32m    163\u001B[0m \u001B[1;33m\u001B[0m\u001B[0m\n\u001B[1;32m--> 164\u001B[1;33m     \u001B[0mgrouped\u001B[0m \u001B[1;33m=\u001B[0m \u001B[0mdata\u001B[0m\u001B[1;33m.\u001B[0m\u001B[0mgroupby\u001B[0m\u001B[1;33m(\u001B[0m\u001B[0mkeys\u001B[0m\u001B[1;33m,\u001B[0m \u001B[0mobserved\u001B[0m\u001B[1;33m=\u001B[0m\u001B[0mobserved\u001B[0m\u001B[1;33m,\u001B[0m \u001B[0msort\u001B[0m\u001B[1;33m=\u001B[0m\u001B[0msort\u001B[0m\u001B[1;33m)\u001B[0m\u001B[1;33m\u001B[0m\u001B[1;33m\u001B[0m\u001B[0m\n\u001B[0m\u001B[0;32m    165\u001B[0m     \u001B[0magged\u001B[0m \u001B[1;33m=\u001B[0m \u001B[0mgrouped\u001B[0m\u001B[1;33m.\u001B[0m\u001B[0magg\u001B[0m\u001B[1;33m(\u001B[0m\u001B[0maggfunc\u001B[0m\u001B[1;33m)\u001B[0m\u001B[1;33m\u001B[0m\u001B[1;33m\u001B[0m\u001B[0m\n\u001B[0;32m    166\u001B[0m     \u001B[1;32mif\u001B[0m \u001B[0mdropna\u001B[0m \u001B[1;32mand\u001B[0m \u001B[0misinstance\u001B[0m\u001B[1;33m(\u001B[0m\u001B[0magged\u001B[0m\u001B[1;33m,\u001B[0m \u001B[0mABCDataFrame\u001B[0m\u001B[1;33m)\u001B[0m \u001B[1;32mand\u001B[0m \u001B[0mlen\u001B[0m\u001B[1;33m(\u001B[0m\u001B[0magged\u001B[0m\u001B[1;33m.\u001B[0m\u001B[0mcolumns\u001B[0m\u001B[1;33m)\u001B[0m\u001B[1;33m:\u001B[0m\u001B[1;33m\u001B[0m\u001B[1;33m\u001B[0m\u001B[0m\n",
      "\u001B[1;32m~\\AppData\\Local\\Programs\\Python\\Python310\\lib\\site-packages\\pandas\\core\\frame.py\u001B[0m in \u001B[0;36mgroupby\u001B[1;34m(self, by, axis, level, as_index, sort, group_keys, squeeze, observed, dropna)\u001B[0m\n\u001B[0;32m   7629\u001B[0m         \u001B[1;31m# error: Argument \"squeeze\" to \"DataFrameGroupBy\" has incompatible type\u001B[0m\u001B[1;33m\u001B[0m\u001B[1;33m\u001B[0m\u001B[0m\n\u001B[0;32m   7630\u001B[0m         \u001B[1;31m# \"Union[bool, NoDefault]\"; expected \"bool\"\u001B[0m\u001B[1;33m\u001B[0m\u001B[1;33m\u001B[0m\u001B[0m\n\u001B[1;32m-> 7631\u001B[1;33m         return DataFrameGroupBy(\n\u001B[0m\u001B[0;32m   7632\u001B[0m             \u001B[0mobj\u001B[0m\u001B[1;33m=\u001B[0m\u001B[0mself\u001B[0m\u001B[1;33m,\u001B[0m\u001B[1;33m\u001B[0m\u001B[1;33m\u001B[0m\u001B[0m\n\u001B[0;32m   7633\u001B[0m             \u001B[0mkeys\u001B[0m\u001B[1;33m=\u001B[0m\u001B[0mby\u001B[0m\u001B[1;33m,\u001B[0m\u001B[1;33m\u001B[0m\u001B[1;33m\u001B[0m\u001B[0m\n",
      "\u001B[1;32m~\\AppData\\Local\\Programs\\Python\\Python310\\lib\\site-packages\\pandas\\core\\groupby\\groupby.py\u001B[0m in \u001B[0;36m__init__\u001B[1;34m(self, obj, keys, axis, level, grouper, exclusions, selection, as_index, sort, group_keys, squeeze, observed, mutated, dropna)\u001B[0m\n\u001B[0;32m    887\u001B[0m             \u001B[1;32mfrom\u001B[0m \u001B[0mpandas\u001B[0m\u001B[1;33m.\u001B[0m\u001B[0mcore\u001B[0m\u001B[1;33m.\u001B[0m\u001B[0mgroupby\u001B[0m\u001B[1;33m.\u001B[0m\u001B[0mgrouper\u001B[0m \u001B[1;32mimport\u001B[0m \u001B[0mget_grouper\u001B[0m\u001B[1;33m\u001B[0m\u001B[1;33m\u001B[0m\u001B[0m\n\u001B[0;32m    888\u001B[0m \u001B[1;33m\u001B[0m\u001B[0m\n\u001B[1;32m--> 889\u001B[1;33m             grouper, exclusions, obj = get_grouper(\n\u001B[0m\u001B[0;32m    890\u001B[0m                 \u001B[0mobj\u001B[0m\u001B[1;33m,\u001B[0m\u001B[1;33m\u001B[0m\u001B[1;33m\u001B[0m\u001B[0m\n\u001B[0;32m    891\u001B[0m                 \u001B[0mkeys\u001B[0m\u001B[1;33m,\u001B[0m\u001B[1;33m\u001B[0m\u001B[1;33m\u001B[0m\u001B[0m\n",
      "\u001B[1;32m~\\AppData\\Local\\Programs\\Python\\Python310\\lib\\site-packages\\pandas\\core\\groupby\\grouper.py\u001B[0m in \u001B[0;36mget_grouper\u001B[1;34m(obj, key, axis, level, sort, observed, mutated, validate, dropna)\u001B[0m\n\u001B[0;32m    860\u001B[0m                 \u001B[0min_axis\u001B[0m\u001B[1;33m,\u001B[0m \u001B[0mlevel\u001B[0m\u001B[1;33m,\u001B[0m \u001B[0mgpr\u001B[0m \u001B[1;33m=\u001B[0m \u001B[1;32mFalse\u001B[0m\u001B[1;33m,\u001B[0m \u001B[0mgpr\u001B[0m\u001B[1;33m,\u001B[0m \u001B[1;32mNone\u001B[0m\u001B[1;33m\u001B[0m\u001B[1;33m\u001B[0m\u001B[0m\n\u001B[0;32m    861\u001B[0m             \u001B[1;32melse\u001B[0m\u001B[1;33m:\u001B[0m\u001B[1;33m\u001B[0m\u001B[1;33m\u001B[0m\u001B[0m\n\u001B[1;32m--> 862\u001B[1;33m                 \u001B[1;32mraise\u001B[0m \u001B[0mKeyError\u001B[0m\u001B[1;33m(\u001B[0m\u001B[0mgpr\u001B[0m\u001B[1;33m)\u001B[0m\u001B[1;33m\u001B[0m\u001B[1;33m\u001B[0m\u001B[0m\n\u001B[0m\u001B[0;32m    863\u001B[0m         \u001B[1;32melif\u001B[0m \u001B[0misinstance\u001B[0m\u001B[1;33m(\u001B[0m\u001B[0mgpr\u001B[0m\u001B[1;33m,\u001B[0m \u001B[0mGrouper\u001B[0m\u001B[1;33m)\u001B[0m \u001B[1;32mand\u001B[0m \u001B[0mgpr\u001B[0m\u001B[1;33m.\u001B[0m\u001B[0mkey\u001B[0m \u001B[1;32mis\u001B[0m \u001B[1;32mnot\u001B[0m \u001B[1;32mNone\u001B[0m\u001B[1;33m:\u001B[0m\u001B[1;33m\u001B[0m\u001B[1;33m\u001B[0m\u001B[0m\n\u001B[0;32m    864\u001B[0m             \u001B[1;31m# Add key to exclusions\u001B[0m\u001B[1;33m\u001B[0m\u001B[1;33m\u001B[0m\u001B[0m\n",
      "\u001B[1;31mKeyError\u001B[0m: 'segmentos'"
     ]
    }
   ],
   "source": [
    "cross_table=df.pivot_table(index='year_month',columns=\"segmentos\",values = 'nps_segment')\n",
    "cross_table"
   ],
   "metadata": {
    "collapsed": false,
    "pycharm": {
     "name": "#%%\n"
    }
   }
  },
  {
   "cell_type": "markdown",
   "source": [
    "¿Para que sirve esta tabla?"
   ],
   "metadata": {
    "collapsed": false,
    "pycharm": {
     "name": "#%% md\n"
    }
   }
  },
  {
   "cell_type": "markdown",
   "source": [
    "Armar en terminos relativos. Es decir, en porcentaje de total por mes."
   ],
   "metadata": {
    "collapsed": false,
    "pycharm": {
     "name": "#%% md\n"
    }
   }
  },
  {
   "cell_type": "code",
   "execution_count": null,
   "outputs": [],
   "source": [],
   "metadata": {
    "collapsed": false,
    "pycharm": {
     "name": "#%%\n"
    }
   }
  },
  {
   "cell_type": "markdown",
   "source": [
    "# Lineplot\n",
    "\n",
    "En el eje x gráfica el mes y en el eje y tres lineas con detractor, neutro y promotor"
   ],
   "metadata": {
    "collapsed": false,
    "pycharm": {
     "name": "#%% md\n"
    }
   }
  },
  {
   "cell_type": "code",
   "execution_count": null,
   "outputs": [],
   "source": [],
   "metadata": {
    "collapsed": false,
    "pycharm": {
     "name": "#%%\n"
    }
   }
  },
  {
   "cell_type": "markdown",
   "source": [
    "Armar un cross tab con los comentarios detectados mes a mes"
   ],
   "metadata": {
    "collapsed": false,
    "pycharm": {
     "name": "#%% md\n"
    }
   }
  },
  {
   "cell_type": "code",
   "execution_count": null,
   "outputs": [],
   "source": [
    "."
   ],
   "metadata": {
    "collapsed": false,
    "pycharm": {
     "name": "#%%\n"
    }
   }
  },
  {
   "cell_type": "markdown",
   "source": [
    "¿Que mes es en el que más falla? ¿podemos sacar una conclusión?"
   ],
   "metadata": {
    "collapsed": false,
    "pycharm": {
     "name": "#%% md\n"
    }
   }
  },
  {
   "cell_type": "markdown",
   "source": [
    "# Case Channel\n",
    "\n",
    "Reproducí este gráfico. ¿Para qué sirve?\n",
    "\n",
    "HINT:\n",
    "\n",
    "plt.rc('xtick', labelsize=24)\n",
    "plt.rc('ytick', labelsize=10)\n",
    "ax = sns.countplot(data = df, x = 'CASE_CHANNEL',\n",
    "              order = df['CASE_CHANNEL'].value_counts().index)"
   ],
   "metadata": {
    "collapsed": false,
    "pycharm": {
     "name": "#%% md\n"
    }
   }
  },
  {
   "cell_type": "code",
   "execution_count": null,
   "outputs": [],
   "source": [],
   "metadata": {
    "collapsed": false,
    "pycharm": {
     "name": "#%%\n"
    }
   }
  },
  {
   "cell_type": "markdown",
   "source": [
    "Instala la librería squarify y ejecuta la linea de código de aca abajo importala y"
   ],
   "metadata": {
    "collapsed": false,
    "pycharm": {
     "name": "#%% md\n"
    }
   }
  },
  {
   "cell_type": "code",
   "execution_count": null,
   "outputs": [],
   "source": [
    "#filtro = df[df['CASE_CHANNEL'].map(df['CASE_CHANNEL'].value_counts()) > 900]\n",
    "label_value = df[\"CASE_CHANNEL\"].value_counts().to_dict()\n",
    "# Creo los labels usando a list comprehesion\n",
    "labels = [\"{} tiene {} obs\".format(class_, obs) for class_, obs in label_value.items()]\n",
    "# Creo colores por cantidad de trabajos\n",
    "colors = [plt.cm.Spectral(i/float(len(labels))) for i in range(len(labels))]\n",
    "plt.figure(figsize = (18, 10))\n",
    "squarify.plot(sizes = label_value.values(), label = labels,  color = colors, alpha = 0.8)\n",
    "plt.title(\"Cantidad de casos por CASE_CHANNEL\");"
   ],
   "metadata": {
    "collapsed": false,
    "pycharm": {
     "name": "#%%\n"
    }
   }
  },
  {
   "cell_type": "markdown",
   "source": [
    "Crear un cross tab entre segmento y Case chanel"
   ],
   "metadata": {
    "collapsed": false,
    "pycharm": {
     "name": "#%% md\n"
    }
   }
  },
  {
   "cell_type": "code",
   "execution_count": null,
   "outputs": [],
   "source": [],
   "metadata": {
    "collapsed": false,
    "pycharm": {
     "name": "#%%\n"
    }
   }
  },
  {
   "cell_type": "markdown",
   "source": [
    "# Plotea un gráfico de barras"
   ],
   "metadata": {
    "collapsed": false,
    "pycharm": {
     "name": "#%% md\n"
    }
   }
  },
  {
   "cell_type": "code",
   "execution_count": null,
   "outputs": [],
   "source": [],
   "metadata": {
    "collapsed": false,
    "pycharm": {
     "name": "#%%\n"
    }
   }
  },
  {
   "cell_type": "markdown",
   "source": [
    "### Crear un crostab de nps_segment por genero en porcentaje"
   ],
   "metadata": {
    "collapsed": false,
    "pycharm": {
     "name": "#%% md\n"
    }
   }
  },
  {
   "cell_type": "code",
   "execution_count": null,
   "outputs": [],
   "source": [],
   "metadata": {
    "collapsed": false,
    "pycharm": {
     "name": "#%%\n"
    }
   }
  },
  {
   "cell_type": "code",
   "execution_count": null,
   "outputs": [],
   "source": [],
   "metadata": {
    "collapsed": false,
    "pycharm": {
     "name": "#%%\n"
    }
   }
  },
  {
   "cell_type": "markdown",
   "source": [
    "# Edad\n",
    "\n",
    "Imprimir los siguientes valores"
   ],
   "metadata": {
    "collapsed": false,
    "pycharm": {
     "name": "#%% md\n"
    }
   }
  },
  {
   "cell_type": "code",
   "execution_count": null,
   "outputs": [],
   "source": [],
   "metadata": {
    "collapsed": false,
    "pycharm": {
     "name": "#%%\n"
    }
   }
  },
  {
   "cell_type": "markdown",
   "source": [
    "Graficar la distribución de la edad"
   ],
   "metadata": {
    "collapsed": false,
    "pycharm": {
     "name": "#%% md\n"
    }
   }
  },
  {
   "cell_type": "code",
   "execution_count": null,
   "outputs": [],
   "source": [
    "rcParams['figure.figsize'] = 12,8\n",
    "sns.set()\n",
    "plt.rc('xtick', labelsize=5)\n",
    "plt.rc('ytick', labelsize=10)\n",
    "#codigo del gráfico"
   ],
   "metadata": {
    "collapsed": false,
    "pycharm": {
     "name": "#%%\n"
    }
   }
  },
  {
   "cell_type": "markdown",
   "source": [
    "# Boxplot\n",
    "\n",
    "Armar un boxplot por segmento, representando en el eje Y la edad."
   ],
   "metadata": {
    "collapsed": false,
    "pycharm": {
     "name": "#%% md\n"
    }
   }
  },
  {
   "cell_type": "code",
   "execution_count": null,
   "outputs": [],
   "source": [
    "fig, (ax1) = plt.subplots( figsize = (8, 8))\n",
    "#sn.boxplot\n",
    "ax1.set_xlabel('Conversión', fontsize=10)\n",
    "ax1.set_ylabel('Edad', fontsize=10)\n",
    "ax1.set_title('Boxplot Edad', fontsize=10)\n",
    "ax1.tick_params(labelsize=10)\n",
    "\n",
    "plt.subplots_adjust(wspace=0.5)\n",
    "\n",
    "plt.tight_layout()"
   ],
   "metadata": {
    "collapsed": false,
    "pycharm": {
     "name": "#%%\n"
    }
   }
  },
  {
   "cell_type": "markdown",
   "source": [
    "# Discretización\n",
    "Representar la edad en grupos de deacadas"
   ],
   "metadata": {
    "collapsed": false,
    "pycharm": {
     "name": "#%% md\n"
    }
   }
  },
  {
   "cell_type": "code",
   "execution_count": null,
   "outputs": [],
   "source": [
    "#primero crear la columna según regla de edad\n",
    "#luego crosstab"
   ],
   "metadata": {
    "collapsed": false,
    "pycharm": {
     "name": "#%%\n"
    }
   }
  },
  {
   "cell_type": "code",
   "execution_count": null,
   "outputs": [],
   "source": [
    "#ULTRA HINT: per_edad = pd.crosstab(df['nps_segment'],df['grupo_edad'])\n",
    "per_edad = per_edad.T\n",
    "per_edad"
   ],
   "metadata": {
    "collapsed": false,
    "pycharm": {
     "name": "#%%\n"
    }
   }
  },
  {
   "cell_type": "code",
   "execution_count": null,
   "outputs": [],
   "source": [
    "rcParams['figure.figsize'] = 8,6\n",
    "plt.rc('xtick', labelsize=10)\n",
    "plt.rc('ytick', labelsize=10)\n",
    "sns.set_style(\"darkgrid\")\n",
    "#.plot(kind = 'bar',color = paleta)\n",
    "plt.xlabel('Edad del grupo')\n",
    "plt.ylabel('Tasa de Conversión sobre el total')\n",
    "plt.xticks(np.arange(5), ('<30', '30-39', '40-49', '50-59', '60+'),rotation = 'horizontal')\n",
    "plt.title('Conversión vs Rango Etareo')\n",
    "plt.show()"
   ],
   "metadata": {
    "collapsed": false,
    "pycharm": {
     "name": "#%%\n"
    }
   }
  }
 ],
 "metadata": {
  "kernelspec": {
   "display_name": "Python 3",
   "language": "python",
   "name": "python3"
  },
  "language_info": {
   "codemirror_mode": {
    "name": "ipython",
    "version": 2
   },
   "file_extension": ".py",
   "mimetype": "text/x-python",
   "name": "python",
   "nbconvert_exporter": "python",
   "pygments_lexer": "ipython2",
   "version": "2.7.6"
  }
 },
 "nbformat": 4,
 "nbformat_minor": 0
}