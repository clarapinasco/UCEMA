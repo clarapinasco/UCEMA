{
 "cells": [
  {
   "cell_type": "code",
   "execution_count": 14,
   "metadata": {
    "collapsed": true,
    "pycharm": {
     "name": "#%%\n"
    }
   },
   "outputs": [],
   "source": [
    "import pandas as pd\n",
    "import os"
   ]
  },
  {
   "cell_type": "code",
   "execution_count": 15,
   "outputs": [
    {
     "data": {
      "text/plain": "'C:\\\\Users\\\\Nicolas\\\\OneDrive\\\\clari\\\\ucema\\\\POO\\\\teoria\\\\UCEMA\\\\Alumna\\\\04-transformaciones/ventas_comercial/'"
     },
     "execution_count": 15,
     "metadata": {},
     "output_type": "execute_result"
    }
   ],
   "source": [
    "path = os.getcwd() + '/ventas_comercial/'\n",
    "path"
   ],
   "metadata": {
    "collapsed": false,
    "pycharm": {
     "name": "#%%\n"
    }
   }
  },
  {
   "cell_type": "code",
   "execution_count": 16,
   "outputs": [],
   "source": [
    "#create a dataframe"
   ],
   "metadata": {
    "collapsed": false,
    "pycharm": {
     "name": "#%%\n"
    }
   }
  },
  {
   "cell_type": "code",
   "execution_count": 17,
   "outputs": [],
   "source": [
    "import glob\n",
    "import os\n",
    "import pandas as pd\n"
   ],
   "metadata": {
    "collapsed": false,
    "pycharm": {
     "name": "#%%\n"
    }
   }
  },
  {
   "cell_type": "code",
   "execution_count": 18,
   "outputs": [
    {
     "data": {
      "text/plain": "'C:\\\\Users\\\\Nicolas\\\\OneDrive\\\\clari\\\\ucema\\\\POO\\\\teoria\\\\UCEMA\\\\Alumna\\\\04-transformaciones'"
     },
     "execution_count": 18,
     "metadata": {},
     "output_type": "execute_result"
    }
   ],
   "source": [
    "# Para listar los archivos de un directorio\n",
    "os.getcwd()\n"
   ],
   "metadata": {
    "collapsed": false,
    "pycharm": {
     "name": "#%%\n"
    }
   }
  },
  {
   "cell_type": "code",
   "execution_count": 19,
   "outputs": [
    {
     "name": "stdout",
     "output_type": "stream",
     "text": [
      "C:\\Users\\Nicolas\\OneDrive\\clari\\ucema\\POO\\teoria\\UCEMA\\Alumna\\04-transformaciones/obras\\A Comedy of Errors.csv\n",
      "C:\\Users\\Nicolas\\OneDrive\\clari\\ucema\\POO\\teoria\\UCEMA\\Alumna\\04-transformaciones/obras\\A Midsummer nights dream.csv\n",
      "C:\\Users\\Nicolas\\OneDrive\\clari\\ucema\\POO\\teoria\\UCEMA\\Alumna\\04-transformaciones/obras\\A Winters Tale.csv\n",
      "C:\\Users\\Nicolas\\OneDrive\\clari\\ucema\\POO\\teoria\\UCEMA\\Alumna\\04-transformaciones/obras\\Alls well that ends well.csv\n",
      "C:\\Users\\Nicolas\\OneDrive\\clari\\ucema\\POO\\teoria\\UCEMA\\Alumna\\04-transformaciones/obras\\Antony and Cleopatra.csv\n",
      "C:\\Users\\Nicolas\\OneDrive\\clari\\ucema\\POO\\teoria\\UCEMA\\Alumna\\04-transformaciones/obras\\As you like it.csv\n",
      "C:\\Users\\Nicolas\\OneDrive\\clari\\ucema\\POO\\teoria\\UCEMA\\Alumna\\04-transformaciones/obras\\combined_csv.csv\n",
      "C:\\Users\\Nicolas\\OneDrive\\clari\\ucema\\POO\\teoria\\UCEMA\\Alumna\\04-transformaciones/obras\\Coriolanus.csv\n",
      "C:\\Users\\Nicolas\\OneDrive\\clari\\ucema\\POO\\teoria\\UCEMA\\Alumna\\04-transformaciones/obras\\Cymbeline.csv\n",
      "C:\\Users\\Nicolas\\OneDrive\\clari\\ucema\\POO\\teoria\\UCEMA\\Alumna\\04-transformaciones/obras\\Hamlet.csv\n",
      "C:\\Users\\Nicolas\\OneDrive\\clari\\ucema\\POO\\teoria\\UCEMA\\Alumna\\04-transformaciones/obras\\Henry IV.csv\n",
      "C:\\Users\\Nicolas\\OneDrive\\clari\\ucema\\POO\\teoria\\UCEMA\\Alumna\\04-transformaciones/obras\\Henry V.csv\n",
      "C:\\Users\\Nicolas\\OneDrive\\clari\\ucema\\POO\\teoria\\UCEMA\\Alumna\\04-transformaciones/obras\\Henry VI Part 1.csv\n",
      "C:\\Users\\Nicolas\\OneDrive\\clari\\ucema\\POO\\teoria\\UCEMA\\Alumna\\04-transformaciones/obras\\Henry VI Part 2.csv\n",
      "C:\\Users\\Nicolas\\OneDrive\\clari\\ucema\\POO\\teoria\\UCEMA\\Alumna\\04-transformaciones/obras\\Henry VI Part 3.csv\n",
      "C:\\Users\\Nicolas\\OneDrive\\clari\\ucema\\POO\\teoria\\UCEMA\\Alumna\\04-transformaciones/obras\\Henry VIII.csv\n",
      "C:\\Users\\Nicolas\\OneDrive\\clari\\ucema\\POO\\teoria\\UCEMA\\Alumna\\04-transformaciones/obras\\Julius Caesar.csv\n",
      "C:\\Users\\Nicolas\\OneDrive\\clari\\ucema\\POO\\teoria\\UCEMA\\Alumna\\04-transformaciones/obras\\King John.csv\n",
      "C:\\Users\\Nicolas\\OneDrive\\clari\\ucema\\POO\\teoria\\UCEMA\\Alumna\\04-transformaciones/obras\\King Lear.csv\n",
      "C:\\Users\\Nicolas\\OneDrive\\clari\\ucema\\POO\\teoria\\UCEMA\\Alumna\\04-transformaciones/obras\\Loves Labours Lost.csv\n",
      "C:\\Users\\Nicolas\\OneDrive\\clari\\ucema\\POO\\teoria\\UCEMA\\Alumna\\04-transformaciones/obras\\macbeth.csv\n",
      "C:\\Users\\Nicolas\\OneDrive\\clari\\ucema\\POO\\teoria\\UCEMA\\Alumna\\04-transformaciones/obras\\Measure for measure.csv\n",
      "C:\\Users\\Nicolas\\OneDrive\\clari\\ucema\\POO\\teoria\\UCEMA\\Alumna\\04-transformaciones/obras\\Merchant of Venice.csv\n",
      "C:\\Users\\Nicolas\\OneDrive\\clari\\ucema\\POO\\teoria\\UCEMA\\Alumna\\04-transformaciones/obras\\Merry Wives of Windsor.csv\n",
      "C:\\Users\\Nicolas\\OneDrive\\clari\\ucema\\POO\\teoria\\UCEMA\\Alumna\\04-transformaciones/obras\\Much Ado about nothing.csv\n",
      "C:\\Users\\Nicolas\\OneDrive\\clari\\ucema\\POO\\teoria\\UCEMA\\Alumna\\04-transformaciones/obras\\Othello.csv\n",
      "C:\\Users\\Nicolas\\OneDrive\\clari\\ucema\\POO\\teoria\\UCEMA\\Alumna\\04-transformaciones/obras\\Pericles.csv\n",
      "C:\\Users\\Nicolas\\OneDrive\\clari\\ucema\\POO\\teoria\\UCEMA\\Alumna\\04-transformaciones/obras\\Richard II.csv\n",
      "C:\\Users\\Nicolas\\OneDrive\\clari\\ucema\\POO\\teoria\\UCEMA\\Alumna\\04-transformaciones/obras\\Richard III.csv\n",
      "C:\\Users\\Nicolas\\OneDrive\\clari\\ucema\\POO\\teoria\\UCEMA\\Alumna\\04-transformaciones/obras\\Romeo and Juliet.csv\n",
      "C:\\Users\\Nicolas\\OneDrive\\clari\\ucema\\POO\\teoria\\UCEMA\\Alumna\\04-transformaciones/obras\\Taming of the Shrew.csv\n",
      "C:\\Users\\Nicolas\\OneDrive\\clari\\ucema\\POO\\teoria\\UCEMA\\Alumna\\04-transformaciones/obras\\The Tempest.csv\n",
      "C:\\Users\\Nicolas\\OneDrive\\clari\\ucema\\POO\\teoria\\UCEMA\\Alumna\\04-transformaciones/obras\\Timon of Athens.csv\n",
      "C:\\Users\\Nicolas\\OneDrive\\clari\\ucema\\POO\\teoria\\UCEMA\\Alumna\\04-transformaciones/obras\\Titus Andronicus.csv\n",
      "C:\\Users\\Nicolas\\OneDrive\\clari\\ucema\\POO\\teoria\\UCEMA\\Alumna\\04-transformaciones/obras\\Troilus and Cressida.csv\n",
      "C:\\Users\\Nicolas\\OneDrive\\clari\\ucema\\POO\\teoria\\UCEMA\\Alumna\\04-transformaciones/obras\\Twelfth Night.csv\n",
      "C:\\Users\\Nicolas\\OneDrive\\clari\\ucema\\POO\\teoria\\UCEMA\\Alumna\\04-transformaciones/obras\\Two Gentlemen of Verona.csv\n"
     ]
    }
   ],
   "source": [
    "path = os.getcwd() +  '/obras/'\n",
    "for file in glob.glob(path+ \"/*.csv\"):\n",
    "    print(file)\n"
   ],
   "metadata": {
    "collapsed": false,
    "pycharm": {
     "name": "#%%\n"
    }
   }
  },
  {
   "cell_type": "code",
   "execution_count": 20,
   "outputs": [
    {
     "name": "stdout",
     "output_type": "stream",
     "text": [
      "C:\\Users\\Nicolas\\OneDrive\\clari\\ucema\\POO\\teoria\\UCEMA\\Alumna\\04-transformaciones/obras\\prueba_glob.py\n"
     ]
    }
   ],
   "source": [
    "path = os.getcwd() +  '/obras/'\n",
    "for file in glob.glob(path+ \"/*.py\"):\n",
    "    print(file)\n"
   ],
   "metadata": {
    "collapsed": false,
    "pycharm": {
     "name": "#%%\n"
    }
   }
  },
  {
   "cell_type": "code",
   "execution_count": 21,
   "outputs": [],
   "source": [
    "big_frame = pd.concat([pd.read_csv(f) for f in glob.glob(path + \"/*.csv\")],\n",
    "                      ignore_index=True)"
   ],
   "metadata": {
    "collapsed": false,
    "pycharm": {
     "name": "#%%\n"
    }
   }
  },
  {
   "cell_type": "code",
   "execution_count": 22,
   "outputs": [
    {
     "data": {
      "text/plain": "   Unnamed: 0  Dataline                Play  PlayerLinenumber ActSceneLine  \\\n0       22427     22428  A Comedy of Errors             132.0          NaN   \n1       22428     22429  A Comedy of Errors             132.0          NaN   \n2       22429     22430  A Comedy of Errors             132.0          NaN   \n3       22430     22431  A Comedy of Errors               1.0        1.1.1   \n4       22431     22432  A Comedy of Errors               1.0        1.1.2   \n\n            Player                                         PlayerLine  \n0  OCTAVIUS CAESAR                                              ACT I  \n1  OCTAVIUS CAESAR          SCENE I. A hall in DUKE SOLINUS'S palace.  \n2  OCTAVIUS CAESAR  Enter DUKE SOLINUS, AEGEON, Gaoler, Officers, ...  \n3           AEGEON               Proceed, Solinus, to procure my fall  \n4           AEGEON         And by the doom of death end woes and all.  ",
      "text/html": "<div>\n<style scoped>\n    .dataframe tbody tr th:only-of-type {\n        vertical-align: middle;\n    }\n\n    .dataframe tbody tr th {\n        vertical-align: top;\n    }\n\n    .dataframe thead th {\n        text-align: right;\n    }\n</style>\n<table border=\"1\" class=\"dataframe\">\n  <thead>\n    <tr style=\"text-align: right;\">\n      <th></th>\n      <th>Unnamed: 0</th>\n      <th>Dataline</th>\n      <th>Play</th>\n      <th>PlayerLinenumber</th>\n      <th>ActSceneLine</th>\n      <th>Player</th>\n      <th>PlayerLine</th>\n    </tr>\n  </thead>\n  <tbody>\n    <tr>\n      <th>0</th>\n      <td>22427</td>\n      <td>22428</td>\n      <td>A Comedy of Errors</td>\n      <td>132.0</td>\n      <td>NaN</td>\n      <td>OCTAVIUS CAESAR</td>\n      <td>ACT I</td>\n    </tr>\n    <tr>\n      <th>1</th>\n      <td>22428</td>\n      <td>22429</td>\n      <td>A Comedy of Errors</td>\n      <td>132.0</td>\n      <td>NaN</td>\n      <td>OCTAVIUS CAESAR</td>\n      <td>SCENE I. A hall in DUKE SOLINUS'S palace.</td>\n    </tr>\n    <tr>\n      <th>2</th>\n      <td>22429</td>\n      <td>22430</td>\n      <td>A Comedy of Errors</td>\n      <td>132.0</td>\n      <td>NaN</td>\n      <td>OCTAVIUS CAESAR</td>\n      <td>Enter DUKE SOLINUS, AEGEON, Gaoler, Officers, ...</td>\n    </tr>\n    <tr>\n      <th>3</th>\n      <td>22430</td>\n      <td>22431</td>\n      <td>A Comedy of Errors</td>\n      <td>1.0</td>\n      <td>1.1.1</td>\n      <td>AEGEON</td>\n      <td>Proceed, Solinus, to procure my fall</td>\n    </tr>\n    <tr>\n      <th>4</th>\n      <td>22431</td>\n      <td>22432</td>\n      <td>A Comedy of Errors</td>\n      <td>1.0</td>\n      <td>1.1.2</td>\n      <td>AEGEON</td>\n      <td>And by the doom of death end woes and all.</td>\n    </tr>\n  </tbody>\n</table>\n</div>"
     },
     "execution_count": 22,
     "metadata": {},
     "output_type": "execute_result"
    }
   ],
   "source": [
    "big_frame.head()\n"
   ],
   "metadata": {
    "collapsed": false,
    "pycharm": {
     "name": "#%%\n"
    }
   }
  },
  {
   "cell_type": "code",
   "execution_count": 23,
   "outputs": [
    {
     "data": {
      "text/plain": "(1002564, 7)"
     },
     "execution_count": 23,
     "metadata": {},
     "output_type": "execute_result"
    }
   ],
   "source": [
    "big_frame.shape"
   ],
   "metadata": {
    "collapsed": false,
    "pycharm": {
     "name": "#%%\n"
    }
   }
  },
  {
   "cell_type": "code",
   "execution_count": 24,
   "outputs": [
    {
     "data": {
      "text/plain": "         Unnamed: 0      Dataline  PlayerLinenumber\ncount  1.002564e+06  1.002564e+06      1.002537e+06\nmean   5.569750e+04  5.569850e+04      3.688533e+01\nstd    3.215727e+04  3.215727e+04      3.998568e+01\nmin    0.000000e+00  1.000000e+00      1.000000e+00\n25%    2.784875e+04  2.784975e+04      1.000000e+01\n50%    5.569750e+04  5.569850e+04      2.500000e+01\n75%    8.354625e+04  8.354725e+04      5.000000e+01\nmax    1.113950e+05  1.113960e+05      4.050000e+02",
      "text/html": "<div>\n<style scoped>\n    .dataframe tbody tr th:only-of-type {\n        vertical-align: middle;\n    }\n\n    .dataframe tbody tr th {\n        vertical-align: top;\n    }\n\n    .dataframe thead th {\n        text-align: right;\n    }\n</style>\n<table border=\"1\" class=\"dataframe\">\n  <thead>\n    <tr style=\"text-align: right;\">\n      <th></th>\n      <th>Unnamed: 0</th>\n      <th>Dataline</th>\n      <th>PlayerLinenumber</th>\n    </tr>\n  </thead>\n  <tbody>\n    <tr>\n      <th>count</th>\n      <td>1.002564e+06</td>\n      <td>1.002564e+06</td>\n      <td>1.002537e+06</td>\n    </tr>\n    <tr>\n      <th>mean</th>\n      <td>5.569750e+04</td>\n      <td>5.569850e+04</td>\n      <td>3.688533e+01</td>\n    </tr>\n    <tr>\n      <th>std</th>\n      <td>3.215727e+04</td>\n      <td>3.215727e+04</td>\n      <td>3.998568e+01</td>\n    </tr>\n    <tr>\n      <th>min</th>\n      <td>0.000000e+00</td>\n      <td>1.000000e+00</td>\n      <td>1.000000e+00</td>\n    </tr>\n    <tr>\n      <th>25%</th>\n      <td>2.784875e+04</td>\n      <td>2.784975e+04</td>\n      <td>1.000000e+01</td>\n    </tr>\n    <tr>\n      <th>50%</th>\n      <td>5.569750e+04</td>\n      <td>5.569850e+04</td>\n      <td>2.500000e+01</td>\n    </tr>\n    <tr>\n      <th>75%</th>\n      <td>8.354625e+04</td>\n      <td>8.354725e+04</td>\n      <td>5.000000e+01</td>\n    </tr>\n    <tr>\n      <th>max</th>\n      <td>1.113950e+05</td>\n      <td>1.113960e+05</td>\n      <td>4.050000e+02</td>\n    </tr>\n  </tbody>\n</table>\n</div>"
     },
     "execution_count": 24,
     "metadata": {},
     "output_type": "execute_result"
    }
   ],
   "source": [
    "big_frame.describe()"
   ],
   "metadata": {
    "collapsed": false,
    "pycharm": {
     "name": "#%%\n"
    }
   }
  },
  {
   "cell_type": "code",
   "execution_count": 25,
   "outputs": [
    {
     "name": "stdout",
     "output_type": "stream",
     "text": [
      "<class 'pandas.core.frame.DataFrame'>\n",
      "RangeIndex: 1002564 entries, 0 to 1002563\n",
      "Data columns (total 7 columns):\n",
      " #   Column            Non-Null Count    Dtype  \n",
      "---  ------            --------------    -----  \n",
      " 0   Unnamed: 0        1002564 non-null  int64  \n",
      " 1   Dataline          1002564 non-null  int64  \n",
      " 2   Play              1002564 non-null  object \n",
      " 3   PlayerLinenumber  1002537 non-null  float64\n",
      " 4   ActSceneLine      946377 non-null   object \n",
      " 5   Player            1002501 non-null  object \n",
      " 6   PlayerLine        1002564 non-null  object \n",
      "dtypes: float64(1), int64(2), object(4)\n",
      "memory usage: 53.5+ MB\n"
     ]
    }
   ],
   "source": [
    "big_frame.info()"
   ],
   "metadata": {
    "collapsed": false,
    "pycharm": {
     "name": "#%%\n"
    }
   }
  },
  {
   "cell_type": "code",
   "execution_count": 26,
   "outputs": [
    {
     "data": {
      "text/plain": "Unnamed: 0              0\nDataline                0\nPlay                    0\nPlayerLinenumber       27\nActSceneLine        56187\nPlayer                 63\nPlayerLine              0\ndtype: int64"
     },
     "execution_count": 26,
     "metadata": {},
     "output_type": "execute_result"
    }
   ],
   "source": [
    "big_frame.isnull().sum()"
   ],
   "metadata": {
    "collapsed": false,
    "pycharm": {
     "name": "#%%\n"
    }
   }
  },
  {
   "cell_type": "code",
   "execution_count": 27,
   "outputs": [
    {
     "data": {
      "text/plain": "Unnamed: 0              0\nDataline                0\nPlay                    0\nPlayerLinenumber       27\nActSceneLine        56187\nPlayer                 63\nPlayerLine              0\ndtype: int64"
     },
     "execution_count": 27,
     "metadata": {},
     "output_type": "execute_result"
    }
   ],
   "source": [
    "big_frame.isna().sum()"
   ],
   "metadata": {
    "collapsed": false,
    "pycharm": {
     "name": "#%%\n"
    }
   }
  },
  {
   "cell_type": "code",
   "execution_count": 28,
   "outputs": [
    {
     "data": {
      "text/plain": "56277"
     },
     "execution_count": 28,
     "metadata": {},
     "output_type": "execute_result"
    }
   ],
   "source": [
    "big_frame.isna().sum().sum()"
   ],
   "metadata": {
    "collapsed": false,
    "pycharm": {
     "name": "#%%\n"
    }
   }
  },
  {
   "cell_type": "code",
   "execution_count": 29,
   "outputs": [
    {
     "data": {
      "text/plain": "0.05613307479622249"
     },
     "execution_count": 29,
     "metadata": {},
     "output_type": "execute_result"
    }
   ],
   "source": [
    "# automatizar el porcenatje de datos nulos ´para no aceptar el data set si sube el porcentaje\n",
    "big_frame.isna().sum().sum() / big_frame.shape[0]"
   ],
   "metadata": {
    "collapsed": false,
    "pycharm": {
     "name": "#%%\n"
    }
   }
  },
  {
   "cell_type": "code",
   "execution_count": 30,
   "outputs": [
    {
     "data": {
      "text/plain": "5.613307479622249"
     },
     "execution_count": 30,
     "metadata": {},
     "output_type": "execute_result"
    }
   ],
   "source": [
    "big_frame.isna().sum().sum() / big_frame.shape[0] * 100"
   ],
   "metadata": {
    "collapsed": false,
    "pycharm": {
     "name": "#%%\n"
    }
   }
  },
  {
   "cell_type": "code",
   "execution_count": 31,
   "outputs": [
    {
     "data": {
      "text/plain": "Hamlet                      38196\nCoriolanus                  35928\nCymbeline                   35622\nRichard III                 35469\nAntony and Cleopatra        34758\nKing Lear                   33894\nOthello                     33858\nTroilus and Cressida        33399\nA Winters Tale              31401\nHenry VIII                  30771\nHenry V                     30555\nHenry VI Part 2             30006\nRomeo and Juliet            29817\nHenry IV                    28845\nHenry VI Part 3             28242\nAlls well that ends well    27747\nMeasure for measure         26982\nLoves Labours Lost          26874\nHenry VI Part 1             26847\nRichard II                  26433\nMerry Wives of Windsor      25479\nAs you like it              25398\nTaming of the Shrew         25254\nMerchant of Venice          25218\nJulius Caesar               24939\nKing John                   24894\nTitus Andronicus            24534\nMuch Ado about nothing      24336\nTimon of Athens             23958\nTwelfth Night               23832\nPericles                    23769\nmacbeth                     23274\nThe Tempest                 21627\nTwo Gentlemen of Verona     21213\nA Midsummer nights dream    20700\nA Comedy of Errors          18495\nName: Play, dtype: int64"
     },
     "execution_count": 31,
     "metadata": {},
     "output_type": "execute_result"
    }
   ],
   "source": [
    "big_frame['Play'].value_counts()"
   ],
   "metadata": {
    "collapsed": false,
    "pycharm": {
     "name": "#%%\n"
    }
   }
  },
  {
   "cell_type": "code",
   "execution_count": 32,
   "outputs": [
    {
     "data": {
      "text/plain": "22392"
     },
     "execution_count": 32,
     "metadata": {},
     "output_type": "execute_result"
    }
   ],
   "source": [
    "big_frame.PlayerLine.str.contains('[Kk]ing').sum()"
   ],
   "metadata": {
    "collapsed": false,
    "pycharm": {
     "name": "#%%\n"
    }
   }
  },
  {
   "cell_type": "code",
   "execution_count": 33,
   "outputs": [
    {
     "data": {
      "text/plain": "Index(['Unnamed: 0', 'Dataline', 'Play', 'PlayerLinenumber', 'ActSceneLine',\n       'Player', 'PlayerLine'],\n      dtype='object')"
     },
     "execution_count": 33,
     "metadata": {},
     "output_type": "execute_result"
    }
   ],
   "source": [
    "big_frame.columns\n"
   ],
   "metadata": {
    "collapsed": false,
    "pycharm": {
     "name": "#%%\n"
    }
   }
  },
  {
   "cell_type": "code",
   "execution_count": 34,
   "outputs": [
    {
     "data": {
      "text/plain": "0          False\n1          False\n2          False\n3          False\n4          False\n           ...  \n1002559    False\n1002560     True\n1002561    False\n1002562    False\n1002563    False\nName: PlayerLine, Length: 1002564, dtype: bool"
     },
     "execution_count": 34,
     "metadata": {},
     "output_type": "execute_result"
    }
   ],
   "source": [
    "#Aparece o no aparece la palabra Love en una columna\n",
    "big_frame.PlayerLine.str.contains('[Ll]ove')"
   ],
   "metadata": {
    "collapsed": false,
    "pycharm": {
     "name": "#%%\n"
    }
   }
  },
  {
   "cell_type": "code",
   "execution_count": 35,
   "outputs": [
    {
     "data": {
      "text/plain": "0          0\n1          0\n2          0\n3          0\n4          0\n          ..\n1002559    0\n1002560    1\n1002561    0\n1002562    0\n1002563    0\nName: PlayerLine, Length: 1002564, dtype: int64"
     },
     "execution_count": 35,
     "metadata": {},
     "output_type": "execute_result"
    }
   ],
   "source": [
    "#cuantas veces aparece la palabra Love en una columna\n",
    "big_frame.PlayerLine.str.count('[Ll]ove')"
   ],
   "metadata": {
    "collapsed": false,
    "pycharm": {
     "name": "#%%\n"
    }
   }
  },
  {
   "cell_type": "code",
   "execution_count": 46,
   "outputs": [
    {
     "data": {
      "text/plain": "0          False\n1          False\n2          False\n3          False\n4          False\n           ...  \n1002559    False\n1002560     True\n1002561    False\n1002562    False\n1002563    False\nName: Love, Length: 1002564, dtype: bool"
     },
     "execution_count": 46,
     "metadata": {},
     "output_type": "execute_result"
    }
   ],
   "source": [
    "#crear una columna con True o False para saber si aparecio la palabra Love\n",
    "big_frame['Love'] = big_frame.PlayerLine.str.contains('[Ll]ove')\n",
    "big_frame['Love']"
   ],
   "metadata": {
    "collapsed": false,
    "pycharm": {
     "name": "#%%\n"
    }
   }
  },
  {
   "cell_type": "code",
   "execution_count": 49,
   "outputs": [
    {
     "data": {
      "text/plain": "0          False\n1          False\n2          False\n3          False\n4          False\n           ...  \n1002559    False\n1002560     True\n1002561    False\n1002562    False\n1002563    False\nName: Love, Length: 1002564, dtype: bool"
     },
     "execution_count": 49,
     "metadata": {},
     "output_type": "execute_result"
    }
   ],
   "source": [
    "for i in big_frame.Love:\n",
    "    if i == True:\n",
    "        i = \"Si\"\n",
    "    else :\n",
    "        i = \"No\"\n",
    "big_frame.Love"
   ],
   "metadata": {
    "collapsed": false,
    "pycharm": {
     "name": "#%%\n"
    }
   }
  },
  {
   "cell_type": "code",
   "execution_count": null,
   "outputs": [],
   "source": [],
   "metadata": {
    "collapsed": false,
    "pycharm": {
     "name": "#%%\n"
    }
   }
  },
  {
   "cell_type": "code",
   "execution_count": 59,
   "outputs": [],
   "source": [
    "big_frame.Love= big_frame.Love.replace(False,\"No\")\n",
    "big_frame.Love=  big_frame.Love.replace(True,\"Si\")\n"
   ],
   "metadata": {
    "collapsed": false,
    "pycharm": {
     "name": "#%%\n"
    }
   }
  },
  {
   "cell_type": "code",
   "execution_count": 60,
   "outputs": [
    {
     "data": {
      "text/plain": "0          No\n1          No\n2          No\n3          No\n4          No\n           ..\n1002559    No\n1002560    Si\n1002561    No\n1002562    No\n1002563    No\nName: Love, Length: 1002564, dtype: object"
     },
     "execution_count": 60,
     "metadata": {},
     "output_type": "execute_result"
    }
   ],
   "source": [
    "big_frame.Love"
   ],
   "metadata": {
    "collapsed": false,
    "pycharm": {
     "name": "#%%\n"
    }
   }
  },
  {
   "cell_type": "code",
   "execution_count": 61,
   "outputs": [
    {
     "data": {
      "text/plain": "Play                      Love\nA Comedy of Errors        No      18315\n                          Si        180\nA Midsummer nights dream  No      19287\n                          Si       1413\nA Winters Tale            No      30987\n                                  ...  \nTwelfth Night             Si        837\nTwo Gentlemen of Verona   No      19431\n                          Si       1782\nmacbeth                   No      23049\n                          Si        225\nName: Love, Length: 72, dtype: int64"
     },
     "execution_count": 61,
     "metadata": {},
     "output_type": "execute_result"
    }
   ],
   "source": [
    "#cuantas veces aparece la palabra Love en una columna\n",
    "big_frame.groupby('Play').Love.value_counts()"
   ],
   "metadata": {
    "collapsed": false,
    "pycharm": {
     "name": "#%%\n"
    }
   }
  },
  {
   "cell_type": "code",
   "execution_count": 38,
   "outputs": [],
   "source": [
    "#Quedarme solo con Love=True y ordenarlo por Play\n",
    "love_df = big_frame[big_frame.Love == True]"
   ],
   "metadata": {
    "collapsed": false,
    "pycharm": {
     "name": "#%%\n"
    }
   }
  },
  {
   "cell_type": "code",
   "execution_count": 39,
   "outputs": [
    {
     "data": {
      "text/plain": "Play                      Love\nA Comedy of Errors        True     180\nA Midsummer nights dream  True    1413\nA Winters Tale            True     414\nAlls well that ends well  True     720\nAntony and Cleopatra      True     531\nAs you like it            True    1377\nCoriolanus                True     531\nCymbeline                 True     432\nHamlet                    True     720\nHenry IV                  True     333\nHenry V                   True     603\nHenry VI Part 1           True     243\nHenry VI Part 2           True     288\nHenry VI Part 3           True     450\nHenry VIII                True     468\nJulius Caesar             True     504\nKing John                 True     423\nKing Lear                 True     657\nLoves Labours Lost        True    1134\nMeasure for measure       True     288\nMerchant of Venice        True     639\nMerry Wives of Windsor    True     549\nMuch Ado about nothing    True    1071\nOthello                   True     963\nPericles                  True     315\nRichard II                True     324\nRichard III               True     729\nRomeo and Juliet          True    1449\nTaming of the Shrew       True     711\nThe Tempest               True     207\nTimon of Athens           True     459\nTitus Andronicus          True     387\nTroilus and Cressida      True     819\nTwelfth Night             True     837\nTwo Gentlemen of Verona   True    1782\nmacbeth                   True     225\nName: Love, dtype: int64"
     },
     "execution_count": 39,
     "metadata": {},
     "output_type": "execute_result"
    }
   ],
   "source": [
    "love_df.groupby('Play').Love.value_counts()"
   ],
   "metadata": {
    "collapsed": false,
    "pycharm": {
     "name": "#%%\n"
    }
   }
  },
  {
   "cell_type": "code",
   "execution_count": 40,
   "outputs": [
    {
     "data": {
      "text/plain": "                          count      mean\nPlay                                     \nA Comedy of Errors        18495  0.009732\nA Midsummer nights dream  20700  0.068261\nA Winters Tale            31401  0.013184\nAlls well that ends well  27747  0.025949\nAntony and Cleopatra      34758  0.015277\nAs you like it            25398  0.054217\nCoriolanus                35928  0.014780\nCymbeline                 35622  0.012127\nHamlet                    38196  0.018850\nHenry IV                  28845  0.011544\nHenry V                   30555  0.019735\nHenry VI Part 1           26847  0.009051\nHenry VI Part 2           30006  0.009598\nHenry VI Part 3           28242  0.015934\nHenry VIII                30771  0.015209\nJulius Caesar             24939  0.020209\nKing John                 24894  0.016992\nKing Lear                 33894  0.019384\nLoves Labours Lost        26874  0.042197\nMeasure for measure       26982  0.010674\nMerchant of Venice        25218  0.025339\nMerry Wives of Windsor    25479  0.021547\nMuch Ado about nothing    24336  0.044009\nOthello                   33858  0.028442\nPericles                  23769  0.013253\nRichard II                26433  0.012257\nRichard III               35469  0.020553\nRomeo and Juliet          29817  0.048596\nTaming of the Shrew       25254  0.028154\nThe Tempest               21627  0.009571\nTimon of Athens           23958  0.019159\nTitus Andronicus          24534  0.015774\nTroilus and Cressida      33399  0.024522\nTwelfth Night             23832  0.035121\nTwo Gentlemen of Verona   21213  0.084005\nmacbeth                   23274  0.009667",
      "text/html": "<div>\n<style scoped>\n    .dataframe tbody tr th:only-of-type {\n        vertical-align: middle;\n    }\n\n    .dataframe tbody tr th {\n        vertical-align: top;\n    }\n\n    .dataframe thead th {\n        text-align: right;\n    }\n</style>\n<table border=\"1\" class=\"dataframe\">\n  <thead>\n    <tr style=\"text-align: right;\">\n      <th></th>\n      <th>count</th>\n      <th>mean</th>\n    </tr>\n    <tr>\n      <th>Play</th>\n      <th></th>\n      <th></th>\n    </tr>\n  </thead>\n  <tbody>\n    <tr>\n      <th>A Comedy of Errors</th>\n      <td>18495</td>\n      <td>0.009732</td>\n    </tr>\n    <tr>\n      <th>A Midsummer nights dream</th>\n      <td>20700</td>\n      <td>0.068261</td>\n    </tr>\n    <tr>\n      <th>A Winters Tale</th>\n      <td>31401</td>\n      <td>0.013184</td>\n    </tr>\n    <tr>\n      <th>Alls well that ends well</th>\n      <td>27747</td>\n      <td>0.025949</td>\n    </tr>\n    <tr>\n      <th>Antony and Cleopatra</th>\n      <td>34758</td>\n      <td>0.015277</td>\n    </tr>\n    <tr>\n      <th>As you like it</th>\n      <td>25398</td>\n      <td>0.054217</td>\n    </tr>\n    <tr>\n      <th>Coriolanus</th>\n      <td>35928</td>\n      <td>0.014780</td>\n    </tr>\n    <tr>\n      <th>Cymbeline</th>\n      <td>35622</td>\n      <td>0.012127</td>\n    </tr>\n    <tr>\n      <th>Hamlet</th>\n      <td>38196</td>\n      <td>0.018850</td>\n    </tr>\n    <tr>\n      <th>Henry IV</th>\n      <td>28845</td>\n      <td>0.011544</td>\n    </tr>\n    <tr>\n      <th>Henry V</th>\n      <td>30555</td>\n      <td>0.019735</td>\n    </tr>\n    <tr>\n      <th>Henry VI Part 1</th>\n      <td>26847</td>\n      <td>0.009051</td>\n    </tr>\n    <tr>\n      <th>Henry VI Part 2</th>\n      <td>30006</td>\n      <td>0.009598</td>\n    </tr>\n    <tr>\n      <th>Henry VI Part 3</th>\n      <td>28242</td>\n      <td>0.015934</td>\n    </tr>\n    <tr>\n      <th>Henry VIII</th>\n      <td>30771</td>\n      <td>0.015209</td>\n    </tr>\n    <tr>\n      <th>Julius Caesar</th>\n      <td>24939</td>\n      <td>0.020209</td>\n    </tr>\n    <tr>\n      <th>King John</th>\n      <td>24894</td>\n      <td>0.016992</td>\n    </tr>\n    <tr>\n      <th>King Lear</th>\n      <td>33894</td>\n      <td>0.019384</td>\n    </tr>\n    <tr>\n      <th>Loves Labours Lost</th>\n      <td>26874</td>\n      <td>0.042197</td>\n    </tr>\n    <tr>\n      <th>Measure for measure</th>\n      <td>26982</td>\n      <td>0.010674</td>\n    </tr>\n    <tr>\n      <th>Merchant of Venice</th>\n      <td>25218</td>\n      <td>0.025339</td>\n    </tr>\n    <tr>\n      <th>Merry Wives of Windsor</th>\n      <td>25479</td>\n      <td>0.021547</td>\n    </tr>\n    <tr>\n      <th>Much Ado about nothing</th>\n      <td>24336</td>\n      <td>0.044009</td>\n    </tr>\n    <tr>\n      <th>Othello</th>\n      <td>33858</td>\n      <td>0.028442</td>\n    </tr>\n    <tr>\n      <th>Pericles</th>\n      <td>23769</td>\n      <td>0.013253</td>\n    </tr>\n    <tr>\n      <th>Richard II</th>\n      <td>26433</td>\n      <td>0.012257</td>\n    </tr>\n    <tr>\n      <th>Richard III</th>\n      <td>35469</td>\n      <td>0.020553</td>\n    </tr>\n    <tr>\n      <th>Romeo and Juliet</th>\n      <td>29817</td>\n      <td>0.048596</td>\n    </tr>\n    <tr>\n      <th>Taming of the Shrew</th>\n      <td>25254</td>\n      <td>0.028154</td>\n    </tr>\n    <tr>\n      <th>The Tempest</th>\n      <td>21627</td>\n      <td>0.009571</td>\n    </tr>\n    <tr>\n      <th>Timon of Athens</th>\n      <td>23958</td>\n      <td>0.019159</td>\n    </tr>\n    <tr>\n      <th>Titus Andronicus</th>\n      <td>24534</td>\n      <td>0.015774</td>\n    </tr>\n    <tr>\n      <th>Troilus and Cressida</th>\n      <td>33399</td>\n      <td>0.024522</td>\n    </tr>\n    <tr>\n      <th>Twelfth Night</th>\n      <td>23832</td>\n      <td>0.035121</td>\n    </tr>\n    <tr>\n      <th>Two Gentlemen of Verona</th>\n      <td>21213</td>\n      <td>0.084005</td>\n    </tr>\n    <tr>\n      <th>macbeth</th>\n      <td>23274</td>\n      <td>0.009667</td>\n    </tr>\n  </tbody>\n</table>\n</div>"
     },
     "execution_count": 40,
     "metadata": {},
     "output_type": "execute_result"
    }
   ],
   "source": [
    "big_frame.groupby('Play').Love.agg(['count', 'mean'])"
   ],
   "metadata": {
    "collapsed": false,
    "pycharm": {
     "name": "#%%\n"
    }
   }
  },
  {
   "cell_type": "code",
   "execution_count": 41,
   "outputs": [
    {
     "data": {
      "text/plain": "                          count      mean\nPlay                                     \nTwo Gentlemen of Verona   21213  0.084005\nA Midsummer nights dream  20700  0.068261\nAs you like it            25398  0.054217\nRomeo and Juliet          29817  0.048596\nMuch Ado about nothing    24336  0.044009\nLoves Labours Lost        26874  0.042197\nTwelfth Night             23832  0.035121\nOthello                   33858  0.028442\nTaming of the Shrew       25254  0.028154\nAlls well that ends well  27747  0.025949\nMerchant of Venice        25218  0.025339\nTroilus and Cressida      33399  0.024522\nMerry Wives of Windsor    25479  0.021547\nRichard III               35469  0.020553\nJulius Caesar             24939  0.020209\nHenry V                   30555  0.019735\nKing Lear                 33894  0.019384\nTimon of Athens           23958  0.019159\nHamlet                    38196  0.018850\nKing John                 24894  0.016992\nHenry VI Part 3           28242  0.015934\nTitus Andronicus          24534  0.015774\nAntony and Cleopatra      34758  0.015277\nHenry VIII                30771  0.015209\nCoriolanus                35928  0.014780\nPericles                  23769  0.013253\nA Winters Tale            31401  0.013184\nRichard II                26433  0.012257\nCymbeline                 35622  0.012127\nHenry IV                  28845  0.011544\nMeasure for measure       26982  0.010674\nA Comedy of Errors        18495  0.009732\nmacbeth                   23274  0.009667\nHenry VI Part 2           30006  0.009598\nThe Tempest               21627  0.009571\nHenry VI Part 1           26847  0.009051",
      "text/html": "<div>\n<style scoped>\n    .dataframe tbody tr th:only-of-type {\n        vertical-align: middle;\n    }\n\n    .dataframe tbody tr th {\n        vertical-align: top;\n    }\n\n    .dataframe thead th {\n        text-align: right;\n    }\n</style>\n<table border=\"1\" class=\"dataframe\">\n  <thead>\n    <tr style=\"text-align: right;\">\n      <th></th>\n      <th>count</th>\n      <th>mean</th>\n    </tr>\n    <tr>\n      <th>Play</th>\n      <th></th>\n      <th></th>\n    </tr>\n  </thead>\n  <tbody>\n    <tr>\n      <th>Two Gentlemen of Verona</th>\n      <td>21213</td>\n      <td>0.084005</td>\n    </tr>\n    <tr>\n      <th>A Midsummer nights dream</th>\n      <td>20700</td>\n      <td>0.068261</td>\n    </tr>\n    <tr>\n      <th>As you like it</th>\n      <td>25398</td>\n      <td>0.054217</td>\n    </tr>\n    <tr>\n      <th>Romeo and Juliet</th>\n      <td>29817</td>\n      <td>0.048596</td>\n    </tr>\n    <tr>\n      <th>Much Ado about nothing</th>\n      <td>24336</td>\n      <td>0.044009</td>\n    </tr>\n    <tr>\n      <th>Loves Labours Lost</th>\n      <td>26874</td>\n      <td>0.042197</td>\n    </tr>\n    <tr>\n      <th>Twelfth Night</th>\n      <td>23832</td>\n      <td>0.035121</td>\n    </tr>\n    <tr>\n      <th>Othello</th>\n      <td>33858</td>\n      <td>0.028442</td>\n    </tr>\n    <tr>\n      <th>Taming of the Shrew</th>\n      <td>25254</td>\n      <td>0.028154</td>\n    </tr>\n    <tr>\n      <th>Alls well that ends well</th>\n      <td>27747</td>\n      <td>0.025949</td>\n    </tr>\n    <tr>\n      <th>Merchant of Venice</th>\n      <td>25218</td>\n      <td>0.025339</td>\n    </tr>\n    <tr>\n      <th>Troilus and Cressida</th>\n      <td>33399</td>\n      <td>0.024522</td>\n    </tr>\n    <tr>\n      <th>Merry Wives of Windsor</th>\n      <td>25479</td>\n      <td>0.021547</td>\n    </tr>\n    <tr>\n      <th>Richard III</th>\n      <td>35469</td>\n      <td>0.020553</td>\n    </tr>\n    <tr>\n      <th>Julius Caesar</th>\n      <td>24939</td>\n      <td>0.020209</td>\n    </tr>\n    <tr>\n      <th>Henry V</th>\n      <td>30555</td>\n      <td>0.019735</td>\n    </tr>\n    <tr>\n      <th>King Lear</th>\n      <td>33894</td>\n      <td>0.019384</td>\n    </tr>\n    <tr>\n      <th>Timon of Athens</th>\n      <td>23958</td>\n      <td>0.019159</td>\n    </tr>\n    <tr>\n      <th>Hamlet</th>\n      <td>38196</td>\n      <td>0.018850</td>\n    </tr>\n    <tr>\n      <th>King John</th>\n      <td>24894</td>\n      <td>0.016992</td>\n    </tr>\n    <tr>\n      <th>Henry VI Part 3</th>\n      <td>28242</td>\n      <td>0.015934</td>\n    </tr>\n    <tr>\n      <th>Titus Andronicus</th>\n      <td>24534</td>\n      <td>0.015774</td>\n    </tr>\n    <tr>\n      <th>Antony and Cleopatra</th>\n      <td>34758</td>\n      <td>0.015277</td>\n    </tr>\n    <tr>\n      <th>Henry VIII</th>\n      <td>30771</td>\n      <td>0.015209</td>\n    </tr>\n    <tr>\n      <th>Coriolanus</th>\n      <td>35928</td>\n      <td>0.014780</td>\n    </tr>\n    <tr>\n      <th>Pericles</th>\n      <td>23769</td>\n      <td>0.013253</td>\n    </tr>\n    <tr>\n      <th>A Winters Tale</th>\n      <td>31401</td>\n      <td>0.013184</td>\n    </tr>\n    <tr>\n      <th>Richard II</th>\n      <td>26433</td>\n      <td>0.012257</td>\n    </tr>\n    <tr>\n      <th>Cymbeline</th>\n      <td>35622</td>\n      <td>0.012127</td>\n    </tr>\n    <tr>\n      <th>Henry IV</th>\n      <td>28845</td>\n      <td>0.011544</td>\n    </tr>\n    <tr>\n      <th>Measure for measure</th>\n      <td>26982</td>\n      <td>0.010674</td>\n    </tr>\n    <tr>\n      <th>A Comedy of Errors</th>\n      <td>18495</td>\n      <td>0.009732</td>\n    </tr>\n    <tr>\n      <th>macbeth</th>\n      <td>23274</td>\n      <td>0.009667</td>\n    </tr>\n    <tr>\n      <th>Henry VI Part 2</th>\n      <td>30006</td>\n      <td>0.009598</td>\n    </tr>\n    <tr>\n      <th>The Tempest</th>\n      <td>21627</td>\n      <td>0.009571</td>\n    </tr>\n    <tr>\n      <th>Henry VI Part 1</th>\n      <td>26847</td>\n      <td>0.009051</td>\n    </tr>\n  </tbody>\n</table>\n</div>"
     },
     "execution_count": 41,
     "metadata": {},
     "output_type": "execute_result"
    }
   ],
   "source": [
    "#ordenar agrupado por obras el promedio de veces que aparecio la palabra Love\n",
    "big_frame.groupby('Play').Love.agg(['count', 'mean']).sort_values('mean', ascending=False)"
   ],
   "metadata": {
    "collapsed": false,
    "pycharm": {
     "name": "#%%\n"
    }
   }
  },
  {
   "cell_type": "code",
   "execution_count": 42,
   "outputs": [
    {
     "data": {
      "text/plain": "                          count  mean\nPlay                                 \nA Comedy of Errors          180   1.0\nA Midsummer nights dream   1413   1.0\nMerchant of Venice          639   1.0\nMerry Wives of Windsor      549   1.0\nMuch Ado about nothing     1071   1.0\nOthello                     963   1.0\nPericles                    315   1.0\nRichard II                  324   1.0\nRichard III                 729   1.0\nRomeo and Juliet           1449   1.0\nTaming of the Shrew         711   1.0\nThe Tempest                 207   1.0\nTimon of Athens             459   1.0\nTitus Andronicus            387   1.0\nTroilus and Cressida        819   1.0\nTwelfth Night               837   1.0\nTwo Gentlemen of Verona    1782   1.0\nMeasure for measure         288   1.0\nLoves Labours Lost         1134   1.0\nKing Lear                   657   1.0\nHamlet                      720   1.0\nA Winters Tale              414   1.0\nAlls well that ends well    720   1.0\nAntony and Cleopatra        531   1.0\nAs you like it             1377   1.0\nCoriolanus                  531   1.0\nCymbeline                   432   1.0\nHenry IV                    333   1.0\nKing John                   423   1.0\nHenry V                     603   1.0\nHenry VI Part 1             243   1.0\nHenry VI Part 2             288   1.0\nHenry VI Part 3             450   1.0\nHenry VIII                  468   1.0\nJulius Caesar               504   1.0\nmacbeth                     225   1.0",
      "text/html": "<div>\n<style scoped>\n    .dataframe tbody tr th:only-of-type {\n        vertical-align: middle;\n    }\n\n    .dataframe tbody tr th {\n        vertical-align: top;\n    }\n\n    .dataframe thead th {\n        text-align: right;\n    }\n</style>\n<table border=\"1\" class=\"dataframe\">\n  <thead>\n    <tr style=\"text-align: right;\">\n      <th></th>\n      <th>count</th>\n      <th>mean</th>\n    </tr>\n    <tr>\n      <th>Play</th>\n      <th></th>\n      <th></th>\n    </tr>\n  </thead>\n  <tbody>\n    <tr>\n      <th>A Comedy of Errors</th>\n      <td>180</td>\n      <td>1.0</td>\n    </tr>\n    <tr>\n      <th>A Midsummer nights dream</th>\n      <td>1413</td>\n      <td>1.0</td>\n    </tr>\n    <tr>\n      <th>Merchant of Venice</th>\n      <td>639</td>\n      <td>1.0</td>\n    </tr>\n    <tr>\n      <th>Merry Wives of Windsor</th>\n      <td>549</td>\n      <td>1.0</td>\n    </tr>\n    <tr>\n      <th>Much Ado about nothing</th>\n      <td>1071</td>\n      <td>1.0</td>\n    </tr>\n    <tr>\n      <th>Othello</th>\n      <td>963</td>\n      <td>1.0</td>\n    </tr>\n    <tr>\n      <th>Pericles</th>\n      <td>315</td>\n      <td>1.0</td>\n    </tr>\n    <tr>\n      <th>Richard II</th>\n      <td>324</td>\n      <td>1.0</td>\n    </tr>\n    <tr>\n      <th>Richard III</th>\n      <td>729</td>\n      <td>1.0</td>\n    </tr>\n    <tr>\n      <th>Romeo and Juliet</th>\n      <td>1449</td>\n      <td>1.0</td>\n    </tr>\n    <tr>\n      <th>Taming of the Shrew</th>\n      <td>711</td>\n      <td>1.0</td>\n    </tr>\n    <tr>\n      <th>The Tempest</th>\n      <td>207</td>\n      <td>1.0</td>\n    </tr>\n    <tr>\n      <th>Timon of Athens</th>\n      <td>459</td>\n      <td>1.0</td>\n    </tr>\n    <tr>\n      <th>Titus Andronicus</th>\n      <td>387</td>\n      <td>1.0</td>\n    </tr>\n    <tr>\n      <th>Troilus and Cressida</th>\n      <td>819</td>\n      <td>1.0</td>\n    </tr>\n    <tr>\n      <th>Twelfth Night</th>\n      <td>837</td>\n      <td>1.0</td>\n    </tr>\n    <tr>\n      <th>Two Gentlemen of Verona</th>\n      <td>1782</td>\n      <td>1.0</td>\n    </tr>\n    <tr>\n      <th>Measure for measure</th>\n      <td>288</td>\n      <td>1.0</td>\n    </tr>\n    <tr>\n      <th>Loves Labours Lost</th>\n      <td>1134</td>\n      <td>1.0</td>\n    </tr>\n    <tr>\n      <th>King Lear</th>\n      <td>657</td>\n      <td>1.0</td>\n    </tr>\n    <tr>\n      <th>Hamlet</th>\n      <td>720</td>\n      <td>1.0</td>\n    </tr>\n    <tr>\n      <th>A Winters Tale</th>\n      <td>414</td>\n      <td>1.0</td>\n    </tr>\n    <tr>\n      <th>Alls well that ends well</th>\n      <td>720</td>\n      <td>1.0</td>\n    </tr>\n    <tr>\n      <th>Antony and Cleopatra</th>\n      <td>531</td>\n      <td>1.0</td>\n    </tr>\n    <tr>\n      <th>As you like it</th>\n      <td>1377</td>\n      <td>1.0</td>\n    </tr>\n    <tr>\n      <th>Coriolanus</th>\n      <td>531</td>\n      <td>1.0</td>\n    </tr>\n    <tr>\n      <th>Cymbeline</th>\n      <td>432</td>\n      <td>1.0</td>\n    </tr>\n    <tr>\n      <th>Henry IV</th>\n      <td>333</td>\n      <td>1.0</td>\n    </tr>\n    <tr>\n      <th>King John</th>\n      <td>423</td>\n      <td>1.0</td>\n    </tr>\n    <tr>\n      <th>Henry V</th>\n      <td>603</td>\n      <td>1.0</td>\n    </tr>\n    <tr>\n      <th>Henry VI Part 1</th>\n      <td>243</td>\n      <td>1.0</td>\n    </tr>\n    <tr>\n      <th>Henry VI Part 2</th>\n      <td>288</td>\n      <td>1.0</td>\n    </tr>\n    <tr>\n      <th>Henry VI Part 3</th>\n      <td>450</td>\n      <td>1.0</td>\n    </tr>\n    <tr>\n      <th>Henry VIII</th>\n      <td>468</td>\n      <td>1.0</td>\n    </tr>\n    <tr>\n      <th>Julius Caesar</th>\n      <td>504</td>\n      <td>1.0</td>\n    </tr>\n    <tr>\n      <th>macbeth</th>\n      <td>225</td>\n      <td>1.0</td>\n    </tr>\n  </tbody>\n</table>\n</div>"
     },
     "execution_count": 42,
     "metadata": {},
     "output_type": "execute_result"
    }
   ],
   "source": [
    "love_df.groupby('Play').Love.agg(['count', 'mean']).sort_values('mean', ascending=False)"
   ],
   "metadata": {
    "collapsed": false,
    "pycharm": {
     "name": "#%%\n"
    }
   }
  },
  {
   "cell_type": "markdown",
   "source": [
    "# Leer otros files"
   ],
   "metadata": {
    "collapsed": false,
    "pycharm": {
     "name": "#%% md\n"
    }
   }
  },
  {
   "cell_type": "code",
   "execution_count": 43,
   "outputs": [
    {
     "name": "stderr",
     "output_type": "stream",
     "text": [
      "\"ls\" no se reconoce como un comando interno o externo,\n",
      "programa o archivo por lotes ejecutable.\n"
     ]
    }
   ],
   "source": [
    "!ls tarea"
   ],
   "metadata": {
    "collapsed": false,
    "pycharm": {
     "name": "#%%\n"
    }
   }
  },
  {
   "cell_type": "code",
   "execution_count": 44,
   "outputs": [
    {
     "ename": "FileNotFoundError",
     "evalue": "[Errno 2] No such file or directory: '/Users/federicomoreno/PycharmProjects/UCEMA/04-transformaciones/data/alllines.txt'",
     "output_type": "error",
     "traceback": [
      "\u001B[1;31m---------------------------------------------------------------------------\u001B[0m",
      "\u001B[1;31mFileNotFoundError\u001B[0m                         Traceback (most recent call last)",
      "\u001B[1;32m~\\AppData\\Local\\Temp/ipykernel_10760/3444241426.py\u001B[0m in \u001B[0;36m<module>\u001B[1;34m\u001B[0m\n\u001B[0;32m      1\u001B[0m \u001B[1;31m#read a text file\u001B[0m\u001B[1;33m\u001B[0m\u001B[1;33m\u001B[0m\u001B[0m\n\u001B[1;32m----> 2\u001B[1;33m \u001B[0mtext_file\u001B[0m \u001B[1;33m=\u001B[0m \u001B[0mopen\u001B[0m\u001B[1;33m(\u001B[0m\u001B[1;34m\"/Users/federicomoreno/PycharmProjects/UCEMA/04-transformaciones/data/alllines.txt\"\u001B[0m\u001B[1;33m,\u001B[0m \u001B[1;34m\"r\"\u001B[0m\u001B[1;33m)\u001B[0m\u001B[1;33m\u001B[0m\u001B[1;33m\u001B[0m\u001B[0m\n\u001B[0m\u001B[0;32m      3\u001B[0m \u001B[0mprint\u001B[0m\u001B[1;33m(\u001B[0m\u001B[0mtext_file\u001B[0m\u001B[1;33m.\u001B[0m\u001B[0mread\u001B[0m\u001B[1;33m(\u001B[0m\u001B[1;33m)\u001B[0m\u001B[1;33m)\u001B[0m\u001B[1;33m\u001B[0m\u001B[1;33m\u001B[0m\u001B[0m\n\u001B[0;32m      4\u001B[0m \u001B[1;33m\u001B[0m\u001B[0m\n",
      "\u001B[1;31mFileNotFoundError\u001B[0m: [Errno 2] No such file or directory: '/Users/federicomoreno/PycharmProjects/UCEMA/04-transformaciones/data/alllines.txt'"
     ]
    }
   ],
   "source": [
    "#read a text file\n",
    "text_file = open(\"/Users/federicomoreno/PycharmProjects/UCEMA/04-transformaciones/data/alllines.txt\", \"r\")\n",
    "print(text_file.read())\n"
   ],
   "metadata": {
    "collapsed": false,
    "pycharm": {
     "name": "#%%\n"
    }
   }
  },
  {
   "cell_type": "code",
   "execution_count": null,
   "outputs": [],
   "source": [
    "!ls data"
   ],
   "metadata": {
    "collapsed": false,
    "pycharm": {
     "name": "#%%\n"
    }
   }
  },
  {
   "cell_type": "code",
   "execution_count": null,
   "outputs": [],
   "source": [
    "text_file = open(\"data/alllines.txt\", \"r\")\n",
    "#transform text file to dataframe\n",
    "lines = text_file.readlines()\n",
    "lines = [line.rstrip('\\n') for line in lines]\n",
    "lines = pd.DataFrame(lines)\n",
    "\n",
    "lines.head()\n"
   ],
   "metadata": {
    "collapsed": false,
    "pycharm": {
     "name": "#%%\n"
    }
   }
  },
  {
   "cell_type": "code",
   "execution_count": null,
   "outputs": [],
   "source": [
    "tsv_file = pd.read_csv( \"data/para_borrar.tsv\", sep=\"\\t\")\n",
    "tsv_file"
   ],
   "metadata": {
    "collapsed": false,
    "pycharm": {
     "name": "#%%\n"
    }
   }
  },
  {
   "cell_type": "code",
   "execution_count": null,
   "outputs": [],
   "source": [
    "df = pd.read_csv(\"data/tarea_del_nene.csv\")\n",
    "df.head()"
   ],
   "metadata": {
    "collapsed": false,
    "pycharm": {
     "name": "#%%\n"
    }
   }
  },
  {
   "cell_type": "code",
   "execution_count": null,
   "outputs": [],
   "source": [],
   "metadata": {
    "collapsed": false,
    "pycharm": {
     "name": "#%%\n"
    }
   }
  }
 ],
 "metadata": {
  "kernelspec": {
   "display_name": "Python 3",
   "language": "python",
   "name": "python3"
  },
  "language_info": {
   "codemirror_mode": {
    "name": "ipython",
    "version": 2
   },
   "file_extension": ".py",
   "mimetype": "text/x-python",
   "name": "python",
   "nbconvert_exporter": "python",
   "pygments_lexer": "ipython2",
   "version": "2.7.6"
  }
 },
 "nbformat": 4,
 "nbformat_minor": 0
}