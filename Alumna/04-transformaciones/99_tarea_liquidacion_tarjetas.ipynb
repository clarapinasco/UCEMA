{
 "cells": [
  {
   "cell_type": "markdown",
   "metadata": {
    "pycharm": {
     "name": "#%% md\n"
    }
   },
   "source": [
    "# Tarjetas\n",
    "\n",
    "dataset: https://docs.google.com/spreadsheets/d/1E2QvH18DyNDw1eGqU40D_KHSEfSzbipV/edit?usp=sharing&ouid=115931210603772521641&rtpof=true&sd=true\n"
   ]
  },
  {
   "cell_type": "code",
   "execution_count": 192,
   "metadata": {
    "id": "49BJJVhVYin4",
    "pycharm": {
     "name": "#%%\n"
    }
   },
   "outputs": [],
   "source": [
    "import pandas as pd\n",
    "import numpy\n",
    "#!pip install openpyxl"
   ]
  },
  {
   "cell_type": "markdown",
   "metadata": {},
   "source": []
  },
  {
   "cell_type": "code",
   "execution_count": 193,
   "metadata": {
    "pycharm": {
     "name": "#%%\n"
    }
   },
   "outputs": [],
   "source": [
    "tarjetas = pd.read_csv(\"tarjetas.xlsx - Sheet1.csv\")"
   ]
  },
  {
   "cell_type": "code",
   "execution_count": 194,
   "metadata": {
    "pycharm": {
     "name": "#%%\n"
    }
   },
   "outputs": [
    {
     "data": {
      "text/html": [
       "<div>\n",
       "<style scoped>\n",
       "    .dataframe tbody tr th:only-of-type {\n",
       "        vertical-align: middle;\n",
       "    }\n",
       "\n",
       "    .dataframe tbody tr th {\n",
       "        vertical-align: top;\n",
       "    }\n",
       "\n",
       "    .dataframe thead th {\n",
       "        text-align: right;\n",
       "    }\n",
       "</style>\n",
       "<table border=\"1\" class=\"dataframe\">\n",
       "  <thead>\n",
       "    <tr style=\"text-align: right;\">\n",
       "      <th></th>\n",
       "      <th>Unnamed: 0</th>\n",
       "      <th>PreseTaciOn_Fecha</th>\n",
       "      <th>FeCha_de_Pago</th>\n",
       "      <th>cod_clearing</th>\n",
       "      <th>desc_creaing</th>\n",
       "      <th>NRo_Liquidacion</th>\n",
       "      <th>cod_sucursal</th>\n",
       "      <th>Cod_comercio</th>\n",
       "      <th>Cod_pagadora</th>\n",
       "      <th>Cod_marca_producto</th>\n",
       "      <th>importe_concepto</th>\n",
       "    </tr>\n",
       "  </thead>\n",
       "  <tbody>\n",
       "    <tr>\n",
       "      <th>0</th>\n",
       "      <td>0</td>\n",
       "      <td>2022-06-15 00:00:00</td>\n",
       "      <td>2022-07-01 00:00:00</td>\n",
       "      <td>1009</td>\n",
       "      <td>VENTAS C/DESCUENTO CONTADO</td>\n",
       "      <td>27822</td>\n",
       "      <td>716</td>\n",
       "      <td>25107406</td>\n",
       "      <td>156</td>\n",
       "      <td>VISA CREDITO</td>\n",
       "      <td>5096.00</td>\n",
       "    </tr>\n",
       "    <tr>\n",
       "      <th>1</th>\n",
       "      <td>1</td>\n",
       "      <td>2022-06-15 00:00:00</td>\n",
       "      <td>2022-07-01 00:00:00</td>\n",
       "      <td>1011</td>\n",
       "      <td>VENTAS C/DTO CUOTAS FINANC. OTORG.</td>\n",
       "      <td>27822</td>\n",
       "      <td>716</td>\n",
       "      <td>25107406</td>\n",
       "      <td>156</td>\n",
       "      <td>VISA CREDITO</td>\n",
       "      <td>413500.60</td>\n",
       "    </tr>\n",
       "    <tr>\n",
       "      <th>2</th>\n",
       "      <td>2</td>\n",
       "      <td>2022-06-15 00:00:00</td>\n",
       "      <td>2022-07-01 00:00:00</td>\n",
       "      <td>2031</td>\n",
       "      <td>ARANCEL</td>\n",
       "      <td>27822</td>\n",
       "      <td>716</td>\n",
       "      <td>25107406</td>\n",
       "      <td>156</td>\n",
       "      <td>VISA CREDITO</td>\n",
       "      <td>7534.70</td>\n",
       "    </tr>\n",
       "    <tr>\n",
       "      <th>3</th>\n",
       "      <td>3</td>\n",
       "      <td>2022-06-15 00:00:00</td>\n",
       "      <td>2022-07-01 00:00:00</td>\n",
       "      <td>2040</td>\n",
       "      <td>PROMO CUOTAS AHORA 12/18</td>\n",
       "      <td>27822</td>\n",
       "      <td>716</td>\n",
       "      <td>25107406</td>\n",
       "      <td>156</td>\n",
       "      <td>VISA CREDITO</td>\n",
       "      <td>18416.85</td>\n",
       "    </tr>\n",
       "    <tr>\n",
       "      <th>4</th>\n",
       "      <td>4</td>\n",
       "      <td>2022-06-15 00:00:00</td>\n",
       "      <td>2022-07-01 00:00:00</td>\n",
       "      <td>2800</td>\n",
       "      <td>TOTAL DEDUCCIONES</td>\n",
       "      <td>27822</td>\n",
       "      <td>716</td>\n",
       "      <td>25107406</td>\n",
       "      <td>156</td>\n",
       "      <td>VISA CREDITO</td>\n",
       "      <td>49585.43</td>\n",
       "    </tr>\n",
       "  </tbody>\n",
       "</table>\n",
       "</div>"
      ],
      "text/plain": [
       "   Unnamed: 0    PreseTaciOn_Fecha        FeCha_de_Pago  cod_clearing  \\\n",
       "0           0  2022-06-15 00:00:00  2022-07-01 00:00:00          1009   \n",
       "1           1  2022-06-15 00:00:00  2022-07-01 00:00:00          1011   \n",
       "2           2  2022-06-15 00:00:00  2022-07-01 00:00:00          2031   \n",
       "3           3  2022-06-15 00:00:00  2022-07-01 00:00:00          2040   \n",
       "4           4  2022-06-15 00:00:00  2022-07-01 00:00:00          2800   \n",
       "\n",
       "                                   desc_creaing  NRo_Liquidacion  \\\n",
       "0  VENTAS C/DESCUENTO CONTADO                              27822   \n",
       "1  VENTAS C/DTO CUOTAS FINANC. OTORG.                      27822   \n",
       "2  ARANCEL                                                 27822   \n",
       "3                      PROMO CUOTAS AHORA 12/18            27822   \n",
       "4  TOTAL DEDUCCIONES                                       27822   \n",
       "\n",
       "   cod_sucursal  Cod_comercio  Cod_pagadora Cod_marca_producto  \\\n",
       "0           716      25107406           156       VISA CREDITO   \n",
       "1           716      25107406           156       VISA CREDITO   \n",
       "2           716      25107406           156       VISA CREDITO   \n",
       "3           716      25107406           156       VISA CREDITO   \n",
       "4           716      25107406           156       VISA CREDITO   \n",
       "\n",
       "   importe_concepto  \n",
       "0           5096.00  \n",
       "1         413500.60  \n",
       "2           7534.70  \n",
       "3          18416.85  \n",
       "4          49585.43  "
      ]
     },
     "execution_count": 194,
     "metadata": {},
     "output_type": "execute_result"
    }
   ],
   "source": [
    "tarjetas.head()"
   ]
  },
  {
   "cell_type": "code",
   "execution_count": 195,
   "metadata": {
    "pycharm": {
     "name": "#%%\n"
    }
   },
   "outputs": [],
   "source": [
    "tarjetas= tarjetas.drop(tarjetas.columns[0], axis='columns')"
   ]
  },
  {
   "cell_type": "markdown",
   "metadata": {
    "pycharm": {
     "name": "#%% md\n"
    }
   },
   "source": [
    "### 1- Pasar todos los nombres de las columnas a minusculas"
   ]
  },
  {
   "cell_type": "code",
   "execution_count": 196,
   "metadata": {
    "pycharm": {
     "name": "#%%\n"
    }
   },
   "outputs": [
    {
     "data": {
      "text/html": [
       "<div>\n",
       "<style scoped>\n",
       "    .dataframe tbody tr th:only-of-type {\n",
       "        vertical-align: middle;\n",
       "    }\n",
       "\n",
       "    .dataframe tbody tr th {\n",
       "        vertical-align: top;\n",
       "    }\n",
       "\n",
       "    .dataframe thead th {\n",
       "        text-align: right;\n",
       "    }\n",
       "</style>\n",
       "<table border=\"1\" class=\"dataframe\">\n",
       "  <thead>\n",
       "    <tr style=\"text-align: right;\">\n",
       "      <th></th>\n",
       "      <th>presetacion_fecha</th>\n",
       "      <th>fecha_de_pago</th>\n",
       "      <th>cod_clearing</th>\n",
       "      <th>desc_creaing</th>\n",
       "      <th>nro_liquidacion</th>\n",
       "      <th>cod_sucursal</th>\n",
       "      <th>cod_comercio</th>\n",
       "      <th>cod_pagadora</th>\n",
       "      <th>cod_marca_producto</th>\n",
       "      <th>importe_concepto</th>\n",
       "    </tr>\n",
       "  </thead>\n",
       "  <tbody>\n",
       "    <tr>\n",
       "      <th>0</th>\n",
       "      <td>2022-06-15 00:00:00</td>\n",
       "      <td>2022-07-01 00:00:00</td>\n",
       "      <td>1009</td>\n",
       "      <td>VENTAS C/DESCUENTO CONTADO</td>\n",
       "      <td>27822</td>\n",
       "      <td>716</td>\n",
       "      <td>25107406</td>\n",
       "      <td>156</td>\n",
       "      <td>VISA CREDITO</td>\n",
       "      <td>5096.00</td>\n",
       "    </tr>\n",
       "    <tr>\n",
       "      <th>1</th>\n",
       "      <td>2022-06-15 00:00:00</td>\n",
       "      <td>2022-07-01 00:00:00</td>\n",
       "      <td>1011</td>\n",
       "      <td>VENTAS C/DTO CUOTAS FINANC. OTORG.</td>\n",
       "      <td>27822</td>\n",
       "      <td>716</td>\n",
       "      <td>25107406</td>\n",
       "      <td>156</td>\n",
       "      <td>VISA CREDITO</td>\n",
       "      <td>413500.60</td>\n",
       "    </tr>\n",
       "    <tr>\n",
       "      <th>2</th>\n",
       "      <td>2022-06-15 00:00:00</td>\n",
       "      <td>2022-07-01 00:00:00</td>\n",
       "      <td>2031</td>\n",
       "      <td>ARANCEL</td>\n",
       "      <td>27822</td>\n",
       "      <td>716</td>\n",
       "      <td>25107406</td>\n",
       "      <td>156</td>\n",
       "      <td>VISA CREDITO</td>\n",
       "      <td>7534.70</td>\n",
       "    </tr>\n",
       "    <tr>\n",
       "      <th>3</th>\n",
       "      <td>2022-06-15 00:00:00</td>\n",
       "      <td>2022-07-01 00:00:00</td>\n",
       "      <td>2040</td>\n",
       "      <td>PROMO CUOTAS AHORA 12/18</td>\n",
       "      <td>27822</td>\n",
       "      <td>716</td>\n",
       "      <td>25107406</td>\n",
       "      <td>156</td>\n",
       "      <td>VISA CREDITO</td>\n",
       "      <td>18416.85</td>\n",
       "    </tr>\n",
       "    <tr>\n",
       "      <th>4</th>\n",
       "      <td>2022-06-15 00:00:00</td>\n",
       "      <td>2022-07-01 00:00:00</td>\n",
       "      <td>2800</td>\n",
       "      <td>TOTAL DEDUCCIONES</td>\n",
       "      <td>27822</td>\n",
       "      <td>716</td>\n",
       "      <td>25107406</td>\n",
       "      <td>156</td>\n",
       "      <td>VISA CREDITO</td>\n",
       "      <td>49585.43</td>\n",
       "    </tr>\n",
       "    <tr>\n",
       "      <th>...</th>\n",
       "      <td>...</td>\n",
       "      <td>...</td>\n",
       "      <td>...</td>\n",
       "      <td>...</td>\n",
       "      <td>...</td>\n",
       "      <td>...</td>\n",
       "      <td>...</td>\n",
       "      <td>...</td>\n",
       "      <td>...</td>\n",
       "      <td>...</td>\n",
       "    </tr>\n",
       "    <tr>\n",
       "      <th>47275</th>\n",
       "      <td>2022-07-28 00:00:00</td>\n",
       "      <td>2022-07-29 00:00:00</td>\n",
       "      <td>2900</td>\n",
       "      <td>TOTAL LIQUIDACION</td>\n",
       "      <td>143176</td>\n",
       "      <td>519</td>\n",
       "      <td>25892918</td>\n",
       "      <td>82</td>\n",
       "      <td>VISA DEBITO</td>\n",
       "      <td>97185.50</td>\n",
       "    </tr>\n",
       "    <tr>\n",
       "      <th>47276</th>\n",
       "      <td>2022-07-28 00:00:00</td>\n",
       "      <td>2022-07-29 00:00:00</td>\n",
       "      <td>5104</td>\n",
       "      <td>IVA CRED.FISC.COMERCIO S/ARANC 21,00%</td>\n",
       "      <td>143176</td>\n",
       "      <td>519</td>\n",
       "      <td>25892918</td>\n",
       "      <td>82</td>\n",
       "      <td>VISA DEBITO</td>\n",
       "      <td>166.03</td>\n",
       "    </tr>\n",
       "    <tr>\n",
       "      <th>47277</th>\n",
       "      <td>2022-07-28 00:00:00</td>\n",
       "      <td>2022-07-29 00:00:00</td>\n",
       "      <td>5204</td>\n",
       "      <td>RETENCION ING.BRUTOS SIRTAC</td>\n",
       "      <td>143176</td>\n",
       "      <td>519</td>\n",
       "      <td>25892918</td>\n",
       "      <td>82</td>\n",
       "      <td>VISA DEBITO</td>\n",
       "      <td>691.84</td>\n",
       "    </tr>\n",
       "    <tr>\n",
       "      <th>47278</th>\n",
       "      <td>2022-07-28 00:00:00</td>\n",
       "      <td>2022-07-29 00:00:00</td>\n",
       "      <td>5900</td>\n",
       "      <td>SUBTOTAL NETO DE PAGOS</td>\n",
       "      <td>143176</td>\n",
       "      <td>519</td>\n",
       "      <td>25892918</td>\n",
       "      <td>82</td>\n",
       "      <td>VISA DEBITO</td>\n",
       "      <td>97185.50</td>\n",
       "    </tr>\n",
       "    <tr>\n",
       "      <th>47279</th>\n",
       "      <td>2022-07-28 00:00:00</td>\n",
       "      <td>2022-07-29 00:00:00</td>\n",
       "      <td>6000</td>\n",
       "      <td>IMPORTE NETO DE PAGOS</td>\n",
       "      <td>143176</td>\n",
       "      <td>519</td>\n",
       "      <td>25892918</td>\n",
       "      <td>82</td>\n",
       "      <td>VISA DEBITO</td>\n",
       "      <td>97185.50</td>\n",
       "    </tr>\n",
       "  </tbody>\n",
       "</table>\n",
       "<p>47280 rows × 10 columns</p>\n",
       "</div>"
      ],
      "text/plain": [
       "         presetacion_fecha        fecha_de_pago  cod_clearing  \\\n",
       "0      2022-06-15 00:00:00  2022-07-01 00:00:00          1009   \n",
       "1      2022-06-15 00:00:00  2022-07-01 00:00:00          1011   \n",
       "2      2022-06-15 00:00:00  2022-07-01 00:00:00          2031   \n",
       "3      2022-06-15 00:00:00  2022-07-01 00:00:00          2040   \n",
       "4      2022-06-15 00:00:00  2022-07-01 00:00:00          2800   \n",
       "...                    ...                  ...           ...   \n",
       "47275  2022-07-28 00:00:00  2022-07-29 00:00:00          2900   \n",
       "47276  2022-07-28 00:00:00  2022-07-29 00:00:00          5104   \n",
       "47277  2022-07-28 00:00:00  2022-07-29 00:00:00          5204   \n",
       "47278  2022-07-28 00:00:00  2022-07-29 00:00:00          5900   \n",
       "47279  2022-07-28 00:00:00  2022-07-29 00:00:00          6000   \n",
       "\n",
       "                                       desc_creaing  nro_liquidacion  \\\n",
       "0      VENTAS C/DESCUENTO CONTADO                              27822   \n",
       "1      VENTAS C/DTO CUOTAS FINANC. OTORG.                      27822   \n",
       "2      ARANCEL                                                 27822   \n",
       "3                          PROMO CUOTAS AHORA 12/18            27822   \n",
       "4      TOTAL DEDUCCIONES                                       27822   \n",
       "...                                             ...              ...   \n",
       "47275  TOTAL LIQUIDACION                                      143176   \n",
       "47276  IVA CRED.FISC.COMERCIO S/ARANC 21,00%                  143176   \n",
       "47277                   RETENCION ING.BRUTOS SIRTAC           143176   \n",
       "47278  SUBTOTAL NETO DE PAGOS                                 143176   \n",
       "47279  IMPORTE NETO DE PAGOS                                  143176   \n",
       "\n",
       "       cod_sucursal  cod_comercio  cod_pagadora cod_marca_producto  \\\n",
       "0               716      25107406           156       VISA CREDITO   \n",
       "1               716      25107406           156       VISA CREDITO   \n",
       "2               716      25107406           156       VISA CREDITO   \n",
       "3               716      25107406           156       VISA CREDITO   \n",
       "4               716      25107406           156       VISA CREDITO   \n",
       "...             ...           ...           ...                ...   \n",
       "47275           519      25892918            82        VISA DEBITO   \n",
       "47276           519      25892918            82        VISA DEBITO   \n",
       "47277           519      25892918            82        VISA DEBITO   \n",
       "47278           519      25892918            82        VISA DEBITO   \n",
       "47279           519      25892918            82        VISA DEBITO   \n",
       "\n",
       "       importe_concepto  \n",
       "0               5096.00  \n",
       "1             413500.60  \n",
       "2               7534.70  \n",
       "3              18416.85  \n",
       "4              49585.43  \n",
       "...                 ...  \n",
       "47275          97185.50  \n",
       "47276            166.03  \n",
       "47277            691.84  \n",
       "47278          97185.50  \n",
       "47279          97185.50  \n",
       "\n",
       "[47280 rows x 10 columns]"
      ]
     },
     "execution_count": 196,
     "metadata": {},
     "output_type": "execute_result"
    }
   ],
   "source": [
    "tarjetas.columns = map(str.lower, tarjetas.columns)\n",
    "tarjetas"
   ]
  },
  {
   "cell_type": "markdown",
   "metadata": {
    "pycharm": {
     "name": "#%% md\n"
    }
   },
   "source": [
    "### 2-Cuantas sucursales únicas hay? ¿Cuáles?"
   ]
  },
  {
   "cell_type": "markdown",
   "metadata": {},
   "source": [
    "Hay 5 sucursales. Sus codigos son :716,98,671,519,241"
   ]
  },
  {
   "cell_type": "code",
   "execution_count": 197,
   "metadata": {
    "pycharm": {
     "name": "#%%\n"
    }
   },
   "outputs": [
    {
     "data": {
      "text/plain": [
       "5"
      ]
     },
     "execution_count": 197,
     "metadata": {},
     "output_type": "execute_result"
    }
   ],
   "source": [
    "sucursales =tarjetas.cod_sucursal.unique().tolist()\n",
    "len(sucursales)\n"
   ]
  },
  {
   "cell_type": "code",
   "execution_count": 198,
   "metadata": {
    "pycharm": {
     "name": "#%%\n"
    }
   },
   "outputs": [
    {
     "data": {
      "text/plain": [
       "[716, 98, 671, 519, 241]"
      ]
     },
     "execution_count": 198,
     "metadata": {},
     "output_type": "execute_result"
    }
   ],
   "source": [
    "sucursales\n"
   ]
  },
  {
   "cell_type": "code",
   "execution_count": 198,
   "metadata": {
    "pycharm": {
     "name": "#%%\n"
    }
   },
   "outputs": [],
   "source": []
  },
  {
   "cell_type": "markdown",
   "metadata": {
    "pycharm": {
     "name": "#%% md\n"
    }
   },
   "source": [
    "### 3- Cuantas tarjetas de crédito distitas hay? ¿Cuáles?\n",
    "¿Se te ocurre un nombre mejor para esa columna?"
   ]
  },
  {
   "cell_type": "markdown",
   "metadata": {},
   "source": [
    "Hay 34499 tarjetas de credito.Estas son Mastercard y Visa Credito.\n",
    "La columna se podria llamar nomb_tarjeta"
   ]
  },
  {
   "cell_type": "code",
   "execution_count": 199,
   "metadata": {
    "pycharm": {
     "name": "#%%\n"
    }
   },
   "outputs": [
    {
     "data": {
      "text/plain": [
       "VISA CREDITO        26935\n",
       "VISA DEBITO         12231\n",
       "MASTERCARD           7564\n",
       "MASTERCARD DEBIT      275\n",
       "MAESTRO               261\n",
       "ARGENCARD              14\n",
       "Name: cod_marca_producto, dtype: int64"
      ]
     },
     "execution_count": 199,
     "metadata": {},
     "output_type": "execute_result"
    }
   ],
   "source": [
    "tarjetas.cod_marca_producto.value_counts()"
   ]
  },
  {
   "cell_type": "code",
   "execution_count": 200,
   "metadata": {
    "pycharm": {
     "name": "#%%\n"
    }
   },
   "outputs": [
    {
     "data": {
      "text/plain": [
       "34499"
      ]
     },
     "execution_count": 200,
     "metadata": {},
     "output_type": "execute_result"
    }
   ],
   "source": [
    "visa=(tarjetas.cod_marca_producto == \"VISA CREDITO\").sum()\n",
    "mastercard=(tarjetas.cod_marca_producto == \"MASTERCARD\").sum()\n",
    "mastercard+visa"
   ]
  },
  {
   "cell_type": "markdown",
   "metadata": {
    "pycharm": {
     "name": "#%% md\n"
    }
   },
   "source": [
    "### 4- Cuants filas y columnas hay?\n"
   ]
  },
  {
   "cell_type": "code",
   "execution_count": 201,
   "metadata": {
    "pycharm": {
     "name": "#%%\n"
    }
   },
   "outputs": [
    {
     "data": {
      "text/plain": [
       "(47280, 10)"
      ]
     },
     "execution_count": 201,
     "metadata": {},
     "output_type": "execute_result"
    }
   ],
   "source": [
    "tarjetas.shape"
   ]
  },
  {
   "cell_type": "markdown",
   "metadata": {},
   "source": [
    "Hay 47280 filas y 10 columnas"
   ]
  },
  {
   "cell_type": "markdown",
   "metadata": {
    "pycharm": {
     "name": "#%% md\n"
    }
   },
   "source": [
    "### 5- ¿Cuanto suma el total de importe_concepto?\n"
   ]
  },
  {
   "cell_type": "code",
   "execution_count": 202,
   "metadata": {
    "pycharm": {
     "name": "#%%\n"
    }
   },
   "outputs": [
    {
     "data": {
      "text/plain": [
       "4145618332.503"
      ]
     },
     "execution_count": 202,
     "metadata": {},
     "output_type": "execute_result"
    }
   ],
   "source": [
    "tarjetas.importe_concepto.sum()"
   ]
  },
  {
   "cell_type": "markdown",
   "metadata": {},
   "source": [
    "El importe total de todas las transacciones es de $4145618332,503"
   ]
  },
  {
   "cell_type": "markdown",
   "metadata": {
    "pycharm": {
     "name": "#%% md\n"
    }
   },
   "source": [
    "### 6- ¿Cuanto dinero se cobro por mes? Cree un lineplot para gráficarlo\n"
   ]
  },
  {
   "cell_type": "code",
   "execution_count": 203,
   "metadata": {
    "pycharm": {
     "name": "#%%\n"
    }
   },
   "outputs": [],
   "source": [
    "tarjetas.fecha_de_pago=pd.to_datetime(tarjetas.fecha_de_pago)"
   ]
  },
  {
   "cell_type": "code",
   "execution_count": 204,
   "metadata": {
    "pycharm": {
     "name": "#%%\n"
    }
   },
   "outputs": [
    {
     "data": {
      "text/plain": [
       "presetacion_fecha             object\n",
       "fecha_de_pago         datetime64[ns]\n",
       "cod_clearing                   int64\n",
       "desc_creaing                  object\n",
       "nro_liquidacion                int64\n",
       "cod_sucursal                   int64\n",
       "cod_comercio                   int64\n",
       "cod_pagadora                   int64\n",
       "cod_marca_producto            object\n",
       "importe_concepto             float64\n",
       "dtype: object"
      ]
     },
     "execution_count": 204,
     "metadata": {},
     "output_type": "execute_result"
    }
   ],
   "source": [
    "tarjetas.dtypes"
   ]
  },
  {
   "cell_type": "code",
   "execution_count": 210,
   "metadata": {
    "pycharm": {
     "name": "#%%\n"
    }
   },
   "outputs": [],
   "source": [
    "tarjetas['dia']= pd.DatetimeIndex(tarjetas['fecha_de_pago']).day"
   ]
  },
  {
   "cell_type": "code",
   "execution_count": 224,
   "metadata": {
    "pycharm": {
     "name": "#%%\n"
    }
   },
   "outputs": [
    {
     "data": {
      "text/plain": [
       "dia\n",
       "1     1.473177e+08\n",
       "4     1.976693e+08\n",
       "5     7.024681e+08\n",
       "6     1.002753e+08\n",
       "7     1.116222e+08\n",
       "8     1.465996e+08\n",
       "11    2.870652e+08\n",
       "12    2.403649e+08\n",
       "13    1.227566e+08\n",
       "14    1.293021e+08\n",
       "15    1.469553e+08\n",
       "18    2.730872e+08\n",
       "19    2.219563e+08\n",
       "20    1.363231e+08\n",
       "21    1.431265e+08\n",
       "22    1.531738e+08\n",
       "25    2.727540e+08\n",
       "26    2.242873e+08\n",
       "27    1.235888e+08\n",
       "28    1.294521e+08\n",
       "29    1.354729e+08\n",
       "Name: importe_concepto, dtype: float64"
      ]
     },
     "execution_count": 224,
     "metadata": {},
     "output_type": "execute_result"
    }
   ],
   "source": [
    "transc_dia=tarjetas.groupby('dia')['importe_concepto'].sum()\n",
    "transc_dia"
   ]
  },
  {
   "cell_type": "code",
   "execution_count": 222,
   "metadata": {
    "pycharm": {
     "name": "#%%\n"
    }
   },
   "outputs": [
    {
     "data": {
      "text/plain": [
       "<AxesSubplot:xlabel='dia'>"
      ]
     },
     "execution_count": 222,
     "metadata": {},
     "output_type": "execute_result"
    },
    {
     "data": {
      "image/png": "[encoded data removed]",
      "text/plain": [
       "<Figure size 432x288 with 1 Axes>"
      ]
     },
     "metadata": {
      "needs_background": "light"
     },
     "output_type": "display_data"
    }
   ],
   "source": [
    "transc_dia.plot()"
   ]
  },
  {
   "cell_type": "markdown",
   "metadata": {},
   "source": [
    "### 7- Cuanto dinero se cobro por sucursal?\n",
    "\n"
   ]
  },
  {
   "cell_type": "code",
   "execution_count": 223,
   "metadata": {
    "pycharm": {
     "name": "#%%\n"
    }
   },
   "outputs": [
    {
     "data": {
      "text/plain": [
       "cod_sucursal\n",
       "98     1.401451e+08\n",
       "241    9.773019e+05\n",
       "519    3.621125e+09\n",
       "671    2.418829e+08\n",
       "716    1.414878e+08\n",
       "Name: importe_concepto, dtype: float64"
      ]
     },
     "execution_count": 223,
     "metadata": {},
     "output_type": "execute_result"
    }
   ],
   "source": [
    "sucursal= tarjetas.groupby(\"cod_sucursal\")[\"importe_concepto\"].sum()\n",
    "sucursal"
   ]
  },
  {
   "cell_type": "markdown",
   "metadata": {
    "pycharm": {
     "name": "#%% md\n"
    }
   },
   "source": [
    "### 8- Cuanto dinero se cobro por mes por sucursal?\n"
   ]
  },
  {
   "cell_type": "code",
   "execution_count": 208,
   "metadata": {
    "pycharm": {
     "name": "#%%\n"
    }
   },
   "outputs": [
    {
     "data": {
      "text/plain": [
       "dia  cod_sucursal\n",
       "1    98              3.669431e+06\n",
       "     519             1.312675e+08\n",
       "     671             7.608022e+06\n",
       "     716             4.772726e+06\n",
       "4    98              6.478613e+06\n",
       "                         ...     \n",
       "29   98              4.980121e+06\n",
       "     241             2.472456e+04\n",
       "     519             1.182347e+08\n",
       "     671             6.924635e+06\n",
       "     716             5.308723e+06\n",
       "Name: importe_concepto, Length: 91, dtype: float64"
      ]
     },
     "execution_count": 208,
     "metadata": {},
     "output_type": "execute_result"
    }
   ],
   "source": [
    "df= tarjetas.groupby(by=[\"dia\",'cod_sucursal'])\n",
    "df.sum()['importe_concepto']"
   ]
  },
  {
   "cell_type": "markdown",
   "metadata": {},
   "source": []
  },
  {
   "cell_type": "markdown",
   "metadata": {
    "pycharm": {
     "name": "#%% md\n"
    }
   },
   "source": [
    "### 9- Cuanto dinero se cobro por mes por sucursal y por descreaing?"
   ]
  },
  {
   "cell_type": "code",
   "execution_count": 227,
   "metadata": {
    "pycharm": {
     "name": "#%%\n"
    }
   },
   "outputs": [
    {
     "data": {
      "text/plain": [
       "dia  cod_sucursal  desc_creaing                                \n",
       "1    98             PERCEPCION IVA R.G. 2408   3,00 %                  246.590\n",
       "                   ARANCEL                                           13283.600\n",
       "                   CRED FISCAL AHORA 12/18 VTA EN CUOTAS 10,50%       2536.308\n",
       "                   CRED. FISCAL PAG.S/DTO.FIN.OTORG 21,00%             444.920\n",
       "                   DESCUENTO FINANC.OTORG. CUOTAS                     2118.730\n",
       "                                                                      ...     \n",
       "29   716           SUBTOTAL NETO DE PAGOS                          1216257.030\n",
       "                   TOTAL DEDUCCIONES                                146099.260\n",
       "                   TOTAL LIQUIDACION                               1216257.030\n",
       "                   VENTAS C/DESCUENTO CONTADO                       433551.900\n",
       "                   VENTAS C/DTO CUOTAS FINANC. OTORG.               928804.390\n",
       "Name: importe_concepto, Length: 1907, dtype: float64"
      ]
     },
     "execution_count": 227,
     "metadata": {},
     "output_type": "execute_result"
    }
   ],
   "source": [
    "nuevo_df= tarjetas.groupby(by=[\"dia\",'cod_sucursal','desc_creaing'])['importe_concepto'].sum()\n",
    "nuevo_df"
   ]
  },
  {
   "cell_type": "markdown",
   "metadata": {
    "pycharm": {
     "name": "#%% md\n"
    }
   },
   "source": []
  },
  {
   "cell_type": "markdown",
   "metadata": {
    "pycharm": {
     "name": "#%% md\n"
    }
   },
   "source": [
    "### 10- Pase a columnas los valores presentes en desc_creaing y ponga los importes como valores y en el indice la fecha de pago y el codigo de comercio"
   ]
  },
  {
   "cell_type": "code",
   "execution_count": null,
   "metadata": {
    "pycharm": {
     "name": "#%%\n"
    }
   },
   "outputs": [],
   "source": [
    "desc_df=tarjetas.pivot_table(index='fecha_de_pago', columns='desc_creaing',values = 'importe_concepto')"
   ]
  },
  {
   "cell_type": "code",
   "execution_count": 228,
   "metadata": {
    "pycharm": {
     "name": "#%%\n"
    }
   },
   "outputs": [
    {
     "data": {
      "text/html": [
       "<div>\n",
       "<style scoped>\n",
       "    .dataframe tbody tr th:only-of-type {\n",
       "        vertical-align: middle;\n",
       "    }\n",
       "\n",
       "    .dataframe tbody tr th {\n",
       "        vertical-align: top;\n",
       "    }\n",
       "\n",
       "    .dataframe thead th {\n",
       "        text-align: right;\n",
       "    }\n",
       "</style>\n",
       "<table border=\"1\" class=\"dataframe\">\n",
       "  <thead>\n",
       "    <tr style=\"text-align: right;\">\n",
       "      <th>desc_creaing</th>\n",
       "      <th>PERCEPCION IVA R.G. 2408   3,00 %</th>\n",
       "      <th>AJUSTE SIRTAC JUL. 1RA QUINC</th>\n",
       "      <th>AJUSTE SIRTAC JUNIO 2DA QUINC</th>\n",
       "      <th>ARANCEL</th>\n",
       "      <th>CARGO  SISTEMA CUOTAS MENS</th>\n",
       "      <th>CARGO LIQUIDACION ELECTR.</th>\n",
       "      <th>CARGO POSNET  FIRSTDATA.COM.AR</th>\n",
       "      <th>CARGOS DE ENTIDAD</th>\n",
       "      <th>CRED FISCAL AHORA 12/18 VTA EN CUOTAS 10,50%</th>\n",
       "      <th>CRED FISCAL AHORA 12/18 VTA EN CUOTAS 21,00%</th>\n",
       "      <th>...</th>\n",
       "      <th>RETENCION ING.BRUTOS</th>\n",
       "      <th>RETENCION ING.BRUTOS SIRTAC</th>\n",
       "      <th>RETENCION IVA</th>\n",
       "      <th>SERVICIO OPER. INTERNAC.</th>\n",
       "      <th>SUBTOTAL NETO DE PAGOS</th>\n",
       "      <th>TOTAL DEDUCCIONES</th>\n",
       "      <th>TOTAL LIQUIDACION</th>\n",
       "      <th>TOTAL PAGOS DE COMERCIOS</th>\n",
       "      <th>VENTAS C/DESCUENTO CONTADO</th>\n",
       "      <th>VENTAS C/DTO CUOTAS FINANC. OTORG.</th>\n",
       "    </tr>\n",
       "    <tr>\n",
       "      <th>fecha_de_pago</th>\n",
       "      <th></th>\n",
       "      <th></th>\n",
       "      <th></th>\n",
       "      <th></th>\n",
       "      <th></th>\n",
       "      <th></th>\n",
       "      <th></th>\n",
       "      <th></th>\n",
       "      <th></th>\n",
       "      <th></th>\n",
       "      <th></th>\n",
       "      <th></th>\n",
       "      <th></th>\n",
       "      <th></th>\n",
       "      <th></th>\n",
       "      <th></th>\n",
       "      <th></th>\n",
       "      <th></th>\n",
       "      <th></th>\n",
       "      <th></th>\n",
       "      <th></th>\n",
       "    </tr>\n",
       "  </thead>\n",
       "  <tbody>\n",
       "    <tr>\n",
       "      <th>2022-07-01</th>\n",
       "      <td>226.910635</td>\n",
       "      <td>NaN</td>\n",
       "      <td>NaN</td>\n",
       "      <td>3446.412840</td>\n",
       "      <td>NaN</td>\n",
       "      <td>NaN</td>\n",
       "      <td>NaN</td>\n",
       "      <td>NaN</td>\n",
       "      <td>1385.761961</td>\n",
       "      <td>NaN</td>\n",
       "      <td>...</td>\n",
       "      <td>6047.153656</td>\n",
       "      <td>2099.346049</td>\n",
       "      <td>4865.248385</td>\n",
       "      <td>NaN</td>\n",
       "      <td>209269.401975</td>\n",
       "      <td>23861.363889</td>\n",
       "      <td>209269.401975</td>\n",
       "      <td>NaN</td>\n",
       "      <td>114339.390543</td>\n",
       "      <td>2.474990e+05</td>\n",
       "    </tr>\n",
       "    <tr>\n",
       "      <th>2022-07-04</th>\n",
       "      <td>248.029500</td>\n",
       "      <td>NaN</td>\n",
       "      <td>NaN</td>\n",
       "      <td>4378.904882</td>\n",
       "      <td>NaN</td>\n",
       "      <td>NaN</td>\n",
       "      <td>NaN</td>\n",
       "      <td>NaN</td>\n",
       "      <td>1820.158449</td>\n",
       "      <td>NaN</td>\n",
       "      <td>...</td>\n",
       "      <td>7780.988617</td>\n",
       "      <td>2673.807235</td>\n",
       "      <td>6117.384706</td>\n",
       "      <td>22.5</td>\n",
       "      <td>267848.932412</td>\n",
       "      <td>30165.841529</td>\n",
       "      <td>267849.092588</td>\n",
       "      <td>27.23</td>\n",
       "      <td>146176.673094</td>\n",
       "      <td>3.194103e+05</td>\n",
       "    </tr>\n",
       "    <tr>\n",
       "      <th>2022-07-05</th>\n",
       "      <td>652.612727</td>\n",
       "      <td>NaN</td>\n",
       "      <td>52.356</td>\n",
       "      <td>15213.450000</td>\n",
       "      <td>11.5</td>\n",
       "      <td>NaN</td>\n",
       "      <td>NaN</td>\n",
       "      <td>52.356</td>\n",
       "      <td>6531.664391</td>\n",
       "      <td>335.710</td>\n",
       "      <td>...</td>\n",
       "      <td>26289.169510</td>\n",
       "      <td>9162.282722</td>\n",
       "      <td>22551.975202</td>\n",
       "      <td>NaN</td>\n",
       "      <td>889816.455138</td>\n",
       "      <td>106780.135722</td>\n",
       "      <td>894762.865889</td>\n",
       "      <td>13.92</td>\n",
       "      <td>420070.534362</td>\n",
       "      <td>1.041480e+06</td>\n",
       "    </tr>\n",
       "    <tr>\n",
       "      <th>2022-07-06</th>\n",
       "      <td>152.886939</td>\n",
       "      <td>NaN</td>\n",
       "      <td>NaN</td>\n",
       "      <td>1915.178066</td>\n",
       "      <td>11.5</td>\n",
       "      <td>NaN</td>\n",
       "      <td>21187.48</td>\n",
       "      <td>NaN</td>\n",
       "      <td>914.654329</td>\n",
       "      <td>NaN</td>\n",
       "      <td>...</td>\n",
       "      <td>3883.412500</td>\n",
       "      <td>1204.781215</td>\n",
       "      <td>4217.696162</td>\n",
       "      <td>NaN</td>\n",
       "      <td>127994.958840</td>\n",
       "      <td>13704.616298</td>\n",
       "      <td>128112.093646</td>\n",
       "      <td>10600.70</td>\n",
       "      <td>100865.359318</td>\n",
       "      <td>1.133449e+05</td>\n",
       "    </tr>\n",
       "    <tr>\n",
       "      <th>2022-07-07</th>\n",
       "      <td>154.974561</td>\n",
       "      <td>NaN</td>\n",
       "      <td>NaN</td>\n",
       "      <td>2385.134161</td>\n",
       "      <td>NaN</td>\n",
       "      <td>55.0</td>\n",
       "      <td>NaN</td>\n",
       "      <td>NaN</td>\n",
       "      <td>1068.296324</td>\n",
       "      <td>303.623</td>\n",
       "      <td>...</td>\n",
       "      <td>4672.764725</td>\n",
       "      <td>1524.765901</td>\n",
       "      <td>4791.083939</td>\n",
       "      <td>NaN</td>\n",
       "      <td>160630.369503</td>\n",
       "      <td>16749.329193</td>\n",
       "      <td>160630.782857</td>\n",
       "      <td>66.55</td>\n",
       "      <td>118071.152460</td>\n",
       "      <td>1.471100e+05</td>\n",
       "    </tr>\n",
       "    <tr>\n",
       "      <th>2022-07-08</th>\n",
       "      <td>184.242254</td>\n",
       "      <td>NaN</td>\n",
       "      <td>NaN</td>\n",
       "      <td>3032.219306</td>\n",
       "      <td>NaN</td>\n",
       "      <td>NaN</td>\n",
       "      <td>NaN</td>\n",
       "      <td>NaN</td>\n",
       "      <td>1516.413750</td>\n",
       "      <td>122.301</td>\n",
       "      <td>...</td>\n",
       "      <td>5711.565000</td>\n",
       "      <td>1521.638092</td>\n",
       "      <td>6173.055505</td>\n",
       "      <td>NaN</td>\n",
       "      <td>195579.565491</td>\n",
       "      <td>21446.250347</td>\n",
       "      <td>195579.565491</td>\n",
       "      <td>NaN</td>\n",
       "      <td>128914.462029</td>\n",
       "      <td>1.936791e+05</td>\n",
       "    </tr>\n",
       "    <tr>\n",
       "      <th>2022-07-11</th>\n",
       "      <td>355.530227</td>\n",
       "      <td>NaN</td>\n",
       "      <td>NaN</td>\n",
       "      <td>6231.431648</td>\n",
       "      <td>NaN</td>\n",
       "      <td>NaN</td>\n",
       "      <td>NaN</td>\n",
       "      <td>NaN</td>\n",
       "      <td>3390.071286</td>\n",
       "      <td>156.597</td>\n",
       "      <td>...</td>\n",
       "      <td>10944.390495</td>\n",
       "      <td>2843.469176</td>\n",
       "      <td>12928.903089</td>\n",
       "      <td>NaN</td>\n",
       "      <td>359657.453462</td>\n",
       "      <td>45675.179231</td>\n",
       "      <td>359657.453462</td>\n",
       "      <td>NaN</td>\n",
       "      <td>157830.315092</td>\n",
       "      <td>4.448537e+05</td>\n",
       "    </tr>\n",
       "    <tr>\n",
       "      <th>2022-07-12</th>\n",
       "      <td>179.268736</td>\n",
       "      <td>NaN</td>\n",
       "      <td>NaN</td>\n",
       "      <td>3450.300330</td>\n",
       "      <td>NaN</td>\n",
       "      <td>NaN</td>\n",
       "      <td>NaN</td>\n",
       "      <td>NaN</td>\n",
       "      <td>915.839653</td>\n",
       "      <td>135.167</td>\n",
       "      <td>...</td>\n",
       "      <td>9122.311667</td>\n",
       "      <td>2349.966429</td>\n",
       "      <td>4499.375037</td>\n",
       "      <td>NaN</td>\n",
       "      <td>313955.322857</td>\n",
       "      <td>21474.451154</td>\n",
       "      <td>313955.322857</td>\n",
       "      <td>NaN</td>\n",
       "      <td>351846.049424</td>\n",
       "      <td>1.124224e+05</td>\n",
       "    </tr>\n",
       "    <tr>\n",
       "      <th>2022-07-13</th>\n",
       "      <td>135.518209</td>\n",
       "      <td>NaN</td>\n",
       "      <td>NaN</td>\n",
       "      <td>2134.833737</td>\n",
       "      <td>NaN</td>\n",
       "      <td>NaN</td>\n",
       "      <td>NaN</td>\n",
       "      <td>NaN</td>\n",
       "      <td>931.841623</td>\n",
       "      <td>NaN</td>\n",
       "      <td>...</td>\n",
       "      <td>4044.852342</td>\n",
       "      <td>1158.357632</td>\n",
       "      <td>4013.037797</td>\n",
       "      <td>NaN</td>\n",
       "      <td>150354.508158</td>\n",
       "      <td>14712.625316</td>\n",
       "      <td>150354.508158</td>\n",
       "      <td>NaN</td>\n",
       "      <td>123050.183836</td>\n",
       "      <td>1.154951e+05</td>\n",
       "    </tr>\n",
       "    <tr>\n",
       "      <th>2022-07-14</th>\n",
       "      <td>156.984032</td>\n",
       "      <td>NaN</td>\n",
       "      <td>NaN</td>\n",
       "      <td>2476.444128</td>\n",
       "      <td>11.5</td>\n",
       "      <td>NaN</td>\n",
       "      <td>NaN</td>\n",
       "      <td>NaN</td>\n",
       "      <td>1046.159707</td>\n",
       "      <td>NaN</td>\n",
       "      <td>...</td>\n",
       "      <td>5179.854681</td>\n",
       "      <td>1349.164360</td>\n",
       "      <td>4547.104071</td>\n",
       "      <td>NaN</td>\n",
       "      <td>175347.132791</td>\n",
       "      <td>16616.193547</td>\n",
       "      <td>175348.589535</td>\n",
       "      <td>13.92</td>\n",
       "      <td>140960.098741</td>\n",
       "      <td>1.427381e+05</td>\n",
       "    </tr>\n",
       "    <tr>\n",
       "      <th>2022-07-15</th>\n",
       "      <td>175.656351</td>\n",
       "      <td>NaN</td>\n",
       "      <td>NaN</td>\n",
       "      <td>3084.673772</td>\n",
       "      <td>11.5</td>\n",
       "      <td>NaN</td>\n",
       "      <td>NaN</td>\n",
       "      <td>NaN</td>\n",
       "      <td>1435.117493</td>\n",
       "      <td>196.636</td>\n",
       "      <td>...</td>\n",
       "      <td>5936.629231</td>\n",
       "      <td>1586.670659</td>\n",
       "      <td>5881.603839</td>\n",
       "      <td>NaN</td>\n",
       "      <td>204034.250659</td>\n",
       "      <td>21054.197006</td>\n",
       "      <td>204034.667425</td>\n",
       "      <td>13.92</td>\n",
       "      <td>141443.758309</td>\n",
       "      <td>1.952499e+05</td>\n",
       "    </tr>\n",
       "    <tr>\n",
       "      <th>2022-07-18</th>\n",
       "      <td>372.478025</td>\n",
       "      <td>NaN</td>\n",
       "      <td>NaN</td>\n",
       "      <td>6207.147500</td>\n",
       "      <td>11.5</td>\n",
       "      <td>NaN</td>\n",
       "      <td>NaN</td>\n",
       "      <td>NaN</td>\n",
       "      <td>3264.380833</td>\n",
       "      <td>74.275</td>\n",
       "      <td>...</td>\n",
       "      <td>10460.592843</td>\n",
       "      <td>2793.544034</td>\n",
       "      <td>13521.873860</td>\n",
       "      <td>NaN</td>\n",
       "      <td>353542.716534</td>\n",
       "      <td>45282.429034</td>\n",
       "      <td>353543.111989</td>\n",
       "      <td>13.92</td>\n",
       "      <td>159572.087714</td>\n",
       "      <td>4.472262e+05</td>\n",
       "    </tr>\n",
       "    <tr>\n",
       "      <th>2022-07-19</th>\n",
       "      <td>164.477045</td>\n",
       "      <td>NaN</td>\n",
       "      <td>NaN</td>\n",
       "      <td>3496.513824</td>\n",
       "      <td>NaN</td>\n",
       "      <td>NaN</td>\n",
       "      <td>NaN</td>\n",
       "      <td>NaN</td>\n",
       "      <td>948.280054</td>\n",
       "      <td>27.033</td>\n",
       "      <td>...</td>\n",
       "      <td>8758.671700</td>\n",
       "      <td>2323.632059</td>\n",
       "      <td>4358.555109</td>\n",
       "      <td>NaN</td>\n",
       "      <td>309841.673294</td>\n",
       "      <td>21931.525059</td>\n",
       "      <td>309841.673294</td>\n",
       "      <td>NaN</td>\n",
       "      <td>333898.682290</td>\n",
       "      <td>1.332707e+05</td>\n",
       "    </tr>\n",
       "    <tr>\n",
       "      <th>2022-07-20</th>\n",
       "      <td>141.232286</td>\n",
       "      <td>7326.819101</td>\n",
       "      <td>NaN</td>\n",
       "      <td>2417.190884</td>\n",
       "      <td>NaN</td>\n",
       "      <td>NaN</td>\n",
       "      <td>NaN</td>\n",
       "      <td>NaN</td>\n",
       "      <td>1068.304583</td>\n",
       "      <td>103.215</td>\n",
       "      <td>...</td>\n",
       "      <td>4944.982381</td>\n",
       "      <td>1321.001768</td>\n",
       "      <td>4376.628729</td>\n",
       "      <td>NaN</td>\n",
       "      <td>140059.716608</td>\n",
       "      <td>16662.209061</td>\n",
       "      <td>172052.313646</td>\n",
       "      <td>NaN</td>\n",
       "      <td>138055.380556</td>\n",
       "      <td>1.346920e+05</td>\n",
       "    </tr>\n",
       "    <tr>\n",
       "      <th>2022-07-21</th>\n",
       "      <td>168.815362</td>\n",
       "      <td>NaN</td>\n",
       "      <td>NaN</td>\n",
       "      <td>2813.613486</td>\n",
       "      <td>NaN</td>\n",
       "      <td>NaN</td>\n",
       "      <td>NaN</td>\n",
       "      <td>NaN</td>\n",
       "      <td>1275.865615</td>\n",
       "      <td>124.538</td>\n",
       "      <td>...</td>\n",
       "      <td>5406.575149</td>\n",
       "      <td>1463.910286</td>\n",
       "      <td>5934.805534</td>\n",
       "      <td>NaN</td>\n",
       "      <td>189852.187771</td>\n",
       "      <td>19277.849486</td>\n",
       "      <td>189852.187771</td>\n",
       "      <td>NaN</td>\n",
       "      <td>136581.914296</td>\n",
       "      <td>1.791992e+05</td>\n",
       "    </tr>\n",
       "    <tr>\n",
       "      <th>2022-07-22</th>\n",
       "      <td>209.570000</td>\n",
       "      <td>NaN</td>\n",
       "      <td>NaN</td>\n",
       "      <td>3245.770289</td>\n",
       "      <td>NaN</td>\n",
       "      <td>NaN</td>\n",
       "      <td>NaN</td>\n",
       "      <td>NaN</td>\n",
       "      <td>1649.972566</td>\n",
       "      <td>512.556</td>\n",
       "      <td>...</td>\n",
       "      <td>6167.768404</td>\n",
       "      <td>1588.122832</td>\n",
       "      <td>7781.281170</td>\n",
       "      <td>NaN</td>\n",
       "      <td>203980.918960</td>\n",
       "      <td>22893.738960</td>\n",
       "      <td>203980.918960</td>\n",
       "      <td>NaN</td>\n",
       "      <td>129724.605896</td>\n",
       "      <td>2.277731e+05</td>\n",
       "    </tr>\n",
       "    <tr>\n",
       "      <th>2022-07-25</th>\n",
       "      <td>375.165190</td>\n",
       "      <td>NaN</td>\n",
       "      <td>NaN</td>\n",
       "      <td>6333.650643</td>\n",
       "      <td>11.5</td>\n",
       "      <td>NaN</td>\n",
       "      <td>NaN</td>\n",
       "      <td>NaN</td>\n",
       "      <td>3228.176940</td>\n",
       "      <td>NaN</td>\n",
       "      <td>...</td>\n",
       "      <td>10488.668182</td>\n",
       "      <td>2868.565965</td>\n",
       "      <td>14216.670187</td>\n",
       "      <td>NaN</td>\n",
       "      <td>364060.292339</td>\n",
       "      <td>45734.721053</td>\n",
       "      <td>364060.373743</td>\n",
       "      <td>13.92</td>\n",
       "      <td>160758.333125</td>\n",
       "      <td>4.600565e+05</td>\n",
       "    </tr>\n",
       "    <tr>\n",
       "      <th>2022-07-26</th>\n",
       "      <td>182.942688</td>\n",
       "      <td>NaN</td>\n",
       "      <td>NaN</td>\n",
       "      <td>3882.338198</td>\n",
       "      <td>NaN</td>\n",
       "      <td>NaN</td>\n",
       "      <td>NaN</td>\n",
       "      <td>NaN</td>\n",
       "      <td>1390.744143</td>\n",
       "      <td>NaN</td>\n",
       "      <td>...</td>\n",
       "      <td>8753.885417</td>\n",
       "      <td>2325.209070</td>\n",
       "      <td>6471.841565</td>\n",
       "      <td>NaN</td>\n",
       "      <td>306800.812558</td>\n",
       "      <td>25371.906570</td>\n",
       "      <td>306800.812558</td>\n",
       "      <td>NaN</td>\n",
       "      <td>278941.536350</td>\n",
       "      <td>1.930481e+05</td>\n",
       "    </tr>\n",
       "    <tr>\n",
       "      <th>2022-07-27</th>\n",
       "      <td>176.549538</td>\n",
       "      <td>NaN</td>\n",
       "      <td>NaN</td>\n",
       "      <td>2562.130652</td>\n",
       "      <td>NaN</td>\n",
       "      <td>NaN</td>\n",
       "      <td>NaN</td>\n",
       "      <td>NaN</td>\n",
       "      <td>1352.685948</td>\n",
       "      <td>230.866</td>\n",
       "      <td>...</td>\n",
       "      <td>4430.439505</td>\n",
       "      <td>1205.893478</td>\n",
       "      <td>6866.223556</td>\n",
       "      <td>NaN</td>\n",
       "      <td>154190.163641</td>\n",
       "      <td>18080.385870</td>\n",
       "      <td>154190.163641</td>\n",
       "      <td>NaN</td>\n",
       "      <td>88065.887465</td>\n",
       "      <td>1.729047e+05</td>\n",
       "    </tr>\n",
       "    <tr>\n",
       "      <th>2022-07-28</th>\n",
       "      <td>195.273594</td>\n",
       "      <td>NaN</td>\n",
       "      <td>NaN</td>\n",
       "      <td>2896.222398</td>\n",
       "      <td>NaN</td>\n",
       "      <td>NaN</td>\n",
       "      <td>NaN</td>\n",
       "      <td>NaN</td>\n",
       "      <td>1470.257662</td>\n",
       "      <td>198.663</td>\n",
       "      <td>...</td>\n",
       "      <td>4909.122979</td>\n",
       "      <td>1359.306491</td>\n",
       "      <td>7656.946279</td>\n",
       "      <td>NaN</td>\n",
       "      <td>173729.064503</td>\n",
       "      <td>20457.591404</td>\n",
       "      <td>173729.064503</td>\n",
       "      <td>NaN</td>\n",
       "      <td>97710.771846</td>\n",
       "      <td>1.971492e+05</td>\n",
       "    </tr>\n",
       "    <tr>\n",
       "      <th>2022-07-29</th>\n",
       "      <td>198.956923</td>\n",
       "      <td>NaN</td>\n",
       "      <td>NaN</td>\n",
       "      <td>3000.875789</td>\n",
       "      <td>NaN</td>\n",
       "      <td>NaN</td>\n",
       "      <td>NaN</td>\n",
       "      <td>NaN</td>\n",
       "      <td>1496.340637</td>\n",
       "      <td>55.996</td>\n",
       "      <td>...</td>\n",
       "      <td>5197.427113</td>\n",
       "      <td>1422.147719</td>\n",
       "      <td>8002.546471</td>\n",
       "      <td>NaN</td>\n",
       "      <td>182008.602456</td>\n",
       "      <td>21155.411287</td>\n",
       "      <td>182008.602456</td>\n",
       "      <td>NaN</td>\n",
       "      <td>100193.474348</td>\n",
       "      <td>2.070727e+05</td>\n",
       "    </tr>\n",
       "  </tbody>\n",
       "</table>\n",
       "<p>21 rows × 39 columns</p>\n",
       "</div>"
      ],
      "text/plain": [
       "desc_creaing    PERCEPCION IVA R.G. 2408   3,00 %  \\\n",
       "fecha_de_pago                                       \n",
       "2022-07-01                             226.910635   \n",
       "2022-07-04                             248.029500   \n",
       "2022-07-05                             652.612727   \n",
       "2022-07-06                             152.886939   \n",
       "2022-07-07                             154.974561   \n",
       "2022-07-08                             184.242254   \n",
       "2022-07-11                             355.530227   \n",
       "2022-07-12                             179.268736   \n",
       "2022-07-13                             135.518209   \n",
       "2022-07-14                             156.984032   \n",
       "2022-07-15                             175.656351   \n",
       "2022-07-18                             372.478025   \n",
       "2022-07-19                             164.477045   \n",
       "2022-07-20                             141.232286   \n",
       "2022-07-21                             168.815362   \n",
       "2022-07-22                             209.570000   \n",
       "2022-07-25                             375.165190   \n",
       "2022-07-26                             182.942688   \n",
       "2022-07-27                             176.549538   \n",
       "2022-07-28                             195.273594   \n",
       "2022-07-29                             198.956923   \n",
       "\n",
       "desc_creaing   AJUSTE SIRTAC JUL. 1RA QUINC  AJUSTE SIRTAC JUNIO 2DA QUINC  \\\n",
       "fecha_de_pago                                                                \n",
       "2022-07-01                              NaN                            NaN   \n",
       "2022-07-04                              NaN                            NaN   \n",
       "2022-07-05                              NaN                         52.356   \n",
       "2022-07-06                              NaN                            NaN   \n",
       "2022-07-07                              NaN                            NaN   \n",
       "2022-07-08                              NaN                            NaN   \n",
       "2022-07-11                              NaN                            NaN   \n",
       "2022-07-12                              NaN                            NaN   \n",
       "2022-07-13                              NaN                            NaN   \n",
       "2022-07-14                              NaN                            NaN   \n",
       "2022-07-15                              NaN                            NaN   \n",
       "2022-07-18                              NaN                            NaN   \n",
       "2022-07-19                              NaN                            NaN   \n",
       "2022-07-20                      7326.819101                            NaN   \n",
       "2022-07-21                              NaN                            NaN   \n",
       "2022-07-22                              NaN                            NaN   \n",
       "2022-07-25                              NaN                            NaN   \n",
       "2022-07-26                              NaN                            NaN   \n",
       "2022-07-27                              NaN                            NaN   \n",
       "2022-07-28                              NaN                            NaN   \n",
       "2022-07-29                              NaN                            NaN   \n",
       "\n",
       "desc_creaing   ARANCEL                                       \\\n",
       "fecha_de_pago                                                 \n",
       "2022-07-01                                      3446.412840   \n",
       "2022-07-04                                      4378.904882   \n",
       "2022-07-05                                     15213.450000   \n",
       "2022-07-06                                      1915.178066   \n",
       "2022-07-07                                      2385.134161   \n",
       "2022-07-08                                      3032.219306   \n",
       "2022-07-11                                      6231.431648   \n",
       "2022-07-12                                      3450.300330   \n",
       "2022-07-13                                      2134.833737   \n",
       "2022-07-14                                      2476.444128   \n",
       "2022-07-15                                      3084.673772   \n",
       "2022-07-18                                      6207.147500   \n",
       "2022-07-19                                      3496.513824   \n",
       "2022-07-20                                      2417.190884   \n",
       "2022-07-21                                      2813.613486   \n",
       "2022-07-22                                      3245.770289   \n",
       "2022-07-25                                      6333.650643   \n",
       "2022-07-26                                      3882.338198   \n",
       "2022-07-27                                      2562.130652   \n",
       "2022-07-28                                      2896.222398   \n",
       "2022-07-29                                      3000.875789   \n",
       "\n",
       "desc_creaing   CARGO  SISTEMA CUOTAS MENS                    \\\n",
       "fecha_de_pago                                                 \n",
       "2022-07-01                                              NaN   \n",
       "2022-07-04                                              NaN   \n",
       "2022-07-05                                             11.5   \n",
       "2022-07-06                                             11.5   \n",
       "2022-07-07                                              NaN   \n",
       "2022-07-08                                              NaN   \n",
       "2022-07-11                                              NaN   \n",
       "2022-07-12                                              NaN   \n",
       "2022-07-13                                              NaN   \n",
       "2022-07-14                                             11.5   \n",
       "2022-07-15                                             11.5   \n",
       "2022-07-18                                             11.5   \n",
       "2022-07-19                                              NaN   \n",
       "2022-07-20                                              NaN   \n",
       "2022-07-21                                              NaN   \n",
       "2022-07-22                                              NaN   \n",
       "2022-07-25                                             11.5   \n",
       "2022-07-26                                              NaN   \n",
       "2022-07-27                                              NaN   \n",
       "2022-07-28                                              NaN   \n",
       "2022-07-29                                              NaN   \n",
       "\n",
       "desc_creaing   CARGO LIQUIDACION ELECTR.  CARGO POSNET  FIRSTDATA.COM.AR  \\\n",
       "fecha_de_pago                                                              \n",
       "2022-07-01                           NaN                             NaN   \n",
       "2022-07-04                           NaN                             NaN   \n",
       "2022-07-05                           NaN                             NaN   \n",
       "2022-07-06                           NaN                        21187.48   \n",
       "2022-07-07                          55.0                             NaN   \n",
       "2022-07-08                           NaN                             NaN   \n",
       "2022-07-11                           NaN                             NaN   \n",
       "2022-07-12                           NaN                             NaN   \n",
       "2022-07-13                           NaN                             NaN   \n",
       "2022-07-14                           NaN                             NaN   \n",
       "2022-07-15                           NaN                             NaN   \n",
       "2022-07-18                           NaN                             NaN   \n",
       "2022-07-19                           NaN                             NaN   \n",
       "2022-07-20                           NaN                             NaN   \n",
       "2022-07-21                           NaN                             NaN   \n",
       "2022-07-22                           NaN                             NaN   \n",
       "2022-07-25                           NaN                             NaN   \n",
       "2022-07-26                           NaN                             NaN   \n",
       "2022-07-27                           NaN                             NaN   \n",
       "2022-07-28                           NaN                             NaN   \n",
       "2022-07-29                           NaN                             NaN   \n",
       "\n",
       "desc_creaing   CARGOS DE ENTIDAD                             \\\n",
       "fecha_de_pago                                                 \n",
       "2022-07-01                                              NaN   \n",
       "2022-07-04                                              NaN   \n",
       "2022-07-05                                           52.356   \n",
       "2022-07-06                                              NaN   \n",
       "2022-07-07                                              NaN   \n",
       "2022-07-08                                              NaN   \n",
       "2022-07-11                                              NaN   \n",
       "2022-07-12                                              NaN   \n",
       "2022-07-13                                              NaN   \n",
       "2022-07-14                                              NaN   \n",
       "2022-07-15                                              NaN   \n",
       "2022-07-18                                              NaN   \n",
       "2022-07-19                                              NaN   \n",
       "2022-07-20                                              NaN   \n",
       "2022-07-21                                              NaN   \n",
       "2022-07-22                                              NaN   \n",
       "2022-07-25                                              NaN   \n",
       "2022-07-26                                              NaN   \n",
       "2022-07-27                                              NaN   \n",
       "2022-07-28                                              NaN   \n",
       "2022-07-29                                              NaN   \n",
       "\n",
       "desc_creaing   CRED FISCAL AHORA 12/18 VTA EN CUOTAS 10,50%  \\\n",
       "fecha_de_pago                                                 \n",
       "2022-07-01                                      1385.761961   \n",
       "2022-07-04                                      1820.158449   \n",
       "2022-07-05                                      6531.664391   \n",
       "2022-07-06                                       914.654329   \n",
       "2022-07-07                                      1068.296324   \n",
       "2022-07-08                                      1516.413750   \n",
       "2022-07-11                                      3390.071286   \n",
       "2022-07-12                                       915.839653   \n",
       "2022-07-13                                       931.841623   \n",
       "2022-07-14                                      1046.159707   \n",
       "2022-07-15                                      1435.117493   \n",
       "2022-07-18                                      3264.380833   \n",
       "2022-07-19                                       948.280054   \n",
       "2022-07-20                                      1068.304583   \n",
       "2022-07-21                                      1275.865615   \n",
       "2022-07-22                                      1649.972566   \n",
       "2022-07-25                                      3228.176940   \n",
       "2022-07-26                                      1390.744143   \n",
       "2022-07-27                                      1352.685948   \n",
       "2022-07-28                                      1470.257662   \n",
       "2022-07-29                                      1496.340637   \n",
       "\n",
       "desc_creaing   CRED FISCAL AHORA 12/18 VTA EN CUOTAS 21,00%  ...  \\\n",
       "fecha_de_pago                                                ...   \n",
       "2022-07-01                                              NaN  ...   \n",
       "2022-07-04                                              NaN  ...   \n",
       "2022-07-05                                          335.710  ...   \n",
       "2022-07-06                                              NaN  ...   \n",
       "2022-07-07                                          303.623  ...   \n",
       "2022-07-08                                          122.301  ...   \n",
       "2022-07-11                                          156.597  ...   \n",
       "2022-07-12                                          135.167  ...   \n",
       "2022-07-13                                              NaN  ...   \n",
       "2022-07-14                                              NaN  ...   \n",
       "2022-07-15                                          196.636  ...   \n",
       "2022-07-18                                           74.275  ...   \n",
       "2022-07-19                                           27.033  ...   \n",
       "2022-07-20                                          103.215  ...   \n",
       "2022-07-21                                          124.538  ...   \n",
       "2022-07-22                                          512.556  ...   \n",
       "2022-07-25                                              NaN  ...   \n",
       "2022-07-26                                              NaN  ...   \n",
       "2022-07-27                                          230.866  ...   \n",
       "2022-07-28                                          198.663  ...   \n",
       "2022-07-29                                           55.996  ...   \n",
       "\n",
       "desc_creaing   RETENCION ING.BRUTOS                          \\\n",
       "fecha_de_pago                                                 \n",
       "2022-07-01                                      6047.153656   \n",
       "2022-07-04                                      7780.988617   \n",
       "2022-07-05                                     26289.169510   \n",
       "2022-07-06                                      3883.412500   \n",
       "2022-07-07                                      4672.764725   \n",
       "2022-07-08                                      5711.565000   \n",
       "2022-07-11                                     10944.390495   \n",
       "2022-07-12                                      9122.311667   \n",
       "2022-07-13                                      4044.852342   \n",
       "2022-07-14                                      5179.854681   \n",
       "2022-07-15                                      5936.629231   \n",
       "2022-07-18                                     10460.592843   \n",
       "2022-07-19                                      8758.671700   \n",
       "2022-07-20                                      4944.982381   \n",
       "2022-07-21                                      5406.575149   \n",
       "2022-07-22                                      6167.768404   \n",
       "2022-07-25                                     10488.668182   \n",
       "2022-07-26                                      8753.885417   \n",
       "2022-07-27                                      4430.439505   \n",
       "2022-07-28                                      4909.122979   \n",
       "2022-07-29                                      5197.427113   \n",
       "\n",
       "desc_creaing   RETENCION ING.BRUTOS SIRTAC  \\\n",
       "fecha_de_pago                                \n",
       "2022-07-01                     2099.346049   \n",
       "2022-07-04                     2673.807235   \n",
       "2022-07-05                     9162.282722   \n",
       "2022-07-06                     1204.781215   \n",
       "2022-07-07                     1524.765901   \n",
       "2022-07-08                     1521.638092   \n",
       "2022-07-11                     2843.469176   \n",
       "2022-07-12                     2349.966429   \n",
       "2022-07-13                     1158.357632   \n",
       "2022-07-14                     1349.164360   \n",
       "2022-07-15                     1586.670659   \n",
       "2022-07-18                     2793.544034   \n",
       "2022-07-19                     2323.632059   \n",
       "2022-07-20                     1321.001768   \n",
       "2022-07-21                     1463.910286   \n",
       "2022-07-22                     1588.122832   \n",
       "2022-07-25                     2868.565965   \n",
       "2022-07-26                     2325.209070   \n",
       "2022-07-27                     1205.893478   \n",
       "2022-07-28                     1359.306491   \n",
       "2022-07-29                     1422.147719   \n",
       "\n",
       "desc_creaing   RETENCION IVA                                 \\\n",
       "fecha_de_pago                                                 \n",
       "2022-07-01                                      4865.248385   \n",
       "2022-07-04                                      6117.384706   \n",
       "2022-07-05                                     22551.975202   \n",
       "2022-07-06                                      4217.696162   \n",
       "2022-07-07                                      4791.083939   \n",
       "2022-07-08                                      6173.055505   \n",
       "2022-07-11                                     12928.903089   \n",
       "2022-07-12                                      4499.375037   \n",
       "2022-07-13                                      4013.037797   \n",
       "2022-07-14                                      4547.104071   \n",
       "2022-07-15                                      5881.603839   \n",
       "2022-07-18                                     13521.873860   \n",
       "2022-07-19                                      4358.555109   \n",
       "2022-07-20                                      4376.628729   \n",
       "2022-07-21                                      5934.805534   \n",
       "2022-07-22                                      7781.281170   \n",
       "2022-07-25                                     14216.670187   \n",
       "2022-07-26                                      6471.841565   \n",
       "2022-07-27                                      6866.223556   \n",
       "2022-07-28                                      7656.946279   \n",
       "2022-07-29                                      8002.546471   \n",
       "\n",
       "desc_creaing   SERVICIO OPER. INTERNAC.  \\\n",
       "fecha_de_pago                             \n",
       "2022-07-01                          NaN   \n",
       "2022-07-04                         22.5   \n",
       "2022-07-05                          NaN   \n",
       "2022-07-06                          NaN   \n",
       "2022-07-07                          NaN   \n",
       "2022-07-08                          NaN   \n",
       "2022-07-11                          NaN   \n",
       "2022-07-12                          NaN   \n",
       "2022-07-13                          NaN   \n",
       "2022-07-14                          NaN   \n",
       "2022-07-15                          NaN   \n",
       "2022-07-18                          NaN   \n",
       "2022-07-19                          NaN   \n",
       "2022-07-20                          NaN   \n",
       "2022-07-21                          NaN   \n",
       "2022-07-22                          NaN   \n",
       "2022-07-25                          NaN   \n",
       "2022-07-26                          NaN   \n",
       "2022-07-27                          NaN   \n",
       "2022-07-28                          NaN   \n",
       "2022-07-29                          NaN   \n",
       "\n",
       "desc_creaing   SUBTOTAL NETO DE PAGOS                        \\\n",
       "fecha_de_pago                                                 \n",
       "2022-07-01                                    209269.401975   \n",
       "2022-07-04                                    267848.932412   \n",
       "2022-07-05                                    889816.455138   \n",
       "2022-07-06                                    127994.958840   \n",
       "2022-07-07                                    160630.369503   \n",
       "2022-07-08                                    195579.565491   \n",
       "2022-07-11                                    359657.453462   \n",
       "2022-07-12                                    313955.322857   \n",
       "2022-07-13                                    150354.508158   \n",
       "2022-07-14                                    175347.132791   \n",
       "2022-07-15                                    204034.250659   \n",
       "2022-07-18                                    353542.716534   \n",
       "2022-07-19                                    309841.673294   \n",
       "2022-07-20                                    140059.716608   \n",
       "2022-07-21                                    189852.187771   \n",
       "2022-07-22                                    203980.918960   \n",
       "2022-07-25                                    364060.292339   \n",
       "2022-07-26                                    306800.812558   \n",
       "2022-07-27                                    154190.163641   \n",
       "2022-07-28                                    173729.064503   \n",
       "2022-07-29                                    182008.602456   \n",
       "\n",
       "desc_creaing   TOTAL DEDUCCIONES                             \\\n",
       "fecha_de_pago                                                 \n",
       "2022-07-01                                     23861.363889   \n",
       "2022-07-04                                     30165.841529   \n",
       "2022-07-05                                    106780.135722   \n",
       "2022-07-06                                     13704.616298   \n",
       "2022-07-07                                     16749.329193   \n",
       "2022-07-08                                     21446.250347   \n",
       "2022-07-11                                     45675.179231   \n",
       "2022-07-12                                     21474.451154   \n",
       "2022-07-13                                     14712.625316   \n",
       "2022-07-14                                     16616.193547   \n",
       "2022-07-15                                     21054.197006   \n",
       "2022-07-18                                     45282.429034   \n",
       "2022-07-19                                     21931.525059   \n",
       "2022-07-20                                     16662.209061   \n",
       "2022-07-21                                     19277.849486   \n",
       "2022-07-22                                     22893.738960   \n",
       "2022-07-25                                     45734.721053   \n",
       "2022-07-26                                     25371.906570   \n",
       "2022-07-27                                     18080.385870   \n",
       "2022-07-28                                     20457.591404   \n",
       "2022-07-29                                     21155.411287   \n",
       "\n",
       "desc_creaing   TOTAL LIQUIDACION                             \\\n",
       "fecha_de_pago                                                 \n",
       "2022-07-01                                    209269.401975   \n",
       "2022-07-04                                    267849.092588   \n",
       "2022-07-05                                    894762.865889   \n",
       "2022-07-06                                    128112.093646   \n",
       "2022-07-07                                    160630.782857   \n",
       "2022-07-08                                    195579.565491   \n",
       "2022-07-11                                    359657.453462   \n",
       "2022-07-12                                    313955.322857   \n",
       "2022-07-13                                    150354.508158   \n",
       "2022-07-14                                    175348.589535   \n",
       "2022-07-15                                    204034.667425   \n",
       "2022-07-18                                    353543.111989   \n",
       "2022-07-19                                    309841.673294   \n",
       "2022-07-20                                    172052.313646   \n",
       "2022-07-21                                    189852.187771   \n",
       "2022-07-22                                    203980.918960   \n",
       "2022-07-25                                    364060.373743   \n",
       "2022-07-26                                    306800.812558   \n",
       "2022-07-27                                    154190.163641   \n",
       "2022-07-28                                    173729.064503   \n",
       "2022-07-29                                    182008.602456   \n",
       "\n",
       "desc_creaing   TOTAL PAGOS DE COMERCIOS                      \\\n",
       "fecha_de_pago                                                 \n",
       "2022-07-01                                              NaN   \n",
       "2022-07-04                                            27.23   \n",
       "2022-07-05                                            13.92   \n",
       "2022-07-06                                         10600.70   \n",
       "2022-07-07                                            66.55   \n",
       "2022-07-08                                              NaN   \n",
       "2022-07-11                                              NaN   \n",
       "2022-07-12                                              NaN   \n",
       "2022-07-13                                              NaN   \n",
       "2022-07-14                                            13.92   \n",
       "2022-07-15                                            13.92   \n",
       "2022-07-18                                            13.92   \n",
       "2022-07-19                                              NaN   \n",
       "2022-07-20                                              NaN   \n",
       "2022-07-21                                              NaN   \n",
       "2022-07-22                                              NaN   \n",
       "2022-07-25                                            13.92   \n",
       "2022-07-26                                              NaN   \n",
       "2022-07-27                                              NaN   \n",
       "2022-07-28                                              NaN   \n",
       "2022-07-29                                              NaN   \n",
       "\n",
       "desc_creaing   VENTAS C/DESCUENTO CONTADO                    \\\n",
       "fecha_de_pago                                                 \n",
       "2022-07-01                                    114339.390543   \n",
       "2022-07-04                                    146176.673094   \n",
       "2022-07-05                                    420070.534362   \n",
       "2022-07-06                                    100865.359318   \n",
       "2022-07-07                                    118071.152460   \n",
       "2022-07-08                                    128914.462029   \n",
       "2022-07-11                                    157830.315092   \n",
       "2022-07-12                                    351846.049424   \n",
       "2022-07-13                                    123050.183836   \n",
       "2022-07-14                                    140960.098741   \n",
       "2022-07-15                                    141443.758309   \n",
       "2022-07-18                                    159572.087714   \n",
       "2022-07-19                                    333898.682290   \n",
       "2022-07-20                                    138055.380556   \n",
       "2022-07-21                                    136581.914296   \n",
       "2022-07-22                                    129724.605896   \n",
       "2022-07-25                                    160758.333125   \n",
       "2022-07-26                                    278941.536350   \n",
       "2022-07-27                                     88065.887465   \n",
       "2022-07-28                                     97710.771846   \n",
       "2022-07-29                                    100193.474348   \n",
       "\n",
       "desc_creaing   VENTAS C/DTO CUOTAS FINANC. OTORG.            \n",
       "fecha_de_pago                                                \n",
       "2022-07-01                                     2.474990e+05  \n",
       "2022-07-04                                     3.194103e+05  \n",
       "2022-07-05                                     1.041480e+06  \n",
       "2022-07-06                                     1.133449e+05  \n",
       "2022-07-07                                     1.471100e+05  \n",
       "2022-07-08                                     1.936791e+05  \n",
       "2022-07-11                                     4.448537e+05  \n",
       "2022-07-12                                     1.124224e+05  \n",
       "2022-07-13                                     1.154951e+05  \n",
       "2022-07-14                                     1.427381e+05  \n",
       "2022-07-15                                     1.952499e+05  \n",
       "2022-07-18                                     4.472262e+05  \n",
       "2022-07-19                                     1.332707e+05  \n",
       "2022-07-20                                     1.346920e+05  \n",
       "2022-07-21                                     1.791992e+05  \n",
       "2022-07-22                                     2.277731e+05  \n",
       "2022-07-25                                     4.600565e+05  \n",
       "2022-07-26                                     1.930481e+05  \n",
       "2022-07-27                                     1.729047e+05  \n",
       "2022-07-28                                     1.971492e+05  \n",
       "2022-07-29                                     2.070727e+05  \n",
       "\n",
       "[21 rows x 39 columns]"
      ]
     },
     "execution_count": 228,
     "metadata": {},
     "output_type": "execute_result"
    }
   ],
   "source": [
    "desc_df\n"
   ]
  },
  {
   "cell_type": "markdown",
   "metadata": {
    "id": "qYonU-BsZIiX",
    "pycharm": {
     "name": "#%% md\n"
    }
   },
   "source": [
    "### 11- Quedarse solo con tarjeta visa. Crear una columna que sume 'VENTAS C/DESCUENTO CONTADO' con\n",
    "                                'VENTAS C/DTO CUOTAS FINANC. OTORG.'"
   ]
  },
  {
   "cell_type": "code",
   "execution_count": null,
   "metadata": {
    "pycharm": {
     "name": "#%%\n"
    }
   },
   "outputs": [],
   "source": [
    "visa = tarjetas[\"cod_marca_producto\"].str.contains(\"VISA\")\n",
    "tarjeta_visa=tarjetas[visa]\n",
    "#tarjeta_visa=tarjeta_visa.set_index(\"desc_creaing\")\n",
    "#tarjeta_visa=tarjeta_visa.transpose()\n",
    "tarjeta_visa"
   ]
  },
  {
   "cell_type": "code",
   "execution_count": null,
   "metadata": {
    "pycharm": {
     "name": "#%%\n"
    }
   },
   "outputs": [],
   "source": [
    "tarjeta_visa=tarjeta_visa.pivot_table(index='fecha_de_pago', columns='desc_creaing',values = 'importe_concepto')\n",
    "tarjeta_visa"
   ]
  },
  {
   "cell_type": "code",
   "execution_count": null,
   "metadata": {
    "pycharm": {
     "name": "#%%\n"
    }
   },
   "outputs": [],
   "source": [
    "tarjeta_visa.columns=tarjeta_visa.columns.str.strip()\n",
    "tarjeta_visa.columns.tolist()"
   ]
  },
  {
   "cell_type": "code",
   "execution_count": null,
   "metadata": {
    "pycharm": {
     "name": "#%%\n"
    }
   },
   "outputs": [],
   "source": [
    "tarjeta_visa['SUMA_imp'] = tarjeta_visa['VENTAS C/DESCUENTO CONTADO']+ tarjeta_visa['VENTAS C/DTO CUOTAS FINANC. OTORG.']\n",
    "tarjeta_visa"
   ]
  },
  {
   "cell_type": "markdown",
   "metadata": {
    "pycharm": {
     "name": "#%% md\n"
    }
   },
   "source": [
    "### 12- Quedarse solo con la tarjeta mastercard y crear una columna que sea la suma de 'PERCEPCION IVA R.G. 2408   1,50 %' y  'PERCEPCION IVA R.G. 2408   3,00 %'"
   ]
  },
  {
   "cell_type": "code",
   "execution_count": 243,
   "metadata": {
    "pycharm": {
     "name": "#%%\n"
    }
   },
   "outputs": [],
   "source": [
    "mastercard_tarjetas= tarjetas[\"cod_marca_producto\"].str.contains(\"MASTERCARD\")\n",
    "mastercard_df=tarjetas[mastercard_tarjetas]\n"
   ]
  },
  {
   "cell_type": "code",
   "execution_count": 244,
   "metadata": {
    "pycharm": {
     "name": "#%%\n"
    }
   },
   "outputs": [
    {
     "data": {
      "text/plain": "['PERCEPCION IVA R.G. 2408   3,00 %',\n 'AJUSTE SIRTAC JUL. 1RA QUINC',\n 'AJUSTE SIRTAC JUNIO 2DA QUINC',\n 'ARANCEL',\n 'CARGOS DE ENTIDAD',\n 'CRED FISCAL AHORA 12/18 VTA EN CUOTAS 10,50%',\n 'CRED. FISCAL PAG.S/DTO.FIN.OTORG 21,00%',\n 'CRED.FISC.LEY 25063 PAG.S/DTO.F.OTORG. 10,50',\n 'DESCUENTO FINANC.OTORG. CUOTAS',\n 'IMPORTE NETO DE PAGOS',\n 'IVA CRED.FISC.COM.L.25063 S/DTO F.OTOR 10,50',\n 'IVA CRED.FISC.COMERCIO S/ARANC 21,00%',\n 'IVA PROMO CUOTAS AHORA 12/18 - 10,50%',\n 'IVA RI CRED.FISC.COMERCIO S/DTO F.OTORG',\n 'PER B.A.I.BR.DN.01/04',\n 'PERC.I.B. CORRIENTES R.165/00',\n 'PERCEP ING BR MISIONES R.G. 003/93',\n 'PERCEPCION IVA R.G. 2408   1,50 %',\n 'PROMO CUOTAS AHORA 12/18',\n 'REEMBOLSOS DE ENTIDAD',\n 'RETENCION IMP.GANANCIAS',\n 'RETENCION ING.BRUTOS',\n 'RETENCION ING.BRUTOS SIRTAC',\n 'RETENCION IVA',\n 'SUBTOTAL NETO DE PAGOS',\n 'TOTAL DEDUCCIONES',\n 'TOTAL LIQUIDACION',\n 'VENTAS C/DESCUENTO CONTADO',\n 'VENTAS C/DTO CUOTAS FINANC. OTORG.']"
     },
     "execution_count": 244,
     "metadata": {},
     "output_type": "execute_result"
    }
   ],
   "source": [
    "mastercard_df=tarjeta_visa.pivot_table(index='fecha_de_pago', columns='desc_creaing',values = 'importe_concepto')\n",
    "mastercard_df.columns.str.strip().tolist()"
   ]
  },
  {
   "cell_type": "code",
   "execution_count": null,
   "metadata": {
    "pycharm": {
     "name": "#%%\n"
    }
   },
   "outputs": [],
   "source": [
    "mastercard_df['SUMA_imp'] = tarjeta_visa['RETENCION IVA']+ tarjeta_visa['PERCEPCION IVA R.G. 2408   3,00 %']\n"
   ]
  },
  {
   "cell_type": "markdown",
   "metadata": {
    "pycharm": {
     "name": "#%% md\n"
    }
   },
   "source": [
    "### Guardar como datasets\n",
    "a- el dataset de la tarjeta visa\n",
    "b- el dataset de la tarjeta mastercard\n",
    "c- cuanto dinero se cobra por mes y por sucursal\n",
    "d- cuanto se cobra por mes\n",
    "e- crear un lineplot de cuanto se cobra por mes"
   ]
  },
  {
   "cell_type": "code",
   "execution_count": 234,
   "metadata": {
    "pycharm": {
     "name": "#%%\n"
    }
   },
   "outputs": [],
   "source": [
    "tarjeta_visa.to_csv('tarjetas_visa.csv', header=True, index=True)"
   ]
  },
  {
   "cell_type": "code",
   "execution_count": 241,
   "metadata": {
    "pycharm": {
     "name": "#%%\n"
    }
   },
   "outputs": [],
   "source": [
    "mastercard_df.to_csv('mastercard_tarjetas.csv',header=True,index=True)"
   ]
  },
  {
   "cell_type": "code",
   "execution_count": 242,
   "metadata": {
    "pycharm": {
     "name": "#%%\n"
    }
   },
   "outputs": [],
   "source": [
    "transc_dia.to_csv('transacciones_dia.csv',header=True,index=True)"
   ]
  },
  {
   "cell_type": "code",
   "execution_count": null,
   "metadata": {
    "pycharm": {
     "name": "#%%\n"
    }
   },
   "outputs": [],
   "source": []
  }
 ],
 "metadata": {
  "colab": {
   "collapsed_sections": [],
   "name": "Liq_tarjetas_07/2022.ipynb",
   "provenance": []
  },
  "kernelspec": {
   "display_name": "Python 3 (ipykernel)",
   "language": "python",
   "name": "python3"
  },
  "language_info": {
   "codemirror_mode": {
    "name": "ipython",
    "version": 3
   },
   "file_extension": ".py",
   "mimetype": "text/x-python",
   "name": "python",
   "nbconvert_exporter": "python",
   "pygments_lexer": "ipython3",
   "version": "3.10.4"
  }
 },
 "nbformat": 4,
 "nbformat_minor": 1
}