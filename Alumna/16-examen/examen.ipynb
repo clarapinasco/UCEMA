{
 "cells": [
  {
   "cell_type": "markdown",
   "metadata": {},
   "source": [
    "# Pauta obligatoria\n",
    "\n",
    "La entrega debe ser prolija. Sólo se consideran válidos los puntos bien explicados con interpretación personal. No puede haber dos examenes iguales, para esto correremos un parseador de texto para comparar similaridad entre examenes.\n",
    "\n",
    "El Examen termina 11 am.\n",
    "\n",
    "# Campañas Online\n",
    "\n",
    "Una empresa realiza campañas de marketing y posee el siguiente dataset.\n",
    "\n",
    "**Descargue el dataframe y resuelva:**\n",
    "\n",
    "https://drive.google.com/file/d/1aFIQO7evLxaUgM5A72ackExN0e6ZKuiS/view?usp=share_link\n",
    "\n",
    "Descripción de variables:\n",
    "-> id: id de la campaña\n",
    "-> valor_de_yen: valor de la moneda yen expresado en otra moneda\n",
    "-> plataforma : Plataforma de la campaña\n",
    "\tGoogle\n",
    "\tFacebook\tTurbo\n",
    "-> tipo_campaña : Objetivo de la cmapaña\n",
    "\tConversion\n",
    "\tBranding\n",
    "-> conv_rate : Tasa de conversion\n",
    "-> clicks : Cantidad de clicks\n",
    "-> type_of_ad : Tipo de anuncio\n",
    "-> trend : Tendencia de la campaña. Meses que fue exitosa.\n",
    "-> Cost_per_lead : Costo por lead. Es decir, por cliente que cotiza.\n",
    "-> spend : Gasto total de la campaña.\n",
    "-> exito_15 : Exito o no exito de la campaña dos semanas después.\n"
   ]
  },
  {
   "cell_type": "code",
   "execution_count": 1,
   "metadata": {
    "pycharm": {
     "name": "#%%\n"
    }
   },
   "outputs": [],
   "source": [
    "import numpy as np\n",
    "import pandas as pd\n",
    "import matplotlib.pyplot as plt\n",
    "import seaborn as sns"
   ]
  },
  {
   "cell_type": "code",
   "execution_count": 2,
   "metadata": {
    "pycharm": {
     "name": "#%%\n"
    }
   },
   "outputs": [],
   "source": [
    "df=pd.read_parquet('campañas_oline.parquet', engine='pyarrow')"
   ]
  },
  {
   "cell_type": "code",
   "execution_count": 3,
   "metadata": {
    "pycharm": {
     "name": "#%%\n"
    }
   },
   "outputs": [
    {
     "data": {
      "text/plain": "   Cost_per_lead Plataforma  clicks conv_rate exito_15  spend tipo_campaña  \\\n0           2.68     Google    2548      64.1    Exito   5000   Conversion   \n1           2.68     Google    2548      64.1    Exito   5000   Conversion   \n2           3.47     Google    2823      65.5    Exito   5000   Conversion   \n3           3.40     Google    2337      None    Exito   5500   Conversion   \n4           3.40     Google    2824      66.4    Exito   5500   Conversion   \n\n  trend type_of_ad  id  valor_de_yen  \n0  four     Google   0            19  \n1  four     Google   1            11  \n2   six   Facebook   2            11  \n3  four  Instagram   3            11  \n4  five  Instagram   4            14  ",
      "text/html": "<div>\n<style scoped>\n    .dataframe tbody tr th:only-of-type {\n        vertical-align: middle;\n    }\n\n    .dataframe tbody tr th {\n        vertical-align: top;\n    }\n\n    .dataframe thead th {\n        text-align: right;\n    }\n</style>\n<table border=\"1\" class=\"dataframe\">\n  <thead>\n    <tr style=\"text-align: right;\">\n      <th></th>\n      <th>Cost_per_lead</th>\n      <th>Plataforma</th>\n      <th>clicks</th>\n      <th>conv_rate</th>\n      <th>exito_15</th>\n      <th>spend</th>\n      <th>tipo_campaña</th>\n      <th>trend</th>\n      <th>type_of_ad</th>\n      <th>id</th>\n      <th>valor_de_yen</th>\n    </tr>\n  </thead>\n  <tbody>\n    <tr>\n      <th>0</th>\n      <td>2.68</td>\n      <td>Google</td>\n      <td>2548</td>\n      <td>64.1</td>\n      <td>Exito</td>\n      <td>5000</td>\n      <td>Conversion</td>\n      <td>four</td>\n      <td>Google</td>\n      <td>0</td>\n      <td>19</td>\n    </tr>\n    <tr>\n      <th>1</th>\n      <td>2.68</td>\n      <td>Google</td>\n      <td>2548</td>\n      <td>64.1</td>\n      <td>Exito</td>\n      <td>5000</td>\n      <td>Conversion</td>\n      <td>four</td>\n      <td>Google</td>\n      <td>1</td>\n      <td>11</td>\n    </tr>\n    <tr>\n      <th>2</th>\n      <td>3.47</td>\n      <td>Google</td>\n      <td>2823</td>\n      <td>65.5</td>\n      <td>Exito</td>\n      <td>5000</td>\n      <td>Conversion</td>\n      <td>six</td>\n      <td>Facebook</td>\n      <td>2</td>\n      <td>11</td>\n    </tr>\n    <tr>\n      <th>3</th>\n      <td>3.40</td>\n      <td>Google</td>\n      <td>2337</td>\n      <td>None</td>\n      <td>Exito</td>\n      <td>5500</td>\n      <td>Conversion</td>\n      <td>four</td>\n      <td>Instagram</td>\n      <td>3</td>\n      <td>11</td>\n    </tr>\n    <tr>\n      <th>4</th>\n      <td>3.40</td>\n      <td>Google</td>\n      <td>2824</td>\n      <td>66.4</td>\n      <td>Exito</td>\n      <td>5500</td>\n      <td>Conversion</td>\n      <td>five</td>\n      <td>Instagram</td>\n      <td>4</td>\n      <td>14</td>\n    </tr>\n  </tbody>\n</table>\n</div>"
     },
     "execution_count": 3,
     "metadata": {},
     "output_type": "execute_result"
    }
   ],
   "source": [
    "df.head()"
   ]
  },
  {
   "cell_type": "markdown",
   "metadata": {},
   "source": [
    "# 1. Evaluación del problema (15pts)\n",
    "a. ¿Que tipo de modelo recomendaría?\n",
    "b. Expliqué las razones del tipo de modelo de ML\n",
    "c. Indique cuál es la variable independiente y dependiente.\n",
    "d. ¿Cómo se utilizaría la predicción? ¿Que decisión tomaría la empresa?\n",
    "e. Leyendo el nombre de las variables cuales variables te parece importante ¿Por qué?"
   ]
  },
  {
   "cell_type": "raw",
   "metadata": {
    "pycharm": {
     "name": "#%% raw\n"
    }
   },
   "source": [
    "Un modelo de ML sería util para la empresa para poder predecir el resultado de una nueva campaña de marketing en redes sociales y cuales son sus caracteristicas.\n",
    "Tanto las variables de tasa de conversion como exito_15 estan fuera del control de la empresa y muestran el resultado de la campaña.\n",
    "Parece ser que la variable de tasa de conversión es numerica por lo que podría crear un modelo de regresión lineal para predecir la tasa de conversión de un cliente tras la campaña"
   ]
  },
  {
   "cell_type": "code",
   "execution_count": 4,
   "metadata": {
    "pycharm": {
     "name": "#%%\n"
    }
   },
   "outputs": [
    {
     "data": {
      "text/plain": "Cost_per_lead    float64\nPlataforma        object\nclicks             int64\nconv_rate         object\nexito_15          object\nspend              int64\ntipo_campaña      object\ntrend             object\ntype_of_ad        object\nid                 int64\nvalor_de_yen       int64\ndtype: object"
     },
     "execution_count": 4,
     "metadata": {},
     "output_type": "execute_result"
    }
   ],
   "source": [
    "df.dtypes"
   ]
  },
  {
   "cell_type": "markdown",
   "metadata": {
    "pycharm": {
     "name": "#%% md\n"
    }
   },
   "source": [
    "¿porque la variable conv_rate es un object?"
   ]
  },
  {
   "cell_type": "code",
   "execution_count": 5,
   "metadata": {
    "pycharm": {
     "name": "#%%\n"
    }
   },
   "outputs": [
    {
     "data": {
      "text/plain": "63.8    96\n66.5    92\n65.4    60\n63.6    40\n64.4    40\n68.4    40\n64      36\n65.5    32\n65.2    28\n64.2    24\n65.6    24\n67.2    24\n66.3    24\n66.9    20\n67.9    20\n*       16\n64.8    16\n65.7    16\n68.9    16\n70.3    12\n65      12\n63.9    12\n71.7    12\n67.7     8\n68.3     8\n64.1     8\n64.6     8\n71.4     8\n72.3     4\n66.4     4\n70.9     4\n60.3     4\n63.4     4\n66.6     4\n66.1     4\n70.5     4\n66       4\n61.8     4\n69.6     4\n70.6     4\n68       4\n72       4\n68.8     4\nName: conv_rate, dtype: int64"
     },
     "execution_count": 5,
     "metadata": {},
     "output_type": "execute_result"
    }
   ],
   "source": [
    "df.conv_rate.value_counts()"
   ]
  },
  {
   "cell_type": "markdown",
   "metadata": {
    "pycharm": {
     "name": "#%% md\n"
    }
   },
   "source": [
    "entre los valores de la tasa de conversión se encuentra un * Por lo tanto, lo reemplazo por nulos"
   ]
  },
  {
   "cell_type": "code",
   "execution_count": 6,
   "metadata": {
    "pycharm": {
     "name": "#%%\n"
    }
   },
   "outputs": [],
   "source": [
    "df.conv_rate.replace('*',np.nan,inplace=True)\n",
    "df.conv_rate=pd.to_numeric(df.conv_rate)"
   ]
  },
  {
   "cell_type": "markdown",
   "metadata": {
    "pycharm": {
     "name": "#%% md\n"
    }
   },
   "source": [
    "Ahora si, podría considerar esta columna como mi variable Y.Por otro lado, tengo la varaibale de exito_15"
   ]
  },
  {
   "cell_type": "code",
   "execution_count": 7,
   "metadata": {
    "pycharm": {
     "name": "#%%\n"
    }
   },
   "outputs": [
    {
     "data": {
      "text/plain": "No Exito             412\nExito                407\nNo Exito No Exito      1\nName: exito_15, dtype: int64"
     },
     "execution_count": 7,
     "metadata": {},
     "output_type": "execute_result"
    }
   ],
   "source": [
    "df.exito_15.value_counts()"
   ]
  },
  {
   "cell_type": "markdown",
   "metadata": {
    "pycharm": {
     "name": "#%% md\n"
    }
   },
   "source": [
    "Esta variable es binaria de SI o NO por lo que podría implementar un modelo de regresión logistica para predecir el exito de la campaña\n",
    "Voy a elegir hacer un modelo sobre la tasa de conversión ya que brinda mas información para tomar una desición que si tuvo exito o no. Ademas, al no saber quien creo este datset , no se que metricas tomo para decidir si fue un exito o  no la campaña"
   ]
  },
  {
   "cell_type": "code",
   "execution_count": 8,
   "metadata": {
    "pycharm": {
     "name": "#%%\n"
    }
   },
   "outputs": [
    {
     "data": {
      "text/plain": "<Figure size 504x504 with 2 Axes>",
      "image/png": "[encoded data removed]"
     },
     "metadata": {
      "needs_background": "light"
     },
     "output_type": "display_data"
    }
   ],
   "source": [
    "plt.figure(figsize = (7,7))\n",
    "sns.heatmap(round(df.corr(),2), cmap = \"coolwarm\", annot = True, annot_kws = {\"size\":12});"
   ]
  },
  {
   "cell_type": "code",
   "execution_count": 9,
   "metadata": {
    "pycharm": {
     "name": "#%%\n"
    }
   },
   "outputs": [
    {
     "data": {
      "text/plain": "Index(['Cost_per_lead', 'Plataforma', 'clicks', 'conv_rate', 'exito_15',\n       'spend', 'tipo_campaña', 'trend', 'type_of_ad', 'id', 'valor_de_yen'],\n      dtype='object')"
     },
     "execution_count": 9,
     "metadata": {},
     "output_type": "execute_result"
    }
   ],
   "source": [
    "df.columns"
   ]
  },
  {
   "cell_type": "code",
   "execution_count": 10,
   "metadata": {
    "pycharm": {
     "name": "#%%\n"
    }
   },
   "outputs": [],
   "source": [
    "feauters=['Plataforma','Cost_per_lead','clicks','spend','tipo_campaña','trend','type_of_ad']"
   ]
  },
  {
   "cell_type": "markdown",
   "source": [
    "Las variables que creeria que  son impostantes son las de feauters.La variable del precio en yen , muestra una correlación en el heatmap pero como nose de que otra moneda habla , no la voy a usar"
   ],
   "metadata": {
    "collapsed": false
   }
  },
  {
   "cell_type": "markdown",
   "metadata": {},
   "source": [
    "# 2. Preprocesamiento (30 pts)\n",
    "a. Analizar faltantes variable a variable. Elegir métodos de imputación o tomar decisiones de dropearlos\n",
    "b. Analizar valores outliers y repetir el analisis"
   ]
  },
  {
   "cell_type": "code",
   "execution_count": 11,
   "metadata": {},
   "outputs": [
    {
     "data": {
      "text/plain": "              Null Count  Null Percentage DataTypes\ntipo_campaña          40         4.878049    object\nconv_rate             24         2.926829   float64",
      "text/html": "<div>\n<style scoped>\n    .dataframe tbody tr th:only-of-type {\n        vertical-align: middle;\n    }\n\n    .dataframe tbody tr th {\n        vertical-align: top;\n    }\n\n    .dataframe thead th {\n        text-align: right;\n    }\n</style>\n<table border=\"1\" class=\"dataframe\">\n  <thead>\n    <tr style=\"text-align: right;\">\n      <th></th>\n      <th>Null Count</th>\n      <th>Null Percentage</th>\n      <th>DataTypes</th>\n    </tr>\n  </thead>\n  <tbody>\n    <tr>\n      <th>tipo_campaña</th>\n      <td>40</td>\n      <td>4.878049</td>\n      <td>object</td>\n    </tr>\n    <tr>\n      <th>conv_rate</th>\n      <td>24</td>\n      <td>2.926829</td>\n      <td>float64</td>\n    </tr>\n  </tbody>\n</table>\n</div>"
     },
     "execution_count": 11,
     "metadata": {},
     "output_type": "execute_result"
    }
   ],
   "source": [
    "def percentageOfnull(df):\n",
    "    nan_count = df.isna().sum().sort_values(ascending=False)\n",
    "    nan_percentage = ((df.isna().sum()/df.isna().count())*100).sort_values(ascending=False)\n",
    "    train_test_dtype = df.dtypes\n",
    "    df_info = pd.concat([nan_count,nan_percentage,train_test_dtype],axis=1,keys=['Null Count','Null Percentage','DataTypes'])\n",
    "    return df_info[df_info['Null Count']>0]\n",
    "percentageOfnull(df)"
   ]
  },
  {
   "cell_type": "markdown",
   "metadata": {
    "pycharm": {
     "name": "#%% md\n"
    }
   },
   "source": [
    "La variable tipo_de campaña tiene casi 5% de nulos.Voy a a nalizar los cuartiles y las caracteristicas de las campañas a ver si puedo reemplazar los nulos por datos"
   ]
  },
  {
   "cell_type": "code",
   "execution_count": 12,
   "metadata": {
    "pycharm": {
     "name": "#%%\n"
    }
   },
   "outputs": [
    {
     "data": {
      "text/plain": "     Cost_per_lead Plataforma    clicks  conv_rate  exito_15  spend  \\\n14            3.19     Google  10000000       66.9     Exito   4250   \n18            3.03     Google      1488       60.3  No Exito   5100   \n54            3.15     Google      1950       64.2  No Exito   5000   \n68            3.64   Facebook      3750       70.3     Exito   4350   \n106           3.27     Google      3139       67.9     Exito   5200   \n113           2.19     Google      3285       68.4     Exito   5000   \n139           2.64     Google      2120       63.6  No Exito   4400   \n165           3.08     Google      2265       64.0  No Exito   6600   \n186           3.40     Google      2275       65.5  No Exito   5250   \n196           3.15     Google      2935       67.2     Exito   5400   \n215           3.64   Facebook      3782       70.3     Exito   4418   \n230           3.27     Google      3202       67.9     Exito   5276   \n252           3.15     Google      2972       67.2     Exito   5416   \n275           3.19     Google      3146       66.9     Exito   4327   \n284           2.64     Google      2128       63.6  No Exito   4441   \n307           3.08     Google      2350       64.0  No Exito   6637   \n322           3.15     Google      2029       64.2  No Exito   5003   \n373           3.03     Google      1544       60.3  No Exito   5160   \n379           2.19     Google      3321       68.4     Exito   5032   \n383           3.40     Google      2347       65.5  No Exito   5340   \n458           3.64   Facebook      3843       70.3     Exito   4495   \n466           2.64     Google      2168       63.6  No Exito   4476   \n470           3.19     Google      3087       66.9     Exito   4305   \n472           2.19     Google      3358       68.4     Exito   5014   \n474           3.15     Google      2036       64.2  No Exito   5027   \n495           3.03     Google      1519       60.3  No Exito   5103   \n503           3.19     Google      3222       66.9     Exito   4328   \n561           3.27     Google      3150       67.9     Exito   5237   \n567           3.27     Google      3287       67.9     Exito   5336   \n592           3.15     Google      2975       67.2     Exito   5477   \n594           3.40     Google      2353       65.5  No Exito   5250   \n599           3.03     Google      1621       60.3  No Exito   5236   \n610           3.08     Google      2398       64.0  No Exito   6715   \n636           3.40     Google      2352       65.5  No Exito   5425   \n654           3.64   Facebook      3791       70.3     Exito   4433   \n679           2.64     Google      2220       63.6  No Exito   4515   \n680           2.19     Google      3364       68.4     Exito   5055   \n729           3.08     Google      2346       64.0  No Exito   6608   \n763           3.15     Google      2007       64.2  No Exito   5008   \n816           3.15     Google      3002       67.2     Exito   5439   \n\n    tipo_campaña  trend type_of_ad   id  valor_de_yen  \n14          None    six  Instagram   14            14  \n18          None  three    Youtube   18            12  \n54          None   four  Instagram   54            18  \n68          None   five  Instagram   68            10  \n106         None    six   Facebook  106            13  \n113         None   four    Youtube  113            19  \n139         None   four   Linkedin  139            10  \n165         None   four     Google  165            11  \n186         None   four  Instagram  186            19  \n196         None   four  Instagram  196            19  \n215         None   five  Instagram  215            12  \n230         None    six   Facebook  230            12  \n252         None   four  Instagram  252            10  \n275         None    six  Instagram  275            10  \n284         None   four   Linkedin  284            15  \n307         None   four     Google  307            18  \n322         None   four  Instagram  322            13  \n373         None  three    Youtube  373            11  \n379         None   four    Youtube  379            13  \n383         None   four  Instagram  383            16  \n458         None   five  Instagram  458            11  \n466         None   four   Linkedin  466            13  \n470         None    six  Instagram  470            19  \n472         None   four    Youtube  472            12  \n474         None   four  Instagram  474            16  \n495         None  three    Youtube  495            17  \n503         None    six  Instagram  503            10  \n561         None    six   Facebook  561            11  \n567         None    six   Facebook  567            14  \n592         None   four  Instagram  592            18  \n594         None   four  Instagram  594            15  \n599         None  three    Youtube  599            16  \n610         None   four     Google  610            13  \n636         None   four  Instagram  636            17  \n654         None   five  Instagram  654            11  \n679         None   four   Linkedin  679            12  \n680         None   four    Youtube  680            14  \n729         None   four     Google  729            16  \n763         None   four  Instagram  763            16  \n816         None   four  Instagram  816            10  ",
      "text/html": "<div>\n<style scoped>\n    .dataframe tbody tr th:only-of-type {\n        vertical-align: middle;\n    }\n\n    .dataframe tbody tr th {\n        vertical-align: top;\n    }\n\n    .dataframe thead th {\n        text-align: right;\n    }\n</style>\n<table border=\"1\" class=\"dataframe\">\n  <thead>\n    <tr style=\"text-align: right;\">\n      <th></th>\n      <th>Cost_per_lead</th>\n      <th>Plataforma</th>\n      <th>clicks</th>\n      <th>conv_rate</th>\n      <th>exito_15</th>\n      <th>spend</th>\n      <th>tipo_campaña</th>\n      <th>trend</th>\n      <th>type_of_ad</th>\n      <th>id</th>\n      <th>valor_de_yen</th>\n    </tr>\n  </thead>\n  <tbody>\n    <tr>\n      <th>14</th>\n      <td>3.19</td>\n      <td>Google</td>\n      <td>10000000</td>\n      <td>66.9</td>\n      <td>Exito</td>\n      <td>4250</td>\n      <td>None</td>\n      <td>six</td>\n      <td>Instagram</td>\n      <td>14</td>\n      <td>14</td>\n    </tr>\n    <tr>\n      <th>18</th>\n      <td>3.03</td>\n      <td>Google</td>\n      <td>1488</td>\n      <td>60.3</td>\n      <td>No Exito</td>\n      <td>5100</td>\n      <td>None</td>\n      <td>three</td>\n      <td>Youtube</td>\n      <td>18</td>\n      <td>12</td>\n    </tr>\n    <tr>\n      <th>54</th>\n      <td>3.15</td>\n      <td>Google</td>\n      <td>1950</td>\n      <td>64.2</td>\n      <td>No Exito</td>\n      <td>5000</td>\n      <td>None</td>\n      <td>four</td>\n      <td>Instagram</td>\n      <td>54</td>\n      <td>18</td>\n    </tr>\n    <tr>\n      <th>68</th>\n      <td>3.64</td>\n      <td>Facebook</td>\n      <td>3750</td>\n      <td>70.3</td>\n      <td>Exito</td>\n      <td>4350</td>\n      <td>None</td>\n      <td>five</td>\n      <td>Instagram</td>\n      <td>68</td>\n      <td>10</td>\n    </tr>\n    <tr>\n      <th>106</th>\n      <td>3.27</td>\n      <td>Google</td>\n      <td>3139</td>\n      <td>67.9</td>\n      <td>Exito</td>\n      <td>5200</td>\n      <td>None</td>\n      <td>six</td>\n      <td>Facebook</td>\n      <td>106</td>\n      <td>13</td>\n    </tr>\n    <tr>\n      <th>113</th>\n      <td>2.19</td>\n      <td>Google</td>\n      <td>3285</td>\n      <td>68.4</td>\n      <td>Exito</td>\n      <td>5000</td>\n      <td>None</td>\n      <td>four</td>\n      <td>Youtube</td>\n      <td>113</td>\n      <td>19</td>\n    </tr>\n    <tr>\n      <th>139</th>\n      <td>2.64</td>\n      <td>Google</td>\n      <td>2120</td>\n      <td>63.6</td>\n      <td>No Exito</td>\n      <td>4400</td>\n      <td>None</td>\n      <td>four</td>\n      <td>Linkedin</td>\n      <td>139</td>\n      <td>10</td>\n    </tr>\n    <tr>\n      <th>165</th>\n      <td>3.08</td>\n      <td>Google</td>\n      <td>2265</td>\n      <td>64.0</td>\n      <td>No Exito</td>\n      <td>6600</td>\n      <td>None</td>\n      <td>four</td>\n      <td>Google</td>\n      <td>165</td>\n      <td>11</td>\n    </tr>\n    <tr>\n      <th>186</th>\n      <td>3.40</td>\n      <td>Google</td>\n      <td>2275</td>\n      <td>65.5</td>\n      <td>No Exito</td>\n      <td>5250</td>\n      <td>None</td>\n      <td>four</td>\n      <td>Instagram</td>\n      <td>186</td>\n      <td>19</td>\n    </tr>\n    <tr>\n      <th>196</th>\n      <td>3.15</td>\n      <td>Google</td>\n      <td>2935</td>\n      <td>67.2</td>\n      <td>Exito</td>\n      <td>5400</td>\n      <td>None</td>\n      <td>four</td>\n      <td>Instagram</td>\n      <td>196</td>\n      <td>19</td>\n    </tr>\n    <tr>\n      <th>215</th>\n      <td>3.64</td>\n      <td>Facebook</td>\n      <td>3782</td>\n      <td>70.3</td>\n      <td>Exito</td>\n      <td>4418</td>\n      <td>None</td>\n      <td>five</td>\n      <td>Instagram</td>\n      <td>215</td>\n      <td>12</td>\n    </tr>\n    <tr>\n      <th>230</th>\n      <td>3.27</td>\n      <td>Google</td>\n      <td>3202</td>\n      <td>67.9</td>\n      <td>Exito</td>\n      <td>5276</td>\n      <td>None</td>\n      <td>six</td>\n      <td>Facebook</td>\n      <td>230</td>\n      <td>12</td>\n    </tr>\n    <tr>\n      <th>252</th>\n      <td>3.15</td>\n      <td>Google</td>\n      <td>2972</td>\n      <td>67.2</td>\n      <td>Exito</td>\n      <td>5416</td>\n      <td>None</td>\n      <td>four</td>\n      <td>Instagram</td>\n      <td>252</td>\n      <td>10</td>\n    </tr>\n    <tr>\n      <th>275</th>\n      <td>3.19</td>\n      <td>Google</td>\n      <td>3146</td>\n      <td>66.9</td>\n      <td>Exito</td>\n      <td>4327</td>\n      <td>None</td>\n      <td>six</td>\n      <td>Instagram</td>\n      <td>275</td>\n      <td>10</td>\n    </tr>\n    <tr>\n      <th>284</th>\n      <td>2.64</td>\n      <td>Google</td>\n      <td>2128</td>\n      <td>63.6</td>\n      <td>No Exito</td>\n      <td>4441</td>\n      <td>None</td>\n      <td>four</td>\n      <td>Linkedin</td>\n      <td>284</td>\n      <td>15</td>\n    </tr>\n    <tr>\n      <th>307</th>\n      <td>3.08</td>\n      <td>Google</td>\n      <td>2350</td>\n      <td>64.0</td>\n      <td>No Exito</td>\n      <td>6637</td>\n      <td>None</td>\n      <td>four</td>\n      <td>Google</td>\n      <td>307</td>\n      <td>18</td>\n    </tr>\n    <tr>\n      <th>322</th>\n      <td>3.15</td>\n      <td>Google</td>\n      <td>2029</td>\n      <td>64.2</td>\n      <td>No Exito</td>\n      <td>5003</td>\n      <td>None</td>\n      <td>four</td>\n      <td>Instagram</td>\n      <td>322</td>\n      <td>13</td>\n    </tr>\n    <tr>\n      <th>373</th>\n      <td>3.03</td>\n      <td>Google</td>\n      <td>1544</td>\n      <td>60.3</td>\n      <td>No Exito</td>\n      <td>5160</td>\n      <td>None</td>\n      <td>three</td>\n      <td>Youtube</td>\n      <td>373</td>\n      <td>11</td>\n    </tr>\n    <tr>\n      <th>379</th>\n      <td>2.19</td>\n      <td>Google</td>\n      <td>3321</td>\n      <td>68.4</td>\n      <td>Exito</td>\n      <td>5032</td>\n      <td>None</td>\n      <td>four</td>\n      <td>Youtube</td>\n      <td>379</td>\n      <td>13</td>\n    </tr>\n    <tr>\n      <th>383</th>\n      <td>3.40</td>\n      <td>Google</td>\n      <td>2347</td>\n      <td>65.5</td>\n      <td>No Exito</td>\n      <td>5340</td>\n      <td>None</td>\n      <td>four</td>\n      <td>Instagram</td>\n      <td>383</td>\n      <td>16</td>\n    </tr>\n    <tr>\n      <th>458</th>\n      <td>3.64</td>\n      <td>Facebook</td>\n      <td>3843</td>\n      <td>70.3</td>\n      <td>Exito</td>\n      <td>4495</td>\n      <td>None</td>\n      <td>five</td>\n      <td>Instagram</td>\n      <td>458</td>\n      <td>11</td>\n    </tr>\n    <tr>\n      <th>466</th>\n      <td>2.64</td>\n      <td>Google</td>\n      <td>2168</td>\n      <td>63.6</td>\n      <td>No Exito</td>\n      <td>4476</td>\n      <td>None</td>\n      <td>four</td>\n      <td>Linkedin</td>\n      <td>466</td>\n      <td>13</td>\n    </tr>\n    <tr>\n      <th>470</th>\n      <td>3.19</td>\n      <td>Google</td>\n      <td>3087</td>\n      <td>66.9</td>\n      <td>Exito</td>\n      <td>4305</td>\n      <td>None</td>\n      <td>six</td>\n      <td>Instagram</td>\n      <td>470</td>\n      <td>19</td>\n    </tr>\n    <tr>\n      <th>472</th>\n      <td>2.19</td>\n      <td>Google</td>\n      <td>3358</td>\n      <td>68.4</td>\n      <td>Exito</td>\n      <td>5014</td>\n      <td>None</td>\n      <td>four</td>\n      <td>Youtube</td>\n      <td>472</td>\n      <td>12</td>\n    </tr>\n    <tr>\n      <th>474</th>\n      <td>3.15</td>\n      <td>Google</td>\n      <td>2036</td>\n      <td>64.2</td>\n      <td>No Exito</td>\n      <td>5027</td>\n      <td>None</td>\n      <td>four</td>\n      <td>Instagram</td>\n      <td>474</td>\n      <td>16</td>\n    </tr>\n    <tr>\n      <th>495</th>\n      <td>3.03</td>\n      <td>Google</td>\n      <td>1519</td>\n      <td>60.3</td>\n      <td>No Exito</td>\n      <td>5103</td>\n      <td>None</td>\n      <td>three</td>\n      <td>Youtube</td>\n      <td>495</td>\n      <td>17</td>\n    </tr>\n    <tr>\n      <th>503</th>\n      <td>3.19</td>\n      <td>Google</td>\n      <td>3222</td>\n      <td>66.9</td>\n      <td>Exito</td>\n      <td>4328</td>\n      <td>None</td>\n      <td>six</td>\n      <td>Instagram</td>\n      <td>503</td>\n      <td>10</td>\n    </tr>\n    <tr>\n      <th>561</th>\n      <td>3.27</td>\n      <td>Google</td>\n      <td>3150</td>\n      <td>67.9</td>\n      <td>Exito</td>\n      <td>5237</td>\n      <td>None</td>\n      <td>six</td>\n      <td>Facebook</td>\n      <td>561</td>\n      <td>11</td>\n    </tr>\n    <tr>\n      <th>567</th>\n      <td>3.27</td>\n      <td>Google</td>\n      <td>3287</td>\n      <td>67.9</td>\n      <td>Exito</td>\n      <td>5336</td>\n      <td>None</td>\n      <td>six</td>\n      <td>Facebook</td>\n      <td>567</td>\n      <td>14</td>\n    </tr>\n    <tr>\n      <th>592</th>\n      <td>3.15</td>\n      <td>Google</td>\n      <td>2975</td>\n      <td>67.2</td>\n      <td>Exito</td>\n      <td>5477</td>\n      <td>None</td>\n      <td>four</td>\n      <td>Instagram</td>\n      <td>592</td>\n      <td>18</td>\n    </tr>\n    <tr>\n      <th>594</th>\n      <td>3.40</td>\n      <td>Google</td>\n      <td>2353</td>\n      <td>65.5</td>\n      <td>No Exito</td>\n      <td>5250</td>\n      <td>None</td>\n      <td>four</td>\n      <td>Instagram</td>\n      <td>594</td>\n      <td>15</td>\n    </tr>\n    <tr>\n      <th>599</th>\n      <td>3.03</td>\n      <td>Google</td>\n      <td>1621</td>\n      <td>60.3</td>\n      <td>No Exito</td>\n      <td>5236</td>\n      <td>None</td>\n      <td>three</td>\n      <td>Youtube</td>\n      <td>599</td>\n      <td>16</td>\n    </tr>\n    <tr>\n      <th>610</th>\n      <td>3.08</td>\n      <td>Google</td>\n      <td>2398</td>\n      <td>64.0</td>\n      <td>No Exito</td>\n      <td>6715</td>\n      <td>None</td>\n      <td>four</td>\n      <td>Google</td>\n      <td>610</td>\n      <td>13</td>\n    </tr>\n    <tr>\n      <th>636</th>\n      <td>3.40</td>\n      <td>Google</td>\n      <td>2352</td>\n      <td>65.5</td>\n      <td>No Exito</td>\n      <td>5425</td>\n      <td>None</td>\n      <td>four</td>\n      <td>Instagram</td>\n      <td>636</td>\n      <td>17</td>\n    </tr>\n    <tr>\n      <th>654</th>\n      <td>3.64</td>\n      <td>Facebook</td>\n      <td>3791</td>\n      <td>70.3</td>\n      <td>Exito</td>\n      <td>4433</td>\n      <td>None</td>\n      <td>five</td>\n      <td>Instagram</td>\n      <td>654</td>\n      <td>11</td>\n    </tr>\n    <tr>\n      <th>679</th>\n      <td>2.64</td>\n      <td>Google</td>\n      <td>2220</td>\n      <td>63.6</td>\n      <td>No Exito</td>\n      <td>4515</td>\n      <td>None</td>\n      <td>four</td>\n      <td>Linkedin</td>\n      <td>679</td>\n      <td>12</td>\n    </tr>\n    <tr>\n      <th>680</th>\n      <td>2.19</td>\n      <td>Google</td>\n      <td>3364</td>\n      <td>68.4</td>\n      <td>Exito</td>\n      <td>5055</td>\n      <td>None</td>\n      <td>four</td>\n      <td>Youtube</td>\n      <td>680</td>\n      <td>14</td>\n    </tr>\n    <tr>\n      <th>729</th>\n      <td>3.08</td>\n      <td>Google</td>\n      <td>2346</td>\n      <td>64.0</td>\n      <td>No Exito</td>\n      <td>6608</td>\n      <td>None</td>\n      <td>four</td>\n      <td>Google</td>\n      <td>729</td>\n      <td>16</td>\n    </tr>\n    <tr>\n      <th>763</th>\n      <td>3.15</td>\n      <td>Google</td>\n      <td>2007</td>\n      <td>64.2</td>\n      <td>No Exito</td>\n      <td>5008</td>\n      <td>None</td>\n      <td>four</td>\n      <td>Instagram</td>\n      <td>763</td>\n      <td>16</td>\n    </tr>\n    <tr>\n      <th>816</th>\n      <td>3.15</td>\n      <td>Google</td>\n      <td>3002</td>\n      <td>67.2</td>\n      <td>Exito</td>\n      <td>5439</td>\n      <td>None</td>\n      <td>four</td>\n      <td>Instagram</td>\n      <td>816</td>\n      <td>10</td>\n    </tr>\n  </tbody>\n</table>\n</div>"
     },
     "execution_count": 12,
     "metadata": {},
     "output_type": "execute_result"
    }
   ],
   "source": [
    "df.loc[df.tipo_campaña.isnull()]"
   ]
  },
  {
   "cell_type": "code",
   "execution_count": 13,
   "metadata": {
    "pycharm": {
     "name": "#%%\n"
    }
   },
   "outputs": [
    {
     "data": {
      "text/plain": "     Cost_per_lead Plataforma  clicks  conv_rate exito_15  spend tipo_campaña  \\\n126            2.9     Google    2756       65.0    Exito   5900     Branding   \n127            2.9     Google    2756       65.0    Exito   5900     Branding   \n128            2.9     Google    2800       65.0    Exito   5900     Branding   \n237            2.9     Google    2888       65.0    Exito   5917     Branding   \n310            2.9     Google    2816       65.0    Exito   5925     Branding   \n330            2.9     Google    2760       65.0    Exito   5920     Branding   \n415            2.9     Google    2847       65.0    Exito   5993     Branding   \n452            2.9     Google    2911       65.0    Exito   5984     Branding   \n622            2.9     Google    2795       65.0    Exito   5935     Branding   \n659            2.9     Google    2901       65.0    Exito   5933     Branding   \n694            2.9     Google    2834       65.0    Exito   5996     Branding   \n793            2.9     Google    2835       65.0    Exito   5953     Branding   \n\n    trend type_of_ad   id  valor_de_yen  \n126   six   Linkedin  126            19  \n127   six   Linkedin  127            11  \n128   six   Linkedin  128            12  \n237   six   Linkedin  237            12  \n310   six   Linkedin  310            11  \n330   six   Linkedin  330            19  \n415   six   Linkedin  415            18  \n452   six   Linkedin  452            16  \n622   six   Linkedin  622            19  \n659   six   Linkedin  659            18  \n694   six   Linkedin  694            10  \n793   six   Linkedin  793            16  ",
      "text/html": "<div>\n<style scoped>\n    .dataframe tbody tr th:only-of-type {\n        vertical-align: middle;\n    }\n\n    .dataframe tbody tr th {\n        vertical-align: top;\n    }\n\n    .dataframe thead th {\n        text-align: right;\n    }\n</style>\n<table border=\"1\" class=\"dataframe\">\n  <thead>\n    <tr style=\"text-align: right;\">\n      <th></th>\n      <th>Cost_per_lead</th>\n      <th>Plataforma</th>\n      <th>clicks</th>\n      <th>conv_rate</th>\n      <th>exito_15</th>\n      <th>spend</th>\n      <th>tipo_campaña</th>\n      <th>trend</th>\n      <th>type_of_ad</th>\n      <th>id</th>\n      <th>valor_de_yen</th>\n    </tr>\n  </thead>\n  <tbody>\n    <tr>\n      <th>126</th>\n      <td>2.9</td>\n      <td>Google</td>\n      <td>2756</td>\n      <td>65.0</td>\n      <td>Exito</td>\n      <td>5900</td>\n      <td>Branding</td>\n      <td>six</td>\n      <td>Linkedin</td>\n      <td>126</td>\n      <td>19</td>\n    </tr>\n    <tr>\n      <th>127</th>\n      <td>2.9</td>\n      <td>Google</td>\n      <td>2756</td>\n      <td>65.0</td>\n      <td>Exito</td>\n      <td>5900</td>\n      <td>Branding</td>\n      <td>six</td>\n      <td>Linkedin</td>\n      <td>127</td>\n      <td>11</td>\n    </tr>\n    <tr>\n      <th>128</th>\n      <td>2.9</td>\n      <td>Google</td>\n      <td>2800</td>\n      <td>65.0</td>\n      <td>Exito</td>\n      <td>5900</td>\n      <td>Branding</td>\n      <td>six</td>\n      <td>Linkedin</td>\n      <td>128</td>\n      <td>12</td>\n    </tr>\n    <tr>\n      <th>237</th>\n      <td>2.9</td>\n      <td>Google</td>\n      <td>2888</td>\n      <td>65.0</td>\n      <td>Exito</td>\n      <td>5917</td>\n      <td>Branding</td>\n      <td>six</td>\n      <td>Linkedin</td>\n      <td>237</td>\n      <td>12</td>\n    </tr>\n    <tr>\n      <th>310</th>\n      <td>2.9</td>\n      <td>Google</td>\n      <td>2816</td>\n      <td>65.0</td>\n      <td>Exito</td>\n      <td>5925</td>\n      <td>Branding</td>\n      <td>six</td>\n      <td>Linkedin</td>\n      <td>310</td>\n      <td>11</td>\n    </tr>\n    <tr>\n      <th>330</th>\n      <td>2.9</td>\n      <td>Google</td>\n      <td>2760</td>\n      <td>65.0</td>\n      <td>Exito</td>\n      <td>5920</td>\n      <td>Branding</td>\n      <td>six</td>\n      <td>Linkedin</td>\n      <td>330</td>\n      <td>19</td>\n    </tr>\n    <tr>\n      <th>415</th>\n      <td>2.9</td>\n      <td>Google</td>\n      <td>2847</td>\n      <td>65.0</td>\n      <td>Exito</td>\n      <td>5993</td>\n      <td>Branding</td>\n      <td>six</td>\n      <td>Linkedin</td>\n      <td>415</td>\n      <td>18</td>\n    </tr>\n    <tr>\n      <th>452</th>\n      <td>2.9</td>\n      <td>Google</td>\n      <td>2911</td>\n      <td>65.0</td>\n      <td>Exito</td>\n      <td>5984</td>\n      <td>Branding</td>\n      <td>six</td>\n      <td>Linkedin</td>\n      <td>452</td>\n      <td>16</td>\n    </tr>\n    <tr>\n      <th>622</th>\n      <td>2.9</td>\n      <td>Google</td>\n      <td>2795</td>\n      <td>65.0</td>\n      <td>Exito</td>\n      <td>5935</td>\n      <td>Branding</td>\n      <td>six</td>\n      <td>Linkedin</td>\n      <td>622</td>\n      <td>19</td>\n    </tr>\n    <tr>\n      <th>659</th>\n      <td>2.9</td>\n      <td>Google</td>\n      <td>2901</td>\n      <td>65.0</td>\n      <td>Exito</td>\n      <td>5933</td>\n      <td>Branding</td>\n      <td>six</td>\n      <td>Linkedin</td>\n      <td>659</td>\n      <td>18</td>\n    </tr>\n    <tr>\n      <th>694</th>\n      <td>2.9</td>\n      <td>Google</td>\n      <td>2834</td>\n      <td>65.0</td>\n      <td>Exito</td>\n      <td>5996</td>\n      <td>Branding</td>\n      <td>six</td>\n      <td>Linkedin</td>\n      <td>694</td>\n      <td>10</td>\n    </tr>\n    <tr>\n      <th>793</th>\n      <td>2.9</td>\n      <td>Google</td>\n      <td>2835</td>\n      <td>65.0</td>\n      <td>Exito</td>\n      <td>5953</td>\n      <td>Branding</td>\n      <td>six</td>\n      <td>Linkedin</td>\n      <td>793</td>\n      <td>16</td>\n    </tr>\n  </tbody>\n</table>\n</div>"
     },
     "execution_count": 13,
     "metadata": {},
     "output_type": "execute_result"
    }
   ],
   "source": [
    "df.loc[df.tipo_campaña=='Branding']"
   ]
  },
  {
   "cell_type": "markdown",
   "metadata": {
    "pycharm": {
     "name": "#%% md\n"
    }
   },
   "source": [
    "No existen campañas de branding en plataformas fuera de google.Por lo tanto, podría imputar los nulos de los que no son google a tipo conversion"
   ]
  },
  {
   "cell_type": "code",
   "execution_count": 14,
   "metadata": {
    "pycharm": {
     "name": "#%%\n"
    }
   },
   "outputs": [
    {
     "data": {
      "text/plain": "0      Conversion\n1      Conversion\n2      Conversion\n3      Conversion\n4      Conversion\n          ...    \n813    Conversion\n815    Conversion\n816    Conversion\n818    Conversion\n819    Conversion\nName: tipo_campaña, Length: 672, dtype: object"
     },
     "execution_count": 14,
     "metadata": {},
     "output_type": "execute_result"
    }
   ],
   "source": [
    "df.loc[df.Plataforma=='Google'].tipo_campaña.replace(np.nan,'Conversion')"
   ]
  },
  {
   "cell_type": "code",
   "execution_count": 15,
   "metadata": {
    "pycharm": {
     "name": "#%%\n"
    }
   },
   "outputs": [
    {
     "data": {
      "text/plain": "              Null Count  Null Percentage DataTypes\ntipo_campaña          40         4.878049    object\nconv_rate             24         2.926829   float64",
      "text/html": "<div>\n<style scoped>\n    .dataframe tbody tr th:only-of-type {\n        vertical-align: middle;\n    }\n\n    .dataframe tbody tr th {\n        vertical-align: top;\n    }\n\n    .dataframe thead th {\n        text-align: right;\n    }\n</style>\n<table border=\"1\" class=\"dataframe\">\n  <thead>\n    <tr style=\"text-align: right;\">\n      <th></th>\n      <th>Null Count</th>\n      <th>Null Percentage</th>\n      <th>DataTypes</th>\n    </tr>\n  </thead>\n  <tbody>\n    <tr>\n      <th>tipo_campaña</th>\n      <td>40</td>\n      <td>4.878049</td>\n      <td>object</td>\n    </tr>\n    <tr>\n      <th>conv_rate</th>\n      <td>24</td>\n      <td>2.926829</td>\n      <td>float64</td>\n    </tr>\n  </tbody>\n</table>\n</div>"
     },
     "execution_count": 15,
     "metadata": {},
     "output_type": "execute_result"
    }
   ],
   "source": [
    "def percentageOfnull(df):\n",
    "    nan_count = df.isna().sum().sort_values(ascending=False)\n",
    "    nan_percentage = ((df.isna().sum()/df.isna().count())*100).sort_values(ascending=False)\n",
    "    train_test_dtype = df.dtypes\n",
    "    df_info = pd.concat([nan_count,nan_percentage,train_test_dtype],axis=1,keys=['Null Count','Null Percentage','DataTypes'])\n",
    "    return df_info[df_info['Null Count']>0]\n",
    "percentageOfnull(df)"
   ]
  },
  {
   "cell_type": "markdown",
   "metadata": {
    "pycharm": {
     "name": "#%% md\n"
    }
   },
   "source": [
    "Al ser con_rate mi variable independiente, voy a eliminar los nulos para no ensusiar el modelo.\n"
   ]
  },
  {
   "cell_type": "code",
   "execution_count": 16,
   "metadata": {
    "pycharm": {
     "name": "#%%\n"
    }
   },
   "outputs": [
    {
     "data": {
      "text/plain": "0      64.1\n1      64.1\n2      65.5\n4      66.4\n5      66.3\n       ... \n815    65.5\n816    67.2\n817    65.4\n818    64.2\n819    65.6\nName: conv_rate, Length: 796, dtype: float64"
     },
     "execution_count": 16,
     "metadata": {},
     "output_type": "execute_result"
    }
   ],
   "source": [
    "df.conv_rate.dropna()"
   ]
  },
  {
   "cell_type": "markdown",
   "metadata": {
    "pycharm": {
     "name": "#%% md\n"
    }
   },
   "source": [
    "OUTLIERS"
   ]
  },
  {
   "cell_type": "code",
   "execution_count": 17,
   "metadata": {
    "pycharm": {
     "name": "#%%\n"
    }
   },
   "outputs": [
    {
     "data": {
      "text/plain": "  Plataforma  Cost_per_lead  clicks  spend tipo_campaña trend type_of_ad\n0     Google           2.68    2548   5000   Conversion  four     Google\n1     Google           2.68    2548   5000   Conversion  four     Google\n2     Google           3.47    2823   5000   Conversion   six   Facebook\n3     Google           3.40    2337   5500   Conversion  four  Instagram\n4     Google           3.40    2824   5500   Conversion  five  Instagram",
      "text/html": "<div>\n<style scoped>\n    .dataframe tbody tr th:only-of-type {\n        vertical-align: middle;\n    }\n\n    .dataframe tbody tr th {\n        vertical-align: top;\n    }\n\n    .dataframe thead th {\n        text-align: right;\n    }\n</style>\n<table border=\"1\" class=\"dataframe\">\n  <thead>\n    <tr style=\"text-align: right;\">\n      <th></th>\n      <th>Plataforma</th>\n      <th>Cost_per_lead</th>\n      <th>clicks</th>\n      <th>spend</th>\n      <th>tipo_campaña</th>\n      <th>trend</th>\n      <th>type_of_ad</th>\n    </tr>\n  </thead>\n  <tbody>\n    <tr>\n      <th>0</th>\n      <td>Google</td>\n      <td>2.68</td>\n      <td>2548</td>\n      <td>5000</td>\n      <td>Conversion</td>\n      <td>four</td>\n      <td>Google</td>\n    </tr>\n    <tr>\n      <th>1</th>\n      <td>Google</td>\n      <td>2.68</td>\n      <td>2548</td>\n      <td>5000</td>\n      <td>Conversion</td>\n      <td>four</td>\n      <td>Google</td>\n    </tr>\n    <tr>\n      <th>2</th>\n      <td>Google</td>\n      <td>3.47</td>\n      <td>2823</td>\n      <td>5000</td>\n      <td>Conversion</td>\n      <td>six</td>\n      <td>Facebook</td>\n    </tr>\n    <tr>\n      <th>3</th>\n      <td>Google</td>\n      <td>3.40</td>\n      <td>2337</td>\n      <td>5500</td>\n      <td>Conversion</td>\n      <td>four</td>\n      <td>Instagram</td>\n    </tr>\n    <tr>\n      <th>4</th>\n      <td>Google</td>\n      <td>3.40</td>\n      <td>2824</td>\n      <td>5500</td>\n      <td>Conversion</td>\n      <td>five</td>\n      <td>Instagram</td>\n    </tr>\n  </tbody>\n</table>\n</div>"
     },
     "execution_count": 17,
     "metadata": {},
     "output_type": "execute_result"
    }
   ],
   "source": [
    "df1=df[feauters]\n",
    "df1.head()"
   ]
  },
  {
   "cell_type": "code",
   "execution_count": 18,
   "outputs": [
    {
     "data": {
      "text/plain": "       Cost_per_lead        clicks         spend\ncount   8.200000e+02  8.200000e+02  8.200000e+02\nmean    1.219515e+06  1.479542e+04  1.735482e+04\nstd     3.492151e+07  3.491246e+05  3.490351e+05\nmin     2.070000e+00  1.488000e+03  0.000000e+00\n25%     3.110000e+00  2.204000e+03  4.850000e+03\n50%     3.290000e+00  2.486000e+03  5.200000e+03\n75%     3.410000e+00  2.979500e+03  5.501000e+03\nmax     1.000000e+09  1.000000e+07  1.000000e+07",
      "text/html": "<div>\n<style scoped>\n    .dataframe tbody tr th:only-of-type {\n        vertical-align: middle;\n    }\n\n    .dataframe tbody tr th {\n        vertical-align: top;\n    }\n\n    .dataframe thead th {\n        text-align: right;\n    }\n</style>\n<table border=\"1\" class=\"dataframe\">\n  <thead>\n    <tr style=\"text-align: right;\">\n      <th></th>\n      <th>Cost_per_lead</th>\n      <th>clicks</th>\n      <th>spend</th>\n    </tr>\n  </thead>\n  <tbody>\n    <tr>\n      <th>count</th>\n      <td>8.200000e+02</td>\n      <td>8.200000e+02</td>\n      <td>8.200000e+02</td>\n    </tr>\n    <tr>\n      <th>mean</th>\n      <td>1.219515e+06</td>\n      <td>1.479542e+04</td>\n      <td>1.735482e+04</td>\n    </tr>\n    <tr>\n      <th>std</th>\n      <td>3.492151e+07</td>\n      <td>3.491246e+05</td>\n      <td>3.490351e+05</td>\n    </tr>\n    <tr>\n      <th>min</th>\n      <td>2.070000e+00</td>\n      <td>1.488000e+03</td>\n      <td>0.000000e+00</td>\n    </tr>\n    <tr>\n      <th>25%</th>\n      <td>3.110000e+00</td>\n      <td>2.204000e+03</td>\n      <td>4.850000e+03</td>\n    </tr>\n    <tr>\n      <th>50%</th>\n      <td>3.290000e+00</td>\n      <td>2.486000e+03</td>\n      <td>5.200000e+03</td>\n    </tr>\n    <tr>\n      <th>75%</th>\n      <td>3.410000e+00</td>\n      <td>2.979500e+03</td>\n      <td>5.501000e+03</td>\n    </tr>\n    <tr>\n      <th>max</th>\n      <td>1.000000e+09</td>\n      <td>1.000000e+07</td>\n      <td>1.000000e+07</td>\n    </tr>\n  </tbody>\n</table>\n</div>"
     },
     "execution_count": 18,
     "metadata": {},
     "output_type": "execute_result"
    }
   ],
   "source": [
    "df1.describe()"
   ],
   "metadata": {
    "collapsed": false,
    "pycharm": {
     "name": "#%%\n"
    }
   }
  },
  {
   "cell_type": "code",
   "execution_count": null,
   "outputs": [],
   "source": [
    "df.clicks.nlargest()"
   ],
   "metadata": {
    "collapsed": false,
    "pycharm": {
     "name": "#%%\n",
     "is_executing": true
    }
   }
  },
  {
   "cell_type": "code",
   "execution_count": null,
   "outputs": [],
   "source": [
    "numerics= df1.select_dtypes(exclude=['object']).columns"
   ],
   "metadata": {
    "collapsed": false,
    "pycharm": {
     "name": "#%%\n"
    }
   }
  },
  {
   "cell_type": "code",
   "execution_count": 19,
   "metadata": {
    "pycharm": {
     "name": "#%%\n"
    }
   },
   "outputs": [],
   "source": [
    "numerics= df1.select_dtypes(exclude=['object']).columns"
   ]
  },
  {
   "cell_type": "code",
   "execution_count": 20,
   "metadata": {
    "pycharm": {
     "name": "#%%\n"
    }
   },
   "outputs": [
    {
     "data": {
      "text/plain": "<Figure size 720x504 with 1 Axes>",
      "image/png": "[encoded data removed]"
     },
     "metadata": {
      "needs_background": "light"
     },
     "output_type": "display_data"
    }
   ],
   "source": [
    "fig = plt.figure(figsize =(10, 7))\n",
    "plt.boxplot(df.clicks)\n",
    "plt.show()"
   ]
  },
  {
   "cell_type": "code",
   "execution_count": null,
   "metadata": {
    "pycharm": {
     "name": "#%%\n",
     "is_executing": true
    }
   },
   "outputs": [
    {
     "data": {
      "text/plain": "<AxesSubplot:title={'center':'Boxplot declicks'}, xlabel='clicks'>"
     },
     "execution_count": 22,
     "metadata": {},
     "output_type": "execute_result"
    }
   ],
   "source": [
    "# 3. Ploteo y escalado (20 pts)\n",
    "a. Plotear y analizar distribuciones.\n",
    "b. Elegir un método de escalado"
   ]
  },
  {
   "cell_type": "markdown",
   "metadata": {},
   "source": [
    "# 5. Variables categoricas (15 pts)\n",
    "a. Convertir variables categoricas a númericas, aplicar alguna de las tecnicas que vimos."
   ]
  },
  {
   "cell_type": "code",
   "execution_count": null,
   "metadata": {
    "pycharm": {
     "is_executing": true
    }
   },
   "outputs": [],
   "source": [
    "cat= df1.select_dtypes('object').columns\n",
    "cat"
   ]
  },
  {
   "cell_type": "markdown",
   "metadata": {},
   "source": [
    "# 6. Modelo base (20 pts)\n",
    "a. Crear un modelo simple\n",
    "b. Crear una matriz de confusión.  (Interpretar)\n",
    "c. Evaluar rendimiento con una métrica"
   ]
  },
  {
   "cell_type": "code",
   "execution_count": null,
   "metadata": {
    "pycharm": {
     "is_executing": true
    }
   },
   "outputs": [],
   "source": []
  },
  {
   "cell_type": "markdown",
   "metadata": {},
   "source": []
  }
 ],
 "metadata": {
  "kernelspec": {
   "display_name": "Python 3 (ipykernel)",
   "language": "python",
   "name": "python3"
  },
  "language_info": {
   "codemirror_mode": {
    "name": "ipython",
    "version": 2
   },
   "file_extension": ".py",
   "mimetype": "text/x-python",
   "name": "python",
   "nbconvert_exporter": "python",
   "pygments_lexer": "ipython2",
   "version": "2.7.6"
  }
 },
 "nbformat": 4,
 "nbformat_minor": 1
}