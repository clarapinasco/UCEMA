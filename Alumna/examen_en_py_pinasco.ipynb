{
 "cells": [
  {
   "cell_type": "code",
   "execution_count": 1,
   "id": "1ac29c78",
   "metadata": {},
   "outputs": [],
   "source": [
    "import pandas as pd\n",
    "import matplotlib.pyplot as plt\n",
    "import seaborn as sns\n",
    "import numpy as n"
   ]
  },
  {
   "cell_type": "code",
   "execution_count": 2,
   "id": "d3c6c2a1",
   "metadata": {},
   "outputs": [
    {
     "ename": "FileNotFoundError",
     "evalue": "[Errno 2] No such file or directory: 'recibos_facts_debitos.csv'",
     "output_type": "error",
     "traceback": [
      "\u001B[1;31m---------------------------------------------------------------------------\u001B[0m",
      "\u001B[1;31mFileNotFoundError\u001B[0m                         Traceback (most recent call last)",
      "\u001B[1;32m~\\AppData\\Local\\Temp/ipykernel_7004/3644243728.py\u001B[0m in \u001B[0;36m<module>\u001B[1;34m\u001B[0m\n\u001B[1;32m----> 1\u001B[1;33m \u001B[0mrecibos\u001B[0m\u001B[1;33m=\u001B[0m \u001B[0mpd\u001B[0m\u001B[1;33m.\u001B[0m\u001B[0mread_csv\u001B[0m\u001B[1;33m(\u001B[0m\u001B[1;34m\"recibos_facts_debitos.csv\"\u001B[0m\u001B[1;33m)\u001B[0m\u001B[1;33m\u001B[0m\u001B[1;33m\u001B[0m\u001B[0m\n\u001B[0m\u001B[0;32m      2\u001B[0m \u001B[0mrecibos\u001B[0m\u001B[1;33m\u001B[0m\u001B[1;33m\u001B[0m\u001B[0m\n",
      "\u001B[1;32m~\\AppData\\Local\\Programs\\Python\\Python310\\lib\\site-packages\\pandas\\util\\_decorators.py\u001B[0m in \u001B[0;36mwrapper\u001B[1;34m(*args, **kwargs)\u001B[0m\n\u001B[0;32m    309\u001B[0m                     \u001B[0mstacklevel\u001B[0m\u001B[1;33m=\u001B[0m\u001B[0mstacklevel\u001B[0m\u001B[1;33m,\u001B[0m\u001B[1;33m\u001B[0m\u001B[1;33m\u001B[0m\u001B[0m\n\u001B[0;32m    310\u001B[0m                 )\n\u001B[1;32m--> 311\u001B[1;33m             \u001B[1;32mreturn\u001B[0m \u001B[0mfunc\u001B[0m\u001B[1;33m(\u001B[0m\u001B[1;33m*\u001B[0m\u001B[0margs\u001B[0m\u001B[1;33m,\u001B[0m \u001B[1;33m**\u001B[0m\u001B[0mkwargs\u001B[0m\u001B[1;33m)\u001B[0m\u001B[1;33m\u001B[0m\u001B[1;33m\u001B[0m\u001B[0m\n\u001B[0m\u001B[0;32m    312\u001B[0m \u001B[1;33m\u001B[0m\u001B[0m\n\u001B[0;32m    313\u001B[0m         \u001B[1;32mreturn\u001B[0m \u001B[0mwrapper\u001B[0m\u001B[1;33m\u001B[0m\u001B[1;33m\u001B[0m\u001B[0m\n",
      "\u001B[1;32m~\\AppData\\Local\\Programs\\Python\\Python310\\lib\\site-packages\\pandas\\io\\parsers\\readers.py\u001B[0m in \u001B[0;36mread_csv\u001B[1;34m(filepath_or_buffer, sep, delimiter, header, names, index_col, usecols, squeeze, prefix, mangle_dupe_cols, dtype, engine, converters, true_values, false_values, skipinitialspace, skiprows, skipfooter, nrows, na_values, keep_default_na, na_filter, verbose, skip_blank_lines, parse_dates, infer_datetime_format, keep_date_col, date_parser, dayfirst, cache_dates, iterator, chunksize, compression, thousands, decimal, lineterminator, quotechar, quoting, doublequote, escapechar, comment, encoding, encoding_errors, dialect, error_bad_lines, warn_bad_lines, on_bad_lines, delim_whitespace, low_memory, memory_map, float_precision, storage_options)\u001B[0m\n\u001B[0;32m    584\u001B[0m     \u001B[0mkwds\u001B[0m\u001B[1;33m.\u001B[0m\u001B[0mupdate\u001B[0m\u001B[1;33m(\u001B[0m\u001B[0mkwds_defaults\u001B[0m\u001B[1;33m)\u001B[0m\u001B[1;33m\u001B[0m\u001B[1;33m\u001B[0m\u001B[0m\n\u001B[0;32m    585\u001B[0m \u001B[1;33m\u001B[0m\u001B[0m\n\u001B[1;32m--> 586\u001B[1;33m     \u001B[1;32mreturn\u001B[0m \u001B[0m_read\u001B[0m\u001B[1;33m(\u001B[0m\u001B[0mfilepath_or_buffer\u001B[0m\u001B[1;33m,\u001B[0m \u001B[0mkwds\u001B[0m\u001B[1;33m)\u001B[0m\u001B[1;33m\u001B[0m\u001B[1;33m\u001B[0m\u001B[0m\n\u001B[0m\u001B[0;32m    587\u001B[0m \u001B[1;33m\u001B[0m\u001B[0m\n\u001B[0;32m    588\u001B[0m \u001B[1;33m\u001B[0m\u001B[0m\n",
      "\u001B[1;32m~\\AppData\\Local\\Programs\\Python\\Python310\\lib\\site-packages\\pandas\\io\\parsers\\readers.py\u001B[0m in \u001B[0;36m_read\u001B[1;34m(filepath_or_buffer, kwds)\u001B[0m\n\u001B[0;32m    480\u001B[0m \u001B[1;33m\u001B[0m\u001B[0m\n\u001B[0;32m    481\u001B[0m     \u001B[1;31m# Create the parser.\u001B[0m\u001B[1;33m\u001B[0m\u001B[1;33m\u001B[0m\u001B[0m\n\u001B[1;32m--> 482\u001B[1;33m     \u001B[0mparser\u001B[0m \u001B[1;33m=\u001B[0m \u001B[0mTextFileReader\u001B[0m\u001B[1;33m(\u001B[0m\u001B[0mfilepath_or_buffer\u001B[0m\u001B[1;33m,\u001B[0m \u001B[1;33m**\u001B[0m\u001B[0mkwds\u001B[0m\u001B[1;33m)\u001B[0m\u001B[1;33m\u001B[0m\u001B[1;33m\u001B[0m\u001B[0m\n\u001B[0m\u001B[0;32m    483\u001B[0m \u001B[1;33m\u001B[0m\u001B[0m\n\u001B[0;32m    484\u001B[0m     \u001B[1;32mif\u001B[0m \u001B[0mchunksize\u001B[0m \u001B[1;32mor\u001B[0m \u001B[0miterator\u001B[0m\u001B[1;33m:\u001B[0m\u001B[1;33m\u001B[0m\u001B[1;33m\u001B[0m\u001B[0m\n",
      "\u001B[1;32m~\\AppData\\Local\\Programs\\Python\\Python310\\lib\\site-packages\\pandas\\io\\parsers\\readers.py\u001B[0m in \u001B[0;36m__init__\u001B[1;34m(self, f, engine, **kwds)\u001B[0m\n\u001B[0;32m    809\u001B[0m             \u001B[0mself\u001B[0m\u001B[1;33m.\u001B[0m\u001B[0moptions\u001B[0m\u001B[1;33m[\u001B[0m\u001B[1;34m\"has_index_names\"\u001B[0m\u001B[1;33m]\u001B[0m \u001B[1;33m=\u001B[0m \u001B[0mkwds\u001B[0m\u001B[1;33m[\u001B[0m\u001B[1;34m\"has_index_names\"\u001B[0m\u001B[1;33m]\u001B[0m\u001B[1;33m\u001B[0m\u001B[1;33m\u001B[0m\u001B[0m\n\u001B[0;32m    810\u001B[0m \u001B[1;33m\u001B[0m\u001B[0m\n\u001B[1;32m--> 811\u001B[1;33m         \u001B[0mself\u001B[0m\u001B[1;33m.\u001B[0m\u001B[0m_engine\u001B[0m \u001B[1;33m=\u001B[0m \u001B[0mself\u001B[0m\u001B[1;33m.\u001B[0m\u001B[0m_make_engine\u001B[0m\u001B[1;33m(\u001B[0m\u001B[0mself\u001B[0m\u001B[1;33m.\u001B[0m\u001B[0mengine\u001B[0m\u001B[1;33m)\u001B[0m\u001B[1;33m\u001B[0m\u001B[1;33m\u001B[0m\u001B[0m\n\u001B[0m\u001B[0;32m    812\u001B[0m \u001B[1;33m\u001B[0m\u001B[0m\n\u001B[0;32m    813\u001B[0m     \u001B[1;32mdef\u001B[0m \u001B[0mclose\u001B[0m\u001B[1;33m(\u001B[0m\u001B[0mself\u001B[0m\u001B[1;33m)\u001B[0m\u001B[1;33m:\u001B[0m\u001B[1;33m\u001B[0m\u001B[1;33m\u001B[0m\u001B[0m\n",
      "\u001B[1;32m~\\AppData\\Local\\Programs\\Python\\Python310\\lib\\site-packages\\pandas\\io\\parsers\\readers.py\u001B[0m in \u001B[0;36m_make_engine\u001B[1;34m(self, engine)\u001B[0m\n\u001B[0;32m   1038\u001B[0m             )\n\u001B[0;32m   1039\u001B[0m         \u001B[1;31m# error: Too many arguments for \"ParserBase\"\u001B[0m\u001B[1;33m\u001B[0m\u001B[1;33m\u001B[0m\u001B[0m\n\u001B[1;32m-> 1040\u001B[1;33m         \u001B[1;32mreturn\u001B[0m \u001B[0mmapping\u001B[0m\u001B[1;33m[\u001B[0m\u001B[0mengine\u001B[0m\u001B[1;33m]\u001B[0m\u001B[1;33m(\u001B[0m\u001B[0mself\u001B[0m\u001B[1;33m.\u001B[0m\u001B[0mf\u001B[0m\u001B[1;33m,\u001B[0m \u001B[1;33m**\u001B[0m\u001B[0mself\u001B[0m\u001B[1;33m.\u001B[0m\u001B[0moptions\u001B[0m\u001B[1;33m)\u001B[0m  \u001B[1;31m# type: ignore[call-arg]\u001B[0m\u001B[1;33m\u001B[0m\u001B[1;33m\u001B[0m\u001B[0m\n\u001B[0m\u001B[0;32m   1041\u001B[0m \u001B[1;33m\u001B[0m\u001B[0m\n\u001B[0;32m   1042\u001B[0m     \u001B[1;32mdef\u001B[0m \u001B[0m_failover_to_python\u001B[0m\u001B[1;33m(\u001B[0m\u001B[0mself\u001B[0m\u001B[1;33m)\u001B[0m\u001B[1;33m:\u001B[0m\u001B[1;33m\u001B[0m\u001B[1;33m\u001B[0m\u001B[0m\n",
      "\u001B[1;32m~\\AppData\\Local\\Programs\\Python\\Python310\\lib\\site-packages\\pandas\\io\\parsers\\c_parser_wrapper.py\u001B[0m in \u001B[0;36m__init__\u001B[1;34m(self, src, **kwds)\u001B[0m\n\u001B[0;32m     49\u001B[0m \u001B[1;33m\u001B[0m\u001B[0m\n\u001B[0;32m     50\u001B[0m         \u001B[1;31m# open handles\u001B[0m\u001B[1;33m\u001B[0m\u001B[1;33m\u001B[0m\u001B[0m\n\u001B[1;32m---> 51\u001B[1;33m         \u001B[0mself\u001B[0m\u001B[1;33m.\u001B[0m\u001B[0m_open_handles\u001B[0m\u001B[1;33m(\u001B[0m\u001B[0msrc\u001B[0m\u001B[1;33m,\u001B[0m \u001B[0mkwds\u001B[0m\u001B[1;33m)\u001B[0m\u001B[1;33m\u001B[0m\u001B[1;33m\u001B[0m\u001B[0m\n\u001B[0m\u001B[0;32m     52\u001B[0m         \u001B[1;32massert\u001B[0m \u001B[0mself\u001B[0m\u001B[1;33m.\u001B[0m\u001B[0mhandles\u001B[0m \u001B[1;32mis\u001B[0m \u001B[1;32mnot\u001B[0m \u001B[1;32mNone\u001B[0m\u001B[1;33m\u001B[0m\u001B[1;33m\u001B[0m\u001B[0m\n\u001B[0;32m     53\u001B[0m \u001B[1;33m\u001B[0m\u001B[0m\n",
      "\u001B[1;32m~\\AppData\\Local\\Programs\\Python\\Python310\\lib\\site-packages\\pandas\\io\\parsers\\base_parser.py\u001B[0m in \u001B[0;36m_open_handles\u001B[1;34m(self, src, kwds)\u001B[0m\n\u001B[0;32m    220\u001B[0m         \u001B[0mLet\u001B[0m \u001B[0mthe\u001B[0m \u001B[0mreaders\u001B[0m \u001B[0mopen\u001B[0m \u001B[0mIOHandles\u001B[0m \u001B[0mafter\u001B[0m \u001B[0mthey\u001B[0m \u001B[0mare\u001B[0m \u001B[0mdone\u001B[0m \u001B[1;32mwith\u001B[0m \u001B[0mtheir\u001B[0m \u001B[0mpotential\u001B[0m \u001B[0mraises\u001B[0m\u001B[1;33m.\u001B[0m\u001B[1;33m\u001B[0m\u001B[1;33m\u001B[0m\u001B[0m\n\u001B[0;32m    221\u001B[0m         \"\"\"\n\u001B[1;32m--> 222\u001B[1;33m         self.handles = get_handle(\n\u001B[0m\u001B[0;32m    223\u001B[0m             \u001B[0msrc\u001B[0m\u001B[1;33m,\u001B[0m\u001B[1;33m\u001B[0m\u001B[1;33m\u001B[0m\u001B[0m\n\u001B[0;32m    224\u001B[0m             \u001B[1;34m\"r\"\u001B[0m\u001B[1;33m,\u001B[0m\u001B[1;33m\u001B[0m\u001B[1;33m\u001B[0m\u001B[0m\n",
      "\u001B[1;32m~\\AppData\\Local\\Programs\\Python\\Python310\\lib\\site-packages\\pandas\\io\\common.py\u001B[0m in \u001B[0;36mget_handle\u001B[1;34m(path_or_buf, mode, encoding, compression, memory_map, is_text, errors, storage_options)\u001B[0m\n\u001B[0;32m    700\u001B[0m         \u001B[1;32mif\u001B[0m \u001B[0mioargs\u001B[0m\u001B[1;33m.\u001B[0m\u001B[0mencoding\u001B[0m \u001B[1;32mand\u001B[0m \u001B[1;34m\"b\"\u001B[0m \u001B[1;32mnot\u001B[0m \u001B[1;32min\u001B[0m \u001B[0mioargs\u001B[0m\u001B[1;33m.\u001B[0m\u001B[0mmode\u001B[0m\u001B[1;33m:\u001B[0m\u001B[1;33m\u001B[0m\u001B[1;33m\u001B[0m\u001B[0m\n\u001B[0;32m    701\u001B[0m             \u001B[1;31m# Encoding\u001B[0m\u001B[1;33m\u001B[0m\u001B[1;33m\u001B[0m\u001B[0m\n\u001B[1;32m--> 702\u001B[1;33m             handle = open(\n\u001B[0m\u001B[0;32m    703\u001B[0m                 \u001B[0mhandle\u001B[0m\u001B[1;33m,\u001B[0m\u001B[1;33m\u001B[0m\u001B[1;33m\u001B[0m\u001B[0m\n\u001B[0;32m    704\u001B[0m                 \u001B[0mioargs\u001B[0m\u001B[1;33m.\u001B[0m\u001B[0mmode\u001B[0m\u001B[1;33m,\u001B[0m\u001B[1;33m\u001B[0m\u001B[1;33m\u001B[0m\u001B[0m\n",
      "\u001B[1;31mFileNotFoundError\u001B[0m: [Errno 2] No such file or directory: 'recibos_facts_debitos.csv'"
     ]
    }
   ],
   "source": [
    "recibos= pd.read_csv(\"recibos_facts_debitos.csv\")\n",
    "recibos"
   ]
  },
  {
   "cell_type": "code",
   "execution_count": null,
   "id": "ac476839",
   "metadata": {},
   "outputs": [],
   "source": [
    "recibos=recibos.drop(recibos.columns[0], axis='columns')\n",
    "recibos"
   ]
  },
  {
   "cell_type": "code",
   "execution_count": null,
   "id": "49bb6c82",
   "metadata": {},
   "outputs": [],
   "source": [
    "# Cantidad de rows y columnas."
   ]
  },
  {
   "cell_type": "code",
   "execution_count": null,
   "id": "6886c0a8",
   "metadata": {
    "scrolled": true
   },
   "outputs": [],
   "source": [
    "recibos.shape"
   ]
  },
  {
   "cell_type": "code",
   "execution_count": null,
   "id": "d136156d",
   "metadata": {},
   "outputs": [],
   "source": [
    "# Clases de datos"
   ]
  },
  {
   "cell_type": "code",
   "execution_count": null,
   "id": "432f33ce",
   "metadata": {},
   "outputs": [],
   "source": [
    "recibos.dtypes"
   ]
  },
  {
   "cell_type": "code",
   "execution_count": null,
   "id": "22f58ca4",
   "metadata": {},
   "outputs": [],
   "source": [
    "#Muestre la cantidad de faltantes por columnas\n"
   ]
  },
  {
   "cell_type": "code",
   "execution_count": null,
   "id": "9bfd29d8",
   "metadata": {},
   "outputs": [],
   "source": [
    "recibos.isna().sum()"
   ]
  },
  {
   "cell_type": "code",
   "execution_count": null,
   "id": "e4ebacd2",
   "metadata": {},
   "outputs": [],
   "source": [
    "#Que porcentaje de faltantes hay\n",
    "#hay un porcentaje de 0,1%"
   ]
  },
  {
   "cell_type": "code",
   "execution_count": null,
   "id": "20f5cf5e",
   "metadata": {},
   "outputs": [],
   "source": [
    "7/len(recibos)*100\n"
   ]
  },
  {
   "cell_type": "code",
   "execution_count": null,
   "id": "3ec5ba61",
   "metadata": {},
   "outputs": [],
   "source": [
    "#Muestre las filas con datos faltantes\n"
   ]
  },
  {
   "cell_type": "code",
   "execution_count": null,
   "id": "da92317e",
   "metadata": {},
   "outputs": [],
   "source": [
    "filtro = recibos.isnull()\n",
    "recibos[filtro](filtro ==True) "
   ]
  },
  {
   "cell_type": "code",
   "execution_count": null,
   "id": "bfb8db15",
   "metadata": {},
   "outputs": [],
   "source": [
    "#Sí hay faltantes, ¿Cómo procederán a hacer el tratamiento de los mismos?\n",
    "al faltar los ids, borro todos los registros con nans"
   ]
  },
  {
   "cell_type": "code",
   "execution_count": null,
   "id": "d0d42ad2",
   "metadata": {},
   "outputs": [],
   "source": [
    "recibos=recibos.dropna()\n",
    "recibos"
   ]
  },
  {
   "cell_type": "code",
   "execution_count": null,
   "id": "eff9b7d9",
   "metadata": {},
   "outputs": [],
   "source": [
    "recibos.describe()"
   ]
  },
  {
   "cell_type": "code",
   "execution_count": null,
   "id": "70a6a053",
   "metadata": {},
   "outputs": [],
   "source": [
    "sns.boxplot(recibos.Total)\n",
    "#con este grafico podemos detectar un outlier"
   ]
  },
  {
   "cell_type": "code",
   "execution_count": null,
   "id": "81aa097c",
   "metadata": {},
   "outputs": [],
   "source": [
    "#Cambie el nombre de las columnas a \"nro_comprobante\",\"fecha\",\"monto\",\"id_cliente\"\n",
    "recibos.columns"
   ]
  },
  {
   "cell_type": "code",
   "execution_count": null,
   "id": "ea657b36",
   "metadata": {},
   "outputs": [],
   "source": [
    "recibos.rename(columns = {'Nro Comprobante':'nro_comprobante', 'Fecha':'fecha',\"ID_cliente\":\"id_cliente\",\"Total\":\"monto\"}, inplace = True)"
   ]
  },
  {
   "cell_type": "code",
   "execution_count": null,
   "id": "bd8f048c",
   "metadata": {},
   "outputs": [],
   "source": [
    "#cuanto clientes unicos hay"
   ]
  },
  {
   "cell_type": "code",
   "execution_count": null,
   "id": "cb7d7671",
   "metadata": {},
   "outputs": [],
   "source": [
    "recibos.id_cliente.nunique()"
   ]
  },
  {
   "cell_type": "code",
   "execution_count": null,
   "id": "8588a073",
   "metadata": {},
   "outputs": [],
   "source": [
    "#Cree una nueva columna que llamada “tipo” que consista en agarrar la columna\n",
    "“nro_comprobante” y separar el primer string dejando sólo si es recibo, factura, nota\n",
    "de débito o nota de crédito."
   ]
  },
  {
   "cell_type": "code",
   "execution_count": null,
   "id": "fe918786",
   "metadata": {},
   "outputs": [],
   "source": [
    "nueva=recibos.nro_comprobante.apply(lambda x:x.split(\" \")[0])"
   ]
  },
  {
   "cell_type": "code",
   "execution_count": null,
   "id": "55537a23",
   "metadata": {},
   "outputs": [],
   "source": [
    "recibos[\"tipo\"]=nueva\n",
    "recibos"
   ]
  },
  {
   "cell_type": "code",
   "execution_count": null,
   "id": "c4b62375",
   "metadata": {},
   "outputs": [],
   "source": [
    "#Cuantos registros se tienen de cada uno?"
   ]
  },
  {
   "cell_type": "code",
   "execution_count": null,
   "id": "16f72d10",
   "metadata": {},
   "outputs": [],
   "source": [
    "cantidad=recibos.tipo.value_counts()\n",
    "cantidad"
   ]
  },
  {
   "cell_type": "code",
   "execution_count": null,
   "id": "fa47136b",
   "metadata": {},
   "outputs": [],
   "source": [
    "#monto total de los recibo,monto total de las notas de débito,monto total de las notas de crédito ymonto total de lo facturado"
   ]
  },
  {
   "cell_type": "code",
   "execution_count": null,
   "id": "ad5bccb6",
   "metadata": {},
   "outputs": [],
   "source": [
    "recibos.groupby(recibos.tipo)[\"monto\"].sum()"
   ]
  },
  {
   "cell_type": "code",
   "execution_count": null,
   "id": "87cc1764",
   "metadata": {},
   "outputs": [],
   "source": [
    "recibos.fecha=pd.to_datetime(recibos.fecha)"
   ]
  },
  {
   "cell_type": "code",
   "execution_count": null,
   "id": "7b654469",
   "metadata": {},
   "outputs": [],
   "source": [
    "#Crear la columna año y mes"
   ]
  },
  {
   "cell_type": "code",
   "execution_count": null,
   "id": "eae20c64",
   "metadata": {},
   "outputs": [],
   "source": [
    "recibos[\"year_month\"]=pd.DatetimeIndex(recibos.fecha).to_period(\"m\")\n",
    "recibos"
   ]
  },
  {
   "cell_type": "code",
   "execution_count": null,
   "id": "f16cb14b",
   "metadata": {},
   "outputs": [],
   "source": [
    "#sumar sólo lo cobrado (REC y N/D) y mostrar una tabla que tenga como indice fecha(año-mes) y columna monto_cobrado, cantidad_recibos. (group by)\n"
   ]
  },
  {
   "cell_type": "code",
   "execution_count": null,
   "id": "b7f4b543",
   "metadata": {},
   "outputs": [],
   "source": [
    "df_filtrado = recibos[(recibos.tipo == \"REC\") | (recibos.tipo ==\"N/D\")]\n"
   ]
  },
  {
   "cell_type": "code",
   "execution_count": null,
   "id": "debcf741",
   "metadata": {},
   "outputs": [],
   "source": [
    "recibos_filtrado=df_filtrado.groupby('year_month')[\"monto\"].sum() \n",
    "recibos_filtrado"
   ]
  },
  {
   "cell_type": "code",
   "execution_count": null,
   "id": "5e3693d1",
   "metadata": {},
   "outputs": [],
   "source": [
    "#¿Cuantos valores hay mayores a 60000?\n",
    "no hay"
   ]
  },
  {
   "cell_type": "code",
   "execution_count": null,
   "id": "ce25f810",
   "metadata": {},
   "outputs": [],
   "source": [
    "filtro= recibos.monto > 60000\n",
    "recibos[filtro]"
   ]
  },
  {
   "cell_type": "code",
   "execution_count": null,
   "id": "55cf57c9",
   "metadata": {},
   "outputs": [],
   "source": [
    "#Cual es el valor máximo? ¿Debería eliminarlo? ¿Por qué?\n",
    "recibos.monto.max()"
   ]
  },
  {
   "cell_type": "code",
   "execution_count": null,
   "id": "844ae3bb",
   "metadata": {},
   "outputs": [],
   "source": [
    "#Hacer un lineplot del total cobrad"
   ]
  },
  {
   "cell_type": "code",
   "execution_count": null,
   "id": "45af452a",
   "metadata": {},
   "outputs": [],
   "source": [
    "recibos_filtrado.plot()"
   ]
  },
  {
   "cell_type": "code",
   "execution_count": null,
   "id": "135f5c2f",
   "metadata": {},
   "outputs": [],
   "source": [
    "clientes_unicos= recibos.groupby(by=[\"year_month\",\"id_cliente\"])[\"monto\"].sum()\n",
    "clientes_unicos"
   ]
  },
  {
   "cell_type": "code",
   "execution_count": null,
   "id": "c271975f",
   "metadata": {},
   "outputs": [],
   "source": [
    "clientes_unicos.plot.line()"
   ]
  }
 ],
 "metadata": {
  "kernelspec": {
   "display_name": "Python 3 (ipykernel)",
   "language": "python",
   "name": "python3"
  },
  "language_info": {
   "codemirror_mode": {
    "name": "ipython",
    "version": 3
   },
   "file_extension": ".py",
   "mimetype": "text/x-python",
   "name": "python",
   "nbconvert_exporter": "python",
   "pygments_lexer": "ipython3",
   "version": "3.10.4"
  }
 },
 "nbformat": 4,
 "nbformat_minor": 5
}