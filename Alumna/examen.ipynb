{
 "cells": [
  {
   "cell_type": "markdown",
   "source": [
    "# Pauta obligatoria\n",
    "\n",
    "La entrega debe ser prolija. Sólo se consideran válidos los puntos bien explicados con interpretación personal. No puede haber dos examenes iguales, para esto correremos un parseador de texto para comparar similaridad entre examenes.\n",
    "\n",
    "El Examen termina 11 am.\n",
    "\n",
    "# Campañas Online\n",
    "\n",
    "Una empresa realiza campañas de marketing y posee el siguiente dataset.\n",
    "\n",
    "**Descargue el dataframe y resuelva:**\n",
    "\n",
    "https://drive.google.com/file/d/1aFIQO7evLxaUgM5A72ackExN0e6ZKuiS/view?usp=share_link\n",
    "\n",
    "Descripción de variables:\n",
    "-> id: id de la campaña\n",
    "-> valor_de_yen: valor de la moneda yen expresado en otra moneda\n",
    "-> plataforma : Plataforma de la campaña\n",
    "\tGoogle\n",
    "\tFacebook\tTurbo\n",
    "-> tipo_campaña : Objetivo de la cmapaña\n",
    "\tConversion\n",
    "\tBranding\n",
    "-> conv_rate : Tasa de conversion\n",
    "-> clicks : Cantidad de clicks\n",
    "-> type_of_ad : Tipo de anuncio\n",
    "-> trend : Tendencia de la campaña. Meses que fue exitosa.\n",
    "-> Cost_per_lead : Costo por lead. Es decir, por cliente que cotiza.\n",
    "-> spend : Gasto total de la campaña.\n",
    "-> exito_15 : Exito o no exito de la campaña dos semanas después.\n"
   ],
   "metadata": {
    "collapsed": false
   }
  },
  {
   "cell_type": "code",
   "execution_count": 1,
   "outputs": [],
   "source": [
    "import pandas as pd\n",
    "import numpy as np\n",
    "import seaborn as sns\n",
    "import matplotlib as plt\n",
    "import warnings\n",
    "warnings.filterwarnings('ignore')"
   ],
   "metadata": {
    "collapsed": false,
    "pycharm": {
     "name": "#%%\n"
    }
   }
  },
  {
   "cell_type": "code",
   "execution_count": 2,
   "outputs": [
    {
     "data": {
      "text/plain": "   Cost_per_lead Plataforma  clicks conv_rate exito_15  spend tipo_campaña  \\\n0           2.68     Google    2548      64.1    Exito   5000   Conversion   \n1           2.68     Google    2548      64.1    Exito   5000   Conversion   \n2           3.47     Google    2823      65.5    Exito   5000   Conversion   \n3           3.40     Google    2337      None    Exito   5500   Conversion   \n4           3.40     Google    2824      66.4    Exito   5500   Conversion   \n\n  trend type_of_ad  id  valor_de_yen  \n0  four     Google   0            19  \n1  four     Google   1            11  \n2   six   Facebook   2            11  \n3  four  Instagram   3            11  \n4  five  Instagram   4            14  ",
      "text/html": "<div>\n<style scoped>\n    .dataframe tbody tr th:only-of-type {\n        vertical-align: middle;\n    }\n\n    .dataframe tbody tr th {\n        vertical-align: top;\n    }\n\n    .dataframe thead th {\n        text-align: right;\n    }\n</style>\n<table border=\"1\" class=\"dataframe\">\n  <thead>\n    <tr style=\"text-align: right;\">\n      <th></th>\n      <th>Cost_per_lead</th>\n      <th>Plataforma</th>\n      <th>clicks</th>\n      <th>conv_rate</th>\n      <th>exito_15</th>\n      <th>spend</th>\n      <th>tipo_campaña</th>\n      <th>trend</th>\n      <th>type_of_ad</th>\n      <th>id</th>\n      <th>valor_de_yen</th>\n    </tr>\n  </thead>\n  <tbody>\n    <tr>\n      <th>0</th>\n      <td>2.68</td>\n      <td>Google</td>\n      <td>2548</td>\n      <td>64.1</td>\n      <td>Exito</td>\n      <td>5000</td>\n      <td>Conversion</td>\n      <td>four</td>\n      <td>Google</td>\n      <td>0</td>\n      <td>19</td>\n    </tr>\n    <tr>\n      <th>1</th>\n      <td>2.68</td>\n      <td>Google</td>\n      <td>2548</td>\n      <td>64.1</td>\n      <td>Exito</td>\n      <td>5000</td>\n      <td>Conversion</td>\n      <td>four</td>\n      <td>Google</td>\n      <td>1</td>\n      <td>11</td>\n    </tr>\n    <tr>\n      <th>2</th>\n      <td>3.47</td>\n      <td>Google</td>\n      <td>2823</td>\n      <td>65.5</td>\n      <td>Exito</td>\n      <td>5000</td>\n      <td>Conversion</td>\n      <td>six</td>\n      <td>Facebook</td>\n      <td>2</td>\n      <td>11</td>\n    </tr>\n    <tr>\n      <th>3</th>\n      <td>3.40</td>\n      <td>Google</td>\n      <td>2337</td>\n      <td>None</td>\n      <td>Exito</td>\n      <td>5500</td>\n      <td>Conversion</td>\n      <td>four</td>\n      <td>Instagram</td>\n      <td>3</td>\n      <td>11</td>\n    </tr>\n    <tr>\n      <th>4</th>\n      <td>3.40</td>\n      <td>Google</td>\n      <td>2824</td>\n      <td>66.4</td>\n      <td>Exito</td>\n      <td>5500</td>\n      <td>Conversion</td>\n      <td>five</td>\n      <td>Instagram</td>\n      <td>4</td>\n      <td>14</td>\n    </tr>\n  </tbody>\n</table>\n</div>"
     },
     "execution_count": 2,
     "metadata": {},
     "output_type": "execute_result"
    }
   ],
   "source": [
    "df= pd.read_parquet('campañas_oline.parquet', engine='pyarrow')\n",
    "df.head()"
   ],
   "metadata": {
    "collapsed": false,
    "pycharm": {
     "name": "#%%\n"
    }
   }
  },
  {
   "cell_type": "markdown",
   "source": [
    "# 1. Evaluación del problema (15pts)\n",
    "a. ¿Que tipo de modelo recomendaría?\n",
    "b. Expliqué las razones del tipo de modelo de ML\n",
    "c. Indique cuál es la variable independiente y dependiente.\n",
    "d. ¿Cómo se utilizaría la predicción? ¿Que decisión tomaría la empresa?\n",
    "e. Leyendo el nombre de las variables cuales variables te parece importante ¿Por qué?"
   ],
   "metadata": {
    "collapsed": false
   }
  },
  {
   "cell_type": "markdown",
   "source": [
    "## a. ¿Que tipo de modelo recomendaría?"
   ],
   "metadata": {
    "collapsed": false,
    "pycharm": {
     "name": "#%% md\n"
    }
   }
  },
  {
   "cell_type": "markdown",
   "source": [
    "Existe una variable binaria y categorica  llamada \"exito_15\" que dice si una campaña tuvo exito o no.Por lo tanto, creo que un modelo de regresión logística, podría tratar de predecir si una campaña tiene exito o no."
   ],
   "metadata": {
    "collapsed": false,
    "pycharm": {
     "name": "#%% md\n"
    }
   }
  },
  {
   "cell_type": "markdown",
   "source": [
    "## b. Expliqué las razones del tipo de modelo de ML"
   ],
   "metadata": {
    "collapsed": false,
    "pycharm": {
     "name": "#%% md\n"
    }
   }
  },
  {
   "cell_type": "markdown",
   "source": [
    "Un modelo de  regresión logistica se utliza cuando la variable dependiente a predecir es una variable binaría, de 1 o 0, si o NO, en este caso, exito o no exito.El modelo crea una sigmoide que tiene una forma de na curva en forma de S que puede tomar cualquier número  y asignarle a un valor entre 0 y 1. (la probabilidad de que tenga exito la campaña).El modelo de clasificación  transforma las probabilidades en clasificaciones,tomando un valor de la curva como limite y dividiendo  en \"exito \" y \"no exito\"\n"
   ],
   "metadata": {
    "collapsed": false,
    "pycharm": {
     "name": "#%% md\n"
    }
   }
  },
  {
   "cell_type": "markdown",
   "source": [
    "## c. Indique cuál es la variable independiente y dependiente."
   ],
   "metadata": {
    "collapsed": false,
    "pycharm": {
     "name": "#%% md\n"
    }
   }
  },
  {
   "cell_type": "markdown",
   "source": [
    "La variable dependiente es exito_15 y el resto son variables independientes que explican la variable dependiente, es decir, son caracteriísticas del exito de una campaña. Puede ser que no tadas sirvan para explicar la variable dependiente, esto se verá luego."
   ],
   "metadata": {
    "collapsed": false,
    "pycharm": {
     "name": "#%% md\n"
    }
   }
  },
  {
   "cell_type": "markdown",
   "source": [
    "## d. ¿Cómo se utilizaría la predicción? ¿Que decisión tomaría la empresa?"
   ],
   "metadata": {
    "collapsed": false,
    "pycharm": {
     "name": "#%% md\n"
    }
   }
  },
  {
   "cell_type": "markdown",
   "source": [
    "Segun las variables del dataset, la empresa podría utilizar el modelo para saber si el proximo proyecto de una campaña será beneficioso para la empresa o no y saber que características de una campaña se relacionan con el exito. Podemos intuir que hay  plataformas o tipos  de anuncio que  llevan mas a una campaña al exito que otros."
   ],
   "metadata": {
    "collapsed": false,
    "pycharm": {
     "name": "#%% md\n"
    }
   }
  },
  {
   "cell_type": "markdown",
   "source": [
    "# 2. Preprocesamiento (30 pts)\n",
    "a. Analizar faltantes variable a variable. Elegir métodos de imputación o tomar decisiones de dropearlos\n",
    "b. Analizar valores outliers y repetir el analisis"
   ],
   "metadata": {
    "collapsed": false
   }
  },
  {
   "cell_type": "code",
   "execution_count": 3,
   "outputs": [
    {
     "name": "stdout",
     "output_type": "stream",
     "text": [
      "El dataset tiene 0 filas duplicadas\n"
     ]
    }
   ],
   "source": [
    "print(f\"El dataset tiene {df.duplicated().sum()} filas duplicadas\")"
   ],
   "metadata": {
    "collapsed": false,
    "pycharm": {
     "name": "#%%\n"
    }
   }
  },
  {
   "cell_type": "code",
   "execution_count": 4,
   "outputs": [
    {
     "name": "stdout",
     "output_type": "stream",
     "text": [
      "El dataset cuenta con 820 resgistros y 11 variables\n"
     ]
    }
   ],
   "source": [
    "dimensiones = df.shape\n",
    "print(f'El dataset cuenta con {dimensiones[0]} resgistros y {dimensiones[1]} variables')"
   ],
   "metadata": {
    "collapsed": false,
    "pycharm": {
     "name": "#%%\n"
    }
   }
  },
  {
   "cell_type": "markdown",
   "source": [
    "## a. Analizar faltantes variable a variable. Elegir métodos de imputación o tomar decisiones de dropearlos"
   ],
   "metadata": {
    "collapsed": false,
    "pycharm": {
     "name": "#%% md\n"
    }
   }
  },
  {
   "cell_type": "code",
   "execution_count": 5,
   "outputs": [
    {
     "data": {
      "text/plain": "              Null Count  Null Percentage DataTypes\ntipo_campaña          40         4.878049    object\nconv_rate              8         0.975610    object",
      "text/html": "<div>\n<style scoped>\n    .dataframe tbody tr th:only-of-type {\n        vertical-align: middle;\n    }\n\n    .dataframe tbody tr th {\n        vertical-align: top;\n    }\n\n    .dataframe thead th {\n        text-align: right;\n    }\n</style>\n<table border=\"1\" class=\"dataframe\">\n  <thead>\n    <tr style=\"text-align: right;\">\n      <th></th>\n      <th>Null Count</th>\n      <th>Null Percentage</th>\n      <th>DataTypes</th>\n    </tr>\n  </thead>\n  <tbody>\n    <tr>\n      <th>tipo_campaña</th>\n      <td>40</td>\n      <td>4.878049</td>\n      <td>object</td>\n    </tr>\n    <tr>\n      <th>conv_rate</th>\n      <td>8</td>\n      <td>0.975610</td>\n      <td>object</td>\n    </tr>\n  </tbody>\n</table>\n</div>"
     },
     "execution_count": 5,
     "metadata": {},
     "output_type": "execute_result"
    }
   ],
   "source": [
    "def percentageOfnull(df):\n",
    "    nan_count = df.isna().sum().sort_values(ascending=False)\n",
    "    nan_percentage = ((df.isna().sum()/df.isna().count())*100).sort_values(ascending=False)\n",
    "    train_test_dtype = df.dtypes\n",
    "    df_info = pd.concat([nan_count,nan_percentage,train_test_dtype],axis=1,keys=['Null Count','Null Percentage','DataTypes'])\n",
    "    return df_info[df_info['Null Count']>0]\n",
    "percentageOfnull(df)"
   ],
   "metadata": {
    "collapsed": false
   }
  },
  {
   "cell_type": "code",
   "execution_count": 6,
   "outputs": [
    {
     "data": {
      "text/plain": "     Cost_per_lead Plataforma    clicks conv_rate  exito_15  spend  \\\n14            3.19     Google  10000000      66.9     Exito   4250   \n18            3.03     Google      1488      60.3  No Exito   5100   \n54            3.15     Google      1950      64.2  No Exito   5000   \n68            3.64   Facebook      3750      70.3     Exito   4350   \n106           3.27     Google      3139      67.9     Exito   5200   \n113           2.19     Google      3285      68.4     Exito   5000   \n139           2.64     Google      2120      63.6  No Exito   4400   \n165           3.08     Google      2265        64  No Exito   6600   \n186           3.40     Google      2275      65.5  No Exito   5250   \n196           3.15     Google      2935      67.2     Exito   5400   \n215           3.64   Facebook      3782      70.3     Exito   4418   \n230           3.27     Google      3202      67.9     Exito   5276   \n252           3.15     Google      2972      67.2     Exito   5416   \n275           3.19     Google      3146      66.9     Exito   4327   \n284           2.64     Google      2128      63.6  No Exito   4441   \n307           3.08     Google      2350        64  No Exito   6637   \n322           3.15     Google      2029      64.2  No Exito   5003   \n373           3.03     Google      1544      60.3  No Exito   5160   \n379           2.19     Google      3321      68.4     Exito   5032   \n383           3.40     Google      2347      65.5  No Exito   5340   \n458           3.64   Facebook      3843      70.3     Exito   4495   \n466           2.64     Google      2168      63.6  No Exito   4476   \n470           3.19     Google      3087      66.9     Exito   4305   \n472           2.19     Google      3358      68.4     Exito   5014   \n474           3.15     Google      2036      64.2  No Exito   5027   \n495           3.03     Google      1519      60.3  No Exito   5103   \n503           3.19     Google      3222      66.9     Exito   4328   \n561           3.27     Google      3150      67.9     Exito   5237   \n567           3.27     Google      3287      67.9     Exito   5336   \n592           3.15     Google      2975      67.2     Exito   5477   \n594           3.40     Google      2353      65.5  No Exito   5250   \n599           3.03     Google      1621      60.3  No Exito   5236   \n610           3.08     Google      2398        64  No Exito   6715   \n636           3.40     Google      2352      65.5  No Exito   5425   \n654           3.64   Facebook      3791      70.3     Exito   4433   \n679           2.64     Google      2220      63.6  No Exito   4515   \n680           2.19     Google      3364      68.4     Exito   5055   \n729           3.08     Google      2346        64  No Exito   6608   \n763           3.15     Google      2007      64.2  No Exito   5008   \n816           3.15     Google      3002      67.2     Exito   5439   \n\n    tipo_campaña  trend type_of_ad   id  valor_de_yen  \n14          None    six  Instagram   14            14  \n18          None  three    Youtube   18            12  \n54          None   four  Instagram   54            18  \n68          None   five  Instagram   68            10  \n106         None    six   Facebook  106            13  \n113         None   four    Youtube  113            19  \n139         None   four   Linkedin  139            10  \n165         None   four     Google  165            11  \n186         None   four  Instagram  186            19  \n196         None   four  Instagram  196            19  \n215         None   five  Instagram  215            12  \n230         None    six   Facebook  230            12  \n252         None   four  Instagram  252            10  \n275         None    six  Instagram  275            10  \n284         None   four   Linkedin  284            15  \n307         None   four     Google  307            18  \n322         None   four  Instagram  322            13  \n373         None  three    Youtube  373            11  \n379         None   four    Youtube  379            13  \n383         None   four  Instagram  383            16  \n458         None   five  Instagram  458            11  \n466         None   four   Linkedin  466            13  \n470         None    six  Instagram  470            19  \n472         None   four    Youtube  472            12  \n474         None   four  Instagram  474            16  \n495         None  three    Youtube  495            17  \n503         None    six  Instagram  503            10  \n561         None    six   Facebook  561            11  \n567         None    six   Facebook  567            14  \n592         None   four  Instagram  592            18  \n594         None   four  Instagram  594            15  \n599         None  three    Youtube  599            16  \n610         None   four     Google  610            13  \n636         None   four  Instagram  636            17  \n654         None   five  Instagram  654            11  \n679         None   four   Linkedin  679            12  \n680         None   four    Youtube  680            14  \n729         None   four     Google  729            16  \n763         None   four  Instagram  763            16  \n816         None   four  Instagram  816            10  ",
      "text/html": "<div>\n<style scoped>\n    .dataframe tbody tr th:only-of-type {\n        vertical-align: middle;\n    }\n\n    .dataframe tbody tr th {\n        vertical-align: top;\n    }\n\n    .dataframe thead th {\n        text-align: right;\n    }\n</style>\n<table border=\"1\" class=\"dataframe\">\n  <thead>\n    <tr style=\"text-align: right;\">\n      <th></th>\n      <th>Cost_per_lead</th>\n      <th>Plataforma</th>\n      <th>clicks</th>\n      <th>conv_rate</th>\n      <th>exito_15</th>\n      <th>spend</th>\n      <th>tipo_campaña</th>\n      <th>trend</th>\n      <th>type_of_ad</th>\n      <th>id</th>\n      <th>valor_de_yen</th>\n    </tr>\n  </thead>\n  <tbody>\n    <tr>\n      <th>14</th>\n      <td>3.19</td>\n      <td>Google</td>\n      <td>10000000</td>\n      <td>66.9</td>\n      <td>Exito</td>\n      <td>4250</td>\n      <td>None</td>\n      <td>six</td>\n      <td>Instagram</td>\n      <td>14</td>\n      <td>14</td>\n    </tr>\n    <tr>\n      <th>18</th>\n      <td>3.03</td>\n      <td>Google</td>\n      <td>1488</td>\n      <td>60.3</td>\n      <td>No Exito</td>\n      <td>5100</td>\n      <td>None</td>\n      <td>three</td>\n      <td>Youtube</td>\n      <td>18</td>\n      <td>12</td>\n    </tr>\n    <tr>\n      <th>54</th>\n      <td>3.15</td>\n      <td>Google</td>\n      <td>1950</td>\n      <td>64.2</td>\n      <td>No Exito</td>\n      <td>5000</td>\n      <td>None</td>\n      <td>four</td>\n      <td>Instagram</td>\n      <td>54</td>\n      <td>18</td>\n    </tr>\n    <tr>\n      <th>68</th>\n      <td>3.64</td>\n      <td>Facebook</td>\n      <td>3750</td>\n      <td>70.3</td>\n      <td>Exito</td>\n      <td>4350</td>\n      <td>None</td>\n      <td>five</td>\n      <td>Instagram</td>\n      <td>68</td>\n      <td>10</td>\n    </tr>\n    <tr>\n      <th>106</th>\n      <td>3.27</td>\n      <td>Google</td>\n      <td>3139</td>\n      <td>67.9</td>\n      <td>Exito</td>\n      <td>5200</td>\n      <td>None</td>\n      <td>six</td>\n      <td>Facebook</td>\n      <td>106</td>\n      <td>13</td>\n    </tr>\n    <tr>\n      <th>113</th>\n      <td>2.19</td>\n      <td>Google</td>\n      <td>3285</td>\n      <td>68.4</td>\n      <td>Exito</td>\n      <td>5000</td>\n      <td>None</td>\n      <td>four</td>\n      <td>Youtube</td>\n      <td>113</td>\n      <td>19</td>\n    </tr>\n    <tr>\n      <th>139</th>\n      <td>2.64</td>\n      <td>Google</td>\n      <td>2120</td>\n      <td>63.6</td>\n      <td>No Exito</td>\n      <td>4400</td>\n      <td>None</td>\n      <td>four</td>\n      <td>Linkedin</td>\n      <td>139</td>\n      <td>10</td>\n    </tr>\n    <tr>\n      <th>165</th>\n      <td>3.08</td>\n      <td>Google</td>\n      <td>2265</td>\n      <td>64</td>\n      <td>No Exito</td>\n      <td>6600</td>\n      <td>None</td>\n      <td>four</td>\n      <td>Google</td>\n      <td>165</td>\n      <td>11</td>\n    </tr>\n    <tr>\n      <th>186</th>\n      <td>3.40</td>\n      <td>Google</td>\n      <td>2275</td>\n      <td>65.5</td>\n      <td>No Exito</td>\n      <td>5250</td>\n      <td>None</td>\n      <td>four</td>\n      <td>Instagram</td>\n      <td>186</td>\n      <td>19</td>\n    </tr>\n    <tr>\n      <th>196</th>\n      <td>3.15</td>\n      <td>Google</td>\n      <td>2935</td>\n      <td>67.2</td>\n      <td>Exito</td>\n      <td>5400</td>\n      <td>None</td>\n      <td>four</td>\n      <td>Instagram</td>\n      <td>196</td>\n      <td>19</td>\n    </tr>\n    <tr>\n      <th>215</th>\n      <td>3.64</td>\n      <td>Facebook</td>\n      <td>3782</td>\n      <td>70.3</td>\n      <td>Exito</td>\n      <td>4418</td>\n      <td>None</td>\n      <td>five</td>\n      <td>Instagram</td>\n      <td>215</td>\n      <td>12</td>\n    </tr>\n    <tr>\n      <th>230</th>\n      <td>3.27</td>\n      <td>Google</td>\n      <td>3202</td>\n      <td>67.9</td>\n      <td>Exito</td>\n      <td>5276</td>\n      <td>None</td>\n      <td>six</td>\n      <td>Facebook</td>\n      <td>230</td>\n      <td>12</td>\n    </tr>\n    <tr>\n      <th>252</th>\n      <td>3.15</td>\n      <td>Google</td>\n      <td>2972</td>\n      <td>67.2</td>\n      <td>Exito</td>\n      <td>5416</td>\n      <td>None</td>\n      <td>four</td>\n      <td>Instagram</td>\n      <td>252</td>\n      <td>10</td>\n    </tr>\n    <tr>\n      <th>275</th>\n      <td>3.19</td>\n      <td>Google</td>\n      <td>3146</td>\n      <td>66.9</td>\n      <td>Exito</td>\n      <td>4327</td>\n      <td>None</td>\n      <td>six</td>\n      <td>Instagram</td>\n      <td>275</td>\n      <td>10</td>\n    </tr>\n    <tr>\n      <th>284</th>\n      <td>2.64</td>\n      <td>Google</td>\n      <td>2128</td>\n      <td>63.6</td>\n      <td>No Exito</td>\n      <td>4441</td>\n      <td>None</td>\n      <td>four</td>\n      <td>Linkedin</td>\n      <td>284</td>\n      <td>15</td>\n    </tr>\n    <tr>\n      <th>307</th>\n      <td>3.08</td>\n      <td>Google</td>\n      <td>2350</td>\n      <td>64</td>\n      <td>No Exito</td>\n      <td>6637</td>\n      <td>None</td>\n      <td>four</td>\n      <td>Google</td>\n      <td>307</td>\n      <td>18</td>\n    </tr>\n    <tr>\n      <th>322</th>\n      <td>3.15</td>\n      <td>Google</td>\n      <td>2029</td>\n      <td>64.2</td>\n      <td>No Exito</td>\n      <td>5003</td>\n      <td>None</td>\n      <td>four</td>\n      <td>Instagram</td>\n      <td>322</td>\n      <td>13</td>\n    </tr>\n    <tr>\n      <th>373</th>\n      <td>3.03</td>\n      <td>Google</td>\n      <td>1544</td>\n      <td>60.3</td>\n      <td>No Exito</td>\n      <td>5160</td>\n      <td>None</td>\n      <td>three</td>\n      <td>Youtube</td>\n      <td>373</td>\n      <td>11</td>\n    </tr>\n    <tr>\n      <th>379</th>\n      <td>2.19</td>\n      <td>Google</td>\n      <td>3321</td>\n      <td>68.4</td>\n      <td>Exito</td>\n      <td>5032</td>\n      <td>None</td>\n      <td>four</td>\n      <td>Youtube</td>\n      <td>379</td>\n      <td>13</td>\n    </tr>\n    <tr>\n      <th>383</th>\n      <td>3.40</td>\n      <td>Google</td>\n      <td>2347</td>\n      <td>65.5</td>\n      <td>No Exito</td>\n      <td>5340</td>\n      <td>None</td>\n      <td>four</td>\n      <td>Instagram</td>\n      <td>383</td>\n      <td>16</td>\n    </tr>\n    <tr>\n      <th>458</th>\n      <td>3.64</td>\n      <td>Facebook</td>\n      <td>3843</td>\n      <td>70.3</td>\n      <td>Exito</td>\n      <td>4495</td>\n      <td>None</td>\n      <td>five</td>\n      <td>Instagram</td>\n      <td>458</td>\n      <td>11</td>\n    </tr>\n    <tr>\n      <th>466</th>\n      <td>2.64</td>\n      <td>Google</td>\n      <td>2168</td>\n      <td>63.6</td>\n      <td>No Exito</td>\n      <td>4476</td>\n      <td>None</td>\n      <td>four</td>\n      <td>Linkedin</td>\n      <td>466</td>\n      <td>13</td>\n    </tr>\n    <tr>\n      <th>470</th>\n      <td>3.19</td>\n      <td>Google</td>\n      <td>3087</td>\n      <td>66.9</td>\n      <td>Exito</td>\n      <td>4305</td>\n      <td>None</td>\n      <td>six</td>\n      <td>Instagram</td>\n      <td>470</td>\n      <td>19</td>\n    </tr>\n    <tr>\n      <th>472</th>\n      <td>2.19</td>\n      <td>Google</td>\n      <td>3358</td>\n      <td>68.4</td>\n      <td>Exito</td>\n      <td>5014</td>\n      <td>None</td>\n      <td>four</td>\n      <td>Youtube</td>\n      <td>472</td>\n      <td>12</td>\n    </tr>\n    <tr>\n      <th>474</th>\n      <td>3.15</td>\n      <td>Google</td>\n      <td>2036</td>\n      <td>64.2</td>\n      <td>No Exito</td>\n      <td>5027</td>\n      <td>None</td>\n      <td>four</td>\n      <td>Instagram</td>\n      <td>474</td>\n      <td>16</td>\n    </tr>\n    <tr>\n      <th>495</th>\n      <td>3.03</td>\n      <td>Google</td>\n      <td>1519</td>\n      <td>60.3</td>\n      <td>No Exito</td>\n      <td>5103</td>\n      <td>None</td>\n      <td>three</td>\n      <td>Youtube</td>\n      <td>495</td>\n      <td>17</td>\n    </tr>\n    <tr>\n      <th>503</th>\n      <td>3.19</td>\n      <td>Google</td>\n      <td>3222</td>\n      <td>66.9</td>\n      <td>Exito</td>\n      <td>4328</td>\n      <td>None</td>\n      <td>six</td>\n      <td>Instagram</td>\n      <td>503</td>\n      <td>10</td>\n    </tr>\n    <tr>\n      <th>561</th>\n      <td>3.27</td>\n      <td>Google</td>\n      <td>3150</td>\n      <td>67.9</td>\n      <td>Exito</td>\n      <td>5237</td>\n      <td>None</td>\n      <td>six</td>\n      <td>Facebook</td>\n      <td>561</td>\n      <td>11</td>\n    </tr>\n    <tr>\n      <th>567</th>\n      <td>3.27</td>\n      <td>Google</td>\n      <td>3287</td>\n      <td>67.9</td>\n      <td>Exito</td>\n      <td>5336</td>\n      <td>None</td>\n      <td>six</td>\n      <td>Facebook</td>\n      <td>567</td>\n      <td>14</td>\n    </tr>\n    <tr>\n      <th>592</th>\n      <td>3.15</td>\n      <td>Google</td>\n      <td>2975</td>\n      <td>67.2</td>\n      <td>Exito</td>\n      <td>5477</td>\n      <td>None</td>\n      <td>four</td>\n      <td>Instagram</td>\n      <td>592</td>\n      <td>18</td>\n    </tr>\n    <tr>\n      <th>594</th>\n      <td>3.40</td>\n      <td>Google</td>\n      <td>2353</td>\n      <td>65.5</td>\n      <td>No Exito</td>\n      <td>5250</td>\n      <td>None</td>\n      <td>four</td>\n      <td>Instagram</td>\n      <td>594</td>\n      <td>15</td>\n    </tr>\n    <tr>\n      <th>599</th>\n      <td>3.03</td>\n      <td>Google</td>\n      <td>1621</td>\n      <td>60.3</td>\n      <td>No Exito</td>\n      <td>5236</td>\n      <td>None</td>\n      <td>three</td>\n      <td>Youtube</td>\n      <td>599</td>\n      <td>16</td>\n    </tr>\n    <tr>\n      <th>610</th>\n      <td>3.08</td>\n      <td>Google</td>\n      <td>2398</td>\n      <td>64</td>\n      <td>No Exito</td>\n      <td>6715</td>\n      <td>None</td>\n      <td>four</td>\n      <td>Google</td>\n      <td>610</td>\n      <td>13</td>\n    </tr>\n    <tr>\n      <th>636</th>\n      <td>3.40</td>\n      <td>Google</td>\n      <td>2352</td>\n      <td>65.5</td>\n      <td>No Exito</td>\n      <td>5425</td>\n      <td>None</td>\n      <td>four</td>\n      <td>Instagram</td>\n      <td>636</td>\n      <td>17</td>\n    </tr>\n    <tr>\n      <th>654</th>\n      <td>3.64</td>\n      <td>Facebook</td>\n      <td>3791</td>\n      <td>70.3</td>\n      <td>Exito</td>\n      <td>4433</td>\n      <td>None</td>\n      <td>five</td>\n      <td>Instagram</td>\n      <td>654</td>\n      <td>11</td>\n    </tr>\n    <tr>\n      <th>679</th>\n      <td>2.64</td>\n      <td>Google</td>\n      <td>2220</td>\n      <td>63.6</td>\n      <td>No Exito</td>\n      <td>4515</td>\n      <td>None</td>\n      <td>four</td>\n      <td>Linkedin</td>\n      <td>679</td>\n      <td>12</td>\n    </tr>\n    <tr>\n      <th>680</th>\n      <td>2.19</td>\n      <td>Google</td>\n      <td>3364</td>\n      <td>68.4</td>\n      <td>Exito</td>\n      <td>5055</td>\n      <td>None</td>\n      <td>four</td>\n      <td>Youtube</td>\n      <td>680</td>\n      <td>14</td>\n    </tr>\n    <tr>\n      <th>729</th>\n      <td>3.08</td>\n      <td>Google</td>\n      <td>2346</td>\n      <td>64</td>\n      <td>No Exito</td>\n      <td>6608</td>\n      <td>None</td>\n      <td>four</td>\n      <td>Google</td>\n      <td>729</td>\n      <td>16</td>\n    </tr>\n    <tr>\n      <th>763</th>\n      <td>3.15</td>\n      <td>Google</td>\n      <td>2007</td>\n      <td>64.2</td>\n      <td>No Exito</td>\n      <td>5008</td>\n      <td>None</td>\n      <td>four</td>\n      <td>Instagram</td>\n      <td>763</td>\n      <td>16</td>\n    </tr>\n    <tr>\n      <th>816</th>\n      <td>3.15</td>\n      <td>Google</td>\n      <td>3002</td>\n      <td>67.2</td>\n      <td>Exito</td>\n      <td>5439</td>\n      <td>None</td>\n      <td>four</td>\n      <td>Instagram</td>\n      <td>816</td>\n      <td>10</td>\n    </tr>\n  </tbody>\n</table>\n</div>"
     },
     "execution_count": 6,
     "metadata": {},
     "output_type": "execute_result"
    }
   ],
   "source": [
    "df[df.tipo_campaña.isna()]"
   ],
   "metadata": {
    "collapsed": false,
    "pycharm": {
     "name": "#%%\n"
    }
   }
  },
  {
   "cell_type": "markdown",
   "source": [
    "Hay solo dos variables con datos nulos.Ambas representan un porcentaje bajo del dataset. Veremos cada una por separado"
   ],
   "metadata": {
    "collapsed": false,
    "pycharm": {
     "name": "#%% md\n"
    }
   }
  },
  {
   "cell_type": "code",
   "execution_count": 7,
   "outputs": [
    {
     "data": {
      "text/plain": "Conversion    768\nBranding       12\nName: tipo_campaña, dtype: int64"
     },
     "execution_count": 7,
     "metadata": {},
     "output_type": "execute_result"
    }
   ],
   "source": [
    "df.tipo_campaña.value_counts()"
   ],
   "metadata": {
    "collapsed": false,
    "pycharm": {
     "name": "#%%\n"
    }
   }
  },
  {
   "cell_type": "markdown",
   "source": [
    "Debido a que la mayoría de los valores son de conversión. Podríamos imputar los 40 nulos por  conversión"
   ],
   "metadata": {
    "collapsed": false,
    "pycharm": {
     "name": "#%% md\n"
    }
   }
  },
  {
   "cell_type": "code",
   "execution_count": 8,
   "outputs": [],
   "source": [
    "from sklearn.impute import SimpleImputer\n",
    "tipo_imp = SimpleImputer(strategy=\"most_frequent\")\n",
    "tipo_imp.fit(df[['tipo_campaña']])\n",
    "df['tipo_campaña'] = tipo_imp.transform(df[['tipo_campaña']])"
   ],
   "metadata": {
    "collapsed": false,
    "pycharm": {
     "name": "#%%\n"
    }
   }
  },
  {
   "cell_type": "code",
   "execution_count": 9,
   "outputs": [
    {
     "data": {
      "text/plain": "     Cost_per_lead Plataforma  clicks conv_rate exito_15  spend tipo_campaña  \\\n3              3.4     Google    2337      None    Exito   5500   Conversion   \n7              3.4     Google    2954      None    Exito   5500   Conversion   \n236            3.4     Google    2400      None    Exito   5512   Conversion   \n401            3.4     Google    3005      None    Exito   5510   Conversion   \n455            3.4     Google    2386      None    Exito   5573   Conversion   \n461            3.4     Google    3034      None    Exito   5544   Conversion   \n637            3.4     Google    3037      None    Exito   5551   Conversion   \n804            3.4     Google    2433      None    Exito   5597   Conversion   \n\n    trend type_of_ad   id  valor_de_yen  \n3    four  Instagram    3            11  \n7    five  Instagram    7            10  \n236  four  Instagram  236            12  \n401  five  Instagram  401            12  \n455  four  Instagram  455            16  \n461  five  Instagram  461            10  \n637  five  Instagram  637            18  \n804  four  Instagram  804            13  ",
      "text/html": "<div>\n<style scoped>\n    .dataframe tbody tr th:only-of-type {\n        vertical-align: middle;\n    }\n\n    .dataframe tbody tr th {\n        vertical-align: top;\n    }\n\n    .dataframe thead th {\n        text-align: right;\n    }\n</style>\n<table border=\"1\" class=\"dataframe\">\n  <thead>\n    <tr style=\"text-align: right;\">\n      <th></th>\n      <th>Cost_per_lead</th>\n      <th>Plataforma</th>\n      <th>clicks</th>\n      <th>conv_rate</th>\n      <th>exito_15</th>\n      <th>spend</th>\n      <th>tipo_campaña</th>\n      <th>trend</th>\n      <th>type_of_ad</th>\n      <th>id</th>\n      <th>valor_de_yen</th>\n    </tr>\n  </thead>\n  <tbody>\n    <tr>\n      <th>3</th>\n      <td>3.4</td>\n      <td>Google</td>\n      <td>2337</td>\n      <td>None</td>\n      <td>Exito</td>\n      <td>5500</td>\n      <td>Conversion</td>\n      <td>four</td>\n      <td>Instagram</td>\n      <td>3</td>\n      <td>11</td>\n    </tr>\n    <tr>\n      <th>7</th>\n      <td>3.4</td>\n      <td>Google</td>\n      <td>2954</td>\n      <td>None</td>\n      <td>Exito</td>\n      <td>5500</td>\n      <td>Conversion</td>\n      <td>five</td>\n      <td>Instagram</td>\n      <td>7</td>\n      <td>10</td>\n    </tr>\n    <tr>\n      <th>236</th>\n      <td>3.4</td>\n      <td>Google</td>\n      <td>2400</td>\n      <td>None</td>\n      <td>Exito</td>\n      <td>5512</td>\n      <td>Conversion</td>\n      <td>four</td>\n      <td>Instagram</td>\n      <td>236</td>\n      <td>12</td>\n    </tr>\n    <tr>\n      <th>401</th>\n      <td>3.4</td>\n      <td>Google</td>\n      <td>3005</td>\n      <td>None</td>\n      <td>Exito</td>\n      <td>5510</td>\n      <td>Conversion</td>\n      <td>five</td>\n      <td>Instagram</td>\n      <td>401</td>\n      <td>12</td>\n    </tr>\n    <tr>\n      <th>455</th>\n      <td>3.4</td>\n      <td>Google</td>\n      <td>2386</td>\n      <td>None</td>\n      <td>Exito</td>\n      <td>5573</td>\n      <td>Conversion</td>\n      <td>four</td>\n      <td>Instagram</td>\n      <td>455</td>\n      <td>16</td>\n    </tr>\n    <tr>\n      <th>461</th>\n      <td>3.4</td>\n      <td>Google</td>\n      <td>3034</td>\n      <td>None</td>\n      <td>Exito</td>\n      <td>5544</td>\n      <td>Conversion</td>\n      <td>five</td>\n      <td>Instagram</td>\n      <td>461</td>\n      <td>10</td>\n    </tr>\n    <tr>\n      <th>637</th>\n      <td>3.4</td>\n      <td>Google</td>\n      <td>3037</td>\n      <td>None</td>\n      <td>Exito</td>\n      <td>5551</td>\n      <td>Conversion</td>\n      <td>five</td>\n      <td>Instagram</td>\n      <td>637</td>\n      <td>18</td>\n    </tr>\n    <tr>\n      <th>804</th>\n      <td>3.4</td>\n      <td>Google</td>\n      <td>2433</td>\n      <td>None</td>\n      <td>Exito</td>\n      <td>5597</td>\n      <td>Conversion</td>\n      <td>four</td>\n      <td>Instagram</td>\n      <td>804</td>\n      <td>13</td>\n    </tr>\n  </tbody>\n</table>\n</div>"
     },
     "execution_count": 9,
     "metadata": {},
     "output_type": "execute_result"
    }
   ],
   "source": [
    "df[df.conv_rate.isna()]"
   ],
   "metadata": {
    "collapsed": false,
    "pycharm": {
     "name": "#%%\n"
    }
   }
  },
  {
   "cell_type": "code",
   "execution_count": 10,
   "outputs": [
    {
     "data": {
      "text/plain": "63.8    96\n66.5    92\n65.4    60\n63.6    40\n64.4    40\n68.4    40\n64      36\n65.5    32\n65.2    28\n64.2    24\n65.6    24\n67.2    24\n66.3    24\n66.9    20\n67.9    20\n*       16\n64.8    16\n65.7    16\n68.9    16\n70.3    12\n65      12\n63.9    12\n71.7    12\n67.7     8\n68.3     8\n64.1     8\n64.6     8\n71.4     8\n72.3     4\n66.4     4\n70.9     4\n60.3     4\n63.4     4\n66.6     4\n66.1     4\n70.5     4\n66       4\n61.8     4\n69.6     4\n70.6     4\n68       4\n72       4\n68.8     4\nName: conv_rate, dtype: int64"
     },
     "execution_count": 10,
     "metadata": {},
     "output_type": "execute_result"
    }
   ],
   "source": [
    "df.conv_rate.value_counts()"
   ],
   "metadata": {
    "collapsed": false,
    "pycharm": {
     "name": "#%%\n"
    }
   }
  },
  {
   "cell_type": "markdown",
   "source": [
    "El tipo de dato de  conv rate es object cuando debería ser int, eso es porque existe un valor \"*\" que es incorecto.\n",
    "Vamos a reemplazar el * por nulos"
   ],
   "metadata": {
    "collapsed": false,
    "pycharm": {
     "name": "#%% md\n"
    }
   }
  },
  {
   "cell_type": "code",
   "execution_count": 11,
   "outputs": [],
   "source": [
    "df.conv_rate.replace('*',np.nan, inplace=True)"
   ],
   "metadata": {
    "collapsed": false,
    "pycharm": {
     "name": "#%%\n"
    }
   }
  },
  {
   "cell_type": "code",
   "execution_count": 12,
   "outputs": [
    {
     "data": {
      "text/plain": "24"
     },
     "execution_count": 12,
     "metadata": {},
     "output_type": "execute_result"
    }
   ],
   "source": [
    "df.conv_rate.isnull().sum()"
   ],
   "metadata": {
    "collapsed": false,
    "pycharm": {
     "name": "#%%\n"
    }
   }
  },
  {
   "cell_type": "code",
   "execution_count": 13,
   "outputs": [
    {
     "data": {
      "text/plain": "63.8    96\n66.5    92\n65.4    60\n68.4    40\n63.6    40\n64.4    40\n64      36\n65.5    32\n65.2    28\n64.2    24\n65.6    24\n67.2    24\n66.3    24\n66.9    20\n67.9    20\n64.8    16\n68.9    16\n65.7    16\n65      12\n63.9    12\n70.3    12\n71.7    12\n68.3     8\n67.7     8\n64.1     8\n64.6     8\n71.4     8\n72.3     4\n66.4     4\n70.9     4\n60.3     4\n63.4     4\n66.6     4\n66.1     4\n70.5     4\n66       4\n61.8     4\n69.6     4\n70.6     4\n68       4\n72       4\n68.8     4\nName: conv_rate, dtype: int64"
     },
     "execution_count": 13,
     "metadata": {},
     "output_type": "execute_result"
    }
   ],
   "source": [
    "df.conv_rate.value_counts()"
   ],
   "metadata": {
    "collapsed": false,
    "pycharm": {
     "name": "#%%\n"
    }
   }
  },
  {
   "cell_type": "markdown",
   "source": [
    "Al ser solo 24 datos, y los valores estan en un rango entre 60 y 70 aproximadamente, voy a imputar los nulos por la mediana.\n"
   ],
   "metadata": {
    "collapsed": false,
    "pycharm": {
     "name": "#%% md\n"
    }
   }
  },
  {
   "cell_type": "code",
   "source": [
    "from sklearn.impute import SimpleImputer\n",
    "rate_imp = SimpleImputer(strategy=\"median\")\n",
    "rate_imp.fit(df[['conv_rate']])\n",
    "df['conv_rate'] = rate_imp.transform(df[['conv_rate']])"
   ],
   "metadata": {
    "collapsed": false,
    "pycharm": {
     "name": "#%%\n"
    }
   },
   "execution_count": 14,
   "outputs": []
  },
  {
   "cell_type": "markdown",
   "source": [
    "## b-Analizar valores outliers y repetir el analisis"
   ],
   "metadata": {
    "collapsed": false,
    "pycharm": {
     "name": "#%% md\n"
    }
   }
  },
  {
   "cell_type": "markdown",
   "source": [
    "primero veremos los tipos de datps de las variables\n"
   ],
   "metadata": {
    "collapsed": false,
    "pycharm": {
     "name": "#%% md\n"
    }
   }
  },
  {
   "cell_type": "code",
   "execution_count": 15,
   "outputs": [
    {
     "data": {
      "text/plain": "Cost_per_lead    float64\nPlataforma        object\nclicks             int64\nconv_rate        float64\nexito_15          object\nspend              int64\ntipo_campaña      object\ntrend             object\ntype_of_ad        object\nid                 int64\nvalor_de_yen       int64\ndtype: object"
     },
     "execution_count": 15,
     "metadata": {},
     "output_type": "execute_result"
    }
   ],
   "source": [
    "df.dtypes"
   ],
   "metadata": {
    "collapsed": false,
    "pycharm": {
     "name": "#%%\n"
    }
   }
  },
  {
   "cell_type": "code",
   "execution_count": 16,
   "outputs": [],
   "source": [
    "df.id=df.id.astype(object)"
   ],
   "metadata": {
    "collapsed": false,
    "pycharm": {
     "name": "#%%\n"
    }
   }
  },
  {
   "cell_type": "markdown",
   "source": [
    "Trend debería ser fecha ya que sn los meses en que la campaña fue exitosa"
   ],
   "metadata": {
    "collapsed": false,
    "pycharm": {
     "name": "#%% md\n"
    }
   }
  },
  {
   "cell_type": "code",
   "execution_count": 17,
   "outputs": [
    {
     "data": {
      "text/plain": "four      636\nsix        96\nfive       44\neight      20\ntwo        16\nthree       4\ntwelve      4\nName: trend, dtype: int64"
     },
     "execution_count": 17,
     "metadata": {},
     "output_type": "execute_result"
    }
   ],
   "source": [
    "df.trend.value_counts()"
   ],
   "metadata": {
    "collapsed": false,
    "pycharm": {
     "name": "#%%\n"
    }
   }
  },
  {
   "cell_type": "code",
   "execution_count": 18,
   "outputs": [],
   "source": [
    "df['trend']=df['trend'].apply(lambda x: 2 if x =='two'\n",
    "              else 3 if x ==\"three\"\n",
    "              else 4 if x == 'four'\n",
    "              else 5 if x == 'five'\n",
    "              else 6 if x == 'six'\n",
    "              else 8 if x == 'eight'\n",
    "              else 12 if x == 'twelve'\n",
    "              else x)"
   ],
   "metadata": {
    "collapsed": false,
    "pycharm": {
     "name": "#%%\n"
    }
   }
  },
  {
   "cell_type": "code",
   "execution_count": 19,
   "outputs": [
    {
     "data": {
      "text/plain": "     Cost_per_lead Plataforma  clicks  conv_rate  exito_15  spend  \\\n0             2.68     Google    2548       64.1     Exito   5000   \n1             2.68     Google    2548       64.1     Exito   5000   \n2             3.47     Google    2823       65.5     Exito   5000   \n3             3.40     Google    2337       65.5     Exito   5500   \n4             3.40     Google    2824       66.4     Exito   5500   \n..             ...        ...     ...        ...       ...    ...   \n815           3.47     Google    2889       65.5     Exito   5083   \n816           3.15     Google    3002       67.2     Exito   5439   \n817           3.46   Facebook    2461       65.4  No Exito   5535   \n818           3.15     Google    1978       64.2  No Exito   5010   \n819           3.50     Google    2641       65.6  No Exito   4934   \n\n    tipo_campaña  trend type_of_ad   id  valor_de_yen  \n0     Conversion      4     Google    0            19  \n1     Conversion      4     Google    1            11  \n2     Conversion      6   Facebook    2            11  \n3     Conversion      4  Instagram    3            11  \n4     Conversion      5  Instagram    4            14  \n..           ...    ...        ...  ...           ...  \n815   Conversion      6   Facebook  815            10  \n816         None      4  Instagram  816            10  \n817   Conversion      4  Instagram  817            13  \n818   Conversion      4  Instagram  818            12  \n819   Conversion      4  Instagram  819            15  \n\n[820 rows x 11 columns]",
      "text/html": "<div>\n<style scoped>\n    .dataframe tbody tr th:only-of-type {\n        vertical-align: middle;\n    }\n\n    .dataframe tbody tr th {\n        vertical-align: top;\n    }\n\n    .dataframe thead th {\n        text-align: right;\n    }\n</style>\n<table border=\"1\" class=\"dataframe\">\n  <thead>\n    <tr style=\"text-align: right;\">\n      <th></th>\n      <th>Cost_per_lead</th>\n      <th>Plataforma</th>\n      <th>clicks</th>\n      <th>conv_rate</th>\n      <th>exito_15</th>\n      <th>spend</th>\n      <th>tipo_campaña</th>\n      <th>trend</th>\n      <th>type_of_ad</th>\n      <th>id</th>\n      <th>valor_de_yen</th>\n    </tr>\n  </thead>\n  <tbody>\n    <tr>\n      <th>0</th>\n      <td>2.68</td>\n      <td>Google</td>\n      <td>2548</td>\n      <td>64.1</td>\n      <td>Exito</td>\n      <td>5000</td>\n      <td>Conversion</td>\n      <td>4</td>\n      <td>Google</td>\n      <td>0</td>\n      <td>19</td>\n    </tr>\n    <tr>\n      <th>1</th>\n      <td>2.68</td>\n      <td>Google</td>\n      <td>2548</td>\n      <td>64.1</td>\n      <td>Exito</td>\n      <td>5000</td>\n      <td>Conversion</td>\n      <td>4</td>\n      <td>Google</td>\n      <td>1</td>\n      <td>11</td>\n    </tr>\n    <tr>\n      <th>2</th>\n      <td>3.47</td>\n      <td>Google</td>\n      <td>2823</td>\n      <td>65.5</td>\n      <td>Exito</td>\n      <td>5000</td>\n      <td>Conversion</td>\n      <td>6</td>\n      <td>Facebook</td>\n      <td>2</td>\n      <td>11</td>\n    </tr>\n    <tr>\n      <th>3</th>\n      <td>3.40</td>\n      <td>Google</td>\n      <td>2337</td>\n      <td>65.5</td>\n      <td>Exito</td>\n      <td>5500</td>\n      <td>Conversion</td>\n      <td>4</td>\n      <td>Instagram</td>\n      <td>3</td>\n      <td>11</td>\n    </tr>\n    <tr>\n      <th>4</th>\n      <td>3.40</td>\n      <td>Google</td>\n      <td>2824</td>\n      <td>66.4</td>\n      <td>Exito</td>\n      <td>5500</td>\n      <td>Conversion</td>\n      <td>5</td>\n      <td>Instagram</td>\n      <td>4</td>\n      <td>14</td>\n    </tr>\n    <tr>\n      <th>...</th>\n      <td>...</td>\n      <td>...</td>\n      <td>...</td>\n      <td>...</td>\n      <td>...</td>\n      <td>...</td>\n      <td>...</td>\n      <td>...</td>\n      <td>...</td>\n      <td>...</td>\n      <td>...</td>\n    </tr>\n    <tr>\n      <th>815</th>\n      <td>3.47</td>\n      <td>Google</td>\n      <td>2889</td>\n      <td>65.5</td>\n      <td>Exito</td>\n      <td>5083</td>\n      <td>Conversion</td>\n      <td>6</td>\n      <td>Facebook</td>\n      <td>815</td>\n      <td>10</td>\n    </tr>\n    <tr>\n      <th>816</th>\n      <td>3.15</td>\n      <td>Google</td>\n      <td>3002</td>\n      <td>67.2</td>\n      <td>Exito</td>\n      <td>5439</td>\n      <td>None</td>\n      <td>4</td>\n      <td>Instagram</td>\n      <td>816</td>\n      <td>10</td>\n    </tr>\n    <tr>\n      <th>817</th>\n      <td>3.46</td>\n      <td>Facebook</td>\n      <td>2461</td>\n      <td>65.4</td>\n      <td>No Exito</td>\n      <td>5535</td>\n      <td>Conversion</td>\n      <td>4</td>\n      <td>Instagram</td>\n      <td>817</td>\n      <td>13</td>\n    </tr>\n    <tr>\n      <th>818</th>\n      <td>3.15</td>\n      <td>Google</td>\n      <td>1978</td>\n      <td>64.2</td>\n      <td>No Exito</td>\n      <td>5010</td>\n      <td>Conversion</td>\n      <td>4</td>\n      <td>Instagram</td>\n      <td>818</td>\n      <td>12</td>\n    </tr>\n    <tr>\n      <th>819</th>\n      <td>3.50</td>\n      <td>Google</td>\n      <td>2641</td>\n      <td>65.6</td>\n      <td>No Exito</td>\n      <td>4934</td>\n      <td>Conversion</td>\n      <td>4</td>\n      <td>Instagram</td>\n      <td>819</td>\n      <td>15</td>\n    </tr>\n  </tbody>\n</table>\n<p>820 rows × 11 columns</p>\n</div>"
     },
     "execution_count": 19,
     "metadata": {},
     "output_type": "execute_result"
    }
   ],
   "source": [
    "df"
   ],
   "metadata": {
    "collapsed": false,
    "pycharm": {
     "name": "#%%\n"
    }
   }
  },
  {
   "cell_type": "code",
   "execution_count": 20,
   "outputs": [
    {
     "data": {
      "text/plain": "       Cost_per_lead        clicks   conv_rate         spend       trend  \\\ncount   8.200000e+02  8.200000e+02  820.000000  8.200000e+02  820.000000   \nmean    1.219515e+06  1.479542e+04   65.876585  1.735482e+04    4.380488   \nstd     3.492151e+07  3.491246e+05    2.071644  3.490351e+05    1.078872   \nmin     2.070000e+00  1.488000e+03   60.300000  0.000000e+00    2.000000   \n25%     3.110000e+00  2.204000e+03   64.200000  4.850000e+03    4.000000   \n50%     3.290000e+00  2.486000e+03   65.500000  5.200000e+03    4.000000   \n75%     3.410000e+00  2.979500e+03   66.500000  5.501000e+03    4.000000   \nmax     1.000000e+09  1.000000e+07   72.300000  1.000000e+07   12.000000   \n\n       valor_de_yen  \ncount    820.000000  \nmean      14.279268  \nstd        2.828222  \nmin       10.000000  \n25%       12.000000  \n50%       14.000000  \n75%       17.000000  \nmax       19.000000  ",
      "text/html": "<div>\n<style scoped>\n    .dataframe tbody tr th:only-of-type {\n        vertical-align: middle;\n    }\n\n    .dataframe tbody tr th {\n        vertical-align: top;\n    }\n\n    .dataframe thead th {\n        text-align: right;\n    }\n</style>\n<table border=\"1\" class=\"dataframe\">\n  <thead>\n    <tr style=\"text-align: right;\">\n      <th></th>\n      <th>Cost_per_lead</th>\n      <th>clicks</th>\n      <th>conv_rate</th>\n      <th>spend</th>\n      <th>trend</th>\n      <th>valor_de_yen</th>\n    </tr>\n  </thead>\n  <tbody>\n    <tr>\n      <th>count</th>\n      <td>8.200000e+02</td>\n      <td>8.200000e+02</td>\n      <td>820.000000</td>\n      <td>8.200000e+02</td>\n      <td>820.000000</td>\n      <td>820.000000</td>\n    </tr>\n    <tr>\n      <th>mean</th>\n      <td>1.219515e+06</td>\n      <td>1.479542e+04</td>\n      <td>65.876585</td>\n      <td>1.735482e+04</td>\n      <td>4.380488</td>\n      <td>14.279268</td>\n    </tr>\n    <tr>\n      <th>std</th>\n      <td>3.492151e+07</td>\n      <td>3.491246e+05</td>\n      <td>2.071644</td>\n      <td>3.490351e+05</td>\n      <td>1.078872</td>\n      <td>2.828222</td>\n    </tr>\n    <tr>\n      <th>min</th>\n      <td>2.070000e+00</td>\n      <td>1.488000e+03</td>\n      <td>60.300000</td>\n      <td>0.000000e+00</td>\n      <td>2.000000</td>\n      <td>10.000000</td>\n    </tr>\n    <tr>\n      <th>25%</th>\n      <td>3.110000e+00</td>\n      <td>2.204000e+03</td>\n      <td>64.200000</td>\n      <td>4.850000e+03</td>\n      <td>4.000000</td>\n      <td>12.000000</td>\n    </tr>\n    <tr>\n      <th>50%</th>\n      <td>3.290000e+00</td>\n      <td>2.486000e+03</td>\n      <td>65.500000</td>\n      <td>5.200000e+03</td>\n      <td>4.000000</td>\n      <td>14.000000</td>\n    </tr>\n    <tr>\n      <th>75%</th>\n      <td>3.410000e+00</td>\n      <td>2.979500e+03</td>\n      <td>66.500000</td>\n      <td>5.501000e+03</td>\n      <td>4.000000</td>\n      <td>17.000000</td>\n    </tr>\n    <tr>\n      <th>max</th>\n      <td>1.000000e+09</td>\n      <td>1.000000e+07</td>\n      <td>72.300000</td>\n      <td>1.000000e+07</td>\n      <td>12.000000</td>\n      <td>19.000000</td>\n    </tr>\n  </tbody>\n</table>\n</div>"
     },
     "execution_count": 20,
     "metadata": {},
     "output_type": "execute_result"
    }
   ],
   "source": [
    "df.describe()"
   ],
   "metadata": {
    "collapsed": false,
    "pycharm": {
     "name": "#%%\n"
    }
   }
  },
  {
   "cell_type": "markdown",
   "source": [
    "### Cost per lead"
   ],
   "metadata": {
    "collapsed": false,
    "pycharm": {
     "name": "#%% md\n"
    }
   }
  },
  {
   "cell_type": "code",
   "execution_count": 21,
   "outputs": [
    {
     "data": {
      "text/plain": "<AxesSubplot:ylabel='Cost_per_lead'>"
     },
     "execution_count": 21,
     "metadata": {},
     "output_type": "execute_result"
    },
    {
     "data": {
      "text/plain": "<Figure size 432x288 with 1 Axes>",
      "image/png": "[encoded data removed]"
     },
     "metadata": {
      "needs_background": "light"
     },
     "output_type": "display_data"
    }
   ],
   "source": [
    "sns.boxplot(data=df,y='Cost_per_lead')"
   ],
   "metadata": {
    "collapsed": false,
    "pycharm": {
     "name": "#%%\n"
    }
   }
  },
  {
   "cell_type": "code",
   "execution_count": 22,
   "outputs": [
    {
     "data": {
      "text/plain": "     Cost_per_lead Plataforma  clicks  conv_rate  exito_15  spend  \\\n24     999999999.0     Google    1967       64.0  No Exito      0   \n47             4.0     Google    4066       70.0     Exito   4750   \n48             4.0     Google    4066       66.0     Exito   4750   \n300            4.0     Google    4124       70.0     Exito   4788   \n343            4.0     Google    4094       66.0     Exito   4846   \n\n    tipo_campaña  trend type_of_ad   id  valor_de_yen  \n24    Conversion      4  Instagram   24            15  \n47    Conversion      6     Google   47            19  \n48    Conversion      6     Google   48            15  \n300   Conversion      6     Google  300            11  \n343   Conversion      6     Google  343            14  ",
      "text/html": "<div>\n<style scoped>\n    .dataframe tbody tr th:only-of-type {\n        vertical-align: middle;\n    }\n\n    .dataframe tbody tr th {\n        vertical-align: top;\n    }\n\n    .dataframe thead th {\n        text-align: right;\n    }\n</style>\n<table border=\"1\" class=\"dataframe\">\n  <thead>\n    <tr style=\"text-align: right;\">\n      <th></th>\n      <th>Cost_per_lead</th>\n      <th>Plataforma</th>\n      <th>clicks</th>\n      <th>conv_rate</th>\n      <th>exito_15</th>\n      <th>spend</th>\n      <th>tipo_campaña</th>\n      <th>trend</th>\n      <th>type_of_ad</th>\n      <th>id</th>\n      <th>valor_de_yen</th>\n    </tr>\n  </thead>\n  <tbody>\n    <tr>\n      <th>24</th>\n      <td>999999999.0</td>\n      <td>Google</td>\n      <td>1967</td>\n      <td>64.0</td>\n      <td>No Exito</td>\n      <td>0</td>\n      <td>Conversion</td>\n      <td>4</td>\n      <td>Instagram</td>\n      <td>24</td>\n      <td>15</td>\n    </tr>\n    <tr>\n      <th>47</th>\n      <td>4.0</td>\n      <td>Google</td>\n      <td>4066</td>\n      <td>70.0</td>\n      <td>Exito</td>\n      <td>4750</td>\n      <td>Conversion</td>\n      <td>6</td>\n      <td>Google</td>\n      <td>47</td>\n      <td>19</td>\n    </tr>\n    <tr>\n      <th>48</th>\n      <td>4.0</td>\n      <td>Google</td>\n      <td>4066</td>\n      <td>66.0</td>\n      <td>Exito</td>\n      <td>4750</td>\n      <td>Conversion</td>\n      <td>6</td>\n      <td>Google</td>\n      <td>48</td>\n      <td>15</td>\n    </tr>\n    <tr>\n      <th>300</th>\n      <td>4.0</td>\n      <td>Google</td>\n      <td>4124</td>\n      <td>70.0</td>\n      <td>Exito</td>\n      <td>4788</td>\n      <td>Conversion</td>\n      <td>6</td>\n      <td>Google</td>\n      <td>300</td>\n      <td>11</td>\n    </tr>\n    <tr>\n      <th>343</th>\n      <td>4.0</td>\n      <td>Google</td>\n      <td>4094</td>\n      <td>66.0</td>\n      <td>Exito</td>\n      <td>4846</td>\n      <td>Conversion</td>\n      <td>6</td>\n      <td>Google</td>\n      <td>343</td>\n      <td>14</td>\n    </tr>\n  </tbody>\n</table>\n</div>"
     },
     "execution_count": 22,
     "metadata": {},
     "output_type": "execute_result"
    }
   ],
   "source": [
    "df.nlargest(5,'Cost_per_lead').round()"
   ],
   "metadata": {
    "collapsed": false,
    "pycharm": {
     "name": "#%%\n"
    }
   }
  },
  {
   "cell_type": "markdown",
   "source": [
    "Existe un valor atípico que sera eliminado ya que se separa  mucho de los otros datpos y sebe ser un error"
   ],
   "metadata": {
    "collapsed": false,
    "pycharm": {
     "name": "#%% md\n"
    }
   }
  },
  {
   "cell_type": "code",
   "source": [
    "df.drop([24],inplace=True)"
   ],
   "metadata": {
    "collapsed": false,
    "pycharm": {
     "name": "#%%\n"
    }
   },
   "execution_count": 23,
   "outputs": []
  },
  {
   "cell_type": "markdown",
   "source": [
    "### Clicks"
   ],
   "metadata": {
    "collapsed": false,
    "pycharm": {
     "name": "#%% md\n"
    }
   }
  },
  {
   "cell_type": "code",
   "execution_count": 24,
   "outputs": [
    {
     "data": {
      "text/plain": "<AxesSubplot:ylabel='clicks'>"
     },
     "execution_count": 24,
     "metadata": {},
     "output_type": "execute_result"
    },
    {
     "data": {
      "text/plain": "<Figure size 432x288 with 1 Axes>",
      "image/png": "[encoded data removed]"
     },
     "metadata": {
      "needs_background": "light"
     },
     "output_type": "display_data"
    }
   ],
   "source": [
    "sns.boxplot(data=df,y='clicks')"
   ],
   "metadata": {
    "collapsed": false,
    "pycharm": {
     "name": "#%%\n"
    }
   }
  },
  {
   "cell_type": "code",
   "execution_count": 25,
   "outputs": [
    {
     "data": {
      "text/plain": "     Cost_per_lead Plataforma    clicks  conv_rate exito_15  spend  \\\n14            3.19     Google  10000000       66.9    Exito   4250   \n613           4.17     Google      4181       65.5    Exito   4902   \n796           4.17     Google      4141       69.6    Exito   4826   \n412           4.17     Google      4133       65.5    Exito   4798   \n300           4.17     Google      4124       69.6    Exito   4788   \n\n    tipo_campaña  trend type_of_ad   id  valor_de_yen  \n14          None      6  Instagram   14            14  \n613   Conversion      6     Google  613            16  \n796   Conversion      6     Google  796            12  \n412   Conversion      6     Google  412            11  \n300   Conversion      6     Google  300            11  ",
      "text/html": "<div>\n<style scoped>\n    .dataframe tbody tr th:only-of-type {\n        vertical-align: middle;\n    }\n\n    .dataframe tbody tr th {\n        vertical-align: top;\n    }\n\n    .dataframe thead th {\n        text-align: right;\n    }\n</style>\n<table border=\"1\" class=\"dataframe\">\n  <thead>\n    <tr style=\"text-align: right;\">\n      <th></th>\n      <th>Cost_per_lead</th>\n      <th>Plataforma</th>\n      <th>clicks</th>\n      <th>conv_rate</th>\n      <th>exito_15</th>\n      <th>spend</th>\n      <th>tipo_campaña</th>\n      <th>trend</th>\n      <th>type_of_ad</th>\n      <th>id</th>\n      <th>valor_de_yen</th>\n    </tr>\n  </thead>\n  <tbody>\n    <tr>\n      <th>14</th>\n      <td>3.19</td>\n      <td>Google</td>\n      <td>10000000</td>\n      <td>66.9</td>\n      <td>Exito</td>\n      <td>4250</td>\n      <td>None</td>\n      <td>6</td>\n      <td>Instagram</td>\n      <td>14</td>\n      <td>14</td>\n    </tr>\n    <tr>\n      <th>613</th>\n      <td>4.17</td>\n      <td>Google</td>\n      <td>4181</td>\n      <td>65.5</td>\n      <td>Exito</td>\n      <td>4902</td>\n      <td>Conversion</td>\n      <td>6</td>\n      <td>Google</td>\n      <td>613</td>\n      <td>16</td>\n    </tr>\n    <tr>\n      <th>796</th>\n      <td>4.17</td>\n      <td>Google</td>\n      <td>4141</td>\n      <td>69.6</td>\n      <td>Exito</td>\n      <td>4826</td>\n      <td>Conversion</td>\n      <td>6</td>\n      <td>Google</td>\n      <td>796</td>\n      <td>12</td>\n    </tr>\n    <tr>\n      <th>412</th>\n      <td>4.17</td>\n      <td>Google</td>\n      <td>4133</td>\n      <td>65.5</td>\n      <td>Exito</td>\n      <td>4798</td>\n      <td>Conversion</td>\n      <td>6</td>\n      <td>Google</td>\n      <td>412</td>\n      <td>11</td>\n    </tr>\n    <tr>\n      <th>300</th>\n      <td>4.17</td>\n      <td>Google</td>\n      <td>4124</td>\n      <td>69.6</td>\n      <td>Exito</td>\n      <td>4788</td>\n      <td>Conversion</td>\n      <td>6</td>\n      <td>Google</td>\n      <td>300</td>\n      <td>11</td>\n    </tr>\n  </tbody>\n</table>\n</div>"
     },
     "execution_count": 25,
     "metadata": {},
     "output_type": "execute_result"
    }
   ],
   "source": [
    "df.nlargest(5,'clicks')"
   ],
   "metadata": {
    "collapsed": false,
    "pycharm": {
     "name": "#%%\n"
    }
   }
  },
  {
   "cell_type": "markdown",
   "source": [
    "Clicks presenta un outlier que sera eliminado por las mismas razones que ele anterior"
   ],
   "metadata": {
    "collapsed": false,
    "pycharm": {
     "name": "#%% md\n"
    }
   }
  },
  {
   "cell_type": "code",
   "execution_count": 26,
   "outputs": [],
   "source": [
    "df.drop([14], inplace=True)"
   ],
   "metadata": {
    "collapsed": false,
    "pycharm": {
     "name": "#%%\n"
    }
   }
  },
  {
   "cell_type": "markdown",
   "source": [
    "### Conv_rate"
   ],
   "metadata": {
    "collapsed": false,
    "pycharm": {
     "name": "#%% md\n"
    }
   }
  },
  {
   "cell_type": "code",
   "execution_count": 27,
   "outputs": [
    {
     "data": {
      "text/plain": "<AxesSubplot:ylabel='conv_rate'>"
     },
     "execution_count": 27,
     "metadata": {},
     "output_type": "execute_result"
    },
    {
     "data": {
      "text/plain": "<Figure size 432x288 with 1 Axes>",
      "image/png": "[encoded data removed]"
     },
     "metadata": {
      "needs_background": "light"
     },
     "output_type": "display_data"
    }
   ],
   "source": [
    "sns.boxplot(data=df,y='conv_rate')"
   ],
   "metadata": {
    "collapsed": false,
    "pycharm": {
     "name": "#%%\n"
    }
   }
  },
  {
   "cell_type": "code",
   "execution_count": 28,
   "outputs": [
    {
     "data": {
      "text/plain": "     Cost_per_lead Plataforma  clicks  conv_rate exito_15  spend tipo_campaña  \\\n129           3.11     Google    3366       72.3    Exito   5750   Conversion   \n351           3.11     Google    3427       72.3    Exito   5810   Conversion   \n442           3.11     Google    3438       72.3    Exito   5764   Conversion   \n549           3.11     Google    3474       72.3    Exito   5908   Conversion   \n74            3.35     Google    3715       72.0    Exito   4500   Conversion   \n228           3.35     Google    3770       72.0    Exito   4534   Conversion   \n433           3.35     Google    3792       72.0    Exito   4506   Conversion   \n669           3.35     Google    3849       72.0    Exito   4628   Conversion   \n70            3.64   Facebook    3770       71.7    Exito   4350   Conversion   \n71            3.10     Google    3740       71.7    Exito   4750   Conversion   \n73            3.35     Google    3900       71.7    Exito   4500   Conversion   \n318           3.35     Google    3921       71.7    Exito   4584   Conversion   \n352           3.10     Google    3763       71.7    Exito   4751   Conversion   \n392           3.64   Facebook    3842       71.7    Exito   4397   Conversion   \n444           3.10     Google    3775       71.7    Exito   4791   Conversion   \n\n     trend type_of_ad   id  valor_de_yen  \n129      8  Pinterest  129            19  \n351      8  Pinterest  351            15  \n442      8  Pinterest  442            16  \n549      8  Pinterest  549            12  \n74       8   Facebook   74            18  \n228      8   Facebook  228            17  \n433      8   Facebook  433            17  \n669      8   Facebook  669            14  \n70       5  Instagram   70            14  \n71       8   Facebook   71            12  \n73       8   Facebook   73            19  \n318      8   Facebook  318            11  \n352      8   Facebook  352            11  \n392      5  Instagram  392            14  \n444      8   Facebook  444            19  ",
      "text/html": "<div>\n<style scoped>\n    .dataframe tbody tr th:only-of-type {\n        vertical-align: middle;\n    }\n\n    .dataframe tbody tr th {\n        vertical-align: top;\n    }\n\n    .dataframe thead th {\n        text-align: right;\n    }\n</style>\n<table border=\"1\" class=\"dataframe\">\n  <thead>\n    <tr style=\"text-align: right;\">\n      <th></th>\n      <th>Cost_per_lead</th>\n      <th>Plataforma</th>\n      <th>clicks</th>\n      <th>conv_rate</th>\n      <th>exito_15</th>\n      <th>spend</th>\n      <th>tipo_campaña</th>\n      <th>trend</th>\n      <th>type_of_ad</th>\n      <th>id</th>\n      <th>valor_de_yen</th>\n    </tr>\n  </thead>\n  <tbody>\n    <tr>\n      <th>129</th>\n      <td>3.11</td>\n      <td>Google</td>\n      <td>3366</td>\n      <td>72.3</td>\n      <td>Exito</td>\n      <td>5750</td>\n      <td>Conversion</td>\n      <td>8</td>\n      <td>Pinterest</td>\n      <td>129</td>\n      <td>19</td>\n    </tr>\n    <tr>\n      <th>351</th>\n      <td>3.11</td>\n      <td>Google</td>\n      <td>3427</td>\n      <td>72.3</td>\n      <td>Exito</td>\n      <td>5810</td>\n      <td>Conversion</td>\n      <td>8</td>\n      <td>Pinterest</td>\n      <td>351</td>\n      <td>15</td>\n    </tr>\n    <tr>\n      <th>442</th>\n      <td>3.11</td>\n      <td>Google</td>\n      <td>3438</td>\n      <td>72.3</td>\n      <td>Exito</td>\n      <td>5764</td>\n      <td>Conversion</td>\n      <td>8</td>\n      <td>Pinterest</td>\n      <td>442</td>\n      <td>16</td>\n    </tr>\n    <tr>\n      <th>549</th>\n      <td>3.11</td>\n      <td>Google</td>\n      <td>3474</td>\n      <td>72.3</td>\n      <td>Exito</td>\n      <td>5908</td>\n      <td>Conversion</td>\n      <td>8</td>\n      <td>Pinterest</td>\n      <td>549</td>\n      <td>12</td>\n    </tr>\n    <tr>\n      <th>74</th>\n      <td>3.35</td>\n      <td>Google</td>\n      <td>3715</td>\n      <td>72.0</td>\n      <td>Exito</td>\n      <td>4500</td>\n      <td>Conversion</td>\n      <td>8</td>\n      <td>Facebook</td>\n      <td>74</td>\n      <td>18</td>\n    </tr>\n    <tr>\n      <th>228</th>\n      <td>3.35</td>\n      <td>Google</td>\n      <td>3770</td>\n      <td>72.0</td>\n      <td>Exito</td>\n      <td>4534</td>\n      <td>Conversion</td>\n      <td>8</td>\n      <td>Facebook</td>\n      <td>228</td>\n      <td>17</td>\n    </tr>\n    <tr>\n      <th>433</th>\n      <td>3.35</td>\n      <td>Google</td>\n      <td>3792</td>\n      <td>72.0</td>\n      <td>Exito</td>\n      <td>4506</td>\n      <td>Conversion</td>\n      <td>8</td>\n      <td>Facebook</td>\n      <td>433</td>\n      <td>17</td>\n    </tr>\n    <tr>\n      <th>669</th>\n      <td>3.35</td>\n      <td>Google</td>\n      <td>3849</td>\n      <td>72.0</td>\n      <td>Exito</td>\n      <td>4628</td>\n      <td>Conversion</td>\n      <td>8</td>\n      <td>Facebook</td>\n      <td>669</td>\n      <td>14</td>\n    </tr>\n    <tr>\n      <th>70</th>\n      <td>3.64</td>\n      <td>Facebook</td>\n      <td>3770</td>\n      <td>71.7</td>\n      <td>Exito</td>\n      <td>4350</td>\n      <td>Conversion</td>\n      <td>5</td>\n      <td>Instagram</td>\n      <td>70</td>\n      <td>14</td>\n    </tr>\n    <tr>\n      <th>71</th>\n      <td>3.10</td>\n      <td>Google</td>\n      <td>3740</td>\n      <td>71.7</td>\n      <td>Exito</td>\n      <td>4750</td>\n      <td>Conversion</td>\n      <td>8</td>\n      <td>Facebook</td>\n      <td>71</td>\n      <td>12</td>\n    </tr>\n    <tr>\n      <th>73</th>\n      <td>3.35</td>\n      <td>Google</td>\n      <td>3900</td>\n      <td>71.7</td>\n      <td>Exito</td>\n      <td>4500</td>\n      <td>Conversion</td>\n      <td>8</td>\n      <td>Facebook</td>\n      <td>73</td>\n      <td>19</td>\n    </tr>\n    <tr>\n      <th>318</th>\n      <td>3.35</td>\n      <td>Google</td>\n      <td>3921</td>\n      <td>71.7</td>\n      <td>Exito</td>\n      <td>4584</td>\n      <td>Conversion</td>\n      <td>8</td>\n      <td>Facebook</td>\n      <td>318</td>\n      <td>11</td>\n    </tr>\n    <tr>\n      <th>352</th>\n      <td>3.10</td>\n      <td>Google</td>\n      <td>3763</td>\n      <td>71.7</td>\n      <td>Exito</td>\n      <td>4751</td>\n      <td>Conversion</td>\n      <td>8</td>\n      <td>Facebook</td>\n      <td>352</td>\n      <td>11</td>\n    </tr>\n    <tr>\n      <th>392</th>\n      <td>3.64</td>\n      <td>Facebook</td>\n      <td>3842</td>\n      <td>71.7</td>\n      <td>Exito</td>\n      <td>4397</td>\n      <td>Conversion</td>\n      <td>5</td>\n      <td>Instagram</td>\n      <td>392</td>\n      <td>14</td>\n    </tr>\n    <tr>\n      <th>444</th>\n      <td>3.10</td>\n      <td>Google</td>\n      <td>3775</td>\n      <td>71.7</td>\n      <td>Exito</td>\n      <td>4791</td>\n      <td>Conversion</td>\n      <td>8</td>\n      <td>Facebook</td>\n      <td>444</td>\n      <td>19</td>\n    </tr>\n  </tbody>\n</table>\n</div>"
     },
     "execution_count": 28,
     "metadata": {},
     "output_type": "execute_result"
    }
   ],
   "source": [
    "df.nlargest(15,'conv_rate')"
   ],
   "metadata": {
    "collapsed": false,
    "pycharm": {
     "name": "#%%\n"
    }
   }
  },
  {
   "cell_type": "markdown",
   "source": [
    "Esta variable presenta otliers pero como no muestran ser valores fuera de los normal, no serán eliminados"
   ],
   "metadata": {
    "collapsed": false,
    "pycharm": {
     "name": "#%% md\n"
    }
   }
  },
  {
   "cell_type": "markdown",
   "source": [
    "### spend"
   ],
   "metadata": {
    "collapsed": false
   }
  },
  {
   "cell_type": "code",
   "execution_count": 29,
   "outputs": [
    {
     "data": {
      "text/plain": "<AxesSubplot:ylabel='spend'>"
     },
     "execution_count": 29,
     "metadata": {},
     "output_type": "execute_result"
    },
    {
     "data": {
      "text/plain": "<Figure size 432x288 with 1 Axes>",
      "image/png": "[encoded data removed]"
     },
     "metadata": {
      "needs_background": "light"
     },
     "output_type": "display_data"
    }
   ],
   "source": [
    "sns.boxplot(data=df,y='spend')"
   ],
   "metadata": {
    "collapsed": false,
    "pycharm": {
     "name": "#%%\n"
    }
   }
  },
  {
   "cell_type": "code",
   "execution_count": 30,
   "outputs": [
    {
     "data": {
      "text/plain": "     Cost_per_lead Plataforma  clicks  conv_rate  exito_15     spend  \\\n55           3.255     Google    2380       65.7     Exito  10000000   \n610          3.080     Google    2398       64.0  No Exito      6715   \n616          3.080     Google    2395       64.0  No Exito      6687   \n479          3.080     Google    2442       64.0  No Exito      6646   \n307          3.080     Google    2350       64.0  No Exito      6637   \n\n    tipo_campaña  trend type_of_ad   id  valor_de_yen  \n55    Conversion      2    Twitter   55            14  \n610         None      4     Google  610            13  \n616   Conversion      4     Google  616            11  \n479   Conversion      4     Google  479            12  \n307         None      4     Google  307            18  ",
      "text/html": "<div>\n<style scoped>\n    .dataframe tbody tr th:only-of-type {\n        vertical-align: middle;\n    }\n\n    .dataframe tbody tr th {\n        vertical-align: top;\n    }\n\n    .dataframe thead th {\n        text-align: right;\n    }\n</style>\n<table border=\"1\" class=\"dataframe\">\n  <thead>\n    <tr style=\"text-align: right;\">\n      <th></th>\n      <th>Cost_per_lead</th>\n      <th>Plataforma</th>\n      <th>clicks</th>\n      <th>conv_rate</th>\n      <th>exito_15</th>\n      <th>spend</th>\n      <th>tipo_campaña</th>\n      <th>trend</th>\n      <th>type_of_ad</th>\n      <th>id</th>\n      <th>valor_de_yen</th>\n    </tr>\n  </thead>\n  <tbody>\n    <tr>\n      <th>55</th>\n      <td>3.255</td>\n      <td>Google</td>\n      <td>2380</td>\n      <td>65.7</td>\n      <td>Exito</td>\n      <td>10000000</td>\n      <td>Conversion</td>\n      <td>2</td>\n      <td>Twitter</td>\n      <td>55</td>\n      <td>14</td>\n    </tr>\n    <tr>\n      <th>610</th>\n      <td>3.080</td>\n      <td>Google</td>\n      <td>2398</td>\n      <td>64.0</td>\n      <td>No Exito</td>\n      <td>6715</td>\n      <td>None</td>\n      <td>4</td>\n      <td>Google</td>\n      <td>610</td>\n      <td>13</td>\n    </tr>\n    <tr>\n      <th>616</th>\n      <td>3.080</td>\n      <td>Google</td>\n      <td>2395</td>\n      <td>64.0</td>\n      <td>No Exito</td>\n      <td>6687</td>\n      <td>Conversion</td>\n      <td>4</td>\n      <td>Google</td>\n      <td>616</td>\n      <td>11</td>\n    </tr>\n    <tr>\n      <th>479</th>\n      <td>3.080</td>\n      <td>Google</td>\n      <td>2442</td>\n      <td>64.0</td>\n      <td>No Exito</td>\n      <td>6646</td>\n      <td>Conversion</td>\n      <td>4</td>\n      <td>Google</td>\n      <td>479</td>\n      <td>12</td>\n    </tr>\n    <tr>\n      <th>307</th>\n      <td>3.080</td>\n      <td>Google</td>\n      <td>2350</td>\n      <td>64.0</td>\n      <td>No Exito</td>\n      <td>6637</td>\n      <td>None</td>\n      <td>4</td>\n      <td>Google</td>\n      <td>307</td>\n      <td>18</td>\n    </tr>\n  </tbody>\n</table>\n</div>"
     },
     "execution_count": 30,
     "metadata": {},
     "output_type": "execute_result"
    }
   ],
   "source": [
    "df.nlargest(5,'spend')"
   ],
   "metadata": {
    "collapsed": false,
    "pycharm": {
     "name": "#%%\n"
    }
   }
  },
  {
   "cell_type": "markdown",
   "source": [
    "Spend tiene un outlier alto que sera eliminado porque debe ser un error"
   ],
   "metadata": {
    "collapsed": false,
    "pycharm": {
     "name": "#%% md\n"
    }
   }
  },
  {
   "cell_type": "code",
   "execution_count": 31,
   "outputs": [],
   "source": [
    "df.drop([55],inplace=True)"
   ],
   "metadata": {
    "collapsed": false,
    "pycharm": {
     "name": "#%%\n"
    }
   }
  },
  {
   "cell_type": "markdown",
   "source": [
    "### trend"
   ],
   "metadata": {
    "collapsed": false,
    "pycharm": {
     "name": "#%% md\n"
    }
   }
  },
  {
   "cell_type": "code",
   "execution_count": 32,
   "outputs": [
    {
     "data": {
      "text/plain": "<AxesSubplot:ylabel='trend'>"
     },
     "execution_count": 32,
     "metadata": {},
     "output_type": "execute_result"
    },
    {
     "data": {
      "text/plain": "<Figure size 432x288 with 1 Axes>",
      "image/png": "[encoded data removed]"
     },
     "metadata": {
      "needs_background": "light"
     },
     "output_type": "display_data"
    }
   ],
   "source": [
    "sns.boxplot(data=df,y='trend')"
   ],
   "metadata": {
    "collapsed": false,
    "pycharm": {
     "name": "#%%\n"
    }
   }
  },
  {
   "cell_type": "code",
   "execution_count": 33,
   "outputs": [
    {
     "data": {
      "text/plain": "4     635\n6      95\n5      44\n8      20\n2      15\n3       4\n12      4\nName: trend, dtype: int64"
     },
     "execution_count": 33,
     "metadata": {},
     "output_type": "execute_result"
    }
   ],
   "source": [
    "df.trend.value_counts()"
   ],
   "metadata": {
    "collapsed": false,
    "pycharm": {
     "name": "#%%\n"
    }
   }
  },
  {
   "cell_type": "markdown",
   "source": [
    "Los valores de trend son meses y como estan todos dentro de 1 y 12 , son valores correctos y no se eliminarían. Habría que ver poque tantas campañas son en abril y tan pocas en diciembre"
   ],
   "metadata": {
    "collapsed": false,
    "pycharm": {
     "name": "#%% md\n"
    }
   }
  },
  {
   "cell_type": "markdown",
   "source": [
    "### Valor del yen"
   ],
   "metadata": {
    "collapsed": false,
    "pycharm": {
     "name": "#%% md\n"
    }
   }
  },
  {
   "cell_type": "code",
   "execution_count": 34,
   "outputs": [
    {
     "data": {
      "text/plain": "<AxesSubplot:ylabel='valor_de_yen'>"
     },
     "execution_count": 34,
     "metadata": {},
     "output_type": "execute_result"
    },
    {
     "data": {
      "text/plain": "<Figure size 432x288 with 1 Axes>",
      "image/png": "[encoded data removed]"
     },
     "metadata": {
      "needs_background": "light"
     },
     "output_type": "display_data"
    }
   ],
   "source": [
    "sns.boxplot(data=df,y='valor_de_yen')"
   ],
   "metadata": {
    "collapsed": false,
    "pycharm": {
     "name": "#%%\n"
    }
   }
  },
  {
   "cell_type": "code",
   "execution_count": 35,
   "outputs": [
    {
     "data": {
      "text/plain": "    Cost_per_lead Plataforma  clicks  conv_rate           exito_15  spend  \\\n0            2.68     Google    2548       64.1              Exito   5000   \n6            3.40     Google    2844       71.4  No Exito No Exito   5500   \n25           3.23     Google    1989       63.8           No Exito   5500   \n47           4.17     Google    4066       69.6              Exito   4750   \n51           3.15     Google    1900       64.2           No Exito   5000   \n\n   tipo_campaña  trend type_of_ad  id  valor_de_yen  \n0    Conversion      4     Google   0            19  \n6    Conversion      5  Instagram   6            19  \n25   Conversion      4  Instagram  25            19  \n47   Conversion      6     Google  47            19  \n51   Conversion      4  Instagram  51            19  ",
      "text/html": "<div>\n<style scoped>\n    .dataframe tbody tr th:only-of-type {\n        vertical-align: middle;\n    }\n\n    .dataframe tbody tr th {\n        vertical-align: top;\n    }\n\n    .dataframe thead th {\n        text-align: right;\n    }\n</style>\n<table border=\"1\" class=\"dataframe\">\n  <thead>\n    <tr style=\"text-align: right;\">\n      <th></th>\n      <th>Cost_per_lead</th>\n      <th>Plataforma</th>\n      <th>clicks</th>\n      <th>conv_rate</th>\n      <th>exito_15</th>\n      <th>spend</th>\n      <th>tipo_campaña</th>\n      <th>trend</th>\n      <th>type_of_ad</th>\n      <th>id</th>\n      <th>valor_de_yen</th>\n    </tr>\n  </thead>\n  <tbody>\n    <tr>\n      <th>0</th>\n      <td>2.68</td>\n      <td>Google</td>\n      <td>2548</td>\n      <td>64.1</td>\n      <td>Exito</td>\n      <td>5000</td>\n      <td>Conversion</td>\n      <td>4</td>\n      <td>Google</td>\n      <td>0</td>\n      <td>19</td>\n    </tr>\n    <tr>\n      <th>6</th>\n      <td>3.40</td>\n      <td>Google</td>\n      <td>2844</td>\n      <td>71.4</td>\n      <td>No Exito No Exito</td>\n      <td>5500</td>\n      <td>Conversion</td>\n      <td>5</td>\n      <td>Instagram</td>\n      <td>6</td>\n      <td>19</td>\n    </tr>\n    <tr>\n      <th>25</th>\n      <td>3.23</td>\n      <td>Google</td>\n      <td>1989</td>\n      <td>63.8</td>\n      <td>No Exito</td>\n      <td>5500</td>\n      <td>Conversion</td>\n      <td>4</td>\n      <td>Instagram</td>\n      <td>25</td>\n      <td>19</td>\n    </tr>\n    <tr>\n      <th>47</th>\n      <td>4.17</td>\n      <td>Google</td>\n      <td>4066</td>\n      <td>69.6</td>\n      <td>Exito</td>\n      <td>4750</td>\n      <td>Conversion</td>\n      <td>6</td>\n      <td>Google</td>\n      <td>47</td>\n      <td>19</td>\n    </tr>\n    <tr>\n      <th>51</th>\n      <td>3.15</td>\n      <td>Google</td>\n      <td>1900</td>\n      <td>64.2</td>\n      <td>No Exito</td>\n      <td>5000</td>\n      <td>Conversion</td>\n      <td>4</td>\n      <td>Instagram</td>\n      <td>51</td>\n      <td>19</td>\n    </tr>\n  </tbody>\n</table>\n</div>"
     },
     "execution_count": 35,
     "metadata": {},
     "output_type": "execute_result"
    }
   ],
   "source": [
    "df.nlargest(5,'valor_de_yen')"
   ],
   "metadata": {
    "collapsed": false,
    "pycharm": {
     "name": "#%%\n"
    }
   }
  },
  {
   "cell_type": "markdown",
   "source": [
    "Valor de yen esta libre de outliers"
   ],
   "metadata": {
    "collapsed": false,
    "pycharm": {
     "name": "#%% md\n"
    }
   }
  },
  {
   "cell_type": "markdown",
   "source": [
    "# 3. Ploteo y escalado (20 pts)\n",
    "a. Plotear y analizar distribuciones.\n",
    "b. Elegir un método de escalado"
   ],
   "metadata": {
    "collapsed": false
   }
  },
  {
   "cell_type": "markdown",
   "source": [
    "Transformar valores numéricos continuos en un rango común más chico para una mejor intrepretación del modelo."
   ],
   "metadata": {
    "collapsed": false,
    "pycharm": {
     "name": "#%% md\n"
    }
   }
  },
  {
   "cell_type": "code",
   "execution_count": 36,
   "outputs": [],
   "source": [
    "import matplotlib.pyplot as plt\n",
    "def data_dist(df,var):\n",
    "    fig, ax = plt.subplots(1, 2, figsize=(10, 5))\n",
    "\n",
    "    ax[0].set_title(f\"Distribucion de {var}\")\n",
    "    sns.histplot(data=df, x=f\"{var}\", kde=True, ax=ax[0])\n",
    "\n",
    "    ax[1].set_title(f\"Boxplot de{var}\")\n",
    "    sns.boxplot(data=df, x=f\"{var}\", ax=ax[1])\n"
   ],
   "metadata": {
    "collapsed": false,
    "pycharm": {
     "name": "#%%\n"
    }
   }
  },
  {
   "cell_type": "markdown",
   "source": [
    "Funcion usada para plotear dist y analizar sus outliers para elegir un escalado"
   ],
   "metadata": {
    "collapsed": false,
    "pycharm": {
     "name": "#%% md\n"
    }
   }
  },
  {
   "cell_type": "markdown",
   "source": [
    "## Cost per lead"
   ],
   "metadata": {
    "collapsed": false,
    "pycharm": {
     "name": "#%% md\n"
    }
   }
  },
  {
   "cell_type": "code",
   "execution_count": 37,
   "outputs": [
    {
     "data": {
      "text/plain": "<Figure size 720x360 with 2 Axes>",
      "image/png": "[encoded data removed]"
     },
     "metadata": {
      "needs_background": "light"
     },
     "output_type": "display_data"
    }
   ],
   "source": [
    "data_dist(df,'Cost_per_lead')"
   ],
   "metadata": {
    "collapsed": false,
    "pycharm": {
     "name": "#%%\n"
    }
   }
  },
  {
   "cell_type": "markdown",
   "source": [
    "Al ser una distribucion normal con outliers voy a usar un robust scaler"
   ],
   "metadata": {
    "collapsed": false,
    "pycharm": {
     "name": "#%% md\n"
    }
   }
  },
  {
   "cell_type": "code",
   "execution_count": 38,
   "outputs": [
    {
     "data": {
      "text/plain": "   Cost_per_lead Plataforma  clicks  conv_rate exito_15  spend tipo_campaña  \\\n0      -2.033333     Google    2548       64.1    Exito   5000   Conversion   \n1      -2.033333     Google    2548       64.1    Exito   5000   Conversion   \n2       0.600000     Google    2823       65.5    Exito   5000   Conversion   \n3       0.366667     Google    2337       65.5    Exito   5500   Conversion   \n4       0.366667     Google    2824       66.4    Exito   5500   Conversion   \n\n   trend type_of_ad id  valor_de_yen  \n0      4     Google  0            19  \n1      4     Google  1            11  \n2      6   Facebook  2            11  \n3      4  Instagram  3            11  \n4      5  Instagram  4            14  ",
      "text/html": "<div>\n<style scoped>\n    .dataframe tbody tr th:only-of-type {\n        vertical-align: middle;\n    }\n\n    .dataframe tbody tr th {\n        vertical-align: top;\n    }\n\n    .dataframe thead th {\n        text-align: right;\n    }\n</style>\n<table border=\"1\" class=\"dataframe\">\n  <thead>\n    <tr style=\"text-align: right;\">\n      <th></th>\n      <th>Cost_per_lead</th>\n      <th>Plataforma</th>\n      <th>clicks</th>\n      <th>conv_rate</th>\n      <th>exito_15</th>\n      <th>spend</th>\n      <th>tipo_campaña</th>\n      <th>trend</th>\n      <th>type_of_ad</th>\n      <th>id</th>\n      <th>valor_de_yen</th>\n    </tr>\n  </thead>\n  <tbody>\n    <tr>\n      <th>0</th>\n      <td>-2.033333</td>\n      <td>Google</td>\n      <td>2548</td>\n      <td>64.1</td>\n      <td>Exito</td>\n      <td>5000</td>\n      <td>Conversion</td>\n      <td>4</td>\n      <td>Google</td>\n      <td>0</td>\n      <td>19</td>\n    </tr>\n    <tr>\n      <th>1</th>\n      <td>-2.033333</td>\n      <td>Google</td>\n      <td>2548</td>\n      <td>64.1</td>\n      <td>Exito</td>\n      <td>5000</td>\n      <td>Conversion</td>\n      <td>4</td>\n      <td>Google</td>\n      <td>1</td>\n      <td>11</td>\n    </tr>\n    <tr>\n      <th>2</th>\n      <td>0.600000</td>\n      <td>Google</td>\n      <td>2823</td>\n      <td>65.5</td>\n      <td>Exito</td>\n      <td>5000</td>\n      <td>Conversion</td>\n      <td>6</td>\n      <td>Facebook</td>\n      <td>2</td>\n      <td>11</td>\n    </tr>\n    <tr>\n      <th>3</th>\n      <td>0.366667</td>\n      <td>Google</td>\n      <td>2337</td>\n      <td>65.5</td>\n      <td>Exito</td>\n      <td>5500</td>\n      <td>Conversion</td>\n      <td>4</td>\n      <td>Instagram</td>\n      <td>3</td>\n      <td>11</td>\n    </tr>\n    <tr>\n      <th>4</th>\n      <td>0.366667</td>\n      <td>Google</td>\n      <td>2824</td>\n      <td>66.4</td>\n      <td>Exito</td>\n      <td>5500</td>\n      <td>Conversion</td>\n      <td>5</td>\n      <td>Instagram</td>\n      <td>4</td>\n      <td>14</td>\n    </tr>\n  </tbody>\n</table>\n</div>"
     },
     "execution_count": 38,
     "metadata": {},
     "output_type": "execute_result"
    }
   ],
   "source": [
    "from sklearn.preprocessing import RobustScaler\n",
    "rb_scaler = RobustScaler()\n",
    "df['Cost_per_lead'] = rb_scaler.fit_transform(df[['Cost_per_lead']])\n",
    "df.head()\n"
   ],
   "metadata": {
    "collapsed": false,
    "pycharm": {
     "name": "#%%\n"
    }
   }
  },
  {
   "cell_type": "markdown",
   "source": [
    "## Clicks"
   ],
   "metadata": {
    "collapsed": false,
    "pycharm": {
     "name": "#%% md\n"
    }
   }
  },
  {
   "cell_type": "code",
   "execution_count": 39,
   "outputs": [
    {
     "data": {
      "text/plain": "<Figure size 720x360 with 2 Axes>",
      "image/png": "[encoded data removed]"
     },
     "metadata": {
      "needs_background": "light"
     },
     "output_type": "display_data"
    }
   ],
   "source": [
    "data_dist(df,'clicks')"
   ],
   "metadata": {
    "collapsed": false,
    "pycharm": {
     "name": "#%%\n"
    }
   }
  },
  {
   "cell_type": "code",
   "execution_count": 40,
   "outputs": [
    {
     "data": {
      "text/plain": "count     817.000000\nmean     2604.527540\nstd       520.790427\nmin      1488.000000\n25%      2204.000000\n50%      2487.000000\n75%      2979.000000\nmax      4181.000000\nName: clicks, dtype: float64"
     },
     "execution_count": 40,
     "metadata": {},
     "output_type": "execute_result"
    }
   ],
   "source": [
    "df.clicks.describe()"
   ],
   "metadata": {
    "collapsed": false,
    "pycharm": {
     "name": "#%%\n"
    }
   }
  },
  {
   "cell_type": "markdown",
   "source": [
    "Al ser una distribucion normal con outliers uso un escalado robusto"
   ],
   "metadata": {
    "collapsed": false,
    "pycharm": {
     "name": "#%% md\n"
    }
   }
  },
  {
   "cell_type": "code",
   "execution_count": 41,
   "outputs": [
    {
     "data": {
      "text/plain": "   Cost_per_lead Plataforma    clicks  conv_rate exito_15  spend tipo_campaña  \\\n0      -2.033333     Google  0.078710       64.1    Exito   5000   Conversion   \n1      -2.033333     Google  0.078710       64.1    Exito   5000   Conversion   \n2       0.600000     Google  0.433548       65.5    Exito   5000   Conversion   \n3       0.366667     Google -0.193548       65.5    Exito   5500   Conversion   \n4       0.366667     Google  0.434839       66.4    Exito   5500   Conversion   \n\n   trend type_of_ad id  valor_de_yen  \n0      4     Google  0            19  \n1      4     Google  1            11  \n2      6   Facebook  2            11  \n3      4  Instagram  3            11  \n4      5  Instagram  4            14  ",
      "text/html": "<div>\n<style scoped>\n    .dataframe tbody tr th:only-of-type {\n        vertical-align: middle;\n    }\n\n    .dataframe tbody tr th {\n        vertical-align: top;\n    }\n\n    .dataframe thead th {\n        text-align: right;\n    }\n</style>\n<table border=\"1\" class=\"dataframe\">\n  <thead>\n    <tr style=\"text-align: right;\">\n      <th></th>\n      <th>Cost_per_lead</th>\n      <th>Plataforma</th>\n      <th>clicks</th>\n      <th>conv_rate</th>\n      <th>exito_15</th>\n      <th>spend</th>\n      <th>tipo_campaña</th>\n      <th>trend</th>\n      <th>type_of_ad</th>\n      <th>id</th>\n      <th>valor_de_yen</th>\n    </tr>\n  </thead>\n  <tbody>\n    <tr>\n      <th>0</th>\n      <td>-2.033333</td>\n      <td>Google</td>\n      <td>0.078710</td>\n      <td>64.1</td>\n      <td>Exito</td>\n      <td>5000</td>\n      <td>Conversion</td>\n      <td>4</td>\n      <td>Google</td>\n      <td>0</td>\n      <td>19</td>\n    </tr>\n    <tr>\n      <th>1</th>\n      <td>-2.033333</td>\n      <td>Google</td>\n      <td>0.078710</td>\n      <td>64.1</td>\n      <td>Exito</td>\n      <td>5000</td>\n      <td>Conversion</td>\n      <td>4</td>\n      <td>Google</td>\n      <td>1</td>\n      <td>11</td>\n    </tr>\n    <tr>\n      <th>2</th>\n      <td>0.600000</td>\n      <td>Google</td>\n      <td>0.433548</td>\n      <td>65.5</td>\n      <td>Exito</td>\n      <td>5000</td>\n      <td>Conversion</td>\n      <td>6</td>\n      <td>Facebook</td>\n      <td>2</td>\n      <td>11</td>\n    </tr>\n    <tr>\n      <th>3</th>\n      <td>0.366667</td>\n      <td>Google</td>\n      <td>-0.193548</td>\n      <td>65.5</td>\n      <td>Exito</td>\n      <td>5500</td>\n      <td>Conversion</td>\n      <td>4</td>\n      <td>Instagram</td>\n      <td>3</td>\n      <td>11</td>\n    </tr>\n    <tr>\n      <th>4</th>\n      <td>0.366667</td>\n      <td>Google</td>\n      <td>0.434839</td>\n      <td>66.4</td>\n      <td>Exito</td>\n      <td>5500</td>\n      <td>Conversion</td>\n      <td>5</td>\n      <td>Instagram</td>\n      <td>4</td>\n      <td>14</td>\n    </tr>\n  </tbody>\n</table>\n</div>"
     },
     "execution_count": 41,
     "metadata": {},
     "output_type": "execute_result"
    }
   ],
   "source": [
    "from sklearn.preprocessing import RobustScaler\n",
    "rb_scaler = RobustScaler()\n",
    "df['clicks'] = rb_scaler.fit_transform(df[['clicks']])\n",
    "df.head()\n"
   ],
   "metadata": {
    "collapsed": false,
    "pycharm": {
     "name": "#%%\n"
    }
   }
  },
  {
   "cell_type": "markdown",
   "source": [
    "## Conv_rate"
   ],
   "metadata": {
    "collapsed": false,
    "pycharm": {
     "name": "#%% md\n"
    }
   }
  },
  {
   "cell_type": "code",
   "execution_count": 42,
   "outputs": [
    {
     "data": {
      "text/plain": "<Figure size 720x360 with 2 Axes>",
      "image/png": "[encoded data removed]"
     },
     "metadata": {
      "needs_background": "light"
     },
     "output_type": "display_data"
    }
   ],
   "source": [
    "data_dist(df,'conv_rate')"
   ],
   "metadata": {
    "collapsed": false,
    "pycharm": {
     "name": "#%%\n"
    }
   }
  },
  {
   "cell_type": "markdown",
   "source": [
    "Al ser una distribución normal con oultiers , uso  u escalado robusto"
   ],
   "metadata": {
    "collapsed": false,
    "pycharm": {
     "name": "#%% md\n"
    }
   }
  },
  {
   "cell_type": "code",
   "execution_count": 43,
   "outputs": [
    {
     "data": {
      "text/plain": "   Cost_per_lead Plataforma    clicks  conv_rate exito_15  spend tipo_campaña  \\\n0      -2.033333     Google  0.078710  -0.608696    Exito   5000   Conversion   \n1      -2.033333     Google  0.078710  -0.608696    Exito   5000   Conversion   \n2       0.600000     Google  0.433548   0.000000    Exito   5000   Conversion   \n3       0.366667     Google -0.193548   0.000000    Exito   5500   Conversion   \n4       0.366667     Google  0.434839   0.391304    Exito   5500   Conversion   \n\n   trend type_of_ad id  valor_de_yen  \n0      4     Google  0            19  \n1      4     Google  1            11  \n2      6   Facebook  2            11  \n3      4  Instagram  3            11  \n4      5  Instagram  4            14  ",
      "text/html": "<div>\n<style scoped>\n    .dataframe tbody tr th:only-of-type {\n        vertical-align: middle;\n    }\n\n    .dataframe tbody tr th {\n        vertical-align: top;\n    }\n\n    .dataframe thead th {\n        text-align: right;\n    }\n</style>\n<table border=\"1\" class=\"dataframe\">\n  <thead>\n    <tr style=\"text-align: right;\">\n      <th></th>\n      <th>Cost_per_lead</th>\n      <th>Plataforma</th>\n      <th>clicks</th>\n      <th>conv_rate</th>\n      <th>exito_15</th>\n      <th>spend</th>\n      <th>tipo_campaña</th>\n      <th>trend</th>\n      <th>type_of_ad</th>\n      <th>id</th>\n      <th>valor_de_yen</th>\n    </tr>\n  </thead>\n  <tbody>\n    <tr>\n      <th>0</th>\n      <td>-2.033333</td>\n      <td>Google</td>\n      <td>0.078710</td>\n      <td>-0.608696</td>\n      <td>Exito</td>\n      <td>5000</td>\n      <td>Conversion</td>\n      <td>4</td>\n      <td>Google</td>\n      <td>0</td>\n      <td>19</td>\n    </tr>\n    <tr>\n      <th>1</th>\n      <td>-2.033333</td>\n      <td>Google</td>\n      <td>0.078710</td>\n      <td>-0.608696</td>\n      <td>Exito</td>\n      <td>5000</td>\n      <td>Conversion</td>\n      <td>4</td>\n      <td>Google</td>\n      <td>1</td>\n      <td>11</td>\n    </tr>\n    <tr>\n      <th>2</th>\n      <td>0.600000</td>\n      <td>Google</td>\n      <td>0.433548</td>\n      <td>0.000000</td>\n      <td>Exito</td>\n      <td>5000</td>\n      <td>Conversion</td>\n      <td>6</td>\n      <td>Facebook</td>\n      <td>2</td>\n      <td>11</td>\n    </tr>\n    <tr>\n      <th>3</th>\n      <td>0.366667</td>\n      <td>Google</td>\n      <td>-0.193548</td>\n      <td>0.000000</td>\n      <td>Exito</td>\n      <td>5500</td>\n      <td>Conversion</td>\n      <td>4</td>\n      <td>Instagram</td>\n      <td>3</td>\n      <td>11</td>\n    </tr>\n    <tr>\n      <th>4</th>\n      <td>0.366667</td>\n      <td>Google</td>\n      <td>0.434839</td>\n      <td>0.391304</td>\n      <td>Exito</td>\n      <td>5500</td>\n      <td>Conversion</td>\n      <td>5</td>\n      <td>Instagram</td>\n      <td>4</td>\n      <td>14</td>\n    </tr>\n  </tbody>\n</table>\n</div>"
     },
     "execution_count": 43,
     "metadata": {},
     "output_type": "execute_result"
    }
   ],
   "source": [
    "from sklearn.preprocessing import RobustScaler\n",
    "rb_scaler = RobustScaler()\n",
    "df['conv_rate'] = rb_scaler.fit_transform(df[['conv_rate']])\n",
    "df.head()\n"
   ],
   "metadata": {
    "collapsed": false,
    "pycharm": {
     "name": "#%%\n"
    }
   }
  },
  {
   "cell_type": "markdown",
   "source": [
    "## Spend"
   ],
   "metadata": {
    "collapsed": false,
    "pycharm": {
     "name": "#%% md\n"
    }
   }
  },
  {
   "cell_type": "code",
   "execution_count": 44,
   "outputs": [
    {
     "data": {
      "text/plain": "<Figure size 720x360 with 2 Axes>",
      "image/png": "[encoded data removed]"
     },
     "metadata": {
      "needs_background": "light"
     },
     "output_type": "display_data"
    }
   ],
   "source": [
    "data_dist(df,'spend')"
   ],
   "metadata": {
    "collapsed": false,
    "pycharm": {
     "name": "#%%\n"
    }
   }
  },
  {
   "cell_type": "markdown",
   "source": [
    "AL ser una distribución normal con outliers , uso un escalado robusto"
   ],
   "metadata": {
    "collapsed": false,
    "pycharm": {
     "name": "#%% md\n"
    }
   }
  },
  {
   "cell_type": "code",
   "execution_count": 45,
   "outputs": [
    {
     "data": {
      "text/plain": "   Cost_per_lead Plataforma    clicks  conv_rate exito_15     spend  \\\n0      -2.033333     Google  0.078710  -0.608696    Exito -0.308166   \n1      -2.033333     Google  0.078710  -0.608696    Exito -0.308166   \n2       0.600000     Google  0.433548   0.000000    Exito -0.308166   \n3       0.366667     Google -0.193548   0.000000    Exito  0.462250   \n4       0.366667     Google  0.434839   0.391304    Exito  0.462250   \n\n  tipo_campaña  trend type_of_ad id  valor_de_yen  \n0   Conversion      4     Google  0            19  \n1   Conversion      4     Google  1            11  \n2   Conversion      6   Facebook  2            11  \n3   Conversion      4  Instagram  3            11  \n4   Conversion      5  Instagram  4            14  ",
      "text/html": "<div>\n<style scoped>\n    .dataframe tbody tr th:only-of-type {\n        vertical-align: middle;\n    }\n\n    .dataframe tbody tr th {\n        vertical-align: top;\n    }\n\n    .dataframe thead th {\n        text-align: right;\n    }\n</style>\n<table border=\"1\" class=\"dataframe\">\n  <thead>\n    <tr style=\"text-align: right;\">\n      <th></th>\n      <th>Cost_per_lead</th>\n      <th>Plataforma</th>\n      <th>clicks</th>\n      <th>conv_rate</th>\n      <th>exito_15</th>\n      <th>spend</th>\n      <th>tipo_campaña</th>\n      <th>trend</th>\n      <th>type_of_ad</th>\n      <th>id</th>\n      <th>valor_de_yen</th>\n    </tr>\n  </thead>\n  <tbody>\n    <tr>\n      <th>0</th>\n      <td>-2.033333</td>\n      <td>Google</td>\n      <td>0.078710</td>\n      <td>-0.608696</td>\n      <td>Exito</td>\n      <td>-0.308166</td>\n      <td>Conversion</td>\n      <td>4</td>\n      <td>Google</td>\n      <td>0</td>\n      <td>19</td>\n    </tr>\n    <tr>\n      <th>1</th>\n      <td>-2.033333</td>\n      <td>Google</td>\n      <td>0.078710</td>\n      <td>-0.608696</td>\n      <td>Exito</td>\n      <td>-0.308166</td>\n      <td>Conversion</td>\n      <td>4</td>\n      <td>Google</td>\n      <td>1</td>\n      <td>11</td>\n    </tr>\n    <tr>\n      <th>2</th>\n      <td>0.600000</td>\n      <td>Google</td>\n      <td>0.433548</td>\n      <td>0.000000</td>\n      <td>Exito</td>\n      <td>-0.308166</td>\n      <td>Conversion</td>\n      <td>6</td>\n      <td>Facebook</td>\n      <td>2</td>\n      <td>11</td>\n    </tr>\n    <tr>\n      <th>3</th>\n      <td>0.366667</td>\n      <td>Google</td>\n      <td>-0.193548</td>\n      <td>0.000000</td>\n      <td>Exito</td>\n      <td>0.462250</td>\n      <td>Conversion</td>\n      <td>4</td>\n      <td>Instagram</td>\n      <td>3</td>\n      <td>11</td>\n    </tr>\n    <tr>\n      <th>4</th>\n      <td>0.366667</td>\n      <td>Google</td>\n      <td>0.434839</td>\n      <td>0.391304</td>\n      <td>Exito</td>\n      <td>0.462250</td>\n      <td>Conversion</td>\n      <td>5</td>\n      <td>Instagram</td>\n      <td>4</td>\n      <td>14</td>\n    </tr>\n  </tbody>\n</table>\n</div>"
     },
     "execution_count": 45,
     "metadata": {},
     "output_type": "execute_result"
    }
   ],
   "source": [
    "from sklearn.preprocessing import RobustScaler\n",
    "rb_scaler = RobustScaler()\n",
    "df['spend'] = rb_scaler.fit_transform(df[['spend']])\n",
    "df.head()\n"
   ],
   "metadata": {
    "collapsed": false,
    "pycharm": {
     "name": "#%%\n"
    }
   }
  },
  {
   "cell_type": "markdown",
   "source": [
    "## Valor_del_yen"
   ],
   "metadata": {
    "collapsed": false,
    "pycharm": {
     "name": "#%% md\n"
    }
   }
  },
  {
   "cell_type": "code",
   "execution_count": 46,
   "outputs": [
    {
     "data": {
      "text/plain": "<Figure size 720x360 with 2 Axes>",
      "image/png": "[encoded data removed]"
     },
     "metadata": {
      "needs_background": "light"
     },
     "output_type": "display_data"
    }
   ],
   "source": [
    "data_dist(df,'valor_de_yen')"
   ],
   "metadata": {
    "collapsed": false,
    "pycharm": {
     "name": "#%%\n"
    }
   }
  },
  {
   "cell_type": "markdown",
   "source": [
    "Al ser una variable no normal, uso min max scaler"
   ],
   "metadata": {
    "collapsed": false,
    "pycharm": {
     "name": "#%% md\n"
    }
   }
  },
  {
   "cell_type": "code",
   "execution_count": 47,
   "outputs": [
    {
     "data": {
      "text/plain": "   Cost_per_lead Plataforma    clicks  conv_rate exito_15     spend  \\\n0      -2.033333     Google  0.078710  -0.608696    Exito -0.308166   \n1      -2.033333     Google  0.078710  -0.608696    Exito -0.308166   \n2       0.600000     Google  0.433548   0.000000    Exito -0.308166   \n3       0.366667     Google -0.193548   0.000000    Exito  0.462250   \n4       0.366667     Google  0.434839   0.391304    Exito  0.462250   \n\n  tipo_campaña  trend type_of_ad id  valor_de_yen  \n0   Conversion      4     Google  0           1.0  \n1   Conversion      4     Google  1          -0.6  \n2   Conversion      6   Facebook  2          -0.6  \n3   Conversion      4  Instagram  3          -0.6  \n4   Conversion      5  Instagram  4           0.0  ",
      "text/html": "<div>\n<style scoped>\n    .dataframe tbody tr th:only-of-type {\n        vertical-align: middle;\n    }\n\n    .dataframe tbody tr th {\n        vertical-align: top;\n    }\n\n    .dataframe thead th {\n        text-align: right;\n    }\n</style>\n<table border=\"1\" class=\"dataframe\">\n  <thead>\n    <tr style=\"text-align: right;\">\n      <th></th>\n      <th>Cost_per_lead</th>\n      <th>Plataforma</th>\n      <th>clicks</th>\n      <th>conv_rate</th>\n      <th>exito_15</th>\n      <th>spend</th>\n      <th>tipo_campaña</th>\n      <th>trend</th>\n      <th>type_of_ad</th>\n      <th>id</th>\n      <th>valor_de_yen</th>\n    </tr>\n  </thead>\n  <tbody>\n    <tr>\n      <th>0</th>\n      <td>-2.033333</td>\n      <td>Google</td>\n      <td>0.078710</td>\n      <td>-0.608696</td>\n      <td>Exito</td>\n      <td>-0.308166</td>\n      <td>Conversion</td>\n      <td>4</td>\n      <td>Google</td>\n      <td>0</td>\n      <td>1.0</td>\n    </tr>\n    <tr>\n      <th>1</th>\n      <td>-2.033333</td>\n      <td>Google</td>\n      <td>0.078710</td>\n      <td>-0.608696</td>\n      <td>Exito</td>\n      <td>-0.308166</td>\n      <td>Conversion</td>\n      <td>4</td>\n      <td>Google</td>\n      <td>1</td>\n      <td>-0.6</td>\n    </tr>\n    <tr>\n      <th>2</th>\n      <td>0.600000</td>\n      <td>Google</td>\n      <td>0.433548</td>\n      <td>0.000000</td>\n      <td>Exito</td>\n      <td>-0.308166</td>\n      <td>Conversion</td>\n      <td>6</td>\n      <td>Facebook</td>\n      <td>2</td>\n      <td>-0.6</td>\n    </tr>\n    <tr>\n      <th>3</th>\n      <td>0.366667</td>\n      <td>Google</td>\n      <td>-0.193548</td>\n      <td>0.000000</td>\n      <td>Exito</td>\n      <td>0.462250</td>\n      <td>Conversion</td>\n      <td>4</td>\n      <td>Instagram</td>\n      <td>3</td>\n      <td>-0.6</td>\n    </tr>\n    <tr>\n      <th>4</th>\n      <td>0.366667</td>\n      <td>Google</td>\n      <td>0.434839</td>\n      <td>0.391304</td>\n      <td>Exito</td>\n      <td>0.462250</td>\n      <td>Conversion</td>\n      <td>5</td>\n      <td>Instagram</td>\n      <td>4</td>\n      <td>0.0</td>\n    </tr>\n  </tbody>\n</table>\n</div>"
     },
     "execution_count": 47,
     "metadata": {},
     "output_type": "execute_result"
    }
   ],
   "source": [
    "from sklearn.preprocessing import RobustScaler\n",
    "rb_scaler = RobustScaler()\n",
    "df['valor_de_yen'] = rb_scaler.fit_transform(df[['valor_de_yen']])\n",
    "df.head()\n"
   ],
   "metadata": {
    "collapsed": false,
    "pycharm": {
     "name": "#%%\n"
    }
   }
  },
  {
   "cell_type": "markdown",
   "source": [
    "# 5. Variables categoricas (15 pts)\n",
    "a. Convertir variables categoricas a númericas, aplicar alguna de las tecnicas que vimos."
   ],
   "metadata": {
    "collapsed": false
   }
  },
  {
   "cell_type": "markdown",
   "source": [
    "Para plataforma y type_of_ad voy a convertir cada valor en una columna nueva de 0 y 1"
   ],
   "metadata": {
    "collapsed": false,
    "pycharm": {
     "name": "#%% md\n"
    }
   }
  },
  {
   "cell_type": "code",
   "execution_count": 48,
   "outputs": [
    {
     "data": {
      "text/plain": "[array(['Facebook', 'Google'], dtype=object)]"
     },
     "metadata": {},
     "output_type": "display_data"
    },
    {
     "data": {
      "text/plain": "array(['Plataforma_Facebook', 'Plataforma_Google'], dtype=object)"
     },
     "metadata": {},
     "output_type": "display_data"
    }
   ],
   "source": [
    "from sklearn.preprocessing import OneHotEncoder\n",
    "\n",
    "ohe = OneHotEncoder(sparse=False)\n",
    "ohe.fit(df[['Plataforma']])\n",
    "display(ohe.categories_)\n",
    "display(ohe.get_feature_names_out())\n",
    "platformtype_encoded = ohe.transform(df[['Plataforma']])\n",
    "\n",
    "df[ohe.get_feature_names_out()] = platformtype_encoded\n",
    "\n",
    "df.drop(columns='Plataforma', inplace = True)\n",
    "\n"
   ],
   "metadata": {
    "collapsed": false,
    "pycharm": {
     "name": "#%%\n"
    }
   }
  },
  {
   "cell_type": "code",
   "execution_count": 49,
   "outputs": [
    {
     "data": {
      "text/plain": "[array(['Facebook', 'Google', 'Instagram', 'Linkedin', 'Pinterest',\n        'Twitter', 'Youtube'], dtype=object)]"
     },
     "metadata": {},
     "output_type": "display_data"
    },
    {
     "data": {
      "text/plain": "array(['type_of_ad_Facebook', 'type_of_ad_Google', 'type_of_ad_Instagram',\n       'type_of_ad_Linkedin', 'type_of_ad_Pinterest',\n       'type_of_ad_Twitter', 'type_of_ad_Youtube'], dtype=object)"
     },
     "metadata": {},
     "output_type": "display_data"
    },
    {
     "data": {
      "text/plain": "     Cost_per_lead    clicks  conv_rate  exito_15     spend tipo_campaña  \\\n0        -2.033333  0.078710  -0.608696     Exito -0.308166   Conversion   \n1        -2.033333  0.078710  -0.608696     Exito -0.308166   Conversion   \n2         0.600000  0.433548   0.000000     Exito -0.308166   Conversion   \n3         0.366667 -0.193548   0.000000     Exito  0.462250   Conversion   \n4         0.366667  0.434839   0.391304     Exito  0.462250   Conversion   \n..             ...       ...        ...       ...       ...          ...   \n815       0.600000  0.518710   0.000000     Exito -0.180277   Conversion   \n816      -0.466667  0.664516   0.739130     Exito  0.368259         None   \n817       0.566667 -0.033548  -0.043478  No Exito  0.516179   Conversion   \n818      -0.466667 -0.656774  -0.565217  No Exito -0.292758   Conversion   \n819       0.700000  0.198710   0.043478  No Exito -0.409861   Conversion   \n\n     trend   id  valor_de_yen  Plataforma_Facebook  Plataforma_Google  \\\n0        4    0           1.0                  0.0                1.0   \n1        4    1          -0.6                  0.0                1.0   \n2        6    2          -0.6                  0.0                1.0   \n3        4    3          -0.6                  0.0                1.0   \n4        5    4           0.0                  0.0                1.0   \n..     ...  ...           ...                  ...                ...   \n815      6  815          -0.8                  0.0                1.0   \n816      4  816          -0.8                  0.0                1.0   \n817      4  817          -0.2                  1.0                0.0   \n818      4  818          -0.4                  0.0                1.0   \n819      4  819           0.2                  0.0                1.0   \n\n     type_of_ad_Facebook  type_of_ad_Google  type_of_ad_Instagram  \\\n0                    0.0                1.0                   0.0   \n1                    0.0                1.0                   0.0   \n2                    1.0                0.0                   0.0   \n3                    0.0                0.0                   1.0   \n4                    0.0                0.0                   1.0   \n..                   ...                ...                   ...   \n815                  1.0                0.0                   0.0   \n816                  0.0                0.0                   1.0   \n817                  0.0                0.0                   1.0   \n818                  0.0                0.0                   1.0   \n819                  0.0                0.0                   1.0   \n\n     type_of_ad_Linkedin  type_of_ad_Pinterest  type_of_ad_Twitter  \\\n0                    0.0                   0.0                 0.0   \n1                    0.0                   0.0                 0.0   \n2                    0.0                   0.0                 0.0   \n3                    0.0                   0.0                 0.0   \n4                    0.0                   0.0                 0.0   \n..                   ...                   ...                 ...   \n815                  0.0                   0.0                 0.0   \n816                  0.0                   0.0                 0.0   \n817                  0.0                   0.0                 0.0   \n818                  0.0                   0.0                 0.0   \n819                  0.0                   0.0                 0.0   \n\n     type_of_ad_Youtube  \n0                   0.0  \n1                   0.0  \n2                   0.0  \n3                   0.0  \n4                   0.0  \n..                  ...  \n815                 0.0  \n816                 0.0  \n817                 0.0  \n818                 0.0  \n819                 0.0  \n\n[817 rows x 18 columns]",
      "text/html": "<div>\n<style scoped>\n    .dataframe tbody tr th:only-of-type {\n        vertical-align: middle;\n    }\n\n    .dataframe tbody tr th {\n        vertical-align: top;\n    }\n\n    .dataframe thead th {\n        text-align: right;\n    }\n</style>\n<table border=\"1\" class=\"dataframe\">\n  <thead>\n    <tr style=\"text-align: right;\">\n      <th></th>\n      <th>Cost_per_lead</th>\n      <th>clicks</th>\n      <th>conv_rate</th>\n      <th>exito_15</th>\n      <th>spend</th>\n      <th>tipo_campaña</th>\n      <th>trend</th>\n      <th>id</th>\n      <th>valor_de_yen</th>\n      <th>Plataforma_Facebook</th>\n      <th>Plataforma_Google</th>\n      <th>type_of_ad_Facebook</th>\n      <th>type_of_ad_Google</th>\n      <th>type_of_ad_Instagram</th>\n      <th>type_of_ad_Linkedin</th>\n      <th>type_of_ad_Pinterest</th>\n      <th>type_of_ad_Twitter</th>\n      <th>type_of_ad_Youtube</th>\n    </tr>\n  </thead>\n  <tbody>\n    <tr>\n      <th>0</th>\n      <td>-2.033333</td>\n      <td>0.078710</td>\n      <td>-0.608696</td>\n      <td>Exito</td>\n      <td>-0.308166</td>\n      <td>Conversion</td>\n      <td>4</td>\n      <td>0</td>\n      <td>1.0</td>\n      <td>0.0</td>\n      <td>1.0</td>\n      <td>0.0</td>\n      <td>1.0</td>\n      <td>0.0</td>\n      <td>0.0</td>\n      <td>0.0</td>\n      <td>0.0</td>\n      <td>0.0</td>\n    </tr>\n    <tr>\n      <th>1</th>\n      <td>-2.033333</td>\n      <td>0.078710</td>\n      <td>-0.608696</td>\n      <td>Exito</td>\n      <td>-0.308166</td>\n      <td>Conversion</td>\n      <td>4</td>\n      <td>1</td>\n      <td>-0.6</td>\n      <td>0.0</td>\n      <td>1.0</td>\n      <td>0.0</td>\n      <td>1.0</td>\n      <td>0.0</td>\n      <td>0.0</td>\n      <td>0.0</td>\n      <td>0.0</td>\n      <td>0.0</td>\n    </tr>\n    <tr>\n      <th>2</th>\n      <td>0.600000</td>\n      <td>0.433548</td>\n      <td>0.000000</td>\n      <td>Exito</td>\n      <td>-0.308166</td>\n      <td>Conversion</td>\n      <td>6</td>\n      <td>2</td>\n      <td>-0.6</td>\n      <td>0.0</td>\n      <td>1.0</td>\n      <td>1.0</td>\n      <td>0.0</td>\n      <td>0.0</td>\n      <td>0.0</td>\n      <td>0.0</td>\n      <td>0.0</td>\n      <td>0.0</td>\n    </tr>\n    <tr>\n      <th>3</th>\n      <td>0.366667</td>\n      <td>-0.193548</td>\n      <td>0.000000</td>\n      <td>Exito</td>\n      <td>0.462250</td>\n      <td>Conversion</td>\n      <td>4</td>\n      <td>3</td>\n      <td>-0.6</td>\n      <td>0.0</td>\n      <td>1.0</td>\n      <td>0.0</td>\n      <td>0.0</td>\n      <td>1.0</td>\n      <td>0.0</td>\n      <td>0.0</td>\n      <td>0.0</td>\n      <td>0.0</td>\n    </tr>\n    <tr>\n      <th>4</th>\n      <td>0.366667</td>\n      <td>0.434839</td>\n      <td>0.391304</td>\n      <td>Exito</td>\n      <td>0.462250</td>\n      <td>Conversion</td>\n      <td>5</td>\n      <td>4</td>\n      <td>0.0</td>\n      <td>0.0</td>\n      <td>1.0</td>\n      <td>0.0</td>\n      <td>0.0</td>\n      <td>1.0</td>\n      <td>0.0</td>\n      <td>0.0</td>\n      <td>0.0</td>\n      <td>0.0</td>\n    </tr>\n    <tr>\n      <th>...</th>\n      <td>...</td>\n      <td>...</td>\n      <td>...</td>\n      <td>...</td>\n      <td>...</td>\n      <td>...</td>\n      <td>...</td>\n      <td>...</td>\n      <td>...</td>\n      <td>...</td>\n      <td>...</td>\n      <td>...</td>\n      <td>...</td>\n      <td>...</td>\n      <td>...</td>\n      <td>...</td>\n      <td>...</td>\n      <td>...</td>\n    </tr>\n    <tr>\n      <th>815</th>\n      <td>0.600000</td>\n      <td>0.518710</td>\n      <td>0.000000</td>\n      <td>Exito</td>\n      <td>-0.180277</td>\n      <td>Conversion</td>\n      <td>6</td>\n      <td>815</td>\n      <td>-0.8</td>\n      <td>0.0</td>\n      <td>1.0</td>\n      <td>1.0</td>\n      <td>0.0</td>\n      <td>0.0</td>\n      <td>0.0</td>\n      <td>0.0</td>\n      <td>0.0</td>\n      <td>0.0</td>\n    </tr>\n    <tr>\n      <th>816</th>\n      <td>-0.466667</td>\n      <td>0.664516</td>\n      <td>0.739130</td>\n      <td>Exito</td>\n      <td>0.368259</td>\n      <td>None</td>\n      <td>4</td>\n      <td>816</td>\n      <td>-0.8</td>\n      <td>0.0</td>\n      <td>1.0</td>\n      <td>0.0</td>\n      <td>0.0</td>\n      <td>1.0</td>\n      <td>0.0</td>\n      <td>0.0</td>\n      <td>0.0</td>\n      <td>0.0</td>\n    </tr>\n    <tr>\n      <th>817</th>\n      <td>0.566667</td>\n      <td>-0.033548</td>\n      <td>-0.043478</td>\n      <td>No Exito</td>\n      <td>0.516179</td>\n      <td>Conversion</td>\n      <td>4</td>\n      <td>817</td>\n      <td>-0.2</td>\n      <td>1.0</td>\n      <td>0.0</td>\n      <td>0.0</td>\n      <td>0.0</td>\n      <td>1.0</td>\n      <td>0.0</td>\n      <td>0.0</td>\n      <td>0.0</td>\n      <td>0.0</td>\n    </tr>\n    <tr>\n      <th>818</th>\n      <td>-0.466667</td>\n      <td>-0.656774</td>\n      <td>-0.565217</td>\n      <td>No Exito</td>\n      <td>-0.292758</td>\n      <td>Conversion</td>\n      <td>4</td>\n      <td>818</td>\n      <td>-0.4</td>\n      <td>0.0</td>\n      <td>1.0</td>\n      <td>0.0</td>\n      <td>0.0</td>\n      <td>1.0</td>\n      <td>0.0</td>\n      <td>0.0</td>\n      <td>0.0</td>\n      <td>0.0</td>\n    </tr>\n    <tr>\n      <th>819</th>\n      <td>0.700000</td>\n      <td>0.198710</td>\n      <td>0.043478</td>\n      <td>No Exito</td>\n      <td>-0.409861</td>\n      <td>Conversion</td>\n      <td>4</td>\n      <td>819</td>\n      <td>0.2</td>\n      <td>0.0</td>\n      <td>1.0</td>\n      <td>0.0</td>\n      <td>0.0</td>\n      <td>1.0</td>\n      <td>0.0</td>\n      <td>0.0</td>\n      <td>0.0</td>\n      <td>0.0</td>\n    </tr>\n  </tbody>\n</table>\n<p>817 rows × 18 columns</p>\n</div>"
     },
     "execution_count": 49,
     "metadata": {},
     "output_type": "execute_result"
    }
   ],
   "source": [
    "\n",
    "ohe = OneHotEncoder(sparse=False)\n",
    "ohe.fit(df[['type_of_ad']])\n",
    "display(ohe.categories_)\n",
    "display(ohe.get_feature_names_out())\n",
    "adtype_encoded = ohe.transform(df[['type_of_ad']])\n",
    "\n",
    "df[ohe.get_feature_names_out()] = adtype_encoded\n",
    "\n",
    "\n",
    "df.drop(columns='type_of_ad', inplace = True)\n",
    "df"
   ],
   "metadata": {
    "collapsed": false,
    "pycharm": {
     "name": "#%%\n"
    }
   }
  },
  {
   "cell_type": "code",
   "execution_count": 50,
   "outputs": [
    {
     "data": {
      "text/plain": "[array([ 2,  3,  4,  5,  6,  8, 12], dtype=int64)]"
     },
     "metadata": {},
     "output_type": "display_data"
    },
    {
     "data": {
      "text/plain": "array(['trend_2', 'trend_3', 'trend_4', 'trend_5', 'trend_6', 'trend_8',\n       'trend_12'], dtype=object)"
     },
     "metadata": {},
     "output_type": "display_data"
    }
   ],
   "source": [
    "ohe = OneHotEncoder(sparse=False)\n",
    "ohe.fit(df[['trend']])\n",
    "display(ohe.categories_)\n",
    "display(ohe.get_feature_names_out())\n",
    "month_encoded = ohe.transform(df[['trend']])\n",
    "\n",
    "df[ohe.get_feature_names_out()] = month_encoded\n",
    "\n",
    "\n",
    "df.drop(columns='trend', inplace = True)"
   ],
   "metadata": {
    "collapsed": false,
    "pycharm": {
     "name": "#%%\n"
    }
   }
  },
  {
   "cell_type": "code",
   "execution_count": 51,
   "outputs": [
    {
     "data": {
      "text/plain": "Conversion    766\nBranding       12\nName: tipo_campaña, dtype: int64"
     },
     "execution_count": 51,
     "metadata": {},
     "output_type": "execute_result"
    }
   ],
   "source": [
    "df.tipo_campaña.value_counts()"
   ],
   "metadata": {
    "collapsed": false,
    "pycharm": {
     "name": "#%%\n"
    }
   }
  },
  {
   "cell_type": "code",
   "execution_count": 52,
   "outputs": [
    {
     "data": {
      "text/plain": "No Exito             411\nExito                405\nNo Exito No Exito      1\nName: exito_15, dtype: int64"
     },
     "execution_count": 52,
     "metadata": {},
     "output_type": "execute_result"
    }
   ],
   "source": [
    "df.exito_15.value_counts()"
   ],
   "metadata": {
    "collapsed": false,
    "pycharm": {
     "name": "#%%\n"
    }
   }
  },
  {
   "cell_type": "markdown",
   "source": [
    "se ve que existe un valor no exito no exito , lo cual debe ser una error de haber imoutado \" no exito \" dos veces, por lo tanto,  reemplazaermos ese valor por \" No exito\""
   ],
   "metadata": {
    "collapsed": false,
    "pycharm": {
     "name": "#%% md\n"
    }
   }
  },
  {
   "cell_type": "code",
   "execution_count": 53,
   "outputs": [],
   "source": [
    "df.exito_15.replace(\"No Exito No Exito\",\"No Exito\",inplace= True)"
   ],
   "metadata": {
    "collapsed": false,
    "pycharm": {
     "name": "#%%\n"
    }
   }
  },
  {
   "cell_type": "markdown",
   "source": [
    "A las variables binarias como  el tipo de campaña  y el target , se transformarán sus valores en 0 y 1.\n"
   ],
   "metadata": {
    "collapsed": false,
    "pycharm": {
     "name": "#%% md\n"
    }
   }
  },
  {
   "cell_type": "code",
   "execution_count": 54,
   "outputs": [
    {
     "data": {
      "text/plain": "   Cost_per_lead    clicks  conv_rate  exito_15     spend  tipo_campaña id  \\\n0      -2.033333  0.078710  -0.608696       0.0 -0.308166           0.0  0   \n1      -2.033333  0.078710  -0.608696       0.0 -0.308166           0.0  1   \n2       0.600000  0.433548   0.000000       0.0 -0.308166           0.0  2   \n3       0.366667 -0.193548   0.000000       0.0  0.462250           0.0  3   \n4       0.366667  0.434839   0.391304       0.0  0.462250           0.0  4   \n\n   valor_de_yen  Plataforma_Facebook  Plataforma_Google  ...  \\\n0           1.0                  0.0                1.0  ...   \n1          -0.6                  0.0                1.0  ...   \n2          -0.6                  0.0                1.0  ...   \n3          -0.6                  0.0                1.0  ...   \n4           0.0                  0.0                1.0  ...   \n\n   type_of_ad_Pinterest  type_of_ad_Twitter  type_of_ad_Youtube  trend_2  \\\n0                   0.0                 0.0                 0.0      0.0   \n1                   0.0                 0.0                 0.0      0.0   \n2                   0.0                 0.0                 0.0      0.0   \n3                   0.0                 0.0                 0.0      0.0   \n4                   0.0                 0.0                 0.0      0.0   \n\n   trend_3  trend_4  trend_5  trend_6  trend_8  trend_12  \n0      0.0      1.0      0.0      0.0      0.0       0.0  \n1      0.0      1.0      0.0      0.0      0.0       0.0  \n2      0.0      0.0      0.0      1.0      0.0       0.0  \n3      0.0      1.0      0.0      0.0      0.0       0.0  \n4      0.0      0.0      1.0      0.0      0.0       0.0  \n\n[5 rows x 24 columns]",
      "text/html": "<div>\n<style scoped>\n    .dataframe tbody tr th:only-of-type {\n        vertical-align: middle;\n    }\n\n    .dataframe tbody tr th {\n        vertical-align: top;\n    }\n\n    .dataframe thead th {\n        text-align: right;\n    }\n</style>\n<table border=\"1\" class=\"dataframe\">\n  <thead>\n    <tr style=\"text-align: right;\">\n      <th></th>\n      <th>Cost_per_lead</th>\n      <th>clicks</th>\n      <th>conv_rate</th>\n      <th>exito_15</th>\n      <th>spend</th>\n      <th>tipo_campaña</th>\n      <th>id</th>\n      <th>valor_de_yen</th>\n      <th>Plataforma_Facebook</th>\n      <th>Plataforma_Google</th>\n      <th>...</th>\n      <th>type_of_ad_Pinterest</th>\n      <th>type_of_ad_Twitter</th>\n      <th>type_of_ad_Youtube</th>\n      <th>trend_2</th>\n      <th>trend_3</th>\n      <th>trend_4</th>\n      <th>trend_5</th>\n      <th>trend_6</th>\n      <th>trend_8</th>\n      <th>trend_12</th>\n    </tr>\n  </thead>\n  <tbody>\n    <tr>\n      <th>0</th>\n      <td>-2.033333</td>\n      <td>0.078710</td>\n      <td>-0.608696</td>\n      <td>0.0</td>\n      <td>-0.308166</td>\n      <td>0.0</td>\n      <td>0</td>\n      <td>1.0</td>\n      <td>0.0</td>\n      <td>1.0</td>\n      <td>...</td>\n      <td>0.0</td>\n      <td>0.0</td>\n      <td>0.0</td>\n      <td>0.0</td>\n      <td>0.0</td>\n      <td>1.0</td>\n      <td>0.0</td>\n      <td>0.0</td>\n      <td>0.0</td>\n      <td>0.0</td>\n    </tr>\n    <tr>\n      <th>1</th>\n      <td>-2.033333</td>\n      <td>0.078710</td>\n      <td>-0.608696</td>\n      <td>0.0</td>\n      <td>-0.308166</td>\n      <td>0.0</td>\n      <td>1</td>\n      <td>-0.6</td>\n      <td>0.0</td>\n      <td>1.0</td>\n      <td>...</td>\n      <td>0.0</td>\n      <td>0.0</td>\n      <td>0.0</td>\n      <td>0.0</td>\n      <td>0.0</td>\n      <td>1.0</td>\n      <td>0.0</td>\n      <td>0.0</td>\n      <td>0.0</td>\n      <td>0.0</td>\n    </tr>\n    <tr>\n      <th>2</th>\n      <td>0.600000</td>\n      <td>0.433548</td>\n      <td>0.000000</td>\n      <td>0.0</td>\n      <td>-0.308166</td>\n      <td>0.0</td>\n      <td>2</td>\n      <td>-0.6</td>\n      <td>0.0</td>\n      <td>1.0</td>\n      <td>...</td>\n      <td>0.0</td>\n      <td>0.0</td>\n      <td>0.0</td>\n      <td>0.0</td>\n      <td>0.0</td>\n      <td>0.0</td>\n      <td>0.0</td>\n      <td>1.0</td>\n      <td>0.0</td>\n      <td>0.0</td>\n    </tr>\n    <tr>\n      <th>3</th>\n      <td>0.366667</td>\n      <td>-0.193548</td>\n      <td>0.000000</td>\n      <td>0.0</td>\n      <td>0.462250</td>\n      <td>0.0</td>\n      <td>3</td>\n      <td>-0.6</td>\n      <td>0.0</td>\n      <td>1.0</td>\n      <td>...</td>\n      <td>0.0</td>\n      <td>0.0</td>\n      <td>0.0</td>\n      <td>0.0</td>\n      <td>0.0</td>\n      <td>1.0</td>\n      <td>0.0</td>\n      <td>0.0</td>\n      <td>0.0</td>\n      <td>0.0</td>\n    </tr>\n    <tr>\n      <th>4</th>\n      <td>0.366667</td>\n      <td>0.434839</td>\n      <td>0.391304</td>\n      <td>0.0</td>\n      <td>0.462250</td>\n      <td>0.0</td>\n      <td>4</td>\n      <td>0.0</td>\n      <td>0.0</td>\n      <td>1.0</td>\n      <td>...</td>\n      <td>0.0</td>\n      <td>0.0</td>\n      <td>0.0</td>\n      <td>0.0</td>\n      <td>0.0</td>\n      <td>0.0</td>\n      <td>1.0</td>\n      <td>0.0</td>\n      <td>0.0</td>\n      <td>0.0</td>\n    </tr>\n  </tbody>\n</table>\n<p>5 rows × 24 columns</p>\n</div>"
     },
     "execution_count": 54,
     "metadata": {},
     "output_type": "execute_result"
    }
   ],
   "source": [
    "from sklearn.preprocessing import OneHotEncoder\n",
    "\n",
    "binary_encoder = OneHotEncoder(sparse=False, drop='if_binary')\n",
    "df['tipo_campaña'] = binary_encoder.fit_transform(df[['tipo_campaña']])\n",
    "df['exito_15']= binary_encoder.fit_transform(df[['exito_15']])\n",
    "df.head()"
   ],
   "metadata": {
    "collapsed": false,
    "pycharm": {
     "name": "#%%\n"
    }
   }
  },
  {
   "cell_type": "markdown",
   "source": [
    "# 6. Modelo base (20 pts)\n",
    "a. Crear un modelo simple\n",
    "b. Crear una matriz de confusión.  (Interpretar)\n",
    "c. Evaluar rendimiento con una métrica"
   ],
   "metadata": {
    "collapsed": false
   }
  },
  {
   "cell_type": "markdown",
   "source": [
    "## a. Crear un modelo simple"
   ],
   "metadata": {
    "collapsed": false,
    "pycharm": {
     "name": "#%% md\n"
    }
   }
  },
  {
   "cell_type": "markdown",
   "source": [],
   "metadata": {
    "collapsed": false
   }
  },
  {
   "cell_type": "code",
   "execution_count": 55,
   "outputs": [
    {
     "data": {
      "text/plain": "1.0    50.428397\n0.0    49.571603\nName: exito_15, dtype: float64"
     },
     "execution_count": 55,
     "metadata": {},
     "output_type": "execute_result"
    }
   ],
   "source": [
    "df.exito_15.value_counts()/len(df)*100"
   ],
   "metadata": {
    "collapsed": false,
    "pycharm": {
     "name": "#%%\n"
    }
   }
  },
  {
   "cell_type": "markdown",
   "source": [
    "dividimos las variables dependenientes e independiente"
   ],
   "metadata": {
    "collapsed": false,
    "pycharm": {
     "name": "#%% md\n"
    }
   }
  },
  {
   "cell_type": "code",
   "execution_count": 56,
   "outputs": [],
   "source": [
    "X = df.drop(columns=['exito_15','id',])\n",
    "y = df['exito_15']"
   ],
   "metadata": {
    "collapsed": false,
    "pycharm": {
     "name": "#%%\n"
    }
   }
  },
  {
   "cell_type": "code",
   "execution_count": 57,
   "outputs": [],
   "source": [
    "\n",
    "from sklearn.model_selection import train_test_split\n",
    "X_train, X_test, y_train, y_test = train_test_split(X, y, test_size=0.3, random_state=10, )\n"
   ],
   "metadata": {
    "collapsed": false,
    "pycharm": {
     "name": "#%%\n"
    }
   }
  },
  {
   "cell_type": "code",
   "execution_count": 58,
   "outputs": [
    {
     "name": "stdout",
     "output_type": "stream",
     "text": [
      "Accuracy on test set:  0.9186991869918699\n"
     ]
    }
   ],
   "source": [
    "from sklearn.linear_model import LogisticRegression\n",
    "model = LogisticRegression()\n",
    "model.fit(X_train, y_train)\n",
    "y_pred = model.predict(X_test)\n",
    "print('Accuracy on test set: ', model.score(X_test, y_test))"
   ],
   "metadata": {
    "collapsed": false,
    "pycharm": {
     "name": "#%%\n"
    }
   }
  },
  {
   "cell_type": "markdown",
   "source": [
    "## Confusion matrix\n"
   ],
   "metadata": {
    "collapsed": false,
    "pycharm": {
     "name": "#%% md\n"
    }
   }
  },
  {
   "cell_type": "markdown",
   "source": [
    "choosing the correct one"
   ],
   "metadata": {
    "collapsed": false,
    "pycharm": {
     "name": "#%% md\n"
    }
   }
  },
  {
   "cell_type": "code",
   "execution_count": 59,
   "outputs": [],
   "source": [
    "yy_true = [0, 1, 0, 1, 0, 1, 0]\n",
    "yy_pred = [1, 1, 1, 0, 1, 0, 1]"
   ],
   "metadata": {
    "collapsed": false,
    "pycharm": {
     "name": "#%%\n"
    }
   }
  },
  {
   "cell_type": "markdown",
   "source": [
    "TP (True Positive) = 1\n",
    "\n",
    "FP (False Positive) = 4\n",
    "\n",
    "TN (True Negative) = 0\n",
    "\n",
    "FN (False Negative) = 2"
   ],
   "metadata": {
    "collapsed": false,
    "pycharm": {
     "name": "#%% md\n"
    }
   }
  },
  {
   "cell_type": "code",
   "execution_count": 60,
   "outputs": [
    {
     "data": {
      "text/plain": "array([[0, 4],\n       [2, 1]], dtype=int64)"
     },
     "execution_count": 60,
     "metadata": {},
     "output_type": "execute_result"
    }
   ],
   "source": [
    "from sklearn.metrics import confusion_matrix\n",
    "confusion_matrix(yy_true, yy_pred)"
   ],
   "metadata": {
    "collapsed": false,
    "pycharm": {
     "name": "#%%\n"
    }
   }
  },
  {
   "cell_type": "code",
   "execution_count": 61,
   "outputs": [
    {
     "data": {
      "text/plain": "array([[115,  13],\n       [  7, 111]], dtype=int64)"
     },
     "execution_count": 61,
     "metadata": {},
     "output_type": "execute_result"
    }
   ],
   "source": [
    "from sklearn.metrics import confusion_matrix\n",
    "confusion_matrix(y_test, y_pred)"
   ],
   "metadata": {
    "collapsed": false,
    "pycharm": {
     "name": "#%%\n"
    }
   }
  },
  {
   "cell_type": "code",
   "execution_count": 62,
   "outputs": [
    {
     "data": {
      "text/plain": "<Figure size 432x288 with 2 Axes>",
      "image/png": "[encoded data removed]"
     },
     "metadata": {
      "needs_background": "light"
     },
     "output_type": "display_data"
    },
    {
     "data": {
      "text/plain": "<Figure size 648x648 with 0 Axes>"
     },
     "metadata": {},
     "output_type": "display_data"
    }
   ],
   "source": [
    "from sklearn import metrics\n",
    "\n",
    "\n",
    "cm = metrics.confusion_matrix(yy_true, yy_pred)\n",
    "\n",
    "all_sample_title =' how to interpretate the confusion matrix'\n",
    "plt.title(all_sample_title, size=15)\n",
    "df_cm = pd.DataFrame( data= cm ,index = ['Real Negative: 0', 'Real Positive: 1'],\n",
    "                  columns = ['Predict Negative: 0', 'Predict Positive: 1'])\n",
    "matrix=sns.heatmap(df_cm, annot=True, fmt=\".3f\", linewidths=.5, square=True, cmap='PiYG')\n",
    "plt.figure(figsize=(9, 9))\n",
    "plt.show()"
   ],
   "metadata": {
    "collapsed": false,
    "pycharm": {
     "name": "#%%\n"
    }
   }
  },
  {
   "cell_type": "markdown",
   "source": [
    "If you add labels=[1,0] you get\n",
    "            TP FP\n",
    "            FN TN"
   ],
   "metadata": {
    "collapsed": false,
    "pycharm": {
     "name": "#%% md\n"
    }
   }
  },
  {
   "cell_type": "markdown",
   "source": [
    "## Metricas"
   ],
   "metadata": {
    "collapsed": false,
    "pycharm": {
     "name": "#%% md\n"
    }
   }
  },
  {
   "cell_type": "code",
   "execution_count": 64,
   "outputs": [
    {
     "name": "stdout",
     "output_type": "stream",
     "text": [
      "              precision    recall  f1-score   support\n",
      "\n",
      "         0.0       0.94      0.90      0.92       128\n",
      "         1.0       0.90      0.94      0.92       118\n",
      "\n",
      "    accuracy                           0.92       246\n",
      "   macro avg       0.92      0.92      0.92       246\n",
      "weighted avg       0.92      0.92      0.92       246\n",
      "\n"
     ]
    }
   ],
   "source": [
    "from sklearn.metrics import classification_report\n",
    "\n",
    "print(classification_report(y_test, y_pred))"
   ],
   "metadata": {
    "collapsed": false,
    "pycharm": {
     "name": "#%%\n"
    }
   }
  },
  {
   "cell_type": "code",
   "execution_count": 65,
   "outputs": [
    {
     "data": {
      "text/plain": "<Figure size 432x288 with 1 Axes>",
      "image/png": "[encoded data removed]"
     },
     "metadata": {
      "needs_background": "light"
     },
     "output_type": "display_data"
    }
   ],
   "source": [
    "from sklearn.metrics import roc_auc_score\n",
    "from sklearn.metrics import roc_curve\n",
    "\n",
    "logit_roc_auc = roc_auc_score(y_test, y_pred)\n",
    "fpr, tpr, thresholds = roc_curve(y_test, model.predict_proba(X_test)[:, 1])\n",
    "\n",
    "plt.figure()\n",
    "plt.plot(fpr, tpr, label='Logistic Regression (area=%0.2f)' % logit_roc_auc)\n",
    "plt.plot([0, 1], [0, 1], 'r--')\n",
    "plt.xlim([0.0, 1.0])\n",
    "plt.ylim([0.0, 1.05])\n",
    "plt.xlabel('False Positive Rate')\n",
    "plt.ylabel('True Positive Rate')\n",
    "plt.title('ROC Curve')\n",
    "plt.legend(loc='lower right')\n",
    "plt.show()"
   ],
   "metadata": {
    "collapsed": false,
    "pycharm": {
     "name": "#%%\n"
    }
   }
  },
  {
   "cell_type": "code",
   "execution_count": 66,
   "outputs": [],
   "source": [
    "confusion2 = metrics.confusion_matrix(y_test, y_pred )\n",
    "confusion2\n",
    "\n",
    "TP = confusion2[1,1] # true positive\n",
    "TN = confusion2[0,0] # true negatives\n",
    "FP = confusion2[0,1] # false positives\n",
    "FN = confusion2[1,0] # false negatives"
   ],
   "metadata": {
    "collapsed": false,
    "pycharm": {
     "name": "#%%\n"
    }
   }
  },
  {
   "cell_type": "code",
   "execution_count": 67,
   "outputs": [
    {
     "name": "stdout",
     "output_type": "stream",
     "text": [
      "Recall: 0.94\n",
      "Specificity: 0.9\n",
      "False postive rate : 0.1\n",
      "Precision: 0.9\n"
     ]
    }
   ],
   "source": [
    "#sensitivity\n",
    "Recall = TP / float(TP+FN)\n",
    "print(f\"Recall: {Recall.round(2)}\")\n",
    "#specificity\n",
    "specificity = TN / float(TN+FP)\n",
    "print(f\"Specificity: {specificity.round(2)}\")\n",
    "# false postive rate\n",
    "fprt = FP/ float(TN+FP)\n",
    "print(f\"False postive rate : {fprt.round(2)}\")\n",
    "# Positive predictive value\n",
    "ppv = TP / float(TP+FP)\n",
    "print(f\"Precision: {ppv.round(2)}\")"
   ],
   "metadata": {
    "collapsed": false,
    "pycharm": {
     "name": "#%%\n"
    }
   }
  },
  {
   "cell_type": "code",
   "execution_count": 70,
   "outputs": [
    {
     "data": {
      "text/plain": "0.8951612903225806"
     },
     "execution_count": 70,
     "metadata": {},
     "output_type": "execute_result"
    }
   ],
   "source": [
    "##### Chequeo Precision pero con la matriz de confusion\n",
    "confusion2[1, 1] / (confusion2[0, 1] + confusion2[1, 1])\n"
   ],
   "metadata": {
    "collapsed": false,
    "pycharm": {
     "name": "#%%\n"
    }
   }
  },
  {
   "cell_type": "code",
   "execution_count": 71,
   "outputs": [
    {
     "data": {
      "text/plain": "0.940677966101695"
     },
     "execution_count": 71,
     "metadata": {},
     "output_type": "execute_result"
    }
   ],
   "source": [
    "##### Chequeo el valor de Recall en matriz\n",
    "confusion2[1, 1] / (confusion2[1, 0] + confusion2[1, 1])\n"
   ],
   "metadata": {
    "collapsed": false,
    "pycharm": {
     "name": "#%%\n"
    }
   }
  },
  {
   "cell_type": "code",
   "execution_count": 72,
   "outputs": [
    {
     "name": "stdout",
     "output_type": "stream",
     "text": [
      "[0.94262295 0.89516129]\n",
      "0.8951612903225806\n"
     ]
    }
   ],
   "source": [
    "from sklearn.metrics import precision_score\n",
    "print(precision_score(y_test, y_pred, average=None))\n",
    "print(precision_score(y_test, y_pred))"
   ],
   "metadata": {
    "collapsed": false,
    "pycharm": {
     "name": "#%%\n"
    }
   }
  },
  {
   "cell_type": "code",
   "execution_count": 73,
   "outputs": [
    {
     "name": "stdout",
     "output_type": "stream",
     "text": [
      "[0.8984375  0.94067797]\n",
      "0.940677966101695\n"
     ]
    }
   ],
   "source": [
    "from sklearn.metrics import recall_score\n",
    "print(recall_score(y_test, y_pred, average=None))\n",
    "print(recall_score(y_test, y_pred))"
   ],
   "metadata": {
    "collapsed": false,
    "pycharm": {
     "name": "#%%\n"
    }
   }
  },
  {
   "cell_type": "code",
   "execution_count": 77,
   "outputs": [],
   "source": [
    "from imblearn.over_sampling import SMOTE\n",
    "\n",
    "\n",
    "smote = SMOTE(random_state=100)\n",
    "x_train, x_test, y_train, y_test = train_test_split(X, y, test_size=0.3, random_state=0)\n",
    "columns = x_train.columns\n",
    "\n",
    "smote_data_x,smote_data_y = smote. fit_resample(x_train, y_train)\n",
    "smote_data_x = pd.DataFrame(data=smote_data_x, columns=columns)\n",
    "smote_data_y = pd.DataFrame(data=smote_data_y, columns=['exito_15'])\n"
   ],
   "metadata": {
    "collapsed": false,
    "pycharm": {
     "name": "#%%\n"
    }
   }
  },
  {
   "cell_type": "code",
   "execution_count": 79,
   "outputs": [
    {
     "name": "stdout",
     "output_type": "stream",
     "text": [
      "Tamaño de la data antes de hacer oversampling:  571\n",
      "Data oversampleada:  578\n",
      "Clientes que no depositaron:  289\n",
      "Clientes que depositaron:  289\n"
     ]
    }
   ],
   "source": [
    "print('Tamaño de la data antes de hacer oversampling: ', len(x_train))\n",
    "print('Data oversampleada: ', len(smote_data_y))\n",
    "print('Clientes que no depositaron: ', len(smote_data_y[smote_data_y['exito_15'] == 0]))\n",
    "print('Clientes que depositaron: ', len(smote_data_y[smote_data_y['exito_15'] == 1]))"
   ],
   "metadata": {
    "collapsed": false,
    "pycharm": {
     "name": "#%%\n"
    }
   }
  },
  {
   "cell_type": "markdown",
   "source": [
    "# 7. Vizualizaciones"
   ],
   "metadata": {
    "collapsed": false,
    "pycharm": {
     "name": "#%% md\n"
    }
   }
  },
  {
   "cell_type": "code",
   "execution_count": null,
   "outputs": [],
   "source": [
    "df= pd.read_parquet('campañas_oline.parquet', engine='pyarrow')\n",
    "df.head()"
   ],
   "metadata": {
    "collapsed": false,
    "pycharm": {
     "name": "#%%\n"
    }
   }
  },
  {
   "cell_type": "markdown",
   "source": [],
   "metadata": {
    "collapsed": false,
    "pycharm": {
     "name": "#%% md\n"
    }
   }
  },
  {
   "cell_type": "code",
   "execution_count": null,
   "outputs": [],
   "source": [
    "import plotly.express as px\n",
    "df['exito_15']=1\n",
    "fig=px.pie(df, names=\"type_of_ad\", values='exito_15',hole=0.6, title=\"Platforms success\")\n",
    "fig.update_traces(textposition='outside', textinfo='percent+label')\n",
    "fig.update_layout(title_text=\"success percentage\",\n",
    "                  annotations=[dict(text='platforms', x=0.5, y=0.5, font_size=10, showarrow=False)])"
   ],
   "metadata": {
    "collapsed": false,
    "pycharm": {
     "name": "#%%\n"
    }
   }
  },
  {
   "cell_type": "code",
   "execution_count": null,
   "outputs": [],
   "source": [
    "month=df[\"trend\"].value_counts()\n",
    "plt.figure(figsize=(20,8))\n",
    "sns.pointplot(x=month.index, y=month.values, color='violet')\n",
    "plt.xlabel(\"Construction year\")\n",
    "plt.ylabel(\"Count\")\n",
    "plt.title(\"Construction year\", size=30);"
   ],
   "metadata": {
    "collapsed": false,
    "pycharm": {
     "name": "#%%\n"
    }
   }
  },
  {
   "cell_type": "markdown",
   "source": [],
   "metadata": {
    "collapsed": false
   }
  }
 ],
 "metadata": {
  "kernelspec": {
   "display_name": "Python 3",
   "language": "python",
   "name": "python3"
  },
  "language_info": {
   "codemirror_mode": {
    "name": "ipython",
    "version": 2
   },
   "file_extension": ".py",
   "mimetype": "text/x-python",
   "name": "python",
   "nbconvert_exporter": "python",
   "pygments_lexer": "ipython2",
   "version": "2.7.6"
  }
 },
 "nbformat": 4,
 "nbformat_minor": 0
}