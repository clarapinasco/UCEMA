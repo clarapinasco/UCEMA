{
 "cells": [
  {
   "cell_type": "code",
   "execution_count": 4,
   "metadata": {
    "collapsed": true
   },
   "outputs": [],
   "source": [
    "import pandas as pd\n",
    "web=pd.read_parquet('navegacion_web.pq', engine='pyarrow')\n"
   ]
  },
  {
   "cell_type": "code",
   "source": [
    "web.columns"
   ],
   "metadata": {
    "collapsed": false,
    "pycharm": {
     "name": "#%%\n"
    }
   },
   "execution_count": 6,
   "outputs": [
    {
     "data": {
      "text/plain": "Index(['user_id', 'device_id', 'session_id', 'device_model',\n       'min_session_time', 'total_previous_sessions', 'total_previous_events',\n       'date_short', 'total_previous_vipphoto_selected',\n       'total_previous_vip360view_selected',\n       'total_previous_catalogfilter_selected', 'total_previous_vip_viewed',\n       'total_previous_cataloglist_viewed', 'total_previous_home_viewed',\n       'total_previous_year_selected', 'total_previous_make_selected',\n       'total_previous_model_selected', 'total_previous_version_selected',\n       'total_previous_mileage_selected', 'total_previous_location_selected',\n       'total_previous_color_selected', 'city', 'region',\n       'time_on_screen_prev', 'min_total_sessions_prev',\n       'all_total_sessions_prev', 'total_sessions_prev', 'stock_id', 'date',\n       'user_with_reserve', 'reserved', 'avg_time_previous_sessions'],\n      dtype='object')"
     },
     "execution_count": 6,
     "metadata": {},
     "output_type": "execute_result"
    }
   ]
  },
  {
   "cell_type": "markdown",
   "source": [
    "min_session_time\n",
    "total_previous_vipphoto_selected= ¿auto?\n",
    "total_previous_catalogfilter_selected= sell a car?\n",
    "total_previous_vip_viewed=\n",
    "total_previous_cataloglist_viewed=\n",
    "total_previous_year_selected= filter in buy a car\n",
    "total_previous_make_selected=\n",
    "total_previous_model_selected=filter in buy a car\n",
    "total_previous_version_selected=filter in buy a car\n",
    "total_previous_version_selected= filter in buy a cr\n",
    "total_previous_mileage_selected=filter in buy a cr\n",
    "total_previous_location_selected=filter in buy a cr\n",
    "total_previous_color_selected=filter in buy a cr\n",
    "all_total_sessions_prev vs total_previous_sessions vs all_total_previous_sessions\n",
    "stock_id\n",
    "date\n",
    "user_with_reserve\n",
    "reserved = boolean (dif con user_with_reserve)\n",
    "avg_time_previous_sessions = ... medida\n"
   ],
   "metadata": {
    "collapsed": false,
    "pycharm": {
     "name": "#%% md\n"
    }
   }
  },
  {
   "cell_type": "code",
   "execution_count": 8,
   "outputs": [
    {
     "data": {
      "text/plain": "array([0., 1.])"
     },
     "execution_count": 8,
     "metadata": {},
     "output_type": "execute_result"
    }
   ],
   "source": [
    "web.user_with_reserve.unique()"
   ],
   "metadata": {
    "collapsed": false,
    "pycharm": {
     "name": "#%%\n"
    }
   }
  }
 ],
 "metadata": {
  "kernelspec": {
   "display_name": "Python 3",
   "language": "python",
   "name": "python3"
  },
  "language_info": {
   "codemirror_mode": {
    "name": "ipython",
    "version": 2
   },
   "file_extension": ".py",
   "mimetype": "text/x-python",
   "name": "python",
   "nbconvert_exporter": "python",
   "pygments_lexer": "ipython2",
   "version": "2.7.6"
  }
 },
 "nbformat": 4,
 "nbformat_minor": 0
}