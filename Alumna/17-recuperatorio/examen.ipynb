{
 "cells": [
  {
   "cell_type": "markdown",
   "source": [
    "# Examen\n",
    "\n",
    "Era un taller sucio, donde el agua goteaba del techo y se acumulaba en el suelo, formando charcos irregulares. Las luces oxidadas y las paredes descascaradas, eran el escenario y los mecánicos, con sus manos engrasadas y sus brazos cubiertos de cicatrices, eran las estrellas de este espectáculo. Se movían con precisión, casi cómo un baile, entre las herramientas y las piezas de los vehículos que estaban reparando. La belleza, no era solo la de un ballet, estos hombres se consideraban a sí mismos científicos. Registraban cada detalle de sus trabajos en una base de datos detallada. La locura y la obsesión se combinaban. Entre el caos, gritos, cantos y alaridos de extasis, se podía ver un brillo de método científico.\n",
    "\n",
    "El taller se llamaba \"LOCOSconMotores 2000\" y el supervisor a cargo tenía cómo apodo Piston. Este tenía una visión particular sobre los autos: creía que cada uno tenía su propia personalidad y su propia historia. Él sostenía que, al igual que cada persona es única, cada auto es único y tiene su propio carácter. Piston siempre trataba a cada auto con respeto y cuidado, ya que cada uno tenía su propio valor. Como una figura importante en el mundo de la psicología y la filosofía, Piston afirmaba un fundamentalismo extremo por cultivar la individualidad y el respeto por uno mismo y por los demás, a la par que consideraba a los autos a la par que sus subordinados.\n",
    "\n",
    "\"El ojo de Kybalion\" era el nombre de la base de datos e incluía: el tipo de motor, la marca del auto, el tiempo de reparación en minutos, la cantidad de ruedas a reemplazar, la fecha de nacimiento o elaboración del auto, el signo del zoodíaco del auto y la cantidad de kilómetros recorridos.\n",
    "\n",
    "La base de datos continuaba registrando cada detalle, cómo testigo silencioso del paso del tiempo. Las hipótesis de los mecánicos sobre las razones de las roturas eran cada vez más vehementes. El nivel de desquicio y violencia fue tan grande que decidieron contratar alguien capaz de terminar con esas discusiones antes de que fuese demasiado tarde.\n",
    "\n",
    "Te contrataron a vos: Tu tarea cómo científico de datos con conocimiento es en python y machine learning es separar la locura de la razón, debatir con cada mecánico sus creencias para luego proponer una fórmula que describa las razones de las roturas y además pueda mejorar la eficiencia del taller mecánico.\n",
    "\n",
    "\n",
    "**\"El ojo de Kybalion\"**\n",
    "https://drive.google.com/file/d/1v6GNyAO4FDwTXct_4jqEFSnGYeqV2hKZ/view?usp=share_link\n",
    "\n",
    "\n",
    "**A) Chequee cada una de estas hipótesis con gráficos y Análisis de las distribuciones de las variables. (32pts)**\n",
    "\n",
    "1. Pepe cree que cómo el auto más reparado en el taller fueron los Toyota, todos ya saben cómo repararlos y por eso son más eficientes a la hora de repararlos. (4pts/32pts)\n",
    "2. \"El Tuerca\" tallerista antiguo, sostiene que los autos nuevos tiene muchas \"mañas\" y por lo tanto tardan muchisimo en repararse. -crea la variable \"edad_del_auto\" para verificar esta hipótesis. Tené en cuenta el año en que estas haciendo el examen.(4pts/32pts)\n",
    "3. \"Pistón\", sostiene que depende del signo del zoodíaco, los autos de \"sagitario\", dice, son más divertidos, extrovertidos, tienen buena fortuna y son fáciles conversadores, por lo tanto tardan menos en repararse.(4pts/32pts)\n",
    "4. \"El Oso\", fanático de Elon Musk, sostiene que los autos eléctricos son los más eficientes y por lo tanto tardan menos en repararse.(4pts/32pts)\n",
    "5. \"Bujía\", sostiene que los autos diesel son los más eficientes y por lo tanto tardan menos en repararse.(4pts/32pts)\n",
    "6. \"Inflador\", sostiene que los autos con más de 50.000 km recorridos tardan más en repararse.(4pts/32pts)\n",
    "7. \"Gomón\" está seguro que los autos que sólo le cambiaron 4 ruedas y son \"electricos\" tardan menos en repararse(4pts/32pts)\n",
    "8. \"Lovorne\" Cree que los Ford con más Kms tardan menos en repararse.(4pts/32pts)\n",
    "\n",
    "**B) Crear una hipotesis personal e intente verificarla con los datos.(8pts)**\n",
    "\n",
    "Del estilo \"Los autos Toyota de sagitario tardan menos en repararse\"\n",
    "\n",
    "**C) Cree un modelo de machine learning para predecir la variable que usted considera más importante, en función de las variables que usted considere. (30pts)**\n",
    "* Modelo (10 pts / 30pts)\n",
    "* Verificar con el modelo lo siguiente:\n",
    "    - \"Valvula\" Sostiene que la cantidad de ruedas a reemplazar no influye en nada.  (10pts / 30pts)\n",
    "    - \"Pistón\" está tan peleado con \"Inflador\" y dice que necesita una prueba científica para que le demuestren que la variable cantidad_de_kilometros es representativa.(10pts / 30pts)\n",
    "\n",
    "\n",
    "**D) Evalue el modelo con la formula de MAPE: mean_absolute_percentage_error. ¿Que significa el error? Interprete la formula. (5pts)**\n",
    "\n",
    "**E) Interprete los coeficientes?. Cual es la intuición del modelo? Explique la formula que representa al modelo con tus palabras? Se verifica que la marca del auto impacta o que el tipo de motor y la edad impacta? Cuanto? (5pts)**\n",
    "\n",
    "**F) Tengo fotos de accidentes de autos de una empresa de seguros. En las cuales actualmente cada perito de seguro evalua foto a foto el valor de los daños que tiene el auto. Por ultimo luego de una evaluación minuciosa de muchas variables más que las fotos, el perito dictamina el probable costo a pagar por el total de las reparaciones.   (20pts)**\n",
    "1. Explicar por qué resolverías esta tarea con Machine Learning.  (5pts / 20pts)\n",
    "2. ¿Cuales crearías que son las variables que afectarían al modelo y por qué? (5pts / 20pts)\n",
    "3. ¿Como la predicción impactaría al beneficio en el negocio de los seguros? (5pts / 20pts)\n",
    "4. ¿Como se evaluaría la eficacia del modelo? (5pts / 20pts)"
   ],
   "metadata": {
    "collapsed": false
   }
  },
  {
   "cell_type": "code",
   "execution_count": null,
   "outputs": [],
   "source": [
    "import pandas as pd\n",
    "import numpy as np\n",
    "import seaborn as sns\n",
    "import matplotlib as plt\n",
    "import warnings\n",
    "warnings.filterwarnings('ignore')"
   ],
   "metadata": {
    "collapsed": false,
    "pycharm": {
     "name": "#%%\n",
     "is_executing": true
    }
   }
  },
  {
   "cell_type": "code",
   "execution_count": null,
   "outputs": [],
   "source": [
    "df =pd.read_csv('taller_mecanico.csv')"
   ],
   "metadata": {
    "collapsed": false,
    "pycharm": {
     "name": "#%%\n",
     "is_executing": true
    }
   }
  },
  {
   "cell_type": "code",
   "execution_count": null,
   "outputs": [],
   "source": [
    "df.head()"
   ],
   "metadata": {
    "collapsed": false,
    "pycharm": {
     "name": "#%%\n",
     "is_executing": true
    }
   }
  },
  {
   "cell_type": "markdown",
   "source": [
    "# Chequeo de nulos"
   ],
   "metadata": {
    "collapsed": false,
    "pycharm": {
     "name": "#%% md\n"
    }
   }
  },
  {
   "cell_type": "code",
   "execution_count": null,
   "outputs": [],
   "source": [
    "def percentageOfnull(df):\n",
    "    nan_count = df.isna().sum().sort_values(ascending=False)\n",
    "    nan_percentage = ((df.isna().sum()/df.isna().count())*100).sort_values(ascending=False)\n",
    "    train_test_dtype = df.dtypes\n",
    "    df_info = pd.concat([nan_count,nan_percentage,train_test_dtype],axis=1,keys=['Null Count','Null Percentage','DataTypes'])\n",
    "    return df_info[df_info['Null Count']>0]\n",
    "percentageOfnull(df)"
   ],
   "metadata": {
    "collapsed": false,
    "pycharm": {
     "name": "#%%\n",
     "is_executing": true
    }
   }
  },
  {
   "cell_type": "markdown",
   "source": [
    "Existe una sola columna con nulos y como son pocos y se trata de una fecha, no lo voy a imputar por la mediana  sino borrarlos"
   ],
   "metadata": {
    "collapsed": false,
    "pycharm": {
     "name": "#%% md\n"
    }
   }
  },
  {
   "cell_type": "code",
   "execution_count": null,
   "outputs": [],
   "source": [
    "df= df.dropna()"
   ],
   "metadata": {
    "collapsed": false,
    "pycharm": {
     "name": "#%%\n",
     "is_executing": true
    }
   }
  },
  {
   "cell_type": "markdown",
   "source": [
    "# Outliers"
   ],
   "metadata": {
    "collapsed": false,
    "pycharm": {
     "name": "#%% md\n"
    }
   }
  },
  {
   "cell_type": "code",
   "execution_count": null,
   "outputs": [],
   "source": [
    "df.describe()"
   ],
   "metadata": {
    "collapsed": false,
    "pycharm": {
     "name": "#%%\n",
     "is_executing": true
    }
   }
  },
  {
   "cell_type": "markdown",
   "source": [
    "## Kilometros"
   ],
   "metadata": {
    "collapsed": false,
    "pycharm": {
     "name": "#%% md\n"
    }
   }
  },
  {
   "cell_type": "code",
   "execution_count": null,
   "outputs": [],
   "source": [
    "(df.cantidad_de_kilometros <0).sum()"
   ],
   "metadata": {
    "collapsed": false,
    "pycharm": {
     "name": "#%%\n",
     "is_executing": true
    }
   }
  },
  {
   "cell_type": "code",
   "execution_count": null,
   "outputs": [],
   "source": [
    "filtro=df.cantidad_de_kilometros <0\n",
    "df[filtro].cantidad_de_kilometros"
   ],
   "metadata": {
    "collapsed": false,
    "pycharm": {
     "name": "#%%\n",
     "is_executing": true
    }
   }
  },
  {
   "cell_type": "markdown",
   "source": [
    "Existen kilometros menores a 0...  por lo que seras eliminados o imputados por la mediana"
   ],
   "metadata": {
    "collapsed": false,
    "pycharm": {
     "name": "#%% md\n"
    }
   }
  },
  {
   "cell_type": "code",
   "execution_count": null,
   "outputs": [],
   "source": [
    "df.replace(-888,np.nan,inplace= True)"
   ],
   "metadata": {
    "collapsed": false,
    "pycharm": {
     "name": "#%%\n",
     "is_executing": true
    }
   }
  },
  {
   "cell_type": "code",
   "execution_count": null,
   "outputs": [],
   "source": [
    "df['cantidad_de_kilometros'].fillna(df.cantidad_de_kilometros.mode()[0], inplace = True)"
   ],
   "metadata": {
    "collapsed": false,
    "pycharm": {
     "name": "#%%\n",
     "is_executing": true
    }
   }
  },
  {
   "cell_type": "markdown",
   "source": [
    "## tiempo de reparacionm\n"
   ],
   "metadata": {
    "collapsed": false,
    "pycharm": {
     "name": "#%% md\n"
    }
   }
  },
  {
   "cell_type": "code",
   "execution_count": null,
   "outputs": [],
   "source": [
    "df.nlargest(10,'tiempo_de_reparacion')"
   ],
   "metadata": {
    "collapsed": false,
    "pycharm": {
     "name": "#%%\n",
     "is_executing": true
    }
   }
  },
  {
   "cell_type": "code",
   "execution_count": null,
   "outputs": [],
   "source": [
    "sns.boxplot(df.tiempo_de_reparacion)"
   ],
   "metadata": {
    "collapsed": false,
    "pycharm": {
     "name": "#%%\n",
     "is_executing": true
    }
   }
  },
  {
   "cell_type": "markdown",
   "source": [
    "Existen aotliers pero no aparentan ser datos erroneos por lo que no serán eliminados"
   ],
   "metadata": {
    "collapsed": false,
    "pycharm": {
     "name": "#%% md\n"
    }
   }
  },
  {
   "cell_type": "markdown",
   "source": [
    "# **A) Chequee cada una de estas hipótesis con gráficos y Análisis de las distribuciones de las variables. (32pts)**"
   ],
   "metadata": {
    "collapsed": false
   }
  },
  {
   "cell_type": "markdown",
   "source": [
    "## 1. Pepe cree que cómo el auto más reparado en el taller fueron los Toyota, todos ya saben cómo repararlos y por eso son más eficientes a la hora de repararlos. (4pts/32pts)"
   ],
   "metadata": {
    "collapsed": false,
    "pycharm": {
     "name": "#%% md\n"
    }
   }
  },
  {
   "cell_type": "markdown",
   "source": [
    "cada registro del datset es un auto en reparación . Por lo tanto , si toyota fue el más reparado , tendria que ser el valor que más se repite\n",
    "Si fuera el más eficiente, debeía ser el que menos tarde en repararse"
   ],
   "metadata": {
    "collapsed": false,
    "pycharm": {
     "name": "#%% md\n"
    }
   }
  },
  {
   "cell_type": "code",
   "execution_count": null,
   "outputs": [],
   "source": [
    "df.marca_del_auto.value_counts()"
   ],
   "metadata": {
    "collapsed": false,
    "pycharm": {
     "name": "#%%\n",
     "is_executing": true
    }
   }
  },
  {
   "cell_type": "code",
   "execution_count": null,
   "outputs": [],
   "source": [
    "df.cantidad_de_ruedas_a_reemplazar.value_counts()"
   ],
   "metadata": {
    "collapsed": false,
    "pycharm": {
     "name": "#%%\n",
     "is_executing": true
    }
   }
  },
  {
   "cell_type": "code",
   "execution_count": null,
   "outputs": [],
   "source": [
    "df.tiempo_de_reparacion.min()"
   ],
   "metadata": {
    "collapsed": false,
    "pycharm": {
     "name": "#%%\n",
     "is_executing": true
    }
   }
  },
  {
   "cell_type": "code",
   "execution_count": null,
   "outputs": [],
   "source": [
    "df.tiempo_de_reparacion.describe()"
   ],
   "metadata": {
    "collapsed": false,
    "pycharm": {
     "name": "#%%\n",
     "is_executing": true
    }
   }
  },
  {
   "cell_type": "code",
   "execution_count": null,
   "outputs": [],
   "source": [
    "eficientes= df.loc[df.tiempo_de_reparacion <894]\n",
    "eficientes.marca_del_auto.value_counts()"
   ],
   "metadata": {
    "collapsed": false,
    "pycharm": {
     "name": "#%%\n",
     "is_executing": true
    }
   }
  },
  {
   "cell_type": "markdown",
   "source": [
    "Toyota no es ni el auto más reparado ni el más eficiente a la hora reparar"
   ],
   "metadata": {
    "collapsed": false,
    "pycharm": {
     "name": "#%% md\n"
    }
   }
  },
  {
   "cell_type": "markdown",
   "source": [
    "## 2.“El Tuerca” tallerista antiguo, sostiene que los autos nuevos tiene muchas “mañas” y por lo tanto tardan muchisimo en repararse. -crea la variable “edad_del_auto” para verificar esta hipótesis. Tené en cuenta el año en que estas haciendo el examen.(4pts/32pts)"
   ],
   "metadata": {
    "collapsed": false,
    "pycharm": {
     "name": "#%% md\n"
    }
   }
  },
  {
   "cell_type": "code",
   "execution_count": null,
   "outputs": [],
   "source": [
    "df.fecha_de_elaboracion_del_auto.dtypes"
   ],
   "metadata": {
    "collapsed": false,
    "pycharm": {
     "name": "#%%\n",
     "is_executing": true
    }
   }
  },
  {
   "cell_type": "markdown",
   "source": [
    "Para extraer el año , hay que pasarlo a datetime"
   ],
   "metadata": {
    "collapsed": false,
    "pycharm": {
     "name": "#%% md\n"
    }
   }
  },
  {
   "cell_type": "code",
   "execution_count": null,
   "outputs": [],
   "source": [
    "df.fecha_de_elaboracion_del_auto"
   ],
   "metadata": {
    "collapsed": false,
    "pycharm": {
     "name": "#%%\n",
     "is_executing": true
    }
   }
  },
  {
   "cell_type": "markdown",
   "source": [],
   "metadata": {
    "collapsed": false
   }
  },
  {
   "cell_type": "code",
   "execution_count": null,
   "outputs": [],
   "source": [
    "\n",
    "#df.fecha_de_elaboracion_del_auto = pd.to_datetime(df.fecha_de_elaboracion_del_auto)"
   ],
   "metadata": {
    "collapsed": false,
    "pycharm": {
     "name": "#%%\n",
     "is_executing": true
    }
   }
  },
  {
   "cell_type": "code",
   "execution_count": null,
   "outputs": [],
   "source": [
    "#df['edad_del_auto']=pd.DatetimeIndex(df['fecha_de_elaboracion_del_auto']).year"
   ],
   "metadata": {
    "collapsed": false,
    "pycharm": {
     "name": "#%%\n",
     "is_executing": true
    }
   }
  },
  {
   "cell_type": "code",
   "execution_count": null,
   "outputs": [],
   "source": [
    "df['edad_del_auto']= df.fecha_de_elaboracion_del_auto"
   ],
   "metadata": {
    "collapsed": false,
    "pycharm": {
     "name": "#%%\n",
     "is_executing": true
    }
   }
  },
  {
   "cell_type": "markdown",
   "source": [
    "Como solo tengo el año, voy a dejarlo como esta."
   ],
   "metadata": {
    "collapsed": false,
    "pycharm": {
     "name": "#%% md\n"
    }
   }
  },
  {
   "cell_type": "code",
   "execution_count": null,
   "outputs": [],
   "source": [
    "df.edad_del_auto.describe()"
   ],
   "metadata": {
    "collapsed": false,
    "pycharm": {
     "name": "#%%\n",
     "is_executing": true
    }
   }
  },
  {
   "cell_type": "code",
   "execution_count": null,
   "outputs": [],
   "source": [
    "df.fecha_de_elaboracion_del_auto"
   ],
   "metadata": {
    "collapsed": false,
    "pycharm": {
     "name": "#%%\n",
     "is_executing": true
    }
   }
  },
  {
   "cell_type": "markdown",
   "source": [
    "## “Pistón”, sostiene que depende del signo del zoodíaco, los autos de “sagitario”, dice, son más divertidos, extrovertidos, tienen buena fortuna y son fáciles conversadores, por lo tanto tardan menos en repararse.(4pts/32pts)"
   ],
   "metadata": {
    "collapsed": false,
    "pycharm": {
     "name": "#%% md\n"
    }
   }
  },
  {
   "cell_type": "markdown",
   "source": [
    "No hace falta hacer un analisis de datos para refutar la teoria de piston, pero vamos a mostrarle con numeros que lo que dice esta mal"
   ],
   "metadata": {
    "collapsed": false,
    "pycharm": {
     "name": "#%% md\n"
    }
   }
  },
  {
   "cell_type": "code",
   "execution_count": null,
   "outputs": [],
   "source": [
    "eficientes.signo_del_auto.value_counts()"
   ],
   "metadata": {
    "collapsed": false,
    "pycharm": {
     "name": "#%%\n",
     "is_executing": true
    }
   }
  },
  {
   "cell_type": "markdown",
   "source": [
    "## “El Oso”, fanático de Elon Musk, sostiene que los autos eléctricos son los más eficientes y por lo tanto tardan menos en repararse.(4pts/32pts"
   ],
   "metadata": {
    "collapsed": false,
    "pycharm": {
     "name": "#%% md\n"
    }
   }
  },
  {
   "cell_type": "code",
   "execution_count": null,
   "outputs": [],
   "source": [
    "eficientes.tipo_de_motor.value_counts()"
   ],
   "metadata": {
    "collapsed": false,
    "pycharm": {
     "name": "#%%\n",
     "is_executing": true
    }
   }
  },
  {
   "cell_type": "markdown",
   "source": [
    "Se ve que son menos pero puede ser porque existen menos autos electicos"
   ],
   "metadata": {
    "collapsed": false,
    "pycharm": {
     "name": "#%% md\n"
    }
   }
  },
  {
   "cell_type": "code",
   "execution_count": null,
   "outputs": [],
   "source": [
    "df.tipo_de_motor.value_counts()"
   ],
   "metadata": {
    "collapsed": false,
    "pycharm": {
     "name": "#%%\n",
     "is_executing": true
    }
   }
  },
  {
   "cell_type": "markdown",
   "source": [
    "Los autos que menos tardan son los diesel en terminos relativos y absolutos"
   ],
   "metadata": {
    "collapsed": false,
    "pycharm": {
     "name": "#%% md\n"
    }
   }
  },
  {
   "cell_type": "code",
   "execution_count": null,
   "outputs": [],
   "source": [
    "df.tiempo_de_reparacion.max()"
   ],
   "metadata": {
    "collapsed": false,
    "pycharm": {
     "name": "#%%\n",
     "is_executing": true
    }
   }
  },
  {
   "cell_type": "code",
   "execution_count": null,
   "outputs": [],
   "source": [
    "df.loc[df.tiempo_de_reparacion== 5611.5]"
   ],
   "metadata": {
    "collapsed": false,
    "pycharm": {
     "name": "#%%\n",
     "is_executing": true
    }
   }
  },
  {
   "cell_type": "markdown",
   "source": [
    "Ade,más, el auto que más tardo fue un electrico y puede deberse al poco conocimiento de los mecanicos sobre los autos eléctricos"
   ],
   "metadata": {
    "collapsed": false,
    "pycharm": {
     "name": "#%% md\n"
    }
   }
  },
  {
   "cell_type": "markdown",
   "source": [
    "## 5. \"Bujía\", sostiene que los autos diesel son los más eficientes y por lo tanto tardan menos en repararse."
   ],
   "metadata": {
    "collapsed": false,
    "pycharm": {
     "name": "#%% md\n"
    }
   }
  },
  {
   "cell_type": "markdown",
   "source": [
    "Como demostrado arriba, los disel son los más eficientes"
   ],
   "metadata": {
    "collapsed": false,
    "pycharm": {
     "name": "#%% md\n"
    }
   }
  },
  {
   "cell_type": "markdown",
   "source": [
    "## 6. \"Inflador\", sostiene que los autos con más de 50.000 km recorridos tardan más en repararse.(4pts/32pts)"
   ],
   "metadata": {
    "collapsed": false,
    "pycharm": {
     "name": "#%% md\n"
    }
   }
  },
  {
   "cell_type": "code",
   "execution_count": null,
   "outputs": [],
   "source": [
    "df.tiempo_de_reparacion.describe()"
   ],
   "metadata": {
    "collapsed": false,
    "pycharm": {
     "name": "#%%\n",
     "is_executing": true
    }
   }
  },
  {
   "cell_type": "code",
   "execution_count": null,
   "outputs": [],
   "source": [
    "dificiles= df.loc[df.tiempo_de_reparacion > 2289]"
   ],
   "metadata": {
    "collapsed": false,
    "pycharm": {
     "name": "#%%\n",
     "is_executing": true
    }
   }
  },
  {
   "cell_type": "code",
   "execution_count": null,
   "outputs": [],
   "source": [
    "dificiles.describe().round()"
   ],
   "metadata": {
    "collapsed": false,
    "pycharm": {
     "name": "#%%\n",
     "is_executing": true
    }
   }
  },
  {
   "cell_type": "code",
   "execution_count": null,
   "outputs": [],
   "source": [
    "dificiles.cantidad_de_kilometros.min()"
   ],
   "metadata": {
    "collapsed": false,
    "pycharm": {
     "name": "#%%\n",
     "is_executing": true
    }
   }
  },
  {
   "cell_type": "code",
   "execution_count": null,
   "outputs": [],
   "source": [
    "eficientes.describe()"
   ],
   "metadata": {
    "collapsed": false,
    "pycharm": {
     "name": "#%%\n",
     "is_executing": true
    }
   }
  },
  {
   "cell_type": "code",
   "execution_count": null,
   "outputs": [],
   "source": [
    "eficientes.cantidad_de_kilometros.max()"
   ],
   "metadata": {
    "collapsed": false,
    "pycharm": {
     "name": "#%%\n",
     "is_executing": true
    }
   }
  },
  {
   "cell_type": "code",
   "execution_count": null,
   "outputs": [],
   "source": [
    "dificiles.cantidad_de_kilometros.max()"
   ],
   "metadata": {
    "collapsed": false,
    "pycharm": {
     "name": "#%%\n",
     "is_executing": true
    }
   }
  },
  {
   "cell_type": "markdown",
   "source": [
    "Inflador tiene razón que a mayor cantidad de kilometros , mas tardan en reparase los autos. Sin embargo, 50k no parece ser un limite de corte"
   ],
   "metadata": {
    "collapsed": false,
    "pycharm": {
     "name": "#%% md\n"
    }
   }
  },
  {
   "cell_type": "markdown",
   "source": [
    "## “Gomón” está seguro que los autos que sólo le cambiaron 4 ruedas y son “electricos” tardan menos en repararse(4pts/32pts)"
   ],
   "metadata": {
    "collapsed": false,
    "pycharm": {
     "name": "#%% md\n"
    }
   }
  },
  {
   "cell_type": "markdown",
   "source": [
    "Ya sabemos que lso electricos, no son los que menos tardan y porque dice ¿ solo 4?. Deberían despedir a gomón si cree que existen autos con más de 4 ruedas"
   ],
   "metadata": {
    "collapsed": false,
    "pycharm": {
     "name": "#%% md\n"
    }
   }
  },
  {
   "cell_type": "code",
   "execution_count": null,
   "outputs": [],
   "source": [
    "df.cantidad_de_ruedas_a_reemplazar.value_counts()"
   ],
   "metadata": {
    "collapsed": false,
    "pycharm": {
     "name": "#%%\n",
     "is_executing": true
    }
   }
  },
  {
   "cell_type": "markdown",
   "source": [
    " ## “Lovorne” Cree que los Ford con más Kms tardan menos en repararse.(4pts/32pts)"
   ],
   "metadata": {
    "collapsed": false,
    "pycharm": {
     "name": "#%% md\n"
    }
   }
  },
  {
   "cell_type": "code",
   "execution_count": null,
   "outputs": [],
   "source": [
    "fords = df.loc[df.marca_del_auto== \"ford\"]"
   ],
   "metadata": {
    "collapsed": false,
    "pycharm": {
     "name": "#%%\n",
     "is_executing": true
    }
   }
  },
  {
   "cell_type": "code",
   "execution_count": null,
   "outputs": [],
   "source": [
    "fords.describe()"
   ],
   "metadata": {
    "collapsed": false,
    "pycharm": {
     "name": "#%%\n",
     "is_executing": true
    }
   }
  },
  {
   "cell_type": "code",
   "execution_count": null,
   "outputs": [],
   "source": [
    "tquartil=fords.tiempo_de_reparacion.quantile(0.75)\n",
    "pquartil=fords.tiempo_de_reparacion.quantile(0.25)"
   ],
   "metadata": {
    "collapsed": false,
    "pycharm": {
     "name": "#%%\n",
     "is_executing": true
    }
   }
  },
  {
   "cell_type": "code",
   "execution_count": null,
   "outputs": [],
   "source": [
    "ford_dificiles= df.loc[df.tiempo_de_reparacion > tquartil]"
   ],
   "metadata": {
    "collapsed": false,
    "pycharm": {
     "name": "#%%\n",
     "is_executing": true
    }
   }
  },
  {
   "cell_type": "code",
   "execution_count": null,
   "outputs": [],
   "source": [
    "ford_efi = df.loc[df.tiempo_de_reparacion < pquartil]"
   ],
   "metadata": {
    "collapsed": false,
    "pycharm": {
     "name": "#%%\n",
     "is_executing": true
    }
   }
  },
  {
   "cell_type": "code",
   "execution_count": null,
   "outputs": [],
   "source": [
    "ford_dificiles.cantidad_de_kilometros.describe()"
   ],
   "metadata": {
    "collapsed": false,
    "pycharm": {
     "name": "#%%\n",
     "is_executing": true
    }
   }
  },
  {
   "cell_type": "code",
   "execution_count": null,
   "outputs": [],
   "source": [
    "ford_dificiles.cantidad_de_kilometros.max()"
   ],
   "metadata": {
    "collapsed": false,
    "pycharm": {
     "name": "#%%\n",
     "is_executing": true
    }
   }
  },
  {
   "cell_type": "code",
   "execution_count": null,
   "outputs": [],
   "source": [
    "ford_dificiles.cantidad_de_kilometros.quantile(0.80)"
   ],
   "metadata": {
    "collapsed": false,
    "pycharm": {
     "name": "#%%\n",
     "is_executing": true
    }
   }
  },
  {
   "cell_type": "code",
   "execution_count": null,
   "outputs": [],
   "source": [
    "ford_efi.cantidad_de_kilometros.describe()"
   ],
   "metadata": {
    "collapsed": false,
    "pycharm": {
     "name": "#%%\n",
     "is_executing": true
    }
   }
  },
  {
   "cell_type": "code",
   "execution_count": null,
   "outputs": [],
   "source": [
    "ford_efi.cantidad_de_kilometros.max()"
   ],
   "metadata": {
    "collapsed": false,
    "pycharm": {
     "name": "#%%\n",
     "is_executing": true
    }
   }
  },
  {
   "cell_type": "code",
   "execution_count": null,
   "outputs": [],
   "source": [
    "ford_efi.cantidad_de_kilometros.quantile(0.80)"
   ],
   "metadata": {
    "collapsed": false,
    "pycharm": {
     "name": "#%%\n",
     "is_executing": true
    }
   }
  },
  {
   "cell_type": "markdown",
   "source": [],
   "metadata": {
    "collapsed": false,
    "pycharm": {
     "name": "#%% md\n"
    }
   }
  },
  {
   "cell_type": "code",
   "execution_count": null,
   "outputs": [],
   "source": [
    "df.loc[df.tiempo_de_reparacion > tquartil]"
   ],
   "metadata": {
    "collapsed": false,
    "pycharm": {
     "name": "#%%\n",
     "is_executing": true
    }
   }
  },
  {
   "cell_type": "markdown",
   "source": [
    "Loverne  esta equivocado y los fords menos usados son aquelllos que tardan pcoo en reparastse"
   ],
   "metadata": {
    "collapsed": false,
    "pycharm": {
     "name": "#%% md\n"
    }
   }
  },
  {
   "cell_type": "markdown",
   "source": [
    "# B) Crear una hipotesis personal e intente verificarla con los datos.(8pts)\n",
    "Del estilo “Los autos Toyota de sagitario tardan menos en repararse”"
   ],
   "metadata": {
    "collapsed": false,
    "pycharm": {
     "name": "#%% md\n"
    }
   }
  },
  {
   "cell_type": "markdown",
   "source": [
    "\" Los Hondas que entran al taller , necesitan un cambio completo de ruedas\""
   ],
   "metadata": {
    "collapsed": false,
    "pycharm": {
     "name": "#%% md\n"
    }
   }
  },
  {
   "cell_type": "code",
   "execution_count": null,
   "outputs": [],
   "source": [
    "hondas= df.loc[df.marca_del_auto== \"honda\"]"
   ],
   "metadata": {
    "collapsed": false,
    "pycharm": {
     "name": "#%%\n",
     "is_executing": true
    }
   }
  },
  {
   "cell_type": "code",
   "execution_count": null,
   "outputs": [],
   "source": [
    "import plotly.express as px\n",
    "\n",
    "fig=px.pie(df, names=\"cantidad_de_ruedas_a_reemplazar\", values='cantidad_de_ruedas_a_reemplazar',hole=0.6, title=\"Ruedas a cambiar de Honda\")\n",
    "fig.update_traces(textposition='outside', textinfo='percent+label')\n",
    "fig.update_layout(title_text=\"Ruedas a cambiar de Honda\",\n",
    "                  annotations=[dict(text='platforms', x=0.5, y=0.5, font_size=10, showarrow=False)])"
   ],
   "metadata": {
    "collapsed": false,
    "pycharm": {
     "name": "#%%\n",
     "is_executing": true
    }
   }
  },
  {
   "cell_type": "markdown",
   "source": [
    "Solo un 40 % de los hondas, cambian todas sus ruedas.Sin embargo, solo un 10 % cambia uns¿a sola. Podríamos decir que la mayoría espera a cambiar la mayor cantidad de sus ruedas juntas"
   ],
   "metadata": {
    "collapsed": false,
    "pycharm": {
     "name": "#%% md\n"
    }
   }
  },
  {
   "cell_type": "markdown",
   "source": [
    "# C) Cree un modelo de machine learning para predecir la variable que usted considera más importante, en función de las variables que usted considere. (30pts)\n",
    "Modelo (10 pts / 30pts)\n",
    "Verificar con el modelo lo siguiente:\n",
    "“Valvula” Sostiene que la cantidad de ruedas a reemplazar no influye en nada. (10pts / 30pts)\n",
    "“Pistón” está tan peleado con “Inflador” y dice que necesita una prueba científica para que le demuestren que la variable cantidad_de_kilometros es representativa.(10pts / 30pts)"
   ],
   "metadata": {
    "collapsed": false,
    "pycharm": {
     "name": "#%% md\n"
    }
   }
  },
  {
   "cell_type": "markdown",
   "source": [
    "Considero que  la teoria de valvula  es incorrecta ya que mientras m'as ruedas tiene, más tiempo tarda y se lo demostraremos con un heat map"
   ],
   "metadata": {
    "collapsed": false,
    "pycharm": {
     "name": "#%% md\n"
    }
   }
  },
  {
   "cell_type": "code",
   "execution_count": null,
   "outputs": [],
   "source": [
    "rcParams['figure.figsize'] = 8,6\n",
    "sns.heatmap(df.corr(),cmap='coolwarm',annot=True)"
   ],
   "metadata": {
    "collapsed": false,
    "pycharm": {
     "name": "#%%\n",
     "is_executing": true
    }
   }
  },
  {
   "cell_type": "markdown",
   "source": [
    "## Escalado"
   ],
   "metadata": {
    "collapsed": false,
    "pycharm": {
     "name": "#%% md\n"
    }
   }
  },
  {
   "cell_type": "markdown",
   "source": [
    "transformar valores numéricos continuos en un rango común más chico para una mejor intrepretación del modelo."
   ],
   "metadata": {
    "collapsed": false,
    "pycharm": {
     "name": "#%% md\n"
    }
   }
  },
  {
   "cell_type": "code",
   "execution_count": null,
   "outputs": [],
   "source": [
    "import matplotlib.pyplot as plt\n",
    "def data_dist(df,var):\n",
    "    fig, ax = plt.subplots(1, 2, figsize=(10, 5))\n",
    "\n",
    "    ax[0].set_title(f\"Distribucion de {var}\")\n",
    "    sns.histplot(data=df, x=f\"{var}\", kde=True, ax=ax[0])\n",
    "\n",
    "    ax[1].set_title(f\"Boxplot de{var}\")\n",
    "    sns.boxplot(data=df, x=f\"{var}\", ax=ax[1])"
   ],
   "metadata": {
    "collapsed": false,
    "pycharm": {
     "name": "#%%\n",
     "is_executing": true
    }
   }
  },
  {
   "cell_type": "markdown",
   "source": [
    "Funcion usada para plotear dist y analizar sus outliers para elegir un escaladp"
   ],
   "metadata": {
    "collapsed": false,
    "pycharm": {
     "name": "#%% md\n"
    }
   }
  },
  {
   "cell_type": "markdown",
   "source": [
    "## kilometros"
   ],
   "metadata": {
    "collapsed": false,
    "pycharm": {
     "name": "#%% md\n"
    }
   }
  },
  {
   "cell_type": "code",
   "execution_count": null,
   "outputs": [],
   "source": [
    "data_dist(df,'cantidad_de_kilometros')"
   ],
   "metadata": {
    "collapsed": false,
    "pycharm": {
     "name": "#%%\n",
     "is_executing": true
    }
   }
  },
  {
   "cell_type": "code",
   "execution_count": null,
   "outputs": [],
   "source": [
    "df.columns"
   ],
   "metadata": {
    "collapsed": false,
    "pycharm": {
     "name": "#%%\n",
     "is_executing": true
    }
   }
  },
  {
   "cell_type": "code",
   "execution_count": null,
   "outputs": [],
   "source": [
    "sns.boxplot(df,df['cantidad_de_kilometros'])"
   ],
   "metadata": {
    "collapsed": false,
    "pycharm": {
     "name": "#%%\n",
     "is_executing": true
    }
   }
  },
  {
   "cell_type": "markdown",
   "source": [
    "# Encoding"
   ],
   "metadata": {
    "collapsed": false,
    "pycharm": {
     "name": "#%% md\n"
    }
   }
  },
  {
   "cell_type": "code",
   "execution_count": null,
   "outputs": [],
   "source": [],
   "metadata": {
    "collapsed": false,
    "pycharm": {
     "name": "#%%\n",
     "is_executing": true
    }
   }
  }
 ],
 "metadata": {
  "kernelspec": {
   "display_name": "Python 3",
   "language": "python",
   "name": "python3"
  },
  "language_info": {
   "codemirror_mode": {
    "name": "ipython",
    "version": 2
   },
   "file_extension": ".py",
   "mimetype": "text/x-python",
   "name": "python",
   "nbconvert_exporter": "python",
   "pygments_lexer": "ipython2",
   "version": "2.7.6"
  }
 },
 "nbformat": 4,
 "nbformat_minor": 0
}